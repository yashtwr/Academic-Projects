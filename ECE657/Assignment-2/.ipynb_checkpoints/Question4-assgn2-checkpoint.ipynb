{
 "cells": [
  {
   "cell_type": "code",
   "execution_count": 54,
   "metadata": {},
   "outputs": [],
   "source": [
    "import numpy as np\n",
    "import math"
   ]
  },
  {
   "cell_type": "code",
   "execution_count": 55,
   "metadata": {},
   "outputs": [],
   "source": [
    "def input_generator():\n",
    "    input_sample=[(128,0,0),(220,20,60),(255,99,71),(205,92,92),(255,215,0),(184,134,11),(240,230,140),(255,255,0),\n",
    "                  (154,205,50),(107,142,35),(127,255,0),(34,139,34),(0,128,128),(0,255,255),(64,224,208),(70,130,180),\n",
    "                  (0,0,139),(65,105,225),(72,61,139),(147,112,219),(128,0,128),(255,0,255),(199,21,133),(255,192,203)]\n",
    "    output=[]\n",
    "    for elements in input_sample:\n",
    "        temp=[]\n",
    "        for i in range(0,3):\n",
    "            norm = elements[i]/255\n",
    "            temp.append(norm)\n",
    "        output.append(tuple(temp))\n",
    "    return output "
   ]
  },
  {
   "cell_type": "code",
   "execution_count": 56,
   "metadata": {},
   "outputs": [],
   "source": [
    "input_sample = input_generator()"
   ]
  },
  {
   "cell_type": "code",
   "execution_count": 57,
   "metadata": {},
   "outputs": [],
   "source": [
    "weights = np.random.uniform(-1,1,(100,100,3))"
   ]
  },
  {
   "cell_type": "code",
   "execution_count": 103,
   "metadata": {},
   "outputs": [],
   "source": [
    "def get_winning_node(input_data,weights):\n",
    "    min_distance = -1\n",
    "    location = [-1,-1]\n",
    "    for i in range(100):\n",
    "        for j in range(100):\n",
    "            distance = np.linalg.norm(input_data - weights[i][j])\n",
    "            if(i == 0 and j == 0):\n",
    "                min_distance = distance\n",
    "                location = [i,j]\n",
    "            elif(distance < min_distance):\n",
    "                min_distance = distance\n",
    "                location = [i,j]\n",
    "    return location\n",
    "def update_weights(input,winning_node,weights,sigma_k,learning_rate):\n",
    "    x = winning_node[0]\n",
    "    y = winning_node[1]\n",
    "    i_start = x - int(np.round(sigma_k)) if ((x - np.round(sigma_k))>=0) else 0\n",
    "    i_stop = x + int(np.round(sigma_k))  if ((x + np.round(sigma_k))<=99) else 99\n",
    "    j_start = y - int(np.round(sigma_k)) if ((y - np.round(sigma_k))>=0) else 0\n",
    "    j_stop = y + int(np.round(sigma_k))  if ((y + np.round(sigma_k))<=99) else 99\n",
    "    #print(winning_node[0],winning_node[1],i_start,i_stop,j_start,j_stop)\n",
    "    for i in range(j_start,j_stop+1):\n",
    "        for j in range(i_start,i_stop+1):\n",
    "            n_dist = np.linalg.norm(weights[x][y] - weights[i][j])\n",
    "            Nc = np.exp((-n_dist**2)/(2*sigma_k**2))\n",
    "            for k in range(0,3):\n",
    "                weights[i][j][k] += learning_rate*Nc*(input[k] - weights[i][j][k])\n",
    "            \n",
    "def train(input_data,weights,alpha,sigma,epoch):\n",
    "    for k in range(0,epoch):\n",
    "        print(\"The current epoch is:\",k)\n",
    "        learning_rate = alpha * np.exp(-k/epoch)\n",
    "        sigma_k = sigma * np.exp(-k/epoch)\n",
    "        for colour in input_data:\n",
    "            winning_node_location = get_winning_node(np.array(colour),weights)\n",
    "            update_weights(colour,winning_node_location,weights,sigma_k,learning_rate)\n",
    "            "
   ]
  },
  {
   "cell_type": "code",
   "execution_count": 104,
   "metadata": {},
   "outputs": [
    {
     "name": "stdout",
     "output_type": "stream",
     "text": [
      "The current epoch is: 0\n",
      "The current epoch is: 1\n",
      "The current epoch is: 2\n",
      "The current epoch is: 3\n",
      "The current epoch is: 4\n",
      "The current epoch is: 5\n",
      "The current epoch is: 6\n",
      "The current epoch is: 7\n",
      "The current epoch is: 8\n",
      "The current epoch is: 9\n",
      "The current epoch is: 10\n",
      "The current epoch is: 11\n",
      "The current epoch is: 12\n",
      "The current epoch is: 13\n",
      "The current epoch is: 14\n",
      "The current epoch is: 15\n",
      "The current epoch is: 16\n",
      "The current epoch is: 17\n",
      "The current epoch is: 18\n",
      "The current epoch is: 19\n",
      "The current epoch is: 20\n",
      "The current epoch is: 21\n",
      "The current epoch is: 22\n",
      "The current epoch is: 23\n",
      "The current epoch is: 24\n",
      "The current epoch is: 25\n",
      "The current epoch is: 26\n",
      "The current epoch is: 27\n",
      "The current epoch is: 28\n",
      "The current epoch is: 29\n",
      "The current epoch is: 30\n",
      "The current epoch is: 31\n",
      "The current epoch is: 32\n",
      "The current epoch is: 33\n",
      "The current epoch is: 34\n",
      "The current epoch is: 35\n",
      "The current epoch is: 36\n",
      "The current epoch is: 37\n",
      "The current epoch is: 38\n",
      "The current epoch is: 39\n",
      "The current epoch is: 40\n",
      "The current epoch is: 41\n"
     ]
    },
    {
     "ename": "KeyboardInterrupt",
     "evalue": "",
     "output_type": "error",
     "traceback": [
      "\u001b[1;31m---------------------------------------------------------------------------\u001b[0m",
      "\u001b[1;31mKeyboardInterrupt\u001b[0m                         Traceback (most recent call last)",
      "\u001b[1;32m<ipython-input-104-f8b1f6da4155>\u001b[0m in \u001b[0;36m<module>\u001b[1;34m\u001b[0m\n\u001b[1;32m----> 1\u001b[1;33m \u001b[0mtrain\u001b[0m\u001b[1;33m(\u001b[0m\u001b[0minput_sample\u001b[0m\u001b[1;33m,\u001b[0m\u001b[0mweights\u001b[0m\u001b[1;33m,\u001b[0m\u001b[1;36m0.8\u001b[0m\u001b[1;33m,\u001b[0m\u001b[1;36m50\u001b[0m\u001b[1;33m,\u001b[0m\u001b[1;36m1000\u001b[0m\u001b[1;33m)\u001b[0m\u001b[1;33m\u001b[0m\u001b[1;33m\u001b[0m\u001b[0m\n\u001b[0m",
      "\u001b[1;32m<ipython-input-103-c7c716e3081d>\u001b[0m in \u001b[0;36mtrain\u001b[1;34m(input_data, weights, alpha, sigma, epoch)\u001b[0m\n\u001b[0;32m     34\u001b[0m         \u001b[1;32mfor\u001b[0m \u001b[0mcolour\u001b[0m \u001b[1;32min\u001b[0m \u001b[0minput_data\u001b[0m\u001b[1;33m:\u001b[0m\u001b[1;33m\u001b[0m\u001b[1;33m\u001b[0m\u001b[0m\n\u001b[0;32m     35\u001b[0m             \u001b[0mwinning_node_location\u001b[0m \u001b[1;33m=\u001b[0m \u001b[0mget_winning_node\u001b[0m\u001b[1;33m(\u001b[0m\u001b[0mnp\u001b[0m\u001b[1;33m.\u001b[0m\u001b[0marray\u001b[0m\u001b[1;33m(\u001b[0m\u001b[0mcolour\u001b[0m\u001b[1;33m)\u001b[0m\u001b[1;33m,\u001b[0m\u001b[0mweights\u001b[0m\u001b[1;33m)\u001b[0m\u001b[1;33m\u001b[0m\u001b[1;33m\u001b[0m\u001b[0m\n\u001b[1;32m---> 36\u001b[1;33m             \u001b[0mupdate_weights\u001b[0m\u001b[1;33m(\u001b[0m\u001b[0mcolour\u001b[0m\u001b[1;33m,\u001b[0m\u001b[0mwinning_node_location\u001b[0m\u001b[1;33m,\u001b[0m\u001b[0mweights\u001b[0m\u001b[1;33m,\u001b[0m\u001b[0msigma_k\u001b[0m\u001b[1;33m,\u001b[0m\u001b[0mlearning_rate\u001b[0m\u001b[1;33m)\u001b[0m\u001b[1;33m\u001b[0m\u001b[1;33m\u001b[0m\u001b[0m\n\u001b[0m\u001b[0;32m     37\u001b[0m \u001b[1;33m\u001b[0m\u001b[0m\n",
      "\u001b[1;32m<ipython-input-103-c7c716e3081d>\u001b[0m in \u001b[0;36mupdate_weights\u001b[1;34m(input, winning_node, weights, sigma_k, learning_rate)\u001b[0m\n\u001b[0;32m     22\u001b[0m     \u001b[1;32mfor\u001b[0m \u001b[0mi\u001b[0m \u001b[1;32min\u001b[0m \u001b[0mrange\u001b[0m\u001b[1;33m(\u001b[0m\u001b[0mj_start\u001b[0m\u001b[1;33m,\u001b[0m\u001b[0mj_stop\u001b[0m\u001b[1;33m+\u001b[0m\u001b[1;36m1\u001b[0m\u001b[1;33m)\u001b[0m\u001b[1;33m:\u001b[0m\u001b[1;33m\u001b[0m\u001b[1;33m\u001b[0m\u001b[0m\n\u001b[0;32m     23\u001b[0m         \u001b[1;32mfor\u001b[0m \u001b[0mj\u001b[0m \u001b[1;32min\u001b[0m \u001b[0mrange\u001b[0m\u001b[1;33m(\u001b[0m\u001b[0mi_start\u001b[0m\u001b[1;33m,\u001b[0m\u001b[0mi_stop\u001b[0m\u001b[1;33m+\u001b[0m\u001b[1;36m1\u001b[0m\u001b[1;33m)\u001b[0m\u001b[1;33m:\u001b[0m\u001b[1;33m\u001b[0m\u001b[1;33m\u001b[0m\u001b[0m\n\u001b[1;32m---> 24\u001b[1;33m             \u001b[0mn_dist\u001b[0m \u001b[1;33m=\u001b[0m \u001b[0mnp\u001b[0m\u001b[1;33m.\u001b[0m\u001b[0mlinalg\u001b[0m\u001b[1;33m.\u001b[0m\u001b[0mnorm\u001b[0m\u001b[1;33m(\u001b[0m\u001b[0mweights\u001b[0m\u001b[1;33m[\u001b[0m\u001b[0mx\u001b[0m\u001b[1;33m]\u001b[0m\u001b[1;33m[\u001b[0m\u001b[0my\u001b[0m\u001b[1;33m]\u001b[0m \u001b[1;33m-\u001b[0m \u001b[0mweights\u001b[0m\u001b[1;33m[\u001b[0m\u001b[0mi\u001b[0m\u001b[1;33m]\u001b[0m\u001b[1;33m[\u001b[0m\u001b[0mj\u001b[0m\u001b[1;33m]\u001b[0m\u001b[1;33m)\u001b[0m\u001b[1;33m\u001b[0m\u001b[1;33m\u001b[0m\u001b[0m\n\u001b[0m\u001b[0;32m     25\u001b[0m             \u001b[0mNc\u001b[0m \u001b[1;33m=\u001b[0m \u001b[0mnp\u001b[0m\u001b[1;33m.\u001b[0m\u001b[0mexp\u001b[0m\u001b[1;33m(\u001b[0m\u001b[1;33m(\u001b[0m\u001b[1;33m-\u001b[0m\u001b[0mn_dist\u001b[0m\u001b[1;33m**\u001b[0m\u001b[1;36m2\u001b[0m\u001b[1;33m)\u001b[0m\u001b[1;33m/\u001b[0m\u001b[1;33m(\u001b[0m\u001b[1;36m2\u001b[0m\u001b[1;33m*\u001b[0m\u001b[0msigma_k\u001b[0m\u001b[1;33m**\u001b[0m\u001b[1;36m2\u001b[0m\u001b[1;33m)\u001b[0m\u001b[1;33m)\u001b[0m\u001b[1;33m\u001b[0m\u001b[1;33m\u001b[0m\u001b[0m\n\u001b[0;32m     26\u001b[0m             \u001b[1;32mfor\u001b[0m \u001b[0mk\u001b[0m \u001b[1;32min\u001b[0m \u001b[0mrange\u001b[0m\u001b[1;33m(\u001b[0m\u001b[1;36m0\u001b[0m\u001b[1;33m,\u001b[0m\u001b[1;36m3\u001b[0m\u001b[1;33m)\u001b[0m\u001b[1;33m:\u001b[0m\u001b[1;33m\u001b[0m\u001b[1;33m\u001b[0m\u001b[0m\n",
      "\u001b[1;32m<__array_function__ internals>\u001b[0m in \u001b[0;36mnorm\u001b[1;34m(*args, **kwargs)\u001b[0m\n",
      "\u001b[1;32m~\\anaconda3\\lib\\site-packages\\numpy\\linalg\\linalg.py\u001b[0m in \u001b[0;36mnorm\u001b[1;34m(x, ord, axis, keepdims)\u001b[0m\n\u001b[0;32m   2528\u001b[0m                 \u001b[0msqnorm\u001b[0m \u001b[1;33m=\u001b[0m \u001b[0mdot\u001b[0m\u001b[1;33m(\u001b[0m\u001b[0mx\u001b[0m\u001b[1;33m.\u001b[0m\u001b[0mreal\u001b[0m\u001b[1;33m,\u001b[0m \u001b[0mx\u001b[0m\u001b[1;33m.\u001b[0m\u001b[0mreal\u001b[0m\u001b[1;33m)\u001b[0m \u001b[1;33m+\u001b[0m \u001b[0mdot\u001b[0m\u001b[1;33m(\u001b[0m\u001b[0mx\u001b[0m\u001b[1;33m.\u001b[0m\u001b[0mimag\u001b[0m\u001b[1;33m,\u001b[0m \u001b[0mx\u001b[0m\u001b[1;33m.\u001b[0m\u001b[0mimag\u001b[0m\u001b[1;33m)\u001b[0m\u001b[1;33m\u001b[0m\u001b[1;33m\u001b[0m\u001b[0m\n\u001b[0;32m   2529\u001b[0m             \u001b[1;32melse\u001b[0m\u001b[1;33m:\u001b[0m\u001b[1;33m\u001b[0m\u001b[1;33m\u001b[0m\u001b[0m\n\u001b[1;32m-> 2530\u001b[1;33m                 \u001b[0msqnorm\u001b[0m \u001b[1;33m=\u001b[0m \u001b[0mdot\u001b[0m\u001b[1;33m(\u001b[0m\u001b[0mx\u001b[0m\u001b[1;33m,\u001b[0m \u001b[0mx\u001b[0m\u001b[1;33m)\u001b[0m\u001b[1;33m\u001b[0m\u001b[1;33m\u001b[0m\u001b[0m\n\u001b[0m\u001b[0;32m   2531\u001b[0m             \u001b[0mret\u001b[0m \u001b[1;33m=\u001b[0m \u001b[0msqrt\u001b[0m\u001b[1;33m(\u001b[0m\u001b[0msqnorm\u001b[0m\u001b[1;33m)\u001b[0m\u001b[1;33m\u001b[0m\u001b[1;33m\u001b[0m\u001b[0m\n\u001b[0;32m   2532\u001b[0m             \u001b[1;32mif\u001b[0m \u001b[0mkeepdims\u001b[0m\u001b[1;33m:\u001b[0m\u001b[1;33m\u001b[0m\u001b[1;33m\u001b[0m\u001b[0m\n",
      "\u001b[1;32m<__array_function__ internals>\u001b[0m in \u001b[0;36mdot\u001b[1;34m(*args, **kwargs)\u001b[0m\n",
      "\u001b[1;31mKeyboardInterrupt\u001b[0m: "
     ]
    }
   ],
   "source": [
    "train(input_sample,weights,0.8,50,1000)"
   ]
  },
  {
   "cell_type": "code",
   "execution_count": null,
   "metadata": {},
   "outputs": [],
   "source": []
  }
 ],
 "metadata": {
  "kernelspec": {
   "display_name": "Python 3",
   "language": "python",
   "name": "python3"
  },
  "language_info": {
   "codemirror_mode": {
    "name": "ipython",
    "version": 3
   },
   "file_extension": ".py",
   "mimetype": "text/x-python",
   "name": "python",
   "nbconvert_exporter": "python",
   "pygments_lexer": "ipython3",
   "version": "3.8.5"
  }
 },
 "nbformat": 4,
 "nbformat_minor": 4
}
