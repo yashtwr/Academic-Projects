{
 "cells": [
  {
   "cell_type": "code",
   "execution_count": 1,
   "metadata": {},
   "outputs": [],
   "source": [
    "import numpy as np\n",
    "import math"
   ]
  },
  {
   "cell_type": "code",
   "execution_count": 2,
   "metadata": {},
   "outputs": [],
   "source": [
    "def input_generator():\n",
    "    input_sample=[(128,0,0),(220,20,60),(255,99,71),(205,92,92),(255,215,0),(184,134,11),(240,230,140),(255,255,0),\n",
    "                  (154,205,50),(107,142,35),(127,255,0),(34,139,34),(0,128,128),(0,255,255),(64,224,208),(70,130,180),\n",
    "                  (0,0,139),(65,105,225),(72,61,139),(147,112,219),(128,0,128),(255,0,255),(199,21,133),(255,192,203)]\n",
    "    output=[]\n",
    "    for elements in input_sample:\n",
    "        temp=[]\n",
    "        for i in range(0,3):\n",
    "            norm = elements[i]/255\n",
    "            temp.append(norm)\n",
    "        output.append(tuple(temp))\n",
    "    return output "
   ]
  },
  {
   "cell_type": "code",
   "execution_count": 3,
   "metadata": {},
   "outputs": [],
   "source": [
    "input_sample = input_generator()"
   ]
  },
  {
   "cell_type": "code",
   "execution_count": 4,
   "metadata": {},
   "outputs": [],
   "source": [
    "weights = np.random.uniform(-1,1,(100,100,3))"
   ]
  },
  {
   "cell_type": "code",
   "execution_count": 5,
   "metadata": {},
   "outputs": [],
   "source": [
    "def get_winning_node(input_data,weights):\n",
    "    min_distance = -1\n",
    "    location = [-1,-1]\n",
    "    for i in range(100):\n",
    "        for j in range(100):\n",
    "            distance = np.linalg.norm(input_data - weights[i][j])\n",
    "            if(i == 0 and j == 0):\n",
    "                min_distance = distance\n",
    "                location = [i,j]\n",
    "            elif(distance < min_distance):\n",
    "                min_distance = distance\n",
    "                location = [i,j]\n",
    "    return location\n",
    "def update_weights(input,winning_node,weights,sigma_k,learning_rate):\n",
    "    x = winning_node[0]\n",
    "    y = winning_node[1]\n",
    "    i_start = x - int(np.round(sigma_k)) if ((x - np.round(sigma_k))>=0) else 0\n",
    "    i_stop = x + int(np.round(sigma_k))  if ((x + np.round(sigma_k))<=99) else 99\n",
    "    j_start = y - int(np.round(sigma_k)) if ((y - np.round(sigma_k))>=0) else 0\n",
    "    j_stop = y + int(np.round(sigma_k))  if ((y + np.round(sigma_k))<=99) else 99\n",
    "    #print(winning_node[0],winning_node[1],i_start,i_stop,j_start,j_stop)\n",
    "    for i in range(j_start,j_stop+1):\n",
    "        for j in range(i_start,i_stop+1):\n",
    "            n_dist = np.linalg.norm(weights[x][y] - weights[i][j])\n",
    "            Nc = np.exp((-n_dist**2)/(2*sigma_k**2))\n",
    "            for k in range(0,3):\n",
    "                weights[i][j][k] += learning_rate*Nc*(input[k] - weights[i][j][k])\n",
    "            \n",
    "def train(input_data,weights,alpha,sigma,epoch):\n",
    "    for k in range(0,epoch):\n",
    "        print(\"The current epoch is:\",k)\n",
    "        learning_rate = alpha * np.exp(-k/epoch)\n",
    "        sigma_k = sigma * np.exp(-k/epoch)\n",
    "        for colour in input_data:\n",
    "            winning_node_location = get_winning_node(np.array(colour),weights)\n",
    "            update_weights(colour,winning_node_location,weights,sigma_k,learning_rate)\n",
    "            "
   ]
  },
  {
   "cell_type": "code",
   "execution_count": 8,
   "metadata": {},
   "outputs": [
    {
     "data": {
      "text/plain": [
       "[26, 65]"
      ]
     },
     "execution_count": 8,
     "metadata": {},
     "output_type": "execute_result"
    }
   ],
   "source": [
    "get_winning_node(input_sample[2],weights)"
   ]
  },
  {
   "cell_type": "code",
   "execution_count": null,
   "metadata": {},
   "outputs": [],
   "source": []
  }
 ],
 "metadata": {
  "kernelspec": {
   "display_name": "Python 3",
   "language": "python",
   "name": "python3"
  },
  "language_info": {
   "codemirror_mode": {
    "name": "ipython",
    "version": 3
   },
   "file_extension": ".py",
   "mimetype": "text/x-python",
   "name": "python",
   "nbconvert_exporter": "python",
   "pygments_lexer": "ipython3",
   "version": "3.8.5"
  }
 },
 "nbformat": 4,
 "nbformat_minor": 4
}
