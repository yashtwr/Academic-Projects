{
 "cells": [
  {
   "cell_type": "code",
   "execution_count": 1,
   "metadata": {},
   "outputs": [
    {
     "name": "stdout",
     "output_type": "stream",
     "text": [
      "(10, 10, 2)\n",
      "[0 1 2 3 4 5 6 7 8 9]\n"
     ]
    },
    {
     "data": {
      "application/vnd.jupyter.widget-view+json": {
       "model_id": "4240cb0968f14bfea5bc5f7b95a61636",
       "version_major": 2,
       "version_minor": 0
      },
      "text/plain": [
       "HBox(children=(HTML(value=''), FloatProgress(value=0.0, max=50000.0), HTML(value='')))"
      ]
     },
     "metadata": {},
     "output_type": "display_data"
    },
    {
     "name": "stdout",
     "output_type": "stream",
     "text": [
      "\n"
     ]
    },
    {
     "ename": "KeyboardInterrupt",
     "evalue": "",
     "output_type": "error",
     "traceback": [
      "\u001b[1;31m---------------------------------------------------------------------------\u001b[0m",
      "\u001b[1;31mKeyboardInterrupt\u001b[0m                         Traceback (most recent call last)",
      "\u001b[1;32m<ipython-input-1-3b55afe3c8a1>\u001b[0m in \u001b[0;36m<module>\u001b[1;34m\u001b[0m\n\u001b[0;32m     64\u001b[0m \u001b[1;31m# Training model: Learning Phase\u001b[0m\u001b[1;33m\u001b[0m\u001b[1;33m\u001b[0m\u001b[1;33m\u001b[0m\u001b[0m\n\u001b[0;32m     65\u001b[0m \u001b[1;32mfor\u001b[0m \u001b[0mepoch\u001b[0m \u001b[1;32min\u001b[0m \u001b[0mtqdm\u001b[0m\u001b[1;33m(\u001b[0m\u001b[0mrange\u001b[0m\u001b[1;33m(\u001b[0m\u001b[1;36m1\u001b[0m\u001b[1;33m,\u001b[0m \u001b[0mepochs\u001b[0m \u001b[1;33m+\u001b[0m \u001b[1;36m1\u001b[0m\u001b[1;33m)\u001b[0m\u001b[1;33m)\u001b[0m\u001b[1;33m:\u001b[0m\u001b[1;33m\u001b[0m\u001b[1;33m\u001b[0m\u001b[0m\n\u001b[1;32m---> 66\u001b[1;33m   \u001b[0mnp\u001b[0m\u001b[1;33m.\u001b[0m\u001b[0mrandom\u001b[0m\u001b[1;33m.\u001b[0m\u001b[0mshuffle\u001b[0m\u001b[1;33m(\u001b[0m\u001b[0mdata_\u001b[0m\u001b[1;33m)\u001b[0m\u001b[1;33m\u001b[0m\u001b[1;33m\u001b[0m\u001b[0m\n\u001b[0m\u001b[0;32m     67\u001b[0m   \u001b[0midx\u001b[0m \u001b[1;33m=\u001b[0m \u001b[0mnp\u001b[0m\u001b[1;33m.\u001b[0m\u001b[0mrandom\u001b[0m\u001b[1;33m.\u001b[0m\u001b[0mrandint\u001b[0m\u001b[1;33m(\u001b[0m\u001b[1;36m0\u001b[0m\u001b[1;33m,\u001b[0m \u001b[0mdata_\u001b[0m\u001b[1;33m.\u001b[0m\u001b[0mshape\u001b[0m\u001b[1;33m[\u001b[0m\u001b[1;36m0\u001b[0m\u001b[1;33m]\u001b[0m\u001b[1;33m)\u001b[0m\u001b[1;33m\u001b[0m\u001b[1;33m\u001b[0m\u001b[0m\n\u001b[0;32m     68\u001b[0m   \u001b[0mwin_neuron\u001b[0m \u001b[1;33m=\u001b[0m \u001b[0mget_winner_neuron\u001b[0m\u001b[1;33m(\u001b[0m\u001b[0mdata_\u001b[0m\u001b[1;33m[\u001b[0m\u001b[0midx\u001b[0m\u001b[1;33m]\u001b[0m\u001b[1;33m)\u001b[0m\u001b[1;33m\u001b[0m\u001b[1;33m\u001b[0m\u001b[0m\n",
      "\u001b[1;31mKeyboardInterrupt\u001b[0m: "
     ]
    }
   ],
   "source": [
    "#Importing Libraries \n",
    "import math\n",
    "from tqdm.notebook import tqdm\n",
    "import matplotlib.pyplot as plt\n",
    "import numpy as np\n",
    "  \n",
    "# Generating Data : using uniform random number generator \n",
    "data_ = np.random.uniform(-1, 1, (1500, 2))\n",
    "# print(data_.shape)\n",
    "  \n",
    "# Hyperparameter Initialization\n",
    "x, y = 10, 10        # dimensions of Map\n",
    "sigma = 1.           # spread of neighborhood\n",
    "learning_rate = 0.5  # learning rate\n",
    "epochs = 50000       # no of iterations\n",
    "decay_parameter = epochs / 2   # decay parameter\n",
    "  \n",
    "# Activation map and Assigning Weights\n",
    "# using random number generation \n",
    "activation_map = np.zeros((x, y))\n",
    "weights = 2 * (np.random.ranf((x, y, data_.shape[1])) - 0.5)\n",
    "print(weights.shape)\n",
    "  \n",
    "# Define Neighborhood Region\n",
    "neighbour_x = np.arange(x)\n",
    "print(neighbour_x)\n",
    "neighbour_y = np.arange(y)\n",
    "  \n",
    "# Function: decay_learning_rate_sigma\n",
    "def decay_learning_rate_sigma(iteration):\n",
    "  learning_rate_ = learning_rate/(1 + iteration / decay_parameter)\n",
    "  sigma_ = sigma / (1 + iteration / decay_parameter)\n",
    "  \n",
    "  return learning_rate_, sigma_\n",
    "  \n",
    "# Function: to get winner neuron\n",
    "def get_winner_neuron(x):\n",
    "  s = np.subtract(x, weights) # x - w\n",
    "  it = np.nditer(activation_map, flags =['multi_index'])\n",
    "  while not it.finished:\n",
    "      # || x - w ||\n",
    "      activation_map[it.multi_index] = np.linalg.norm(s[it.multi_index])  \n",
    "      it.iternext()\n",
    "  \n",
    "  return np.unravel_index(activation_map.argmin(), activation_map.shape)\n",
    "  \n",
    "# Update weights\n",
    "def update_weights(win_neuron, inputx, iteration):\n",
    "  # decay learning rate and sigma\n",
    "  learning_rate_, sigma_ = decay_learning_rate_sigma(iteration)\n",
    "  \n",
    "  # get neighborhood about winning neuron (Mexican hat function)\n",
    "  d = 2 * np.pi * (sigma_**2)\n",
    "  ax = np.exp(-1 * np.square(neighbour_x - win_neuron[0]) / d)\n",
    "  ay = np.exp(-1 * np.square(neighbour_y - win_neuron[1]) / d)\n",
    "  \n",
    "  neighborhood = np.outer(ax, ay)\n",
    "  \n",
    "  it = np.nditer(neighborhood, flags = ['multi_index'])\n",
    "  while not it.finished:\n",
    "      weights[it.multi_index] += learning_rate_ * neighborhood[it.multi_index] * (inputx - weights[it.multi_index])\n",
    "      it.iternext()\n",
    "  \n",
    "# Training model: Learning Phase\n",
    "for epoch in tqdm(range(1, epochs + 1)):\n",
    "  np.random.shuffle(data_)\n",
    "  idx = np.random.randint(0, data_.shape[0])\n",
    "  win_neuron = get_winner_neuron(data_[idx])\n",
    "  update_weights(win_neuron, data_[idx], epoch)\n",
    "  \n",
    "  if epoch == 1 or epoch == 100 == 0 or epoch == 1000 or epoch == 10000 or epoch == 50000:\n",
    "    plot_x = []\n",
    "    plot_y = []\n",
    "    for i in range(weights.shape[0]):\n",
    "      for j in range(weights.shape[1]):\n",
    "        plot_x.append(weights[i][j][0])\n",
    "        plot_y.append(weights[i][j][1])\n",
    "plt.title('After ' + str(epoch) + ' iterations')\n",
    "plt.scatter(plot_x, plot_y, c = 'r')\n",
    "plt.show()\n",
    "plt.close()"
   ]
  },
  {
   "cell_type": "code",
   "execution_count": null,
   "metadata": {},
   "outputs": [],
   "source": []
  }
 ],
 "metadata": {
  "kernelspec": {
   "display_name": "Python 3",
   "language": "python",
   "name": "python3"
  },
  "language_info": {
   "codemirror_mode": {
    "name": "ipython",
    "version": 3
   },
   "file_extension": ".py",
   "mimetype": "text/x-python",
   "name": "python",
   "nbconvert_exporter": "python",
   "pygments_lexer": "ipython3",
   "version": "3.8.5"
  }
 },
 "nbformat": 4,
 "nbformat_minor": 4
}
