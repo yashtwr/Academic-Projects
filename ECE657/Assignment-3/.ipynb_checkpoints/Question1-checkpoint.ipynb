{
 "cells": [
  {
   "cell_type": "markdown",
   "metadata": {},
   "source": [
    "# Importing Resources \n"
   ]
  },
  {
   "cell_type": "code",
   "execution_count": 32,
   "metadata": {},
   "outputs": [],
   "source": [
    "import tensorflow as tf"
   ]
  },
  {
   "cell_type": "code",
   "execution_count": 33,
   "metadata": {},
   "outputs": [],
   "source": [
    "from keras.datasets import cifar10\n",
    "from sklearn.model_selection import train_test_split \n",
    "import matplotlib.pyplot as plt\n",
    "from keras import layers\n",
    "import numpy as np\n",
    "%matplotlib inline"
   ]
  },
  {
   "cell_type": "markdown",
   "metadata": {},
   "source": [
    "The CIFAR10 has 50,000 32x32 color training images and <b>10,000 test images by default, labeled over 10 categories</b>. The training dataset is further split into 80-20 ratio to get <b>10,000 images in training set. The 10,000 images in testing set is used for validation</b>. The 10 classes of data is as follows: ['airplane','automobile','bird','cat','deer','dog','frog','horse','ship','truck']"
   ]
  },
  {
   "cell_type": "markdown",
   "metadata": {},
   "source": [
    "# Loading Dataset"
   ]
  },
  {
   "cell_type": "code",
   "execution_count": 34,
   "metadata": {},
   "outputs": [],
   "source": [
    "(trainX, trainy), (validateX1, validatey1) = cifar10.load_data()\n",
    "class_names = ['airplane','automobile','bird','cat','deer','dog','frog','horse','ship','truck']"
   ]
  },
  {
   "cell_type": "markdown",
   "metadata": {},
   "source": [
    "# Preprocessing\n"
   ]
  },
  {
   "cell_type": "markdown",
   "metadata": {},
   "source": [
    "##  Splitting Dataset into Train - Validate - Test"
   ]
  },
  {
   "cell_type": "code",
   "execution_count": 35,
   "metadata": {},
   "outputs": [],
   "source": [
    "# Splitting the training dataset to create new training and validation set\n",
    "trainX1,testX,trainy1,testy = train_test_split(trainX,trainy,test_size = 0.8,random_state = 1)"
   ]
  },
  {
   "cell_type": "code",
   "execution_count": 36,
   "metadata": {},
   "outputs": [
    {
     "name": "stdout",
     "output_type": "stream",
     "text": [
      "There are 10,000 images in the Training set\n",
      "There are 10,000 images in the Validation set\n",
      "There are 40,000 images in the test set\n"
     ]
    }
   ],
   "source": [
    "print('There are {:,} images in the Training set'.format(trainX1.shape[0]))\n",
    "print('There are {:,} images in the Validation set'.format(validateX1.shape[0]))\n",
    "print('There are {:,} images in the test set'.format(testX.shape[0]))"
   ]
  },
  {
   "cell_type": "markdown",
   "metadata": {},
   "source": [
    "## Normalization and Creating Batch"
   ]
  },
  {
   "cell_type": "code",
   "execution_count": 37,
   "metadata": {},
   "outputs": [
    {
     "name": "stdout",
     "output_type": "stream",
     "text": [
      "The shape of training dataset is:  (10000, 32, 32, 3)\n",
      "The shape of validation dataset is:  (10000, 32, 32, 3)\n"
     ]
    }
   ],
   "source": [
    "print(\"The shape of training dataset is: \", trainX1.shape)\n",
    "print(\"The shape of validation dataset is: \", validateX1.shape)\n",
    "# normalizing the values. The default range is 0-255. Thus on min-max normalization, the range would be 0-1\n",
    "trainX1 = trainX1.astype('float32')/255\n",
    "validateX1 = validateX1.astype('float32')/255\n",
    "testX = testX.astype('float32')/255\n"
   ]
  },
  {
   "cell_type": "code",
   "execution_count": 7,
   "metadata": {},
   "outputs": [],
   "source": [
    "\n",
    "# Creating batches of dataset.To do so, we have to convert the variable of type 'nparray'\n",
    "# to type 'tensor', which is done by using the command tf.data.Dataset.from_tensor_slices\n",
    "training_batch = tf.data.Dataset.from_tensor_slices((trainX1,trainy1)).batch(32)\n",
    "test_batch = tf.data.Dataset.from_tensor_slices((testX,testy))\n",
    "validation_batch = tf.data.Dataset.from_tensor_slices((validateX1,validatey1))"
   ]
  },
  {
   "cell_type": "markdown",
   "metadata": {},
   "source": [
    "## Multi Layer Perceptron"
   ]
  },
  {
   "cell_type": "markdown",
   "metadata": {},
   "source": [
    "The multilayer perceptron is having 2 hidden layers, with each hidden layer having 512 nodes. Since there are 10 classes of data, the number of output nodes are 10. Each image is having 32 x 32 pixels with 3 colour layers (RGB). There there are\n",
    "32x32x3 = 3072 features per image. keras.sequential is used for sequential flow in the MLP. The flatten layer is used to reshape the input image. The dense layer is the hidden layer( inputs are no of nodes and activation function)"
   ]
  },
  {
   "cell_type": "code",
   "execution_count": 40,
   "metadata": {},
   "outputs": [
    {
     "name": "stdout",
     "output_type": "stream",
     "text": [
      "Model: \"sequential\"\n",
      "_________________________________________________________________\n",
      "Layer (type)                 Output Shape              Param #   \n",
      "=================================================================\n",
      "flatten (Flatten)            (None, 3072)              0         \n",
      "_________________________________________________________________\n",
      "dense (Dense)                (None, 512)               1573376   \n",
      "_________________________________________________________________\n",
      "dense_1 (Dense)              (None, 512)               262656    \n",
      "_________________________________________________________________\n",
      "dense_2 (Dense)              (None, 10)                5130      \n",
      "=================================================================\n",
      "Total params: 1,841,162\n",
      "Trainable params: 1,841,162\n",
      "Non-trainable params: 0\n",
      "_________________________________________________________________\n"
     ]
    }
   ],
   "source": [
    "tf.keras.backend.clear_session()\n",
    "mlp = tf.keras.Sequential([tf.keras.layers.Flatten(input_shape = (32,32,3)),\n",
    "                                tf.keras.layers.Dense(512,activation = 'sigmoid'),\n",
    "                                tf.keras.layers.Dense(512,activation = 'sigmoid'),\n",
    "                                tf.keras.layers.Dense(10,activation = 'softmax')])\n",
    "mlp.summary()"
   ]
  },
  {
   "cell_type": "markdown",
   "metadata": {},
   "source": [
    "We are using sigmoid activation function for the hidden layers, as described in the question. The output layer is using softmax activation function since predicts the probability that the input belongs to a particular category. The output node with the highest probability value categorises the input. The weights and bias are automatically initialised\n"
   ]
  },
  {
   "cell_type": "code",
   "execution_count": 9,
   "metadata": {},
   "outputs": [],
   "source": [
    "# Using adam optimiser for weight training\n",
    "mlp.compile(optimizer='adam',\n",
    "              loss='sparse_categorical_crossentropy',\n",
    "              metrics=['accuracy'])"
   ]
  },
  {
   "cell_type": "code",
   "execution_count": 10,
   "metadata": {},
   "outputs": [
    {
     "name": "stdout",
     "output_type": "stream",
     "text": [
      "Epoch 1/5\n",
      "313/313 [==============================] - 3s 8ms/step - loss: 2.0520 - accuracy: 0.2358\n",
      "Epoch 2/5\n",
      "313/313 [==============================] - 3s 9ms/step - loss: 1.9179 - accuracy: 0.2956\n",
      "Epoch 3/5\n",
      "313/313 [==============================] - 3s 10ms/step - loss: 1.8428 - accuracy: 0.3307\n",
      "Epoch 4/5\n",
      "313/313 [==============================] - 3s 11ms/step - loss: 1.7955 - accuracy: 0.3452\n",
      "Epoch 5/5\n",
      "313/313 [==============================] - 3s 10ms/step - loss: 1.7634 - accuracy: 0.3577\n"
     ]
    }
   ],
   "source": [
    "Epoch = 5\n",
    "history_mlp = mlp.fit(training_batch,epochs=Epoch)"
   ]
  },
  {
   "cell_type": "code",
   "execution_count": 11,
   "metadata": {},
   "outputs": [
    {
     "data": {
      "image/png": "[encoded data removed]",
      "text/plain": [
       "<Figure size 432x288 with 1 Axes>"
      ]
     },
     "metadata": {
      "needs_background": "light"
     },
     "output_type": "display_data"
    }
   ],
   "source": [
    "plt.plot(history_mlp.history['accuracy'])\n",
    "plt.title('model accuracy')\n",
    "plt.ylabel('accuracy')\n",
    "plt.xlabel('epoch')\n",
    "plt.show()"
   ]
  },
  {
   "cell_type": "code",
   "execution_count": 12,
   "metadata": {},
   "outputs": [
    {
     "name": "stdout",
     "output_type": "stream",
     "text": [
      "313/313 [==============================] - 1s 3ms/step - loss: 1.8174 - accuracy: 0.3485\n"
     ]
    }
   ],
   "source": [
    "loss,accuracy = mlp.evaluate(validateX1,validatey1)"
   ]
  },
  {
   "cell_type": "code",
   "execution_count": 13,
   "metadata": {},
   "outputs": [
    {
     "name": "stdout",
     "output_type": "stream",
     "text": [
      "The accuray of the MLP on validation set is: 0.34850001335144043\n"
     ]
    }
   ],
   "source": [
    "print(\"The accuray of the MLP on validation set is:\",accuracy)"
   ]
  },
  {
   "cell_type": "markdown",
   "metadata": {},
   "source": [
    "## Changing Hidden Layers and Nodes"
   ]
  },
  {
   "cell_type": "markdown",
   "metadata": {},
   "source": [
    "### Changing Hidden Layers\n"
   ]
  },
  {
   "cell_type": "code",
   "execution_count": 67,
   "metadata": {},
   "outputs": [
    {
     "name": "stdout",
     "output_type": "stream",
     "text": [
      "---------------1 Hidden Layer ----------------------\n",
      "Epoch 1/5\n",
      "313/313 [==============================] - 2s 6ms/step - loss: 2.0810 - accuracy: 0.2566\n",
      "Epoch 2/5\n",
      "313/313 [==============================] - 2s 6ms/step - loss: 1.8832 - accuracy: 0.3210\n",
      "Epoch 3/5\n",
      "313/313 [==============================] - 2s 6ms/step - loss: 1.8232 - accuracy: 0.3483\n",
      "Epoch 4/5\n",
      "313/313 [==============================] - 2s 7ms/step - loss: 1.7790 - accuracy: 0.3628\n",
      "Epoch 5/5\n",
      "313/313 [==============================] - 2s 7ms/step - loss: 1.7459 - accuracy: 0.3739\n",
      "313/313 [==============================] - 1s 3ms/step - loss: 1.8102 - accuracy: 0.3466\n",
      "---------------2 Hidden Layer ----------------------\n",
      "Epoch 1/5\n",
      "313/313 [==============================] - 3s 10ms/step - loss: 2.1444 - accuracy: 0.1793\n",
      "Epoch 2/5\n",
      "313/313 [==============================] - 3s 10ms/step - loss: 1.9854 - accuracy: 0.2586\n",
      "Epoch 3/5\n",
      "313/313 [==============================] - 3s 10ms/step - loss: 1.9279 - accuracy: 0.2851\n",
      "Epoch 4/5\n",
      "313/313 [==============================] - 4s 11ms/step - loss: 1.8810 - accuracy: 0.3037\n",
      "Epoch 5/5\n",
      "313/313 [==============================] - 3s 11ms/step - loss: 1.8498 - accuracy: 0.3176\n",
      "313/313 [==============================] - 1s 3ms/step - loss: 1.8923 - accuracy: 0.3056\n",
      "---------------5 Hidden Layer ----------------------\n",
      "Epoch 1/5\n",
      "313/313 [==============================] - 5s 14ms/step - loss: 2.2009 - accuracy: 0.1499\n",
      "Epoch 2/5\n",
      "313/313 [==============================] - 4s 14ms/step - loss: 2.1112 - accuracy: 0.1712\n",
      "Epoch 3/5\n",
      "313/313 [==============================] - 4s 14ms/step - loss: 2.0900 - accuracy: 0.1784\n",
      "Epoch 4/5\n",
      "313/313 [==============================] - 4s 14ms/step - loss: 2.0810 - accuracy: 0.1831\n",
      "Epoch 5/5\n",
      "313/313 [==============================] - 4s 14ms/step - loss: 2.0741 - accuracy: 0.1874\n",
      "313/313 [==============================] - 2s 5ms/step - loss: 2.0264 - accuracy: 0.1853\n",
      "---------------10 Hidden Layer ----------------------\n",
      "Epoch 1/5\n",
      "313/313 [==============================] - 7s 20ms/step - loss: 2.3406 - accuracy: 0.1003\n",
      "Epoch 2/5\n",
      "313/313 [==============================] - 7s 21ms/step - loss: 2.3337 - accuracy: 0.1022\n",
      "Epoch 3/5\n",
      "313/313 [==============================] - 7s 21ms/step - loss: 2.3335 - accuracy: 0.1019\n",
      "Epoch 4/5\n",
      "313/313 [==============================] - 7s 21ms/step - loss: 2.3332 - accuracy: 0.1025\n",
      "Epoch 5/5\n",
      "313/313 [==============================] - 7s 21ms/step - loss: 2.3320 - accuracy: 0.1039\n",
      "313/313 [==============================] - 2s 7ms/step - loss: 2.3209 - accuracy: 0.1000\n"
     ]
    }
   ],
   "source": [
    "tf.keras.backend.clear_session()\n",
    "accuracy_layers = []\n",
    "# 1 hidden Layer\n",
    "model_layer4 = tf.keras.Sequential([tf.keras.layers.Flatten(input_shape = (32,32,3)),\n",
    "                                tf.keras.layers.Dense(512,activation = 'sigmoid'),tf.keras.layers.Dense(10,activation = 'softmax')])\n",
    "model_layer4.compile(optimizer='adam',loss='sparse_categorical_crossentropy',metrics=['accuracy'])\n",
    "print(\"---------------1 Hidden Layer ----------------------\")\n",
    "model_layer4.fit(training_batch, epochs=5)\n",
    "loss,acc = model_layer4.evaluate(validateX1,validatey1)\n",
    "accuracy_layers.append(acc)\n",
    "#2 hidden Layer\n",
    "accuracy_layers.append(accuracy)\n",
    "# 3 hidden Layer\n",
    "model_layer3 = tf.keras.Sequential([tf.keras.layers.Flatten(input_shape = (32,32,3)),\n",
    "                                tf.keras.layers.Dense(512,activation = 'sigmoid'),tf.keras.layers.Dense(512,activation = 'sigmoid'),\n",
    "                                tf.keras.layers.Dense(512,activation = 'sigmoid'),tf.keras.layers.Dense(10,activation = 'softmax')])\n",
    "model_layer3.compile(optimizer='adam',loss='sparse_categorical_crossentropy',metrics=['accuracy'])\n",
    "print(\"---------------3 Hidden Layer ----------------------\")\n",
    "model_layer3.fit(training_batch, epochs=5)\n",
    "loss,acc = model_layer3.evaluate(validateX1,validatey1)\n",
    "accuracy_layers.append(acc)\n",
    "# 5 hidden Layers\n",
    "model_layer1 = tf.keras.Sequential([tf.keras.layers.Flatten(input_shape = (32,32,3)),\n",
    "                                tf.keras.layers.Dense(512,activation = 'sigmoid'),tf.keras.layers.Dense(512,activation = 'sigmoid'),\n",
    "                                tf.keras.layers.Dense(512,activation = 'sigmoid'),tf.keras.layers.Dense(512,activation = 'sigmoid'),\n",
    "                                tf.keras.layers.Dense(512,activation = 'sigmoid'),tf.keras.layers.Dense(10,activation = 'softmax')])\n",
    "model_layer1.compile(optimizer='adam',loss='sparse_categorical_crossentropy',metrics=['accuracy'])\n",
    "print(\"---------------5 Hidden Layer ----------------------\")\n",
    "model_layer1.fit(training_batch, epochs=5)\n",
    "loss,acc = model_layer1.evaluate(validateX1,validatey1)\n",
    "accuracy_layers.append(acc)\n",
    "# 10 hidden layers\n",
    "model_layer2 = tf.keras.Sequential([tf.keras.layers.Flatten(input_shape = (32,32,3)),\n",
    "                                tf.keras.layers.Dense(512,activation = 'sigmoid'),tf.keras.layers.Dense(512,activation = 'sigmoid'),\n",
    "                                tf.keras.layers.Dense(512,activation = 'sigmoid'),tf.keras.layers.Dense(512,activation = 'sigmoid'),\n",
    "                                tf.keras.layers.Dense(512,activation = 'sigmoid'),tf.keras.layers.Dense(512,activation = 'sigmoid'),\n",
    "                                tf.keras.layers.Dense(512,activation = 'sigmoid'),tf.keras.layers.Dense(512,activation = 'sigmoid'),\n",
    "                                tf.keras.layers.Dense(512,activation = 'sigmoid'),tf.keras.layers.Dense(10,activation = 'softmax')])\n",
    "model_layer2.compile(optimizer='adam',loss='sparse_categorical_crossentropy',metrics=['accuracy'])\n",
    "print(\"---------------10 Hidden Layer ----------------------\")\n",
    "model_layer2.fit(training_batch, epochs=5)\n",
    "loss,acc = model_layer2.evaluate(validateX1,validatey1)\n",
    "accuracy_layers.append(acc)\n"
   ]
  },
  {
   "cell_type": "code",
   "execution_count": 68,
   "metadata": {},
   "outputs": [
    {
     "data": {
      "text/plain": [
       "[0.3465999960899353,\n",
       " 0.34850001335144043,\n",
       " 0.30559998750686646,\n",
       " 0.18529999256134033,\n",
       " 0.10000000149011612]"
      ]
     },
     "execution_count": 68,
     "metadata": {},
     "output_type": "execute_result"
    }
   ],
   "source": [
    "accuracy_layers"
   ]
  },
  {
   "cell_type": "code",
   "execution_count": 70,
   "metadata": {},
   "outputs": [
    {
     "data": {
      "image/png": "[encoded data removed]",
      "text/plain": [
       "<Figure size 432x288 with 1 Axes>"
      ]
     },
     "metadata": {
      "needs_background": "light"
     },
     "output_type": "display_data"
    }
   ],
   "source": [
    "plt.plot([1,2,3,5,10],accuracy_layers)\n",
    "plt.title('Hidden Layer vs Accuracy')\n",
    "plt.ylabel('accuracy')\n",
    "plt.xlabel('Hidden Layers')\n",
    "plt.show()"
   ]
  },
  {
   "cell_type": "markdown",
   "metadata": {},
   "source": [
    "#### Thus as the number of hidden layer increases, the accuracy of the model decreases"
   ]
  },
  {
   "cell_type": "markdown",
   "metadata": {},
   "source": [
    "### Changing Nodes "
   ]
  },
  {
   "cell_type": "markdown",
   "metadata": {},
   "source": [
    "The number of hidden layers are kept at 2 since these values provides the highest accuracy for a given number of nodes"
   ]
  },
  {
   "cell_type": "code",
   "execution_count": 74,
   "metadata": {},
   "outputs": [
    {
     "name": "stdout",
     "output_type": "stream",
     "text": [
      "------------------------- 128 nodes -----------------------------------\n",
      "Epoch 1/5\n",
      "313/313 [==============================] - 1s 2ms/step - loss: 2.1512 - accuracy: 0.1883\n",
      "Epoch 2/5\n",
      "313/313 [==============================] - 1s 2ms/step - loss: 1.9830 - accuracy: 0.2653\n",
      "Epoch 3/5\n",
      "313/313 [==============================] - 1s 2ms/step - loss: 1.9138 - accuracy: 0.3022\n",
      "Epoch 4/5\n",
      "313/313 [==============================] - 1s 2ms/step - loss: 1.8778 - accuracy: 0.3176\n",
      "Epoch 5/5\n",
      "313/313 [==============================] - 1s 2ms/step - loss: 1.8410 - accuracy: 0.3333\n",
      "313/313 [==============================] - 0s 790us/step - loss: 1.8355 - accuracy: 0.3276\n",
      "------------------------- 256 nodes -----------------------------------\n",
      "Epoch 1/5\n",
      "313/313 [==============================] - 1s 3ms/step - loss: 2.0667 - accuracy: 0.2327\n",
      "Epoch 2/5\n",
      "313/313 [==============================] - 1s 3ms/step - loss: 1.9187 - accuracy: 0.2993\n",
      "Epoch 3/5\n",
      "313/313 [==============================] - 1s 3ms/step - loss: 1.8570 - accuracy: 0.3277\n",
      "Epoch 4/5\n",
      "313/313 [==============================] - 1s 3ms/step - loss: 1.8122 - accuracy: 0.3482\n",
      "Epoch 5/5\n",
      "313/313 [==============================] - 1s 4ms/step - loss: 1.7722 - accuracy: 0.3586\n",
      "313/313 [==============================] - 0s 1ms/step - loss: 1.8404 - accuracy: 0.3377\n",
      "------------------------- 1024 nodes -----------------------------------\n",
      "Epoch 1/5\n",
      "313/313 [==============================] - 5s 15ms/step - loss: 2.1031 - accuracy: 0.2197\n",
      "Epoch 2/5\n",
      "313/313 [==============================] - 5s 15ms/step - loss: 1.9370 - accuracy: 0.2882\n",
      "Epoch 3/5\n",
      "313/313 [==============================] - 5s 15ms/step - loss: 1.8611 - accuracy: 0.3183\n",
      "Epoch 4/5\n",
      "313/313 [==============================] - 5s 15ms/step - loss: 1.8138 - accuracy: 0.3358\n",
      "Epoch 5/5\n",
      "313/313 [==============================] - 5s 16ms/step - loss: 1.7871 - accuracy: 0.3490\n",
      "313/313 [==============================] - 1s 4ms/step - loss: 1.7693 - accuracy: 0.3567\n",
      "------------------------- 2048 nodes -----------------------------------\n",
      "Epoch 1/5\n",
      "313/313 [==============================] - 16s 52ms/step - loss: 2.2440 - accuracy: 0.1855\n",
      "Epoch 2/5\n",
      "313/313 [==============================] - 17s 53ms/step - loss: 1.9904 - accuracy: 0.2744\n",
      "Epoch 3/5\n",
      "313/313 [==============================] - 18s 57ms/step - loss: 1.9278 - accuracy: 0.2985\n",
      "Epoch 4/5\n",
      "313/313 [==============================] - 18s 58ms/step - loss: 1.8733 - accuracy: 0.3098\n",
      "Epoch 5/5\n",
      "313/313 [==============================] - 16s 50ms/step - loss: 1.8355 - accuracy: 0.3269\n",
      "313/313 [==============================] - 3s 9ms/step - loss: 1.8401 - accuracy: 0.3145\n"
     ]
    }
   ],
   "source": [
    "tf.keras.backend.clear_session()\n",
    "accuracy_nodes = []\n",
    "# 128 nodes \n",
    "print(\"------------------------- 128 nodes -----------------------------------\")\n",
    "model_nodes1 = tf.keras.Sequential([tf.keras.layers.Flatten(input_shape = (32,32,3)),\n",
    "                                tf.keras.layers.Dense(128,activation = 'sigmoid'),\n",
    "                                tf.keras.layers.Dense(128,activation = 'sigmoid'),\n",
    "                                tf.keras.layers.Dense(10,activation = 'softmax')])\n",
    "model_nodes1.compile(optimizer='adam',loss='sparse_categorical_crossentropy',metrics=['accuracy'])\n",
    "model_nodes1.fit(training_batch, epochs = 5)\n",
    "loss,acc = model_nodes1.evaluate(validateX1,validatey1)\n",
    "accuracy_nodes.append(acc)\n",
    "# 256 nodes \n",
    "print(\"------------------------- 256 nodes -----------------------------------\")\n",
    "model_nodes2 = tf.keras.Sequential([tf.keras.layers.Flatten(input_shape = (32,32,3)),\n",
    "                                tf.keras.layers.Dense(256,activation = 'sigmoid'),\n",
    "                                tf.keras.layers.Dense(256,activation = 'sigmoid'),\n",
    "                                tf.keras.layers.Dense(10,activation = 'softmax')])\n",
    "model_nodes2.compile(optimizer='adam',loss='sparse_categorical_crossentropy',metrics=['accuracy'])\n",
    "model_nodes2.fit(training_batch, epochs = 5)\n",
    "loss,acc = model_nodes2.evaluate(validateX1,validatey1)\n",
    "accuracy_nodes.append(acc)\n",
    "# 512 nodes\n",
    "accuracy_nodes.append(accuracy)\n",
    "# 1024 nodes \n",
    "print(\"------------------------- 1024 nodes -----------------------------------\")\n",
    "model_nodes3 = tf.keras.Sequential([tf.keras.layers.Flatten(input_shape = (32,32,3)),\n",
    "                                tf.keras.layers.Dense(1024,activation = 'sigmoid'),\n",
    "                                tf.keras.layers.Dense(1024,activation = 'sigmoid'),\n",
    "                                tf.keras.layers.Dense(10,activation = 'softmax')])\n",
    "model_nodes3.compile(optimizer='adam',loss='sparse_categorical_crossentropy',metrics=['accuracy'])\n",
    "model_nodes3.fit(training_batch, epochs = 5)\n",
    "loss,acc = model_nodes3.evaluate(validateX1,validatey1)\n",
    "accuracy_nodes.append(acc)\n",
    "# 2048 nodes \n",
    "print(\"------------------------- 2048 nodes -----------------------------------\")\n",
    "model_nodes4 = tf.keras.Sequential([tf.keras.layers.Flatten(input_shape = (32,32,3)),\n",
    "                                tf.keras.layers.Dense(2048,activation = 'sigmoid'),\n",
    "                                tf.keras.layers.Dense(2048,activation = 'sigmoid'),\n",
    "                                tf.keras.layers.Dense(10,activation = 'softmax')])\n",
    "model_nodes4.compile(optimizer='adam',loss='sparse_categorical_crossentropy',metrics=['accuracy'])\n",
    "model_nodes4.fit(training_batch, epochs = 5)\n",
    "loss,acc = model_nodes4.evaluate(validateX1,validatey1)\n",
    "accuracy_nodes.append(acc)\n",
    "\n"
   ]
  },
  {
   "cell_type": "code",
   "execution_count": 77,
   "metadata": {},
   "outputs": [
    {
     "data": {
      "text/plain": [
       "[0.32760000228881836,\n",
       " 0.3377000093460083,\n",
       " 0.34850001335144043,\n",
       " 0.35670000314712524,\n",
       " 0.31450000405311584]"
      ]
     },
     "execution_count": 77,
     "metadata": {},
     "output_type": "execute_result"
    }
   ],
   "source": [
    "accuracy_nodes"
   ]
  },
  {
   "cell_type": "code",
   "execution_count": 76,
   "metadata": {},
   "outputs": [
    {
     "data": {
      "image/png": "[encoded data removed]",
      "text/plain": [
       "<Figure size 432x288 with 1 Axes>"
      ]
     },
     "metadata": {
      "needs_background": "light"
     },
     "output_type": "display_data"
    }
   ],
   "source": [
    "plt.plot([128,256,512,1024,2048],accuracy_nodes)\n",
    "plt.title('number of nodes vs Accuracy')\n",
    "plt.ylabel('accuracy')\n",
    "plt.xlabel('number of nodes')\n",
    "plt.show()"
   ]
  },
  {
   "cell_type": "markdown",
   "metadata": {},
   "source": [
    "### The maximum accuracy is achieved when nodes are 1024 and hidden layers 2"
   ]
  },
  {
   "cell_type": "markdown",
   "metadata": {},
   "source": [
    "# CNN 1"
   ]
  },
  {
   "cell_type": "code",
   "execution_count": 15,
   "metadata": {},
   "outputs": [
    {
     "name": "stdout",
     "output_type": "stream",
     "text": [
      "Model: \"sequential_2\"\n",
      "_________________________________________________________________\n",
      "Layer (type)                 Output Shape              Param #   \n",
      "=================================================================\n",
      "conv2d (Conv2D)              (None, 30, 30, 64)        1792      \n",
      "_________________________________________________________________\n",
      "conv2d_1 (Conv2D)            (None, 28, 28, 64)        36928     \n",
      "_________________________________________________________________\n",
      "flatten_2 (Flatten)          (None, 50176)             0         \n",
      "_________________________________________________________________\n",
      "dense_3 (Dense)              (None, 512)               25690624  \n",
      "_________________________________________________________________\n",
      "dense_4 (Dense)              (None, 512)               262656    \n",
      "_________________________________________________________________\n",
      "dense_5 (Dense)              (None, 10)                5130      \n",
      "=================================================================\n",
      "Total params: 25,997,130\n",
      "Trainable params: 25,997,130\n",
      "Non-trainable params: 0\n",
      "_________________________________________________________________\n"
     ]
    }
   ],
   "source": [
    "cnn1 = tf.keras.Sequential([ tf.keras.layers.Conv2D(64,(3,3),activation='relu',input_shape = (32,32,3)),\n",
    "                             tf.keras.layers.Conv2D(64,(3,3),activation='relu'),\n",
    "                              tf.keras.layers.Flatten(),\n",
    "                             tf.keras.layers.Dense(512,activation = 'sigmoid'),\n",
    "                             tf.keras.layers.Dense(512,activation = 'sigmoid'),\n",
    "                             tf.keras.layers.Dense(10,activation = 'softmax')])\n",
    "cnn1.summary()"
   ]
  },
  {
   "cell_type": "code",
   "execution_count": 16,
   "metadata": {},
   "outputs": [],
   "source": [
    "cnn1.compile(optimizer='adam',\n",
    "              loss='sparse_categorical_crossentropy',\n",
    "              metrics=['accuracy'])"
   ]
  },
  {
   "cell_type": "code",
   "execution_count": 17,
   "metadata": {},
   "outputs": [
    {
     "name": "stdout",
     "output_type": "stream",
     "text": [
      "Epoch 1/5\n",
      "313/313 [==============================] - 52s 164ms/step - loss: 1.7659 - accuracy: 0.3457\n",
      "Epoch 2/5\n",
      "313/313 [==============================] - 54s 171ms/step - loss: 1.3462 - accuracy: 0.5045\n",
      "Epoch 3/5\n",
      "313/313 [==============================] - 53s 170ms/step - loss: 1.0115 - accuracy: 0.6396\n",
      "Epoch 4/5\n",
      "313/313 [==============================] - 52s 167ms/step - loss: 0.6103 - accuracy: 0.7927s -\n",
      "Epoch 5/5\n",
      "313/313 [==============================] - 52s 166ms/step - loss: 0.2569 - accuracy: 0.9265\n"
     ]
    }
   ],
   "source": [
    "history1 = cnn1.fit(trainX1,trainy1,epochs=5)"
   ]
  },
  {
   "cell_type": "code",
   "execution_count": 18,
   "metadata": {},
   "outputs": [
    {
     "name": "stdout",
     "output_type": "stream",
     "text": [
      "313/313 [==============================] - 8s 26ms/step - loss: 1.6014 - accuracy: 0.5481\n"
     ]
    }
   ],
   "source": [
    "loss_cnn1_val,acccuracy_cnn1_val = cnn1.evaluate(validateX1,validatey1)"
   ]
  },
  {
   "cell_type": "code",
   "execution_count": 19,
   "metadata": {},
   "outputs": [
    {
     "name": "stdout",
     "output_type": "stream",
     "text": [
      "1250/1250 [==============================] - 32s 25ms/step - loss: 1.6187 - accuracy: 0.5485\n"
     ]
    }
   ],
   "source": [
    "loss_cnn1_test,accuracy_cnn1_test = cnn1.evaluate(testX,testy)"
   ]
  },
  {
   "cell_type": "code",
   "execution_count": 62,
   "metadata": {},
   "outputs": [
    {
     "data": {
      "image/png": "[encoded data removed]",
      "text/plain": [
       "<Figure size 432x288 with 1 Axes>"
      ]
     },
     "metadata": {
      "needs_background": "light"
     },
     "output_type": "display_data"
    }
   ],
   "source": [
    "plt.plot(history1.history['accuracy'])\n",
    "plt.title('model accuracy for CNN1')\n",
    "plt.ylabel('accuracy')\n",
    "plt.xlabel('epoch')\n",
    "plt.show()"
   ]
  },
  {
   "cell_type": "markdown",
   "metadata": {},
   "source": [
    "## CNN2"
   ]
  },
  {
   "cell_type": "code",
   "execution_count": 20,
   "metadata": {},
   "outputs": [],
   "source": [
    "cnn2 = tf.keras.Sequential([tf.keras.layers.Conv2D(64,(3,3),activation='relu',input_shape = (32,32,3)),\n",
    "                            tf.keras.layers.MaxPooling2D(pool_size=(2,2)),\n",
    "                            tf.keras.layers.Conv2D(64,(3,3),activation='relu'),\n",
    "                            tf.keras.layers.MaxPooling2D(pool_size=(2,2)),\n",
    "                            tf.keras.layers.Flatten(),\n",
    "                            tf.keras.layers.Dense(512,activation = 'sigmoid'),\n",
    "                            tf.keras.layers.Dropout(0.2),\n",
    "                            tf.keras.layers.Dense(512,activation = 'sigmoid'),\n",
    "                            tf.keras.layers.Dropout(0.2),\n",
    "                            tf.keras.layers.Dense(10,activation = 'softmax')])\n",
    "                                                             "
   ]
  },
  {
   "cell_type": "code",
   "execution_count": 21,
   "metadata": {},
   "outputs": [],
   "source": [
    "cnn2.compile(optimizer='adam',\n",
    "              loss='sparse_categorical_crossentropy',\n",
    "              metrics=['accuracy'])"
   ]
  },
  {
   "cell_type": "code",
   "execution_count": 61,
   "metadata": {},
   "outputs": [
    {
     "name": "stdout",
     "output_type": "stream",
     "text": [
      "Epoch 1/5\n",
      "313/313 [==============================] - 11s 35ms/step - loss: 1.0881 - accuracy: 0.6097\n",
      "Epoch 2/5\n",
      "313/313 [==============================] - 11s 34ms/step - loss: 0.9827 - accuracy: 0.6472\n",
      "Epoch 3/5\n",
      "313/313 [==============================] - 11s 35ms/step - loss: 0.8723 - accuracy: 0.6893\n",
      "Epoch 4/5\n",
      "313/313 [==============================] - 11s 34ms/step - loss: 0.7615 - accuracy: 0.7299\n",
      "Epoch 5/5\n",
      "313/313 [==============================] - 11s 35ms/step - loss: 0.6516 - accuracy: 0.7720\n"
     ]
    }
   ],
   "source": [
    "history2 = cnn2.fit(trainX1,trainy1,epochs=5)"
   ]
  },
  {
   "cell_type": "code",
   "execution_count": 23,
   "metadata": {},
   "outputs": [
    {
     "name": "stdout",
     "output_type": "stream",
     "text": [
      "313/313 [==============================] - 3s 9ms/step - loss: 1.1869 - accuracy: 0.5738\n"
     ]
    }
   ],
   "source": [
    "loss_cnn2_val,acccuracy_cnn2_val = cnn2.evaluate(validateX1,validatey1)"
   ]
  },
  {
   "cell_type": "code",
   "execution_count": 24,
   "metadata": {},
   "outputs": [
    {
     "name": "stdout",
     "output_type": "stream",
     "text": [
      "1250/1250 [==============================] - 14s 11ms/step - loss: 1.1947 - accuracy: 0.5754\n"
     ]
    }
   ],
   "source": [
    "loss_cnn2_test,accuracy_cnn2_test = cnn2.evaluate(testX,testy)"
   ]
  },
  {
   "cell_type": "code",
   "execution_count": 63,
   "metadata": {},
   "outputs": [
    {
     "data": {
      "image/png": "[encoded data removed]",
      "text/plain": [
       "<Figure size 432x288 with 1 Axes>"
      ]
     },
     "metadata": {
      "needs_background": "light"
     },
     "output_type": "display_data"
    }
   ],
   "source": [
    "plt.plot(history2.history['accuracy'])\n",
    "plt.title('model accuracy for CNN2')\n",
    "plt.ylabel('accuracy')\n",
    "plt.xlabel('epoch')\n",
    "plt.show()"
   ]
  },
  {
   "cell_type": "code",
   "execution_count": null,
   "metadata": {},
   "outputs": [],
   "source": []
  }
 ],
 "metadata": {
  "kernelspec": {
   "display_name": "Python 3",
   "language": "python",
   "name": "python3"
  },
  "language_info": {
   "codemirror_mode": {
    "name": "ipython",
    "version": 3
   },
   "file_extension": ".py",
   "mimetype": "text/x-python",
   "name": "python",
   "nbconvert_exporter": "python",
   "pygments_lexer": "ipython3",
   "version": "3.8.5"
  }
 },
 "nbformat": 4,
 "nbformat_minor": 4
}
