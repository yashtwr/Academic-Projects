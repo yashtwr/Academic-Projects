{
 "cells": [
  {
   "cell_type": "markdown",
   "metadata": {},
   "source": [
    "# Importing Resources \n"
   ]
  },
  {
   "cell_type": "code",
   "execution_count": 1,
   "metadata": {},
   "outputs": [],
   "source": [
    "import tensorflow as tf"
   ]
  },
  {
   "cell_type": "code",
   "execution_count": 2,
   "metadata": {},
   "outputs": [],
   "source": [
    "from keras.datasets import cifar10\n",
    "from sklearn.model_selection import train_test_split \n",
    "import matplotlib.pyplot as plt\n",
    "from keras import layers\n",
    "import numpy as np\n",
    "%matplotlib inline"
   ]
  },
  {
   "cell_type": "markdown",
   "metadata": {},
   "source": [
    "The CIFAR10 has 50,000 32x32 color training images and <b>10,000 test images by default, labeled over 10 categories</b>. The training dataset is further split into 80-20 ratio to get <b>10,000 images in training set. The 10,000 images in testing set is used for validation</b>. The 10 classes of data is as follows: ['airplane','automobile','bird','cat','deer','dog','frog','horse','ship','truck']"
   ]
  },
  {
   "cell_type": "markdown",
   "metadata": {},
   "source": [
    "# Loading Dataset"
   ]
  },
  {
   "cell_type": "code",
   "execution_count": 3,
   "metadata": {},
   "outputs": [],
   "source": [
    "(trainX, trainy), (validateX1, validatey1) = cifar10.load_data()\n",
    "class_names = ['airplane','automobile','bird','cat','deer','dog','frog','horse','ship','truck']"
   ]
  },
  {
   "cell_type": "markdown",
   "metadata": {},
   "source": [
    "# Preprocessing\n"
   ]
  },
  {
   "cell_type": "markdown",
   "metadata": {},
   "source": [
    "##  Splitting Dataset into Train - Validate - Test"
   ]
  },
  {
   "cell_type": "code",
   "execution_count": 4,
   "metadata": {},
   "outputs": [],
   "source": [
    "# Splitting the training dataset to create new training and validation set\n",
    "trainX1,testX,trainy1,testy = train_test_split(trainX,trainy,test_size = 0.8,random_state = 100)"
   ]
  },
  {
   "cell_type": "code",
   "execution_count": 5,
   "metadata": {},
   "outputs": [
    {
     "name": "stdout",
     "output_type": "stream",
     "text": [
      "There are 10,000 images in the Training set\n",
      "There are 10,000 images in the Validation set\n",
      "There are 40,000 images in the test set\n"
     ]
    }
   ],
   "source": [
    "print('There are {:,} images in the Training set'.format(trainX1.shape[0]))\n",
    "print('There are {:,} images in the Validation set'.format(validateX1.shape[0]))\n",
    "print('There are {:,} images in the test set'.format(testX.shape[0]))"
   ]
  },
  {
   "cell_type": "markdown",
   "metadata": {},
   "source": [
    "## Normalization and Creating Batch"
   ]
  },
  {
   "cell_type": "code",
   "execution_count": 6,
   "metadata": {},
   "outputs": [
    {
     "name": "stdout",
     "output_type": "stream",
     "text": [
      "The shape of training dataset is:  (10000, 32, 32, 3)\n",
      "The shape of validation dataset is:  (10000, 32, 32, 3)\n"
     ]
    }
   ],
   "source": [
    "print(\"The shape of training dataset is: \", trainX1.shape)\n",
    "print(\"The shape of validation dataset is: \", validateX1.shape)\n",
    "# normalizing the values. The default range is 0-255. Thus on min-max normalization, the range would be 0-1\n",
    "trainX1 = trainX1.astype('float32')/255\n",
    "validateX1 = validateX1.astype('float32')/255\n",
    "testX = testX.astype('float32')/255\n"
   ]
  },
  {
   "cell_type": "code",
   "execution_count": 7,
   "metadata": {},
   "outputs": [],
   "source": [
    "\n",
    "# Creating batches of dataset.To do so, we have to convert the variable of type 'nparray'\n",
    "# to type 'tensor', which is done by using the command tf.data.Dataset.from_tensor_slices\n",
    "training_batch = tf.data.Dataset.from_tensor_slices((trainX1,trainy1)).batch(32)\n",
    "test_batch = tf.data.Dataset.from_tensor_slices((testX,testy))\n",
    "validation_batch = tf.data.Dataset.from_tensor_slices((validateX1,validatey1))"
   ]
  },
  {
   "cell_type": "markdown",
   "metadata": {},
   "source": [
    "## Multi Layer Perceptron"
   ]
  },
  {
   "cell_type": "markdown",
   "metadata": {},
   "source": [
    "The multilayer perceptron is having 2 hidden layers, with each hidden layer having 512 nodes. Since there are 10 classes of data, the number of output nodes are 10. Each image is having 32 x 32 pixels with 3 colour layers (RGB). There there are\n",
    "32x32x3 = 3072 features per image. keras.sequential is used for sequential flow in the MLP. The flatten layer is used to reshape the input image. The dense layer is the hidden layer( inputs are no of nodes and activation function)"
   ]
  },
  {
   "cell_type": "code",
   "execution_count": 8,
   "metadata": {},
   "outputs": [
    {
     "name": "stdout",
     "output_type": "stream",
     "text": [
      "Model: \"sequential\"\n",
      "_________________________________________________________________\n",
      "Layer (type)                 Output Shape              Param #   \n",
      "=================================================================\n",
      "flatten (Flatten)            (None, 3072)              0         \n",
      "_________________________________________________________________\n",
      "dense (Dense)                (None, 512)               1573376   \n",
      "_________________________________________________________________\n",
      "dense_1 (Dense)              (None, 512)               262656    \n",
      "_________________________________________________________________\n",
      "dense_2 (Dense)              (None, 10)                5130      \n",
      "=================================================================\n",
      "Total params: 1,841,162\n",
      "Trainable params: 1,841,162\n",
      "Non-trainable params: 0\n",
      "_________________________________________________________________\n"
     ]
    }
   ],
   "source": [
    "tf.keras.backend.clear_session()\n",
    "mlp = tf.keras.Sequential([tf.keras.layers.Flatten(input_shape = (32,32,3)),\n",
    "                                tf.keras.layers.Dense(512,activation = 'sigmoid'),\n",
    "                                tf.keras.layers.Dense(512,activation = 'sigmoid'),\n",
    "                                tf.keras.layers.Dense(10,activation = 'softmax')])\n",
    "mlp.summary()"
   ]
  },
  {
   "cell_type": "markdown",
   "metadata": {},
   "source": [
    "We are using sigmoid activation function for the hidden layers, as described in the question. The output layer is using softmax activation function since predicts the probability that the input belongs to a particular category. The output node with the highest probability value categorises the input. The weights and bias are automatically initialised\n"
   ]
  },
  {
   "cell_type": "code",
   "execution_count": 9,
   "metadata": {},
   "outputs": [],
   "source": [
    "# Using adam optimiser for weight training\n",
    "mlp.compile(optimizer='adam',\n",
    "              loss='sparse_categorical_crossentropy',\n",
    "              metrics=['accuracy'])"
   ]
  },
  {
   "cell_type": "code",
   "execution_count": 10,
   "metadata": {},
   "outputs": [
    {
     "name": "stdout",
     "output_type": "stream",
     "text": [
      "Epoch 1/5\n",
      "313/313 [==============================] - 3s 7ms/step - loss: 2.0562 - accuracy: 0.2394\n",
      "Epoch 2/5\n",
      "313/313 [==============================] - 2s 7ms/step - loss: 1.8988 - accuracy: 0.3031\n",
      "Epoch 3/5\n",
      "313/313 [==============================] - 2s 7ms/step - loss: 1.8341 - accuracy: 0.3308\n",
      "Epoch 4/5\n",
      "313/313 [==============================] - 2s 7ms/step - loss: 1.7847 - accuracy: 0.3530\n",
      "Epoch 5/5\n",
      "313/313 [==============================] - 2s 7ms/step - loss: 1.7481 - accuracy: 0.3639\n"
     ]
    }
   ],
   "source": [
    "Epoch = 5\n",
    "history_mlp = mlp.fit(training_batch,epochs=Epoch)"
   ]
  },
  {
   "cell_type": "code",
   "execution_count": 11,
   "metadata": {},
   "outputs": [
    {
     "data": {
      "image/png": "[encoded data removed]",
      "text/plain": [
       "<Figure size 432x288 with 1 Axes>"
      ]
     },
     "metadata": {
      "needs_background": "light"
     },
     "output_type": "display_data"
    }
   ],
   "source": [
    "plt.plot([1,2,3,4,5],history_mlp.history['accuracy'])\n",
    "plt.title('model accuracy')\n",
    "plt.ylabel('accuracy')\n",
    "plt.xlabel('epoch')\n",
    "plt.show()"
   ]
  },
  {
   "cell_type": "code",
   "execution_count": 12,
   "metadata": {},
   "outputs": [
    {
     "name": "stdout",
     "output_type": "stream",
     "text": [
      "313/313 [==============================] - 1s 2ms/step - loss: 1.8417 - accuracy: 0.3378\n"
     ]
    }
   ],
   "source": [
    "loss,accuracy = mlp.evaluate(validateX1,validatey1)"
   ]
  },
  {
   "cell_type": "code",
   "execution_count": 13,
   "metadata": {},
   "outputs": [
    {
     "name": "stdout",
     "output_type": "stream",
     "text": [
      "The accuray of the MLP on validation set is: 0.337799996137619\n"
     ]
    }
   ],
   "source": [
    "print(\"The accuray of the MLP on validation set is:\",accuracy)"
   ]
  },
  {
   "cell_type": "code",
   "execution_count": 14,
   "metadata": {},
   "outputs": [
    {
     "name": "stdout",
     "output_type": "stream",
     "text": [
      "1250/1250 [==============================] - 3s 3ms/step - loss: 1.8506 - accuracy: 0.3363\n"
     ]
    }
   ],
   "source": [
    "loss_mlp_test,acc_mlp_test =mlp.evaluate(testX,testy) "
   ]
  },
  {
   "cell_type": "markdown",
   "metadata": {},
   "source": [
    "## Changing Hidden Layers and Nodes"
   ]
  },
  {
   "cell_type": "markdown",
   "metadata": {},
   "source": [
    "### Changing Hidden Layers\n"
   ]
  },
  {
   "cell_type": "code",
   "execution_count": 15,
   "metadata": {},
   "outputs": [
    {
     "name": "stdout",
     "output_type": "stream",
     "text": [
      "---------------1 Hidden Layer ----------------------\n",
      "Epoch 1/5\n",
      "313/313 [==============================] - 2s 6ms/step - loss: 2.0791 - accuracy: 0.2495\n",
      "Epoch 2/5\n",
      "313/313 [==============================] - 2s 6ms/step - loss: 1.8701 - accuracy: 0.3242\n",
      "Epoch 3/5\n",
      "313/313 [==============================] - 2s 6ms/step - loss: 1.8022 - accuracy: 0.3509\n",
      "Epoch 4/5\n",
      "313/313 [==============================] - 2s 6ms/step - loss: 1.7544 - accuracy: 0.3691\n",
      "Epoch 5/5\n",
      "313/313 [==============================] - 2s 6ms/step - loss: 1.7126 - accuracy: 0.3835\n",
      "313/313 [==============================] - 1s 2ms/step - loss: 1.7412 - accuracy: 0.3817\n",
      "---------------3 Hidden Layer ----------------------\n",
      "Epoch 1/5\n",
      "313/313 [==============================] - 3s 9ms/step - loss: 2.1081 - accuracy: 0.2051\n",
      "Epoch 2/5\n",
      "313/313 [==============================] - 3s 9ms/step - loss: 1.9431 - accuracy: 0.2806\n",
      "Epoch 3/5\n",
      "313/313 [==============================] - 3s 9ms/step - loss: 1.8734 - accuracy: 0.3079\n",
      "Epoch 4/5\n",
      "313/313 [==============================] - 3s 9ms/step - loss: 1.8243 - accuracy: 0.3299\n",
      "Epoch 5/5\n",
      "313/313 [==============================] - 3s 9ms/step - loss: 1.7894 - accuracy: 0.3413\n",
      "313/313 [==============================] - 1s 3ms/step - loss: 1.8314 - accuracy: 0.3384\n",
      "---------------5 Hidden Layer ----------------------\n",
      "Epoch 1/5\n",
      "313/313 [==============================] - 4s 13ms/step - loss: 2.2251 - accuracy: 0.1426\n",
      "Epoch 2/5\n",
      "313/313 [==============================] - 4s 13ms/step - loss: 2.1139 - accuracy: 0.1734\n",
      "Epoch 3/5\n",
      "313/313 [==============================] - 4s 13ms/step - loss: 2.0852 - accuracy: 0.1794\n",
      "Epoch 4/5\n",
      "313/313 [==============================] - 4s 13ms/step - loss: 2.0787 - accuracy: 0.1820\n",
      "Epoch 5/5\n",
      "313/313 [==============================] - 4s 13ms/step - loss: 2.0638 - accuracy: 0.1866\n",
      "313/313 [==============================] - 1s 4ms/step - loss: 2.1062 - accuracy: 0.1757\n",
      "---------------10 Hidden Layer ----------------------\n",
      "Epoch 1/5\n",
      "313/313 [==============================] - 6s 20ms/step - loss: 2.3411 - accuracy: 0.0956 0s - loss:\n",
      "Epoch 2/5\n",
      "313/313 [==============================] - 6s 20ms/step - loss: 2.3323 - accuracy: 0.0951\n",
      "Epoch 3/5\n",
      "313/313 [==============================] - 6s 20ms/step - loss: 2.3319 - accuracy: 0.0956\n",
      "Epoch 4/5\n",
      "313/313 [==============================] - 6s 20ms/step - loss: 2.3313 - accuracy: 0.0954\n",
      "Epoch 5/5\n",
      "313/313 [==============================] - 6s 20ms/step - loss: 2.3307 - accuracy: 0.0952\n",
      "313/313 [==============================] - 2s 6ms/step - loss: 2.3180 - accuracy: 0.1000\n"
     ]
    }
   ],
   "source": [
    "tf.keras.backend.clear_session()\n",
    "accuracy_layers = []\n",
    "# 1 hidden Layer\n",
    "model_layer4 = tf.keras.Sequential([tf.keras.layers.Flatten(input_shape = (32,32,3)),\n",
    "                                tf.keras.layers.Dense(512,activation = 'sigmoid'),tf.keras.layers.Dense(10,activation = 'softmax')])\n",
    "model_layer4.compile(optimizer='adam',loss='sparse_categorical_crossentropy',metrics=['accuracy'])\n",
    "print(\"---------------1 Hidden Layer ----------------------\")\n",
    "model_layer4.fit(training_batch, epochs=5)\n",
    "loss,acc = model_layer4.evaluate(validateX1,validatey1)\n",
    "accuracy_layers.append(acc)\n",
    "#2 hidden Layer\n",
    "accuracy_layers.append(accuracy)\n",
    "# 3 hidden Layer\n",
    "model_layer3 = tf.keras.Sequential([tf.keras.layers.Flatten(input_shape = (32,32,3)),\n",
    "                                tf.keras.layers.Dense(512,activation = 'sigmoid'),tf.keras.layers.Dense(512,activation = 'sigmoid'),\n",
    "                                tf.keras.layers.Dense(512,activation = 'sigmoid'),tf.keras.layers.Dense(10,activation = 'softmax')])\n",
    "model_layer3.compile(optimizer='adam',loss='sparse_categorical_crossentropy',metrics=['accuracy'])\n",
    "print(\"---------------3 Hidden Layer ----------------------\")\n",
    "model_layer3.fit(training_batch, epochs=5)\n",
    "loss,acc = model_layer3.evaluate(validateX1,validatey1)\n",
    "accuracy_layers.append(acc)\n",
    "# 5 hidden Layers\n",
    "model_layer1 = tf.keras.Sequential([tf.keras.layers.Flatten(input_shape = (32,32,3)),\n",
    "                                tf.keras.layers.Dense(512,activation = 'sigmoid'),tf.keras.layers.Dense(512,activation = 'sigmoid'),\n",
    "                                tf.keras.layers.Dense(512,activation = 'sigmoid'),tf.keras.layers.Dense(512,activation = 'sigmoid'),\n",
    "                                tf.keras.layers.Dense(512,activation = 'sigmoid'),tf.keras.layers.Dense(10,activation = 'softmax')])\n",
    "model_layer1.compile(optimizer='adam',loss='sparse_categorical_crossentropy',metrics=['accuracy'])\n",
    "print(\"---------------5 Hidden Layer ----------------------\")\n",
    "model_layer1.fit(training_batch, epochs=5)\n",
    "loss,acc = model_layer1.evaluate(validateX1,validatey1)\n",
    "accuracy_layers.append(acc)\n",
    "# 10 hidden layers\n",
    "model_layer2 = tf.keras.Sequential([tf.keras.layers.Flatten(input_shape = (32,32,3)),\n",
    "                                tf.keras.layers.Dense(512,activation = 'sigmoid'),tf.keras.layers.Dense(512,activation = 'sigmoid'),\n",
    "                                tf.keras.layers.Dense(512,activation = 'sigmoid'),tf.keras.layers.Dense(512,activation = 'sigmoid'),\n",
    "                                tf.keras.layers.Dense(512,activation = 'sigmoid'),tf.keras.layers.Dense(512,activation = 'sigmoid'),\n",
    "                                tf.keras.layers.Dense(512,activation = 'sigmoid'),tf.keras.layers.Dense(512,activation = 'sigmoid'),\n",
    "                                tf.keras.layers.Dense(512,activation = 'sigmoid'),tf.keras.layers.Dense(10,activation = 'softmax')])\n",
    "model_layer2.compile(optimizer='adam',loss='sparse_categorical_crossentropy',metrics=['accuracy'])\n",
    "print(\"---------------10 Hidden Layer ----------------------\")\n",
    "model_layer2.fit(training_batch, epochs=5)\n",
    "loss,acc = model_layer2.evaluate(validateX1,validatey1)\n",
    "accuracy_layers.append(acc)\n"
   ]
  },
  {
   "cell_type": "code",
   "execution_count": 16,
   "metadata": {},
   "outputs": [
    {
     "data": {
      "text/plain": [
       "[0.3817000091075897,\n",
       " 0.337799996137619,\n",
       " 0.3384000062942505,\n",
       " 0.17569999396800995,\n",
       " 0.10000000149011612]"
      ]
     },
     "execution_count": 16,
     "metadata": {},
     "output_type": "execute_result"
    }
   ],
   "source": [
    "accuracy_layers"
   ]
  },
  {
   "cell_type": "code",
   "execution_count": 17,
   "metadata": {},
   "outputs": [
    {
     "data": {
      "image/png": "[encoded data removed]",
      "text/plain": [
       "<Figure size 432x288 with 1 Axes>"
      ]
     },
     "metadata": {
      "needs_background": "light"
     },
     "output_type": "display_data"
    }
   ],
   "source": [
    "plt.plot([1,2,3,5,10],accuracy_layers)\n",
    "plt.title('Hidden Layer vs Accuracy')\n",
    "plt.ylabel('accuracy')\n",
    "plt.xlabel('Hidden Layers')\n",
    "plt.show()"
   ]
  },
  {
   "cell_type": "markdown",
   "metadata": {},
   "source": [
    "#### Thus as the number of hidden layer increases, the accuracy of the model decreases"
   ]
  },
  {
   "cell_type": "markdown",
   "metadata": {},
   "source": [
    "### Changing Nodes "
   ]
  },
  {
   "cell_type": "markdown",
   "metadata": {},
   "source": [
    "The number of hidden layers are kept at 2 since these values provides the highest accuracy for a given number of nodes"
   ]
  },
  {
   "cell_type": "code",
   "execution_count": 18,
   "metadata": {},
   "outputs": [
    {
     "name": "stdout",
     "output_type": "stream",
     "text": [
      "------------------------- 128 nodes -----------------------------------\n",
      "Epoch 1/5\n",
      "313/313 [==============================] - 1s 2ms/step - loss: 2.0915 - accuracy: 0.2267\n",
      "Epoch 2/5\n",
      "313/313 [==============================] - 1s 2ms/step - loss: 1.9250 - accuracy: 0.3014\n",
      "Epoch 3/5\n",
      "313/313 [==============================] - 1s 2ms/step - loss: 1.8646 - accuracy: 0.3250\n",
      "Epoch 4/5\n",
      "313/313 [==============================] - 1s 2ms/step - loss: 1.8133 - accuracy: 0.3466\n",
      "Epoch 5/5\n",
      "313/313 [==============================] - 1s 2ms/step - loss: 1.7726 - accuracy: 0.3620\n",
      "313/313 [==============================] - 0s 723us/step - loss: 1.8092 - accuracy: 0.3386\n",
      "------------------------- 256 nodes -----------------------------------\n",
      "Epoch 1/5\n",
      "313/313 [==============================] - 1s 3ms/step - loss: 2.0690 - accuracy: 0.2299\n",
      "Epoch 2/5\n",
      "313/313 [==============================] - 1s 3ms/step - loss: 1.9105 - accuracy: 0.2962\n",
      "Epoch 3/5\n",
      "313/313 [==============================] - 1s 4ms/step - loss: 1.8449 - accuracy: 0.3275\n",
      "Epoch 4/5\n",
      "313/313 [==============================] - 1s 4ms/step - loss: 1.7961 - accuracy: 0.3484\n",
      "Epoch 5/5\n",
      "313/313 [==============================] - 1s 4ms/step - loss: 1.7546 - accuracy: 0.3614\n",
      "313/313 [==============================] - 0s 1ms/step - loss: 1.7916 - accuracy: 0.3501\n",
      "------------------------- 1024 nodes -----------------------------------\n",
      "Epoch 1/5\n",
      "313/313 [==============================] - 6s 19ms/step - loss: 2.0877 - accuracy: 0.2374\n",
      "Epoch 2/5\n",
      "313/313 [==============================] - 6s 19ms/step - loss: 1.9202 - accuracy: 0.2983\n",
      "Epoch 3/5\n",
      "313/313 [==============================] - 6s 19ms/step - loss: 1.8447 - accuracy: 0.3215\n",
      "Epoch 4/5\n",
      "313/313 [==============================] - 6s 19ms/step - loss: 1.7929 - accuracy: 0.3441\n",
      "Epoch 5/5\n",
      "313/313 [==============================] - 6s 20ms/step - loss: 1.7480 - accuracy: 0.3628\n",
      "313/313 [==============================] - 1s 4ms/step - loss: 1.8001 - accuracy: 0.3463\n",
      "------------------------- 2048 nodes -----------------------------------\n",
      "Epoch 1/5\n",
      "313/313 [==============================] - 16s 49ms/step - loss: 2.2238 - accuracy: 0.2074\n",
      "Epoch 2/5\n",
      "313/313 [==============================] - 15s 49ms/step - loss: 1.9618 - accuracy: 0.2837\n",
      "Epoch 3/5\n",
      "313/313 [==============================] - 15s 49ms/step - loss: 1.8741 - accuracy: 0.3136\n",
      "Epoch 4/5\n",
      "313/313 [==============================] - 15s 49ms/step - loss: 1.8194 - accuracy: 0.3331\n",
      "Epoch 5/5\n",
      "313/313 [==============================] - 16s 50ms/step - loss: 1.7854 - accuracy: 0.3440\n",
      "313/313 [==============================] - 3s 9ms/step - loss: 1.8279 - accuracy: 0.3275\n"
     ]
    }
   ],
   "source": [
    "tf.keras.backend.clear_session()\n",
    "accuracy_nodes = []\n",
    "# 128 nodes \n",
    "print(\"------------------------- 128 nodes -----------------------------------\")\n",
    "model_nodes1 = tf.keras.Sequential([tf.keras.layers.Flatten(input_shape = (32,32,3)),\n",
    "                                tf.keras.layers.Dense(128,activation = 'sigmoid'),\n",
    "                                tf.keras.layers.Dense(128,activation = 'sigmoid'),\n",
    "                                tf.keras.layers.Dense(10,activation = 'softmax')])\n",
    "model_nodes1.compile(optimizer='adam',loss='sparse_categorical_crossentropy',metrics=['accuracy'])\n",
    "model_nodes1.fit(training_batch, epochs = 5)\n",
    "loss,acc = model_nodes1.evaluate(validateX1,validatey1)\n",
    "accuracy_nodes.append(acc)\n",
    "# 256 nodes \n",
    "print(\"------------------------- 256 nodes -----------------------------------\")\n",
    "model_nodes2 = tf.keras.Sequential([tf.keras.layers.Flatten(input_shape = (32,32,3)),\n",
    "                                tf.keras.layers.Dense(256,activation = 'sigmoid'),\n",
    "                                tf.keras.layers.Dense(256,activation = 'sigmoid'),\n",
    "                                tf.keras.layers.Dense(10,activation = 'softmax')])\n",
    "model_nodes2.compile(optimizer='adam',loss='sparse_categorical_crossentropy',metrics=['accuracy'])\n",
    "model_nodes2.fit(training_batch, epochs = 5)\n",
    "loss,acc = model_nodes2.evaluate(validateX1,validatey1)\n",
    "accuracy_nodes.append(acc)\n",
    "# 512 nodes\n",
    "accuracy_nodes.append(accuracy)\n",
    "# 1024 nodes \n",
    "print(\"------------------------- 1024 nodes -----------------------------------\")\n",
    "model_nodes3 = tf.keras.Sequential([tf.keras.layers.Flatten(input_shape = (32,32,3)),\n",
    "                                tf.keras.layers.Dense(1024,activation = 'sigmoid'),\n",
    "                                tf.keras.layers.Dense(1024,activation = 'sigmoid'),\n",
    "                                tf.keras.layers.Dense(10,activation = 'softmax')])\n",
    "model_nodes3.compile(optimizer='adam',loss='sparse_categorical_crossentropy',metrics=['accuracy'])\n",
    "model_nodes3.fit(training_batch, epochs = 5)\n",
    "loss,acc = model_nodes3.evaluate(validateX1,validatey1)\n",
    "accuracy_nodes.append(acc)\n",
    "# 2048 nodes \n",
    "print(\"------------------------- 2048 nodes -----------------------------------\")\n",
    "model_nodes4 = tf.keras.Sequential([tf.keras.layers.Flatten(input_shape = (32,32,3)),\n",
    "                                tf.keras.layers.Dense(2048,activation = 'sigmoid'),\n",
    "                                tf.keras.layers.Dense(2048,activation = 'sigmoid'),\n",
    "                                tf.keras.layers.Dense(10,activation = 'softmax')])\n",
    "model_nodes4.compile(optimizer='adam',loss='sparse_categorical_crossentropy',metrics=['accuracy'])\n",
    "model_nodes4.fit(training_batch, epochs = 5)\n",
    "loss,acc = model_nodes4.evaluate(validateX1,validatey1)\n",
    "accuracy_nodes.append(acc)\n",
    "\n"
   ]
  },
  {
   "cell_type": "code",
   "execution_count": 19,
   "metadata": {},
   "outputs": [
    {
     "data": {
      "text/plain": [
       "[0.3386000096797943,\n",
       " 0.35010001063346863,\n",
       " 0.337799996137619,\n",
       " 0.34630000591278076,\n",
       " 0.32749998569488525]"
      ]
     },
     "execution_count": 19,
     "metadata": {},
     "output_type": "execute_result"
    }
   ],
   "source": [
    "accuracy_nodes"
   ]
  },
  {
   "cell_type": "code",
   "execution_count": 20,
   "metadata": {},
   "outputs": [
    {
     "data": {
      "image/png": "[encoded data removed]",
      "text/plain": [
       "<Figure size 432x288 with 1 Axes>"
      ]
     },
     "metadata": {
      "needs_background": "light"
     },
     "output_type": "display_data"
    }
   ],
   "source": [
    "plt.plot([128,256,512,1024,2048],accuracy_nodes)\n",
    "plt.title('number of nodes vs Accuracy')\n",
    "plt.ylabel('accuracy')\n",
    "plt.xlabel('number of nodes')\n",
    "plt.show()"
   ]
  },
  {
   "cell_type": "markdown",
   "metadata": {},
   "source": [
    "### The maximum accuracy is achieved when nodes are 256 and hidden layers 2"
   ]
  },
  {
   "cell_type": "markdown",
   "metadata": {},
   "source": [
    "# CNN 1"
   ]
  },
  {
   "cell_type": "code",
   "execution_count": 21,
   "metadata": {},
   "outputs": [
    {
     "name": "stdout",
     "output_type": "stream",
     "text": [
      "Model: \"sequential\"\n",
      "_________________________________________________________________\n",
      "Layer (type)                 Output Shape              Param #   \n",
      "=================================================================\n",
      "conv2d (Conv2D)              (None, 30, 30, 64)        1792      \n",
      "_________________________________________________________________\n",
      "conv2d_1 (Conv2D)            (None, 28, 28, 64)        36928     \n",
      "_________________________________________________________________\n",
      "flatten (Flatten)            (None, 50176)             0         \n",
      "_________________________________________________________________\n",
      "dense (Dense)                (None, 512)               25690624  \n",
      "_________________________________________________________________\n",
      "dense_1 (Dense)              (None, 512)               262656    \n",
      "_________________________________________________________________\n",
      "dense_2 (Dense)              (None, 10)                5130      \n",
      "=================================================================\n",
      "Total params: 25,997,130\n",
      "Trainable params: 25,997,130\n",
      "Non-trainable params: 0\n",
      "_________________________________________________________________\n"
     ]
    }
   ],
   "source": [
    "tf.keras.backend.clear_session()\n",
    "cnn1 = tf.keras.Sequential([ tf.keras.layers.Conv2D(64,(3,3),activation='relu',input_shape = (32,32,3)),\n",
    "                             tf.keras.layers.Conv2D(64,(3,3),activation='relu'),\n",
    "                              tf.keras.layers.Flatten(),\n",
    "                             tf.keras.layers.Dense(512,activation = 'sigmoid'),\n",
    "                             tf.keras.layers.Dense(512,activation = 'sigmoid'),\n",
    "                             tf.keras.layers.Dense(10,activation = 'softmax')])\n",
    "cnn1.summary()"
   ]
  },
  {
   "cell_type": "code",
   "execution_count": 22,
   "metadata": {},
   "outputs": [],
   "source": [
    "cnn1.compile(optimizer='adam',\n",
    "              loss='sparse_categorical_crossentropy',\n",
    "              metrics=['accuracy'])"
   ]
  },
  {
   "cell_type": "code",
   "execution_count": 23,
   "metadata": {},
   "outputs": [
    {
     "name": "stdout",
     "output_type": "stream",
     "text": [
      "Epoch 1/5\n",
      "313/313 [==============================] - 52s 165ms/step - loss: 1.7699 - accuracy: 0.3478\n",
      "Epoch 2/5\n",
      "313/313 [==============================] - 51s 163ms/step - loss: 1.3122 - accuracy: 0.5299\n",
      "Epoch 3/5\n",
      "313/313 [==============================] - 51s 162ms/step - loss: 0.9679 - accuracy: 0.6621\n",
      "Epoch 4/5\n",
      "313/313 [==============================] - 80s 255ms/step - loss: 0.5537 - accuracy: 0.8160\n",
      "Epoch 5/5\n",
      "313/313 [==============================] - 91s 291ms/step - loss: 0.2112 - accuracy: 0.9426\n"
     ]
    }
   ],
   "source": [
    "history1 = cnn1.fit(trainX1,trainy1,epochs=5)"
   ]
  },
  {
   "cell_type": "code",
   "execution_count": 24,
   "metadata": {},
   "outputs": [
    {
     "name": "stdout",
     "output_type": "stream",
     "text": [
      "313/313 [==============================] - 21s 66ms/step - loss: 1.6403 - accuracy: 0.5394\n"
     ]
    }
   ],
   "source": [
    "loss_cnn1_val,acccuracy_cnn1_val = cnn1.evaluate(validateX1,validatey1)"
   ]
  },
  {
   "cell_type": "code",
   "execution_count": 25,
   "metadata": {},
   "outputs": [
    {
     "name": "stdout",
     "output_type": "stream",
     "text": [
      "1250/1250 [==============================] - 85s 68ms/step - loss: 1.6251 - accuracy: 0.5497\n"
     ]
    }
   ],
   "source": [
    "loss_cnn1_test,accuracy_cnn1_test = cnn1.evaluate(testX,testy)"
   ]
  },
  {
   "cell_type": "code",
   "execution_count": 26,
   "metadata": {},
   "outputs": [
    {
     "data": {
      "image/png": "[encoded data removed]",
      "text/plain": [
       "<Figure size 432x288 with 1 Axes>"
      ]
     },
     "metadata": {
      "needs_background": "light"
     },
     "output_type": "display_data"
    }
   ],
   "source": [
    "plt.plot(history1.history['accuracy'])\n",
    "plt.title('model accuracy for CNN1')\n",
    "plt.ylabel('accuracy')\n",
    "plt.xlabel('epoch')\n",
    "plt.show()"
   ]
  },
  {
   "cell_type": "markdown",
   "metadata": {},
   "source": [
    "## CNN2"
   ]
  },
  {
   "cell_type": "code",
   "execution_count": 27,
   "metadata": {},
   "outputs": [],
   "source": [
    "tf.keras.backend.clear_session()\n",
    "cnn2 = tf.keras.Sequential([tf.keras.layers.Conv2D(64,(3,3),activation='relu',input_shape = (32,32,3)),\n",
    "                            tf.keras.layers.MaxPooling2D(pool_size=(2,2)),\n",
    "                            tf.keras.layers.Conv2D(64,(3,3),activation='relu'),\n",
    "                            tf.keras.layers.MaxPooling2D(pool_size=(2,2)),\n",
    "                            tf.keras.layers.Flatten(),\n",
    "                            tf.keras.layers.Dense(512,activation = 'sigmoid'),\n",
    "                            tf.keras.layers.Dropout(0.2),\n",
    "                            tf.keras.layers.Dense(512,activation = 'sigmoid'),\n",
    "                            tf.keras.layers.Dropout(0.2),\n",
    "                            tf.keras.layers.Dense(10,activation = 'softmax')])\n",
    "                                                             "
   ]
  },
  {
   "cell_type": "code",
   "execution_count": 28,
   "metadata": {},
   "outputs": [],
   "source": [
    "cnn2.compile(optimizer='adam',\n",
    "              loss='sparse_categorical_crossentropy',\n",
    "              metrics=['accuracy'])"
   ]
  },
  {
   "cell_type": "code",
   "execution_count": 29,
   "metadata": {},
   "outputs": [
    {
     "name": "stdout",
     "output_type": "stream",
     "text": [
      "Epoch 1/5\n",
      "313/313 [==============================] - 26s 81ms/step - loss: 1.9751 - accuracy: 0.2627\n",
      "Epoch 2/5\n",
      "313/313 [==============================] - 25s 79ms/step - loss: 1.5765 - accuracy: 0.41370s - loss: 1.5763 - accuracy: 0.\n",
      "Epoch 3/5\n",
      "313/313 [==============================] - 25s 81ms/step - loss: 1.4226 - accuracy: 0.4730\n",
      "Epoch 4/5\n",
      "313/313 [==============================] - 25s 81ms/step - loss: 1.3271 - accuracy: 0.5183\n",
      "Epoch 5/5\n",
      "313/313 [==============================] - 24s 77ms/step - loss: 1.2098 - accuracy: 0.5670\n"
     ]
    }
   ],
   "source": [
    "history2 = cnn2.fit(trainX1,trainy1,epochs=5)"
   ]
  },
  {
   "cell_type": "code",
   "execution_count": 30,
   "metadata": {},
   "outputs": [
    {
     "name": "stdout",
     "output_type": "stream",
     "text": [
      "313/313 [==============================] - 9s 28ms/step - loss: 1.2302 - accuracy: 0.5613\n"
     ]
    }
   ],
   "source": [
    "loss_cnn2_val,acccuracy_cnn2_val = cnn2.evaluate(validateX1,validatey1)"
   ]
  },
  {
   "cell_type": "code",
   "execution_count": 31,
   "metadata": {},
   "outputs": [
    {
     "name": "stdout",
     "output_type": "stream",
     "text": [
      "1250/1250 [==============================] - 38s 30ms/step - loss: 1.2387 - accuracy: 0.5581\n"
     ]
    }
   ],
   "source": [
    "loss_cnn2_test,accuracy_cnn2_test = cnn2.evaluate(testX,testy)"
   ]
  },
  {
   "cell_type": "code",
   "execution_count": 32,
   "metadata": {},
   "outputs": [
    {
     "data": {
      "image/png": "[encoded data removed]",
      "text/plain": [
       "<Figure size 432x288 with 1 Axes>"
      ]
     },
     "metadata": {
      "needs_background": "light"
     },
     "output_type": "display_data"
    }
   ],
   "source": [
    "plt.plot(history2.history['accuracy'])\n",
    "plt.title('model accuracy for CNN2')\n",
    "plt.ylabel('accuracy')\n",
    "plt.xlabel('epoch')\n",
    "plt.show()"
   ]
  },
  {
   "cell_type": "code",
   "execution_count": null,
   "metadata": {},
   "outputs": [],
   "source": []
  }
 ],
 "metadata": {
  "kernelspec": {
   "display_name": "Python 3",
   "language": "python",
   "name": "python3"
  },
  "language_info": {
   "codemirror_mode": {
    "name": "ipython",
    "version": 3
   },
   "file_extension": ".py",
   "mimetype": "text/x-python",
   "name": "python",
   "nbconvert_exporter": "python",
   "pygments_lexer": "ipython3",
   "version": "3.8.5"
  }
 },
 "nbformat": 4,
 "nbformat_minor": 4
}
