{
 "cells": [
  {
   "cell_type": "markdown",
   "metadata": {},
   "source": [
    "# Question 1. Data Exploration\n",
    "## [CM3] Correlation Coefficient (Heat Map), Mean, Variance, Skew, and Kurtosis"
   ]
  },
  {
   "cell_type": "markdown",
   "metadata": {},
   "source": [
    "Importing all necessary libraries."
   ]
  },
  {
   "cell_type": "code",
   "execution_count": 24,
   "metadata": {},
   "outputs": [],
   "source": [
    "import pandas as pd\n",
    "import numpy as np\n",
    "import seaborn as sns\n",
    "from matplotlib import pyplot as plt"
   ]
  },
  {
   "cell_type": "markdown",
   "metadata": {},
   "source": [
    "# Calculating correlation for Iris dataset"
   ]
  },
  {
   "cell_type": "code",
   "execution_count": 25,
   "metadata": {},
   "outputs": [],
   "source": [
    "df_clean_iris = pd.read_csv(\"cleaned_data_iris.csv\")"
   ]
  },
  {
   "cell_type": "code",
   "execution_count": 26,
   "metadata": {},
   "outputs": [
    {
     "data": {
      "text/html": [
       "<div>\n",
       "<style scoped>\n",
       "    .dataframe tbody tr th:only-of-type {\n",
       "        vertical-align: middle;\n",
       "    }\n",
       "\n",
       "    .dataframe tbody tr th {\n",
       "        vertical-align: top;\n",
       "    }\n",
       "\n",
       "    .dataframe thead th {\n",
       "        text-align: right;\n",
       "    }\n",
       "</style>\n",
       "<table border=\"1\" class=\"dataframe\">\n",
       "  <thead>\n",
       "    <tr style=\"text-align: right;\">\n",
       "      <th></th>\n",
       "      <th>sepal_length</th>\n",
       "      <th>sepal_width</th>\n",
       "      <th>petal_length</th>\n",
       "      <th>petal_width</th>\n",
       "      <th>species</th>\n",
       "    </tr>\n",
       "  </thead>\n",
       "  <tbody>\n",
       "    <tr>\n",
       "      <td>0</td>\n",
       "      <td>5.045070</td>\n",
       "      <td>2.508203</td>\n",
       "      <td>3.018024</td>\n",
       "      <td>1.164924</td>\n",
       "      <td>Iris-versicolor</td>\n",
       "    </tr>\n",
       "    <tr>\n",
       "      <td>1</td>\n",
       "      <td>6.325517</td>\n",
       "      <td>2.115481</td>\n",
       "      <td>4.542052</td>\n",
       "      <td>1.413651</td>\n",
       "      <td>Iris-versicolor</td>\n",
       "    </tr>\n",
       "    <tr>\n",
       "      <td>2</td>\n",
       "      <td>5.257497</td>\n",
       "      <td>3.814303</td>\n",
       "      <td>1.470660</td>\n",
       "      <td>0.395348</td>\n",
       "      <td>Iris-setosa</td>\n",
       "    </tr>\n",
       "    <tr>\n",
       "      <td>3</td>\n",
       "      <td>6.675168</td>\n",
       "      <td>3.201700</td>\n",
       "      <td>5.785461</td>\n",
       "      <td>2.362764</td>\n",
       "      <td>Iris-virginica</td>\n",
       "    </tr>\n",
       "    <tr>\n",
       "      <td>4</td>\n",
       "      <td>5.595237</td>\n",
       "      <td>2.678166</td>\n",
       "      <td>4.077750</td>\n",
       "      <td>1.369266</td>\n",
       "      <td>Iris-versicolor</td>\n",
       "    </tr>\n",
       "  </tbody>\n",
       "</table>\n",
       "</div>"
      ],
      "text/plain": [
       "   sepal_length  sepal_width  petal_length  petal_width          species\n",
       "0      5.045070     2.508203      3.018024     1.164924  Iris-versicolor\n",
       "1      6.325517     2.115481      4.542052     1.413651  Iris-versicolor\n",
       "2      5.257497     3.814303      1.470660     0.395348      Iris-setosa\n",
       "3      6.675168     3.201700      5.785461     2.362764   Iris-virginica\n",
       "4      5.595237     2.678166      4.077750     1.369266  Iris-versicolor"
      ]
     },
     "execution_count": 26,
     "metadata": {},
     "output_type": "execute_result"
    }
   ],
   "source": [
    "df_clean_iris.head()"
   ]
  },
  {
   "cell_type": "code",
   "execution_count": 27,
   "metadata": {},
   "outputs": [
    {
     "data": {
      "text/html": [
       "<div>\n",
       "<style scoped>\n",
       "    .dataframe tbody tr th:only-of-type {\n",
       "        vertical-align: middle;\n",
       "    }\n",
       "\n",
       "    .dataframe tbody tr th {\n",
       "        vertical-align: top;\n",
       "    }\n",
       "\n",
       "    .dataframe thead th {\n",
       "        text-align: right;\n",
       "    }\n",
       "</style>\n",
       "<table border=\"1\" class=\"dataframe\">\n",
       "  <thead>\n",
       "    <tr style=\"text-align: right;\">\n",
       "      <th></th>\n",
       "      <th>sepal_length</th>\n",
       "      <th>sepal_width</th>\n",
       "      <th>petal_length</th>\n",
       "      <th>petal_width</th>\n",
       "    </tr>\n",
       "  </thead>\n",
       "  <tbody>\n",
       "    <tr>\n",
       "      <td>sepal_length</td>\n",
       "      <td>1.000000</td>\n",
       "      <td>-0.041422</td>\n",
       "      <td>0.872313</td>\n",
       "      <td>0.809618</td>\n",
       "    </tr>\n",
       "    <tr>\n",
       "      <td>sepal_width</td>\n",
       "      <td>-0.041422</td>\n",
       "      <td>1.000000</td>\n",
       "      <td>-0.326507</td>\n",
       "      <td>-0.272053</td>\n",
       "    </tr>\n",
       "    <tr>\n",
       "      <td>petal_length</td>\n",
       "      <td>0.872313</td>\n",
       "      <td>-0.326507</td>\n",
       "      <td>1.000000</td>\n",
       "      <td>0.955728</td>\n",
       "    </tr>\n",
       "    <tr>\n",
       "      <td>petal_width</td>\n",
       "      <td>0.809618</td>\n",
       "      <td>-0.272053</td>\n",
       "      <td>0.955728</td>\n",
       "      <td>1.000000</td>\n",
       "    </tr>\n",
       "  </tbody>\n",
       "</table>\n",
       "</div>"
      ],
      "text/plain": [
       "              sepal_length  sepal_width  petal_length  petal_width\n",
       "sepal_length      1.000000    -0.041422      0.872313     0.809618\n",
       "sepal_width      -0.041422     1.000000     -0.326507    -0.272053\n",
       "petal_length      0.872313    -0.326507      1.000000     0.955728\n",
       "petal_width       0.809618    -0.272053      0.955728     1.000000"
      ]
     },
     "execution_count": 27,
     "metadata": {},
     "output_type": "execute_result"
    }
   ],
   "source": [
    "df_clean_iris.corr()"
   ]
  },
  {
   "cell_type": "code",
   "execution_count": 28,
   "metadata": {},
   "outputs": [
    {
     "data": {
      "text/plain": [
       "<matplotlib.axes._subplots.AxesSubplot at 0x21c989911c8>"
      ]
     },
     "execution_count": 28,
     "metadata": {},
     "output_type": "execute_result"
    },
    {
     "data": {
      "image/png": "[encoded data removed]",
      "text/plain": [
       "<Figure size 432x288 with 2 Axes>"
      ]
     },
     "metadata": {
      "needs_background": "light"
     },
     "output_type": "display_data"
    }
   ],
   "source": [
    "#Heat Map\n",
    "sns.heatmap(df_clean_iris.corr(),center=0,annot=True, linewidths=.5, cmap = \"Pastel1_r\")"
   ]
  },
  {
   "cell_type": "markdown",
   "metadata": {},
   "source": [
    "From the Heart data Heat map we can observe various correlation coefficients amongst the dataset features. In our case, the <b> skin colour shows a strong negative correlation</b> between the features where as the colour <b>Pink indicates a strong positive </b>correlation.                                                                                                                                                                                                                              "
   ]
  },
  {
   "cell_type": "markdown",
   "metadata": {},
   "source": [
    " The pairs of features <b>\"petal_length\" & \"petal_width\" and \"sepal_length\" & \"petal_length\"</b>\n",
    "have a correlation coefficient of \"0.96\" and \"0.87\" respectively which implies that the pair have a\n",
    "<b>strong correlation</b> between them. "
   ]
  },
  {
   "cell_type": "markdown",
   "metadata": {},
   "source": [
    "<b> \"sepal_width\" and \"sepal_length\"</b> have a correlation coefficient of \"-0.041\" which indicates that they have a<b> weak correlation </b> between them.                                                                                                                                                                                                                                                                                                                                                       "
   ]
  },
  {
   "cell_type": "markdown",
   "metadata": {},
   "source": [
    "# Calculating mean, variance, skew and Kutrosis for Iris Dataset"
   ]
  },
  {
   "cell_type": "code",
   "execution_count": 29,
   "metadata": {},
   "outputs": [
    {
     "data": {
      "text/plain": [
       "sepal_length    5.858909\n",
       "sepal_width     3.050812\n",
       "petal_length    3.807466\n",
       "petal_width     1.205498\n",
       "dtype: float64"
      ]
     },
     "execution_count": 29,
     "metadata": {},
     "output_type": "execute_result"
    }
   ],
   "source": [
    "df_clean_iris.mean()"
   ]
  },
  {
   "cell_type": "markdown",
   "metadata": {},
   "source": [
    "The <b>mean</b> is calculated by adding all of the numbers together and dividing by the number of total items in the set."
   ]
  },
  {
   "cell_type": "code",
   "execution_count": 30,
   "metadata": {},
   "outputs": [
    {
     "data": {
      "text/plain": [
       "sepal_length    0.742420\n",
       "sepal_width     0.188031\n",
       "petal_length    3.227641\n",
       "petal_width     0.606715\n",
       "dtype: float64"
      ]
     },
     "execution_count": 30,
     "metadata": {},
     "output_type": "execute_result"
    }
   ],
   "source": [
    "df_clean_iris.var()"
   ]
  },
  {
   "cell_type": "markdown",
   "metadata": {},
   "source": [
    "We know that <b> variance </b> is a measure of how spread out a data set is. It is calculated as the average squared deviation of each number from the mean of a data set. "
   ]
  },
  {
   "cell_type": "code",
   "execution_count": 31,
   "metadata": {},
   "outputs": [
    {
     "data": {
      "text/plain": [
       "sepal_length    0.401506\n",
       "sepal_width     0.204249\n",
       "petal_length   -0.258061\n",
       "petal_width    -0.053373\n",
       "dtype: float64"
      ]
     },
     "execution_count": 31,
     "metadata": {},
     "output_type": "execute_result"
    }
   ],
   "source": [
    "df_clean_iris.skew()"
   ]
  },
  {
   "cell_type": "markdown",
   "metadata": {},
   "source": [
    "<b> skewness is a measure of the asymmetry of the probability distribution of a real-valued random variable about its mean. The skewness value can be positive, zero, negative, or undefined. Negative skew commonly indicates that the tail is on the left side of the distribution, and positive skew indicates that the tail is on the right.</b>"
   ]
  },
  {
   "cell_type": "markdown",
   "metadata": {},
   "source": [
    "<b> \"sepal_length\" and \"sepal width\" has a positive skew (right side of mean) of 0.401 and 0.204 respectively and the\n",
    "features \"petal_length\" and \"petal_width\" has a negative skew (left side of mean) of -0.258 and -0.053 respectively.\n",
    "As the skewness of all the features lies within the range (-0.5,0.5), it can be said that the distribution\n",
    "of data points for all the above mentioned features is approximately symmetric. </b>"
   ]
  },
  {
   "cell_type": "code",
   "execution_count": 32,
   "metadata": {},
   "outputs": [
    {
     "data": {
      "text/plain": [
       "sepal_length   -0.544820\n",
       "sepal_width     0.041649\n",
       "petal_length   -1.414701\n",
       "petal_width    -1.330251\n",
       "dtype: float64"
      ]
     },
     "execution_count": 32,
     "metadata": {},
     "output_type": "execute_result"
    }
   ],
   "source": [
    "df_clean_iris.kurtosis()"
   ]
  },
  {
   "cell_type": "markdown",
   "metadata": {},
   "source": [
    "<b> Kurtosis is a statistical measure that defines how heavily the tails of a distribution differ from the tails of a normal distribution. It identifies whether the tails of a given distribution contain extreme values. The kurtosis of a normal distribution equals 3. Therefore, the excess kurtosis is found using the formula: Excess Kurtosis = Kurtosis – 3. The kurtosis for normal data distrubtion has a value of 3.\n",
    "The kurtosis is highly tailed for value > 3 and  low tailed for value < 3.</b>"
   ]
  },
  {
   "cell_type": "markdown",
   "metadata": {},
   "source": [
    "<b> From Iris dataset we can infer that kurtosis ranges between -2 to +1,we can deduce that the data is not having high\n",
    "number of outliers as well as a very low number of them. As the kurtosis is less than 3, the iris dataset has lighter tails than a normal distribution (less in the tails). This means it doesn't have any outliers. <b>"
   ]
  },
  {
   "cell_type": "markdown",
   "metadata": {},
   "source": [
    "# Calculating correlation for Heart disease dataset"
   ]
  },
  {
   "cell_type": "code",
   "execution_count": 33,
   "metadata": {},
   "outputs": [],
   "source": [
    "df_heart = pd.read_csv('heart_disease_cleaned.csv')"
   ]
  },
  {
   "cell_type": "code",
   "execution_count": 34,
   "metadata": {},
   "outputs": [
    {
     "data": {
      "text/html": [
       "<div>\n",
       "<style scoped>\n",
       "    .dataframe tbody tr th:only-of-type {\n",
       "        vertical-align: middle;\n",
       "    }\n",
       "\n",
       "    .dataframe tbody tr th {\n",
       "        vertical-align: top;\n",
       "    }\n",
       "\n",
       "    .dataframe thead th {\n",
       "        text-align: right;\n",
       "    }\n",
       "</style>\n",
       "<table border=\"1\" class=\"dataframe\">\n",
       "  <thead>\n",
       "    <tr style=\"text-align: right;\">\n",
       "      <th></th>\n",
       "      <th>age</th>\n",
       "      <th>sex</th>\n",
       "      <th>cp</th>\n",
       "      <th>trestbps</th>\n",
       "      <th>chol</th>\n",
       "      <th>fbs</th>\n",
       "      <th>restecg</th>\n",
       "      <th>thalach</th>\n",
       "      <th>exang</th>\n",
       "      <th>oldpeak</th>\n",
       "      <th>slope</th>\n",
       "      <th>ca</th>\n",
       "      <th>thal</th>\n",
       "      <th>target</th>\n",
       "    </tr>\n",
       "  </thead>\n",
       "  <tbody>\n",
       "    <tr>\n",
       "      <td>age</td>\n",
       "      <td>1.000000</td>\n",
       "      <td>-0.127669</td>\n",
       "      <td>-0.067058</td>\n",
       "      <td>0.329240</td>\n",
       "      <td>0.149362</td>\n",
       "      <td>0.077829</td>\n",
       "      <td>-0.096243</td>\n",
       "      <td>-0.426365</td>\n",
       "      <td>0.116313</td>\n",
       "      <td>0.098912</td>\n",
       "      <td>-0.135869</td>\n",
       "      <td>0.407114</td>\n",
       "      <td>0.022492</td>\n",
       "      <td>-0.169866</td>\n",
       "    </tr>\n",
       "    <tr>\n",
       "      <td>sex</td>\n",
       "      <td>-0.127669</td>\n",
       "      <td>1.000000</td>\n",
       "      <td>-0.102028</td>\n",
       "      <td>-0.034894</td>\n",
       "      <td>-0.158208</td>\n",
       "      <td>0.033452</td>\n",
       "      <td>-0.070320</td>\n",
       "      <td>-0.079046</td>\n",
       "      <td>0.108604</td>\n",
       "      <td>0.200150</td>\n",
       "      <td>-0.134521</td>\n",
       "      <td>0.155309</td>\n",
       "      <td>0.254350</td>\n",
       "      <td>-0.286042</td>\n",
       "    </tr>\n",
       "    <tr>\n",
       "      <td>cp</td>\n",
       "      <td>-0.067058</td>\n",
       "      <td>-0.102028</td>\n",
       "      <td>1.000000</td>\n",
       "      <td>0.032261</td>\n",
       "      <td>-0.036188</td>\n",
       "      <td>0.066298</td>\n",
       "      <td>-0.041310</td>\n",
       "      <td>0.268476</td>\n",
       "      <td>-0.383270</td>\n",
       "      <td>-0.128334</td>\n",
       "      <td>0.148529</td>\n",
       "      <td>-0.280791</td>\n",
       "      <td>-0.137776</td>\n",
       "      <td>0.519409</td>\n",
       "    </tr>\n",
       "    <tr>\n",
       "      <td>trestbps</td>\n",
       "      <td>0.329240</td>\n",
       "      <td>-0.034894</td>\n",
       "      <td>0.032261</td>\n",
       "      <td>1.000000</td>\n",
       "      <td>0.113735</td>\n",
       "      <td>0.217968</td>\n",
       "      <td>-0.156585</td>\n",
       "      <td>-0.147192</td>\n",
       "      <td>0.058274</td>\n",
       "      <td>0.138940</td>\n",
       "      <td>-0.200127</td>\n",
       "      <td>0.052714</td>\n",
       "      <td>0.014946</td>\n",
       "      <td>-0.093844</td>\n",
       "    </tr>\n",
       "    <tr>\n",
       "      <td>chol</td>\n",
       "      <td>0.149362</td>\n",
       "      <td>-0.158208</td>\n",
       "      <td>-0.036188</td>\n",
       "      <td>0.113735</td>\n",
       "      <td>1.000000</td>\n",
       "      <td>-0.032631</td>\n",
       "      <td>-0.107672</td>\n",
       "      <td>-0.068575</td>\n",
       "      <td>0.067806</td>\n",
       "      <td>0.074798</td>\n",
       "      <td>0.005390</td>\n",
       "      <td>0.114549</td>\n",
       "      <td>-0.008928</td>\n",
       "      <td>-0.092121</td>\n",
       "    </tr>\n",
       "    <tr>\n",
       "      <td>fbs</td>\n",
       "      <td>0.077829</td>\n",
       "      <td>0.033452</td>\n",
       "      <td>0.066298</td>\n",
       "      <td>0.217968</td>\n",
       "      <td>-0.032631</td>\n",
       "      <td>1.000000</td>\n",
       "      <td>-0.124061</td>\n",
       "      <td>0.032135</td>\n",
       "      <td>0.057797</td>\n",
       "      <td>-0.062166</td>\n",
       "      <td>-0.035464</td>\n",
       "      <td>0.111864</td>\n",
       "      <td>0.008066</td>\n",
       "      <td>0.023190</td>\n",
       "    </tr>\n",
       "    <tr>\n",
       "      <td>restecg</td>\n",
       "      <td>-0.096243</td>\n",
       "      <td>-0.070320</td>\n",
       "      <td>-0.041310</td>\n",
       "      <td>-0.156585</td>\n",
       "      <td>-0.107672</td>\n",
       "      <td>-0.124061</td>\n",
       "      <td>1.000000</td>\n",
       "      <td>0.010757</td>\n",
       "      <td>-0.030730</td>\n",
       "      <td>-0.051051</td>\n",
       "      <td>0.043781</td>\n",
       "      <td>-0.077544</td>\n",
       "      <td>0.041963</td>\n",
       "      <td>0.049845</td>\n",
       "    </tr>\n",
       "    <tr>\n",
       "      <td>thalach</td>\n",
       "      <td>-0.426365</td>\n",
       "      <td>-0.079046</td>\n",
       "      <td>0.268476</td>\n",
       "      <td>-0.147192</td>\n",
       "      <td>-0.068575</td>\n",
       "      <td>0.032135</td>\n",
       "      <td>0.010757</td>\n",
       "      <td>1.000000</td>\n",
       "      <td>-0.363998</td>\n",
       "      <td>-0.340324</td>\n",
       "      <td>0.438949</td>\n",
       "      <td>-0.312735</td>\n",
       "      <td>-0.116974</td>\n",
       "      <td>0.442393</td>\n",
       "    </tr>\n",
       "    <tr>\n",
       "      <td>exang</td>\n",
       "      <td>0.116313</td>\n",
       "      <td>0.108604</td>\n",
       "      <td>-0.383270</td>\n",
       "      <td>0.058274</td>\n",
       "      <td>0.067806</td>\n",
       "      <td>0.057797</td>\n",
       "      <td>-0.030730</td>\n",
       "      <td>-0.363998</td>\n",
       "      <td>1.000000</td>\n",
       "      <td>0.291556</td>\n",
       "      <td>-0.328644</td>\n",
       "      <td>0.159483</td>\n",
       "      <td>0.180658</td>\n",
       "      <td>-0.461911</td>\n",
       "    </tr>\n",
       "    <tr>\n",
       "      <td>oldpeak</td>\n",
       "      <td>0.098912</td>\n",
       "      <td>0.200150</td>\n",
       "      <td>-0.128334</td>\n",
       "      <td>0.138940</td>\n",
       "      <td>0.074798</td>\n",
       "      <td>-0.062166</td>\n",
       "      <td>-0.051051</td>\n",
       "      <td>-0.340324</td>\n",
       "      <td>0.291556</td>\n",
       "      <td>1.000000</td>\n",
       "      <td>-0.652375</td>\n",
       "      <td>0.206614</td>\n",
       "      <td>0.146452</td>\n",
       "      <td>-0.446915</td>\n",
       "    </tr>\n",
       "    <tr>\n",
       "      <td>slope</td>\n",
       "      <td>-0.135869</td>\n",
       "      <td>-0.134521</td>\n",
       "      <td>0.148529</td>\n",
       "      <td>-0.200127</td>\n",
       "      <td>0.005390</td>\n",
       "      <td>-0.035464</td>\n",
       "      <td>0.043781</td>\n",
       "      <td>0.438949</td>\n",
       "      <td>-0.328644</td>\n",
       "      <td>-0.652375</td>\n",
       "      <td>1.000000</td>\n",
       "      <td>-0.115252</td>\n",
       "      <td>-0.125980</td>\n",
       "      <td>0.404720</td>\n",
       "    </tr>\n",
       "    <tr>\n",
       "      <td>ca</td>\n",
       "      <td>0.407114</td>\n",
       "      <td>0.155309</td>\n",
       "      <td>-0.280791</td>\n",
       "      <td>0.052714</td>\n",
       "      <td>0.114549</td>\n",
       "      <td>0.111864</td>\n",
       "      <td>-0.077544</td>\n",
       "      <td>-0.312735</td>\n",
       "      <td>0.159483</td>\n",
       "      <td>0.206614</td>\n",
       "      <td>-0.115252</td>\n",
       "      <td>1.000000</td>\n",
       "      <td>0.101206</td>\n",
       "      <td>-0.382270</td>\n",
       "    </tr>\n",
       "    <tr>\n",
       "      <td>thal</td>\n",
       "      <td>0.022492</td>\n",
       "      <td>0.254350</td>\n",
       "      <td>-0.137776</td>\n",
       "      <td>0.014946</td>\n",
       "      <td>-0.008928</td>\n",
       "      <td>0.008066</td>\n",
       "      <td>0.041963</td>\n",
       "      <td>-0.116974</td>\n",
       "      <td>0.180658</td>\n",
       "      <td>0.146452</td>\n",
       "      <td>-0.125980</td>\n",
       "      <td>0.101206</td>\n",
       "      <td>1.000000</td>\n",
       "      <td>-0.328025</td>\n",
       "    </tr>\n",
       "    <tr>\n",
       "      <td>target</td>\n",
       "      <td>-0.169866</td>\n",
       "      <td>-0.286042</td>\n",
       "      <td>0.519409</td>\n",
       "      <td>-0.093844</td>\n",
       "      <td>-0.092121</td>\n",
       "      <td>0.023190</td>\n",
       "      <td>0.049845</td>\n",
       "      <td>0.442393</td>\n",
       "      <td>-0.461911</td>\n",
       "      <td>-0.446915</td>\n",
       "      <td>0.404720</td>\n",
       "      <td>-0.382270</td>\n",
       "      <td>-0.328025</td>\n",
       "      <td>1.000000</td>\n",
       "    </tr>\n",
       "  </tbody>\n",
       "</table>\n",
       "</div>"
      ],
      "text/plain": [
       "               age       sex        cp  trestbps      chol       fbs  \\\n",
       "age       1.000000 -0.127669 -0.067058  0.329240  0.149362  0.077829   \n",
       "sex      -0.127669  1.000000 -0.102028 -0.034894 -0.158208  0.033452   \n",
       "cp       -0.067058 -0.102028  1.000000  0.032261 -0.036188  0.066298   \n",
       "trestbps  0.329240 -0.034894  0.032261  1.000000  0.113735  0.217968   \n",
       "chol      0.149362 -0.158208 -0.036188  0.113735  1.000000 -0.032631   \n",
       "fbs       0.077829  0.033452  0.066298  0.217968 -0.032631  1.000000   \n",
       "restecg  -0.096243 -0.070320 -0.041310 -0.156585 -0.107672 -0.124061   \n",
       "thalach  -0.426365 -0.079046  0.268476 -0.147192 -0.068575  0.032135   \n",
       "exang     0.116313  0.108604 -0.383270  0.058274  0.067806  0.057797   \n",
       "oldpeak   0.098912  0.200150 -0.128334  0.138940  0.074798 -0.062166   \n",
       "slope    -0.135869 -0.134521  0.148529 -0.200127  0.005390 -0.035464   \n",
       "ca        0.407114  0.155309 -0.280791  0.052714  0.114549  0.111864   \n",
       "thal      0.022492  0.254350 -0.137776  0.014946 -0.008928  0.008066   \n",
       "target   -0.169866 -0.286042  0.519409 -0.093844 -0.092121  0.023190   \n",
       "\n",
       "           restecg   thalach     exang   oldpeak     slope        ca  \\\n",
       "age      -0.096243 -0.426365  0.116313  0.098912 -0.135869  0.407114   \n",
       "sex      -0.070320 -0.079046  0.108604  0.200150 -0.134521  0.155309   \n",
       "cp       -0.041310  0.268476 -0.383270 -0.128334  0.148529 -0.280791   \n",
       "trestbps -0.156585 -0.147192  0.058274  0.138940 -0.200127  0.052714   \n",
       "chol     -0.107672 -0.068575  0.067806  0.074798  0.005390  0.114549   \n",
       "fbs      -0.124061  0.032135  0.057797 -0.062166 -0.035464  0.111864   \n",
       "restecg   1.000000  0.010757 -0.030730 -0.051051  0.043781 -0.077544   \n",
       "thalach   0.010757  1.000000 -0.363998 -0.340324  0.438949 -0.312735   \n",
       "exang    -0.030730 -0.363998  1.000000  0.291556 -0.328644  0.159483   \n",
       "oldpeak  -0.051051 -0.340324  0.291556  1.000000 -0.652375  0.206614   \n",
       "slope     0.043781  0.438949 -0.328644 -0.652375  1.000000 -0.115252   \n",
       "ca       -0.077544 -0.312735  0.159483  0.206614 -0.115252  1.000000   \n",
       "thal      0.041963 -0.116974  0.180658  0.146452 -0.125980  0.101206   \n",
       "target    0.049845  0.442393 -0.461911 -0.446915  0.404720 -0.382270   \n",
       "\n",
       "              thal    target  \n",
       "age       0.022492 -0.169866  \n",
       "sex       0.254350 -0.286042  \n",
       "cp       -0.137776  0.519409  \n",
       "trestbps  0.014946 -0.093844  \n",
       "chol     -0.008928 -0.092121  \n",
       "fbs       0.008066  0.023190  \n",
       "restecg   0.041963  0.049845  \n",
       "thalach  -0.116974  0.442393  \n",
       "exang     0.180658 -0.461911  \n",
       "oldpeak   0.146452 -0.446915  \n",
       "slope    -0.125980  0.404720  \n",
       "ca        0.101206 -0.382270  \n",
       "thal      1.000000 -0.328025  \n",
       "target   -0.328025  1.000000  "
      ]
     },
     "execution_count": 34,
     "metadata": {},
     "output_type": "execute_result"
    }
   ],
   "source": [
    "correlation_heart = df_heart.corr()\n",
    "correlation_heart"
   ]
  },
  {
   "cell_type": "code",
   "execution_count": 35,
   "metadata": {},
   "outputs": [
    {
     "data": {
      "text/plain": [
       "<matplotlib.axes._subplots.AxesSubplot at 0x21c97e39b48>"
      ]
     },
     "execution_count": 35,
     "metadata": {},
     "output_type": "execute_result"
    },
    {
     "data": {
      "image/png": "[encoded data removed]",
      "text/plain": [
       "<Figure size 1080x720 with 2 Axes>"
      ]
     },
     "metadata": {
      "needs_background": "light"
     },
     "output_type": "display_data"
    }
   ],
   "source": [
    "#Heat Map\n",
    "plt.figure(figsize=(15,10))\n",
    "sns.heatmap(correlation_heart,center=0,annot=True, linewidths=.5, cmap = \"Pastel1_r\")"
   ]
  },
  {
   "cell_type": "markdown",
   "metadata": {},
   "source": [
    " From the Heart data Heat map we can observe various correlation coefficients amongst the dataset features. In our case, <b> the colour Green shows a strong negative correlation </b> between the features where as the colour<b> Gray indicates a strong positive correlation. </b>                                                                                                                                "
   ]
  },
  {
   "cell_type": "markdown",
   "metadata": {},
   "source": [
    "The pairs of features <b> \"slope\" & \"thalach\", \"exang\" & \"oldpeak\", \"Thalach\" & \"cp\" </b> have a correlation coefficient of \"0.44\", \"0.29\", and \"0.27\" respectively which implies that the pair have a <b> strong correlation between them. </b>"
   ]
  },
  {
   "cell_type": "markdown",
   "metadata": {},
   "source": [
    "<b> \"chol\" & \"thalach\" and  \"fps\" and \"oldpeak\" </b>have a correlation coefficient of \"-0.069\" and \"-0.062\" which indicates that they have a <b> weak correlation between them. </b>"
   ]
  },
  {
   "cell_type": "markdown",
   "metadata": {},
   "source": [
    "# Calculating mean, variance, skew and Kurtosis for Heartdisease Dataset"
   ]
  },
  {
   "cell_type": "code",
   "execution_count": 41,
   "metadata": {},
   "outputs": [
    {
     "data": {
      "text/plain": [
       "age          54.786585\n",
       "sex           0.701220\n",
       "trestbps    131.512766\n",
       "chol        245.644342\n",
       "thalach     149.231524\n",
       "oldpeak       1.044696\n",
       "dtype: float64"
      ]
     },
     "execution_count": 41,
     "metadata": {},
     "output_type": "execute_result"
    }
   ],
   "source": [
    "df_heart_calc=df_heart.loc[:,['age','sex','trestbps','chol','thalach','oldpeak']]\n",
    "df_heart_calc.mean()"
   ]
  },
  {
   "cell_type": "code",
   "execution_count": 42,
   "metadata": {},
   "outputs": [
    {
     "data": {
      "text/plain": [
       "age           85.714911\n",
       "sex            0.210796\n",
       "trestbps     303.095922\n",
       "chol        1941.733397\n",
       "thalach      475.399483\n",
       "oldpeak        1.323038\n",
       "dtype: float64"
      ]
     },
     "execution_count": 42,
     "metadata": {},
     "output_type": "execute_result"
    }
   ],
   "source": [
    "df_heart_calc.var()"
   ]
  },
  {
   "cell_type": "code",
   "execution_count": 43,
   "metadata": {},
   "outputs": [
    {
     "data": {
      "text/plain": [
       "age        -0.152552\n",
       "sex        -0.887356\n",
       "trestbps    0.576900\n",
       "chol        0.136396\n",
       "thalach    -0.385185\n",
       "oldpeak     0.985808\n",
       "dtype: float64"
      ]
     },
     "execution_count": 43,
     "metadata": {},
     "output_type": "execute_result"
    }
   ],
   "source": [
    "df_heart_calc.skew()"
   ]
  },
  {
   "cell_type": "markdown",
   "metadata": {},
   "source": [
    "<b> \"oldpeak\" and \"trestbps\" have a positive skew (right side of mean) of 0.98 and 0.57 respectively and the\n",
    "features \"sex\" and \"thalach\" has a negative skew (left side of mean) of -0.887 and -0.385 respectively.\n",
    "As the skewness of all the features lies outside the range (-0.5,0.5), it can be said that the distribution\n",
    "of data points for Heart Disease dataset is unsymmetric. </b>"
   ]
  },
  {
   "cell_type": "code",
   "execution_count": 44,
   "metadata": {},
   "outputs": [
    {
     "data": {
      "text/plain": [
       "age        -0.451662\n",
       "sex        -1.227723\n",
       "trestbps    0.285490\n",
       "chol        0.000686\n",
       "thalach    -0.221133\n",
       "oldpeak     0.097729\n",
       "dtype: float64"
      ]
     },
     "execution_count": 44,
     "metadata": {},
     "output_type": "execute_result"
    }
   ],
   "source": [
    "df_heart_calc.kurtosis()"
   ]
  },
  {
   "cell_type": "markdown",
   "metadata": {},
   "source": [
    "<b> From Heart Disease data we can infer that kurtosis ranges between -2 to +3. As the kurtosis is less than 3, the iris dataset has lighter tails than a normal distribution (less in the tails). This means it doesn't have any outliers. </b>"
   ]
  },
  {
   "cell_type": "markdown",
   "metadata": {},
   "source": [
    "# Summary:"
   ]
  },
  {
   "cell_type": "markdown",
   "metadata": {},
   "source": [
    "## Skewness essentially measures the symmetry of the distribution, while kurtosis determines the heaviness of the distribution tails. In both the datasets there is platykurtic distribution showing a negative excess kurtosis. This kurtosis reveals a distribution with flat tails. The flat tails indicate the small outliers in a distribution. In our data context, the platykurtic distribution of the respective features returns is desirable because there is a small probability that the they would experience extreme returns. Thus, our predictions will be more accurate. "
   ]
  }
 ],
 "metadata": {
  "kernelspec": {
   "display_name": "Python 3",
   "language": "python",
   "name": "python3"
  },
  "language_info": {
   "codemirror_mode": {
    "name": "ipython",
    "version": 3
   },
   "file_extension": ".py",
   "mimetype": "text/x-python",
   "name": "python",
   "nbconvert_exporter": "python",
   "pygments_lexer": "ipython3",
   "version": "3.7.4"
  }
 },
 "nbformat": 4,
 "nbformat_minor": 4
}
