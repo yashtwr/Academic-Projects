{
 "cells": [
  {
   "cell_type": "markdown",
   "metadata": {},
   "source": [
    "# Question 1. Data Exploration\n",
    "## [CM1] Data Cleaning and Normalization"
   ]
  },
  {
   "cell_type": "markdown",
   "metadata": {},
   "source": [
    "Importing all necessary libraries."
   ]
  },
  {
   "cell_type": "code",
   "execution_count": 1,
   "metadata": {},
   "outputs": [],
   "source": [
    "import pandas as pd\n",
    "import numpy as np\n",
    "import matplotlib.pyplot as plt\n",
    "import seaborn as sns\n",
    "from sklearn.preprocessing import MinMaxScaler,StandardScaler"
   ]
  },
  {
   "cell_type": "markdown",
   "metadata": {},
   "source": [
    "# Loading  Iris Dataset"
   ]
  },
  {
   "cell_type": "code",
   "execution_count": 2,
   "metadata": {},
   "outputs": [],
   "source": [
    "df_iris = pd.read_csv(\"iris_dataset_missing.csv\")"
   ]
  },
  {
   "cell_type": "markdown",
   "metadata": {},
   "source": [
    "## Data Cleaning for Iris Data set"
   ]
  },
  {
   "cell_type": "markdown",
   "metadata": {},
   "source": [
    "#### 1. Check for duplicate values"
   ]
  },
  {
   "cell_type": "code",
   "execution_count": 3,
   "metadata": {},
   "outputs": [
    {
     "data": {
      "text/plain": [
       "0"
      ]
     },
     "execution_count": 3,
     "metadata": {},
     "output_type": "execute_result"
    }
   ],
   "source": [
    "df_iris.duplicated().sum()"
   ]
  },
  {
   "cell_type": "markdown",
   "metadata": {},
   "source": [
    "<b> There are no duplicate values in Iris Data. </b>"
   ]
  },
  {
   "cell_type": "markdown",
   "metadata": {},
   "source": [
    "#### 2. Removing negative values and replacing with NAN "
   ]
  },
  {
   "cell_type": "code",
   "execution_count": 4,
   "metadata": {},
   "outputs": [
    {
     "data": {
      "text/plain": [
       "sepal_length    0\n",
       "sepal_width     0\n",
       "petal_length    0\n",
       "petal_width     2\n",
       "dtype: int64"
      ]
     },
     "execution_count": 4,
     "metadata": {},
     "output_type": "execute_result"
    }
   ],
   "source": [
    "(df_iris.iloc[:,0:-1]<0).sum()"
   ]
  },
  {
   "cell_type": "code",
   "execution_count": 5,
   "metadata": {},
   "outputs": [
    {
     "data": {
      "text/html": [
       "<div>\n",
       "<style scoped>\n",
       "    .dataframe tbody tr th:only-of-type {\n",
       "        vertical-align: middle;\n",
       "    }\n",
       "\n",
       "    .dataframe tbody tr th {\n",
       "        vertical-align: top;\n",
       "    }\n",
       "\n",
       "    .dataframe thead th {\n",
       "        text-align: right;\n",
       "    }\n",
       "</style>\n",
       "<table border=\"1\" class=\"dataframe\">\n",
       "  <thead>\n",
       "    <tr style=\"text-align: right;\">\n",
       "      <th></th>\n",
       "      <th>sepal_length</th>\n",
       "      <th>sepal_width</th>\n",
       "      <th>petal_length</th>\n",
       "      <th>petal_width</th>\n",
       "      <th>species</th>\n",
       "    </tr>\n",
       "  </thead>\n",
       "  <tbody>\n",
       "    <tr>\n",
       "      <th>6</th>\n",
       "      <td>4.81174</td>\n",
       "      <td>3.037915</td>\n",
       "      <td>1.494268</td>\n",
       "      <td>-0.042428</td>\n",
       "      <td>Iris-setosa</td>\n",
       "    </tr>\n",
       "    <tr>\n",
       "      <th>67</th>\n",
       "      <td>4.86021</td>\n",
       "      <td>3.071128</td>\n",
       "      <td>1.487504</td>\n",
       "      <td>-0.072203</td>\n",
       "      <td>Iris-setosa</td>\n",
       "    </tr>\n",
       "  </tbody>\n",
       "</table>\n",
       "</div>"
      ],
      "text/plain": [
       "    sepal_length  sepal_width  petal_length  petal_width      species\n",
       "6        4.81174     3.037915      1.494268    -0.042428  Iris-setosa\n",
       "67       4.86021     3.071128      1.487504    -0.072203  Iris-setosa"
      ]
     },
     "execution_count": 5,
     "metadata": {},
     "output_type": "execute_result"
    }
   ],
   "source": [
    "df_iris[df_iris['petal_width']<0]  #negative values in petal_width column"
   ]
  },
  {
   "cell_type": "code",
   "execution_count": 6,
   "metadata": {},
   "outputs": [],
   "source": [
    "df_iris[df_iris.iloc[:,0:-1]<0] = np.NAN"
   ]
  },
  {
   "cell_type": "markdown",
   "metadata": {},
   "source": [
    "<b> Thus all the negative values in petal_width column are replaced with NAN so that it will be processed later for further cleaning. </b>"
   ]
  },
  {
   "cell_type": "markdown",
   "metadata": {},
   "source": [
    "#### 3. Checking Outliers\n",
    "<b> The outliers are removed first so that the mean value is more accurate which is used to replace NAN values later in next step. To find the outliers we are plotting box and wisker plot and replacing it with min and max values of that function if not dropping the values. <b/>"
   ]
  },
  {
   "cell_type": "code",
   "execution_count": 7,
   "metadata": {},
   "outputs": [
    {
     "data": {
      "text/plain": [
       "<AxesSubplot:>"
      ]
     },
     "execution_count": 7,
     "metadata": {},
     "output_type": "execute_result"
    },
    {
     "data": {
      "image/png": "[encoded data removed]",
      "text/plain": [
       "<Figure size 432x288 with 1 Axes>"
      ]
     },
     "metadata": {
      "needs_background": "light"
     },
     "output_type": "display_data"
    }
   ],
   "source": [
    "sns.boxplot(data=df_iris.iloc[:,0:-1])"
   ]
  },
  {
   "cell_type": "markdown",
   "metadata": {},
   "source": [
    "<b> Outliers = Observations > Q3 + 1.5*IQR  or  < Q1 – 1.5*IQR </b>"
   ]
  },
  {
   "cell_type": "code",
   "execution_count": 8,
   "metadata": {
    "scrolled": true
   },
   "outputs": [
    {
     "name": "stdout",
     "output_type": "stream",
     "text": [
      "right limit is: 4.072762818261982\n",
      "left limit is: 1.9862426917999976\n",
      "     sepal_length  sepal_width  petal_length  petal_width          species\n",
      "30       5.673096     4.409565           NaN     0.370518      Iris-setosa\n",
      "72       5.152435     4.144870      1.560718     0.143483      Iris-setosa\n",
      "86       5.045108     1.946010      3.581591     0.891631  Iris-versicolor\n",
      "102      5.548047     4.249211      1.453466     0.214527      Iris-setosa\n"
     ]
    }
   ],
   "source": [
    "temp = df_iris.describe() \n",
    "#We are extracting the inter quartile range from describe()\n",
    "q3 = temp['sepal_width']['75%']\n",
    "q1 = temp['sepal_width']['25%']\n",
    "IQR = q3-q1\n",
    "right_limit = q3+1.5*IQR\n",
    "left_limit = q1-1.5*IQR\n",
    "print(\"right limit is:\",right_limit)\n",
    "print(\"left limit is:\",left_limit)\n",
    "\n",
    "#printing outlier values\n",
    "upper = df_iris['sepal_width']>right_limit\n",
    "lower = df_iris['sepal_width']<left_limit\n",
    "print(df_iris[upper | lower]) #all outliers\n",
    "\n",
    "#replacing outlier values with upper limit or lower limit\n",
    "df_iris['sepal_width'] = np.where(df_iris['sepal_width']>right_limit, right_limit, df_iris['sepal_width'])\n",
    "df_iris['sepal_width'] = np.where(df_iris['sepal_width']<left_limit, left_limit, df_iris['sepal_width'])"
   ]
  },
  {
   "cell_type": "markdown",
   "metadata": {},
   "source": [
    "<b> The sepal_width column is having 4 outliers. These ouliers are replaced by the nearest upper limit or lower limit successfully. We are not dropping them as they are very close to the upper limit and lower limit. </b>"
   ]
  },
  {
   "cell_type": "markdown",
   "metadata": {},
   "source": [
    "#### 4. Data Cleaning by replacing with average mean"
   ]
  },
  {
   "cell_type": "code",
   "execution_count": 9,
   "metadata": {
    "scrolled": true
   },
   "outputs": [
    {
     "name": "stdout",
     "output_type": "stream",
     "text": [
      "-------------Iris Data--------------\n",
      "Size of Iris data set: 525\n",
      "Shape of Iris data set: (105, 5)\n",
      "Total NAN values in iris data are : 14 \n",
      "\n"
     ]
    },
    {
     "data": {
      "text/html": [
       "<div>\n",
       "<style scoped>\n",
       "    .dataframe tbody tr th:only-of-type {\n",
       "        vertical-align: middle;\n",
       "    }\n",
       "\n",
       "    .dataframe tbody tr th {\n",
       "        vertical-align: top;\n",
       "    }\n",
       "\n",
       "    .dataframe thead th {\n",
       "        text-align: right;\n",
       "    }\n",
       "</style>\n",
       "<table border=\"1\" class=\"dataframe\">\n",
       "  <thead>\n",
       "    <tr style=\"text-align: right;\">\n",
       "      <th></th>\n",
       "      <th>sepal_length</th>\n",
       "      <th>sepal_width</th>\n",
       "      <th>petal_length</th>\n",
       "      <th>petal_width</th>\n",
       "    </tr>\n",
       "  </thead>\n",
       "  <tbody>\n",
       "    <tr>\n",
       "      <th>count</th>\n",
       "      <td>105.000000</td>\n",
       "      <td>101.000000</td>\n",
       "      <td>97.000000</td>\n",
       "      <td>103.000000</td>\n",
       "    </tr>\n",
       "    <tr>\n",
       "      <th>mean</th>\n",
       "      <td>5.858909</td>\n",
       "      <td>3.053686</td>\n",
       "      <td>3.812370</td>\n",
       "      <td>1.224117</td>\n",
       "    </tr>\n",
       "    <tr>\n",
       "      <th>std</th>\n",
       "      <td>0.861638</td>\n",
       "      <td>0.439155</td>\n",
       "      <td>1.793489</td>\n",
       "      <td>0.774748</td>\n",
       "    </tr>\n",
       "    <tr>\n",
       "      <th>min</th>\n",
       "      <td>4.344007</td>\n",
       "      <td>1.986243</td>\n",
       "      <td>1.033031</td>\n",
       "      <td>0.020731</td>\n",
       "    </tr>\n",
       "    <tr>\n",
       "      <th>25%</th>\n",
       "      <td>5.159145</td>\n",
       "      <td>2.768688</td>\n",
       "      <td>1.545136</td>\n",
       "      <td>0.341349</td>\n",
       "    </tr>\n",
       "    <tr>\n",
       "      <th>50%</th>\n",
       "      <td>5.736104</td>\n",
       "      <td>3.049459</td>\n",
       "      <td>4.276817</td>\n",
       "      <td>1.349398</td>\n",
       "    </tr>\n",
       "    <tr>\n",
       "      <th>75%</th>\n",
       "      <td>6.435413</td>\n",
       "      <td>3.290318</td>\n",
       "      <td>5.094427</td>\n",
       "      <td>1.827568</td>\n",
       "    </tr>\n",
       "    <tr>\n",
       "      <th>max</th>\n",
       "      <td>7.795561</td>\n",
       "      <td>4.072763</td>\n",
       "      <td>6.768611</td>\n",
       "      <td>2.603123</td>\n",
       "    </tr>\n",
       "  </tbody>\n",
       "</table>\n",
       "</div>"
      ],
      "text/plain": [
       "       sepal_length  sepal_width  petal_length  petal_width\n",
       "count    105.000000   101.000000     97.000000   103.000000\n",
       "mean       5.858909     3.053686      3.812370     1.224117\n",
       "std        0.861638     0.439155      1.793489     0.774748\n",
       "min        4.344007     1.986243      1.033031     0.020731\n",
       "25%        5.159145     2.768688      1.545136     0.341349\n",
       "50%        5.736104     3.049459      4.276817     1.349398\n",
       "75%        6.435413     3.290318      5.094427     1.827568\n",
       "max        7.795561     4.072763      6.768611     2.603123"
      ]
     },
     "execution_count": 9,
     "metadata": {},
     "output_type": "execute_result"
    }
   ],
   "source": [
    "print(\"-------------Iris Data--------------\")\n",
    "print(\"Size of Iris data set:\", df_iris.size)\n",
    "print(\"Shape of Iris data set:\",df_iris.shape)\n",
    "print(\"Total NAN values in iris data are :\",df_iris.isna().sum().sum(),\"\\n\")\n",
    "df_iris.describe()\n"
   ]
  },
  {
   "cell_type": "code",
   "execution_count": 10,
   "metadata": {},
   "outputs": [
    {
     "data": {
      "text/html": [
       "<div>\n",
       "<style scoped>\n",
       "    .dataframe tbody tr th:only-of-type {\n",
       "        vertical-align: middle;\n",
       "    }\n",
       "\n",
       "    .dataframe tbody tr th {\n",
       "        vertical-align: top;\n",
       "    }\n",
       "\n",
       "    .dataframe thead th {\n",
       "        text-align: right;\n",
       "    }\n",
       "</style>\n",
       "<table border=\"1\" class=\"dataframe\">\n",
       "  <thead>\n",
       "    <tr style=\"text-align: right;\">\n",
       "      <th></th>\n",
       "      <th>sepal_length</th>\n",
       "      <th>sepal_width</th>\n",
       "      <th>petal_length</th>\n",
       "      <th>petal_width</th>\n",
       "    </tr>\n",
       "    <tr>\n",
       "      <th>species</th>\n",
       "      <th></th>\n",
       "      <th></th>\n",
       "      <th></th>\n",
       "      <th></th>\n",
       "    </tr>\n",
       "  </thead>\n",
       "  <tbody>\n",
       "    <tr>\n",
       "      <th>Iris-setosa</th>\n",
       "      <td>4.987384</td>\n",
       "      <td>3.366333</td>\n",
       "      <td>1.484517</td>\n",
       "      <td>0.246640</td>\n",
       "    </tr>\n",
       "    <tr>\n",
       "      <th>Iris-versicolor</th>\n",
       "      <td>5.948732</td>\n",
       "      <td>2.760597</td>\n",
       "      <td>4.283101</td>\n",
       "      <td>1.308528</td>\n",
       "    </tr>\n",
       "    <tr>\n",
       "      <th>Iris-virginica</th>\n",
       "      <td>6.640611</td>\n",
       "      <td>3.025507</td>\n",
       "      <td>5.654781</td>\n",
       "      <td>2.061326</td>\n",
       "    </tr>\n",
       "  </tbody>\n",
       "</table>\n",
       "</div>"
      ],
      "text/plain": [
       "                 sepal_length  sepal_width  petal_length  petal_width\n",
       "species                                                              \n",
       "Iris-setosa          4.987384     3.366333      1.484517     0.246640\n",
       "Iris-versicolor      5.948732     2.760597      4.283101     1.308528\n",
       "Iris-virginica       6.640611     3.025507      5.654781     2.061326"
      ]
     },
     "execution_count": 10,
     "metadata": {},
     "output_type": "execute_result"
    }
   ],
   "source": [
    "#using groupby to find categorical mean values\n",
    "df_iris.groupby(\"species\").mean()          "
   ]
  },
  {
   "cell_type": "code",
   "execution_count": 11,
   "metadata": {},
   "outputs": [],
   "source": [
    "#replacing na values with mean\n",
    "df_iris['sepal_width'] = df_iris.groupby('species')['sepal_width'].apply(lambda x:x.fillna(x.mean()))\n",
    "df_iris['petal_length'] = df_iris.groupby('species')['petal_length'].apply(lambda x:x.fillna(x.mean()))\n",
    "df_iris['petal_width'] = df_iris.groupby('species')['petal_width'].apply(lambda x:x.fillna(x.mean()))"
   ]
  },
  {
   "cell_type": "markdown",
   "metadata": {},
   "source": [
    "<b> We replaced the na values with the mean of respective colums so that we can replace na values with the approximate values without the loss of data. </b>"
   ]
  },
  {
   "cell_type": "code",
   "execution_count": 12,
   "metadata": {
    "scrolled": true
   },
   "outputs": [
    {
     "name": "stdout",
     "output_type": "stream",
     "text": [
      "sepal_length    0\n",
      "sepal_width     0\n",
      "petal_length    0\n",
      "petal_width     0\n",
      "species         0\n",
      "dtype: int64\n"
     ]
    }
   ],
   "source": [
    "print(df_iris.isna().sum())\n",
    "df_iris.to_csv(\"cleaned_data_iris.csv\",index=False) #clean iris data saved to new csv file"
   ]
  },
  {
   "cell_type": "markdown",
   "metadata": {},
   "source": [
    "# Normalization for Iris Data"
   ]
  },
  {
   "cell_type": "markdown",
   "metadata": {},
   "source": [
    "## 1. Min-Max Normalization"
   ]
  },
  {
   "cell_type": "code",
   "execution_count": 13,
   "metadata": {},
   "outputs": [
    {
     "data": {
      "text/html": [
       "<div>\n",
       "<style scoped>\n",
       "    .dataframe tbody tr th:only-of-type {\n",
       "        vertical-align: middle;\n",
       "    }\n",
       "\n",
       "    .dataframe tbody tr th {\n",
       "        vertical-align: top;\n",
       "    }\n",
       "\n",
       "    .dataframe thead th {\n",
       "        text-align: right;\n",
       "    }\n",
       "</style>\n",
       "<table border=\"1\" class=\"dataframe\">\n",
       "  <thead>\n",
       "    <tr style=\"text-align: right;\">\n",
       "      <th></th>\n",
       "      <th>sepal_length</th>\n",
       "      <th>sepal_width</th>\n",
       "      <th>petal_length</th>\n",
       "      <th>petal_width</th>\n",
       "    </tr>\n",
       "  </thead>\n",
       "  <tbody>\n",
       "    <tr>\n",
       "      <th>0</th>\n",
       "      <td>0.203115</td>\n",
       "      <td>0.250158</td>\n",
       "      <td>0.346084</td>\n",
       "      <td>0.443075</td>\n",
       "    </tr>\n",
       "    <tr>\n",
       "      <th>1</th>\n",
       "      <td>0.574092</td>\n",
       "      <td>0.061940</td>\n",
       "      <td>0.611799</td>\n",
       "      <td>0.539391</td>\n",
       "    </tr>\n",
       "    <tr>\n",
       "      <th>2</th>\n",
       "      <td>0.264660</td>\n",
       "      <td>0.876129</td>\n",
       "      <td>0.076301</td>\n",
       "      <td>0.145066</td>\n",
       "    </tr>\n",
       "    <tr>\n",
       "      <th>3</th>\n",
       "      <td>0.675395</td>\n",
       "      <td>0.582529</td>\n",
       "      <td>0.828588</td>\n",
       "      <td>0.906924</td>\n",
       "    </tr>\n",
       "    <tr>\n",
       "      <th>4</th>\n",
       "      <td>0.362512</td>\n",
       "      <td>0.331616</td>\n",
       "      <td>0.530848</td>\n",
       "      <td>0.522204</td>\n",
       "    </tr>\n",
       "  </tbody>\n",
       "</table>\n",
       "</div>"
      ],
      "text/plain": [
       "   sepal_length  sepal_width  petal_length  petal_width\n",
       "0      0.203115     0.250158      0.346084     0.443075\n",
       "1      0.574092     0.061940      0.611799     0.539391\n",
       "2      0.264660     0.876129      0.076301     0.145066\n",
       "3      0.675395     0.582529      0.828588     0.906924\n",
       "4      0.362512     0.331616      0.530848     0.522204"
      ]
     },
     "execution_count": 13,
     "metadata": {},
     "output_type": "execute_result"
    }
   ],
   "source": [
    "Scaler = MinMaxScaler()\n",
    "temp = df_iris.drop([\"species\"],axis=1)\n",
    "MinMax_iris = Scaler.fit_transform(temp)\n",
    "MinMax_df_iris = pd.DataFrame(MinMax_iris,columns=temp.columns)\n",
    "MinMax_df_iris.head()"
   ]
  },
  {
   "cell_type": "markdown",
   "metadata": {},
   "source": [
    "## 2. Z-Score Normalization"
   ]
  },
  {
   "cell_type": "code",
   "execution_count": 14,
   "metadata": {},
   "outputs": [
    {
     "data": {
      "text/html": [
       "<div>\n",
       "<style scoped>\n",
       "    .dataframe tbody tr th:only-of-type {\n",
       "        vertical-align: middle;\n",
       "    }\n",
       "\n",
       "    .dataframe tbody tr th {\n",
       "        vertical-align: top;\n",
       "    }\n",
       "\n",
       "    .dataframe thead th {\n",
       "        text-align: right;\n",
       "    }\n",
       "</style>\n",
       "<table border=\"1\" class=\"dataframe\">\n",
       "  <thead>\n",
       "    <tr style=\"text-align: right;\">\n",
       "      <th></th>\n",
       "      <th>sepal_length</th>\n",
       "      <th>sepal_width</th>\n",
       "      <th>petal_length</th>\n",
       "      <th>petal_width</th>\n",
       "    </tr>\n",
       "  </thead>\n",
       "  <tbody>\n",
       "    <tr>\n",
       "      <th>0</th>\n",
       "      <td>-0.944525</td>\n",
       "      <td>-1.251332</td>\n",
       "      <td>-0.439418</td>\n",
       "      <td>-0.052090</td>\n",
       "    </tr>\n",
       "    <tr>\n",
       "      <th>1</th>\n",
       "      <td>0.541536</td>\n",
       "      <td>-2.157005</td>\n",
       "      <td>0.408884</td>\n",
       "      <td>0.267233</td>\n",
       "    </tr>\n",
       "    <tr>\n",
       "      <th>2</th>\n",
       "      <td>-0.697987</td>\n",
       "      <td>1.760718</td>\n",
       "      <td>-1.300709</td>\n",
       "      <td>-1.040094</td>\n",
       "    </tr>\n",
       "    <tr>\n",
       "      <th>3</th>\n",
       "      <td>0.947335</td>\n",
       "      <td>0.347969</td>\n",
       "      <td>1.100988</td>\n",
       "      <td>1.485733</td>\n",
       "    </tr>\n",
       "    <tr>\n",
       "      <th>4</th>\n",
       "      <td>-0.306013</td>\n",
       "      <td>-0.859374</td>\n",
       "      <td>0.150445</td>\n",
       "      <td>0.210250</td>\n",
       "    </tr>\n",
       "  </tbody>\n",
       "</table>\n",
       "</div>"
      ],
      "text/plain": [
       "   sepal_length  sepal_width  petal_length  petal_width\n",
       "0     -0.944525    -1.251332     -0.439418    -0.052090\n",
       "1      0.541536    -2.157005      0.408884     0.267233\n",
       "2     -0.697987     1.760718     -1.300709    -1.040094\n",
       "3      0.947335     0.347969      1.100988     1.485733\n",
       "4     -0.306013    -0.859374      0.150445     0.210250"
      ]
     },
     "execution_count": 14,
     "metadata": {},
     "output_type": "execute_result"
    }
   ],
   "source": [
    "#referred z_score formula from lecture notes\n",
    "z_score_iris = (temp-temp.mean())/temp.std()\n",
    "z_score_iris.head()"
   ]
  },
  {
   "cell_type": "code",
   "execution_count": 15,
   "metadata": {},
   "outputs": [
    {
     "data": {
      "text/plain": [
       "[Text(0.5, 1.0, 'Z_score Normalized Data')]"
      ]
     },
     "execution_count": 15,
     "metadata": {},
     "output_type": "execute_result"
    },
    {
     "data": {
      "image/png": "[encoded data removed]",
      "text/plain": [
       "<Figure size 1080x720 with 3 Axes>"
      ]
     },
     "metadata": {
      "needs_background": "light"
     },
     "output_type": "display_data"
    }
   ],
   "source": [
    "#Visualizing\n",
    "plt.figure(figsize=(15,10))\n",
    "plt.subplot(1,3,1)\n",
    "sns.histplot(df_iris['sepal_width']).set(title='Un-normalized Data')\n",
    "plt.subplot(1,3,2)\n",
    "sns.histplot(MinMax_df_iris['sepal_width']).set(title='MinMax Normalized Data')\n",
    "plt.subplot(1,3,3)\n",
    "sns.histplot(z_score_iris['sepal_width']).set(title='Z_score Normalized Data')"
   ]
  },
  {
   "cell_type": "markdown",
   "metadata": {},
   "source": [
    "Note: comparison of un-normalized vs normalized is given in the end of the document"
   ]
  },
  {
   "cell_type": "code",
   "execution_count": 16,
   "metadata": {},
   "outputs": [
    {
     "name": "stdout",
     "output_type": "stream",
     "text": [
      "<class 'pandas.core.frame.DataFrame'>\n",
      "RangeIndex: 105 entries, 0 to 104\n",
      "Data columns (total 5 columns):\n",
      " #   Column        Non-Null Count  Dtype  \n",
      "---  ------        --------------  -----  \n",
      " 0   sepal_length  105 non-null    float64\n",
      " 1   sepal_width   105 non-null    float64\n",
      " 2   petal_length  105 non-null    float64\n",
      " 3   petal_width   105 non-null    float64\n",
      " 4   species       105 non-null    object \n",
      "dtypes: float64(4), object(1)\n",
      "memory usage: 4.2+ KB\n"
     ]
    }
   ],
   "source": [
    "df_iris.info()"
   ]
  },
  {
   "cell_type": "markdown",
   "metadata": {},
   "source": [
    "# Loading Heart Dataset\n"
   ]
  },
  {
   "cell_type": "code",
   "execution_count": 17,
   "metadata": {},
   "outputs": [
    {
     "data": {
      "text/html": [
       "<div>\n",
       "<style scoped>\n",
       "    .dataframe tbody tr th:only-of-type {\n",
       "        vertical-align: middle;\n",
       "    }\n",
       "\n",
       "    .dataframe tbody tr th {\n",
       "        vertical-align: top;\n",
       "    }\n",
       "\n",
       "    .dataframe thead th {\n",
       "        text-align: right;\n",
       "    }\n",
       "</style>\n",
       "<table border=\"1\" class=\"dataframe\">\n",
       "  <thead>\n",
       "    <tr style=\"text-align: right;\">\n",
       "      <th></th>\n",
       "      <th>age</th>\n",
       "      <th>sex</th>\n",
       "      <th>cp</th>\n",
       "      <th>trestbps</th>\n",
       "      <th>chol</th>\n",
       "      <th>fbs</th>\n",
       "      <th>restecg</th>\n",
       "      <th>thalach</th>\n",
       "      <th>exang</th>\n",
       "      <th>oldpeak</th>\n",
       "      <th>slope</th>\n",
       "      <th>ca</th>\n",
       "      <th>thal</th>\n",
       "      <th>target</th>\n",
       "    </tr>\n",
       "  </thead>\n",
       "  <tbody>\n",
       "    <tr>\n",
       "      <th>0</th>\n",
       "      <td>76</td>\n",
       "      <td>0</td>\n",
       "      <td>2</td>\n",
       "      <td>140.102822</td>\n",
       "      <td>197.105970</td>\n",
       "      <td>0</td>\n",
       "      <td>2.0</td>\n",
       "      <td>115.952071</td>\n",
       "      <td>0</td>\n",
       "      <td>1.284822</td>\n",
       "      <td>1.0</td>\n",
       "      <td>0</td>\n",
       "      <td>2.175904</td>\n",
       "      <td>1</td>\n",
       "    </tr>\n",
       "    <tr>\n",
       "      <th>1</th>\n",
       "      <td>43</td>\n",
       "      <td>0</td>\n",
       "      <td>0</td>\n",
       "      <td>132.079599</td>\n",
       "      <td>341.049462</td>\n",
       "      <td>1</td>\n",
       "      <td>0.0</td>\n",
       "      <td>135.970028</td>\n",
       "      <td>1</td>\n",
       "      <td>3.110483</td>\n",
       "      <td>1.0</td>\n",
       "      <td>0</td>\n",
       "      <td>3.082071</td>\n",
       "      <td>0</td>\n",
       "    </tr>\n",
       "    <tr>\n",
       "      <th>2</th>\n",
       "      <td>47</td>\n",
       "      <td>1</td>\n",
       "      <td>2</td>\n",
       "      <td>107.899290</td>\n",
       "      <td>242.822816</td>\n",
       "      <td>0</td>\n",
       "      <td>1.0</td>\n",
       "      <td>152.210039</td>\n",
       "      <td>0</td>\n",
       "      <td>-0.023723</td>\n",
       "      <td>2.0</td>\n",
       "      <td>0</td>\n",
       "      <td>2.020827</td>\n",
       "      <td>0</td>\n",
       "    </tr>\n",
       "    <tr>\n",
       "      <th>3</th>\n",
       "      <td>51</td>\n",
       "      <td>1</td>\n",
       "      <td>2</td>\n",
       "      <td>99.934001</td>\n",
       "      <td>NaN</td>\n",
       "      <td>0</td>\n",
       "      <td>1.0</td>\n",
       "      <td>143.049207</td>\n",
       "      <td>1</td>\n",
       "      <td>1.195082</td>\n",
       "      <td>1.0</td>\n",
       "      <td>0</td>\n",
       "      <td>2.100312</td>\n",
       "      <td>1</td>\n",
       "    </tr>\n",
       "    <tr>\n",
       "      <th>4</th>\n",
       "      <td>57</td>\n",
       "      <td>1</td>\n",
       "      <td>0</td>\n",
       "      <td>110.103508</td>\n",
       "      <td>334.952353</td>\n",
       "      <td>0</td>\n",
       "      <td>1.0</td>\n",
       "      <td>143.099327</td>\n",
       "      <td>1</td>\n",
       "      <td>3.082052</td>\n",
       "      <td>1.0</td>\n",
       "      <td>1</td>\n",
       "      <td>2.831509</td>\n",
       "      <td>0</td>\n",
       "    </tr>\n",
       "  </tbody>\n",
       "</table>\n",
       "</div>"
      ],
      "text/plain": [
       "   age  sex  cp    trestbps        chol  fbs  restecg     thalach  exang  \\\n",
       "0   76    0   2  140.102822  197.105970    0      2.0  115.952071      0   \n",
       "1   43    0   0  132.079599  341.049462    1      0.0  135.970028      1   \n",
       "2   47    1   2  107.899290  242.822816    0      1.0  152.210039      0   \n",
       "3   51    1   2   99.934001         NaN    0      1.0  143.049207      1   \n",
       "4   57    1   0  110.103508  334.952353    0      1.0  143.099327      1   \n",
       "\n",
       "    oldpeak  slope  ca      thal  target  \n",
       "0  1.284822    1.0   0  2.175904       1  \n",
       "1  3.110483    1.0   0  3.082071       0  \n",
       "2 -0.023723    2.0   0  2.020827       0  \n",
       "3  1.195082    1.0   0  2.100312       1  \n",
       "4  3.082052    1.0   1  2.831509       0  "
      ]
     },
     "execution_count": 17,
     "metadata": {},
     "output_type": "execute_result"
    }
   ],
   "source": [
    "df = pd.read_csv('heart_disease_missing.csv')\n",
    "df.head()"
   ]
  },
  {
   "cell_type": "code",
   "execution_count": 18,
   "metadata": {},
   "outputs": [
    {
     "name": "stdout",
     "output_type": "stream",
     "text": [
      "<class 'pandas.core.frame.DataFrame'>\n",
      "RangeIndex: 212 entries, 0 to 211\n",
      "Data columns (total 14 columns):\n",
      " #   Column    Non-Null Count  Dtype  \n",
      "---  ------    --------------  -----  \n",
      " 0   age       212 non-null    int64  \n",
      " 1   sex       212 non-null    int64  \n",
      " 2   cp        212 non-null    int64  \n",
      " 3   trestbps  205 non-null    float64\n",
      " 4   chol      202 non-null    float64\n",
      " 5   fbs       212 non-null    int64  \n",
      " 6   restecg   207 non-null    float64\n",
      " 7   thalach   208 non-null    float64\n",
      " 8   exang     212 non-null    int64  \n",
      " 9   oldpeak   200 non-null    float64\n",
      " 10  slope     210 non-null    float64\n",
      " 11  ca        212 non-null    int64  \n",
      " 12  thal      211 non-null    float64\n",
      " 13  target    212 non-null    int64  \n",
      "dtypes: float64(7), int64(7)\n",
      "memory usage: 23.3 KB\n"
     ]
    }
   ],
   "source": [
    "df.info()"
   ]
  },
  {
   "cell_type": "markdown",
   "metadata": {},
   "source": [
    "### Data Cleaning"
   ]
  },
  {
   "cell_type": "markdown",
   "metadata": {},
   "source": [
    "#### 1. Check for duplicate values"
   ]
  },
  {
   "cell_type": "code",
   "execution_count": 19,
   "metadata": {},
   "outputs": [
    {
     "data": {
      "text/plain": [
       "0"
      ]
     },
     "execution_count": 19,
     "metadata": {},
     "output_type": "execute_result"
    }
   ],
   "source": [
    "df.duplicated().sum()"
   ]
  },
  {
   "cell_type": "markdown",
   "metadata": {},
   "source": [
    "<b> It seems very unlikely that two patients would have exactly the same values for all of these measures which suggests that this is a duplicate. In our case we don't have any duplicate value otherwise we would have dropped it. </b>"
   ]
  },
  {
   "cell_type": "markdown",
   "metadata": {},
   "source": [
    "#### 2. Check for negative values"
   ]
  },
  {
   "cell_type": "code",
   "execution_count": 20,
   "metadata": {},
   "outputs": [
    {
     "data": {
      "text/plain": [
       "age          0\n",
       "sex          0\n",
       "cp           0\n",
       "trestbps     0\n",
       "chol         0\n",
       "fbs          0\n",
       "restecg      0\n",
       "thalach      0\n",
       "exang        0\n",
       "oldpeak     38\n",
       "slope        0\n",
       "ca           0\n",
       "thal         0\n",
       "target       0\n",
       "dtype: int64"
      ]
     },
     "execution_count": 20,
     "metadata": {},
     "output_type": "execute_result"
    }
   ],
   "source": [
    "df[df<0].count()"
   ]
  },
  {
   "cell_type": "code",
   "execution_count": 21,
   "metadata": {},
   "outputs": [
    {
     "data": {
      "text/plain": [
       "2    -0.023723\n",
       "5    -0.080278\n",
       "18   -0.072567\n",
       "21   -0.020171\n",
       "25   -0.066296\n",
       "27   -0.055898\n",
       "39   -0.065718\n",
       "40   -0.002749\n",
       "41   -0.032577\n",
       "51   -0.038007\n",
       "Name: oldpeak, dtype: float64"
      ]
     },
     "execution_count": 21,
     "metadata": {},
     "output_type": "execute_result"
    }
   ],
   "source": [
    "df[\"oldpeak\"][df[\"oldpeak\"]<0].head(10)"
   ]
  },
  {
   "cell_type": "markdown",
   "metadata": {},
   "source": [
    "ST depression or EST: Exercise Stress Test                                          \n",
    "The results of an EST are usually reported as either negative, positive or inconclusive.                                       \n",
    "<b>Negative</b>:A negative test result indicates a normal test which significantly decreases the likelihood of coronary artery disease.                                                                                                                       \n",
    "<b> Therefore, negative values of oldpeak are required in our dataset and we will leave them as it is. </b>"
   ]
  },
  {
   "cell_type": "markdown",
   "metadata": {},
   "source": [
    "#### 3. Checking outliers"
   ]
  },
  {
   "cell_type": "code",
   "execution_count": 22,
   "metadata": {},
   "outputs": [
    {
     "data": {
      "text/plain": [
       "<AxesSubplot:>"
      ]
     },
     "execution_count": 22,
     "metadata": {},
     "output_type": "execute_result"
    },
    {
     "data": {
      "image/png": "[encoded data removed]",
      "text/plain": [
       "<Figure size 1080x720 with 1 Axes>"
      ]
     },
     "metadata": {
      "needs_background": "light"
     },
     "output_type": "display_data"
    }
   ],
   "source": [
    "plt.figure(figsize=(15,10))\n",
    "sns.boxplot(data=df)"
   ]
  },
  {
   "cell_type": "markdown",
   "metadata": {},
   "source": [
    "###### a. Removing outliers from \"trestbps\" column"
   ]
  },
  {
   "cell_type": "code",
   "execution_count": 23,
   "metadata": {},
   "outputs": [
    {
     "data": {
      "text/plain": [
       "<AxesSubplot:>"
      ]
     },
     "execution_count": 23,
     "metadata": {},
     "output_type": "execute_result"
    },
    {
     "data": {
      "image/png": "[encoded data removed]",
      "text/plain": [
       "<Figure size 432x288 with 1 Axes>"
      ]
     },
     "metadata": {
      "needs_background": "light"
     },
     "output_type": "display_data"
    }
   ],
   "source": [
    "sns.boxplot(data=df[\"trestbps\"])"
   ]
  },
  {
   "cell_type": "code",
   "execution_count": 24,
   "metadata": {},
   "outputs": [
    {
     "name": "stdout",
     "output_type": "stream",
     "text": [
      "q1: 119.96811391040684\n",
      "q3: 139.96546982973814\n",
      "IQR: 19.997355919331298\n",
      "right_limit: 179.96018166840074\n",
      "left_limit: 79.97340207174425\n",
      "     age  sex  cp    trestbps        chol  fbs  restecg     thalach  exang  \\\n",
      "87    55    0   0  179.976042  327.104626    0      2.0  116.888054      1   \n",
      "100   54    1   1  192.020200  283.024208    0      0.0  195.118927      0   \n",
      "198   64    0   0  180.118809  324.953093    0      1.0  153.862187      1   \n",
      "\n",
      "      oldpeak  slope  ca      thal  target  \n",
      "87   3.387354    1.0   0  1.863855       0  \n",
      "100 -0.113872    2.0   1  2.829133       0  \n",
      "198  0.001762    2.0   0  1.888972       1  \n",
      "mean: 131.7846100720452\n"
     ]
    }
   ],
   "source": [
    "t = df.describe()\n",
    "#We are extracting the inter quartile range from describe()\n",
    "q3=t['trestbps']['75%']\n",
    "q1=t['trestbps']['25%']\n",
    "print(\"q1:\",q1)\n",
    "print(\"q3:\",q3)\n",
    "IQR=q3-q1\n",
    "print(\"IQR:\",IQR)\n",
    "right_limit=q3+2*IQR\n",
    "left_limit=q1-2*IQR\n",
    "print(\"right_limit:\",right_limit)\n",
    "print(\"left_limit:\",left_limit)\n",
    "\n",
    "#to print outliers\n",
    "upper = df['trestbps']>right_limit\n",
    "lower = df['trestbps']<left_limit\n",
    "print(df[upper | lower]) #all outliers\n",
    "print(\"mean:\",df['trestbps'].mean())    \n",
    "\n",
    "#finding the index of outliers and dropping them\n",
    "index = df[upper|lower].index\n",
    "df.drop(index, inplace=True)"
   ]
  },
  {
   "cell_type": "markdown",
   "metadata": {},
   "source": [
    "<b> Trestbps is the resting blood pressure of the patient therefore we cannot replace an outlier in such sensitive data. Therefore, we dropped the outlier values.</b>"
   ]
  },
  {
   "cell_type": "markdown",
   "metadata": {},
   "source": [
    "###### b. Removing outliers from \"thalach\" column"
   ]
  },
  {
   "cell_type": "code",
   "execution_count": 25,
   "metadata": {},
   "outputs": [
    {
     "data": {
      "text/plain": [
       "<AxesSubplot:>"
      ]
     },
     "execution_count": 25,
     "metadata": {},
     "output_type": "execute_result"
    },
    {
     "data": {
      "image/png": "[encoded data removed]",
      "text/plain": [
       "<Figure size 432x288 with 1 Axes>"
      ]
     },
     "metadata": {
      "needs_background": "light"
     },
     "output_type": "display_data"
    }
   ],
   "source": [
    "sns.boxplot(data=df[\"thalach\"])"
   ]
  },
  {
   "cell_type": "code",
   "execution_count": 26,
   "metadata": {},
   "outputs": [
    {
     "name": "stdout",
     "output_type": "stream",
     "text": [
      "q1: 135.9468084271066\n",
      "q3: 165.2600920591503\n",
      "IQR: 29.31328363204372\n",
      "right_limit: 209.2300175072159\n",
      "left_limit: 91.97688297904101\n",
      "    age  sex  cp    trestbps        chol  fbs  restecg    thalach  exang  \\\n",
      "35   57    1   0  152.010765  274.011716    0      1.0  88.032613      1   \n",
      "\n",
      "     oldpeak  slope  ca      thal  target  \n",
      "35  1.211774    1.0   1  2.944476       0  \n",
      "mean: 149.56541601015942\n"
     ]
    }
   ],
   "source": [
    "q3=t['thalach']['75%']\n",
    "q1=t['thalach']['25%']\n",
    "print(\"q1:\",q1)\n",
    "print(\"q3:\",q3)\n",
    "IQR=q3-q1\n",
    "print(\"IQR:\",IQR)\n",
    "right_limit=q3+1.5*IQR\n",
    "left_limit=q1-1.5*IQR\n",
    "print(\"right_limit:\",right_limit)\n",
    "print(\"left_limit:\",left_limit)\n",
    "\n",
    "upper = df['thalach']>right_limit\n",
    "lower = df['thalach']<left_limit\n",
    "print(df[upper | lower]) #all outliers\n",
    "print(\"mean:\",df['thalach'].mean())    \n",
    "\n",
    "df['thalach']=np.where(df['thalach']>right_limit, right_limit, df['thalach']) #When True, yield x, otherwise yield y()\n",
    "df['thalach']=np.where(df['thalach']<left_limit, left_limit, df['thalach'])\n",
    "\n",
    "\n",
    "#outlier values of thalach are very near to the lower_limit so instead of dropping, We have set them to near boundary values."
   ]
  },
  {
   "cell_type": "markdown",
   "metadata": {},
   "source": [
    "<b> The outlier value for thalach is not dropped because its very near to the lower limit. Thalach represents Maximum heart rate achieved during thalium stress test and so slightly improving it won't harm the data. </b>"
   ]
  },
  {
   "cell_type": "markdown",
   "metadata": {},
   "source": [
    "##### c. Removing outliers from \"oldpeak\" column"
   ]
  },
  {
   "cell_type": "code",
   "execution_count": 27,
   "metadata": {},
   "outputs": [
    {
     "data": {
      "text/plain": [
       "<AxesSubplot:>"
      ]
     },
     "execution_count": 27,
     "metadata": {},
     "output_type": "execute_result"
    },
    {
     "data": {
      "image/png": "[encoded data removed]",
      "text/plain": [
       "<Figure size 432x288 with 1 Axes>"
      ]
     },
     "metadata": {
      "needs_background": "light"
     },
     "output_type": "display_data"
    }
   ],
   "source": [
    "sns.boxplot(data=df[\"oldpeak\"])"
   ]
  },
  {
   "cell_type": "code",
   "execution_count": 28,
   "metadata": {},
   "outputs": [
    {
     "name": "stdout",
     "output_type": "stream",
     "text": [
      "q1: 0.0507784478366375\n",
      "q3: 1.8167327667586506\n",
      "IQR: 1.765954318922013\n",
      "right_limit: 4.46566424514167\n",
      "left_limit: -2.5981530305463822\n",
      "Outlier Values: 130    5.706782\n",
      "171    6.157114\n",
      "Name: oldpeak, dtype: float64\n",
      "mean: 1.1134310577823512\n"
     ]
    }
   ],
   "source": [
    "q3=t['oldpeak']['75%']\n",
    "q1=t['oldpeak']['25%']\n",
    "print(\"q1:\",q1)\n",
    "print(\"q3:\",q3)\n",
    "IQR=q3-q1\n",
    "print(\"IQR:\",IQR)\n",
    "right_limit=q3+1.5*IQR\n",
    "left_limit=q1-1.5*IQR\n",
    "print(\"right_limit:\",right_limit)\n",
    "print(\"left_limit:\",left_limit)\n",
    "\n",
    "upper = df['oldpeak']>right_limit\n",
    "lower = df['oldpeak']<left_limit\n",
    "print(\"Outlier Values:\",df['oldpeak'][upper | lower]) #all outliers\n",
    "print(\"mean:\",df['oldpeak'].mean())    \n",
    "\n",
    "#clear outliers, will drop them\n",
    "index = df[upper|lower].index\n",
    "df.drop(index, inplace=True)"
   ]
  },
  {
   "cell_type": "markdown",
   "metadata": {},
   "source": [
    "<b> The 2 outlier values for oldpeak are dropped because they are way too far from upper limit and can be considered clear outliers. </b>"
   ]
  },
  {
   "cell_type": "markdown",
   "metadata": {},
   "source": [
    "##### d. Removing outliers from \"chol\" column\n"
   ]
  },
  {
   "cell_type": "code",
   "execution_count": 29,
   "metadata": {},
   "outputs": [
    {
     "data": {
      "text/plain": [
       "<AxesSubplot:>"
      ]
     },
     "execution_count": 29,
     "metadata": {},
     "output_type": "execute_result"
    },
    {
     "data": {
      "image/png": "[encoded data removed]",
      "text/plain": [
       "<Figure size 432x288 with 1 Axes>"
      ]
     },
     "metadata": {
      "needs_background": "light"
     },
     "output_type": "display_data"
    }
   ],
   "source": [
    "sns.boxplot(data=df[\"chol\"])"
   ]
  },
  {
   "cell_type": "code",
   "execution_count": 30,
   "metadata": {},
   "outputs": [
    {
     "name": "stdout",
     "output_type": "stream",
     "text": [
      "q1: 211.96959445998073\n",
      "q3: 272.48422198835755\n",
      "IQR: 60.51462752837682\n",
      "right_limit: 363.2561632809228\n",
      "left_limit: 121.1976531674155\n",
      "     age  sex  cp    trestbps        chol  fbs  restecg     thalach  exang  \\\n",
      "186   63    0   0  149.930435  406.932689    0      0.0  153.883907      0   \n",
      "\n",
      "      oldpeak  slope  ca      thal  target  \n",
      "186  3.988717    1.0   3  3.246921       0  \n",
      "mean: 243.6473447603769\n"
     ]
    }
   ],
   "source": [
    "q3=t['chol']['75%']\n",
    "q1=t['chol']['25%']\n",
    "print(\"q1:\",q1)\n",
    "print(\"q3:\",q3)\n",
    "IQR=q3-q1\n",
    "print(\"IQR:\",IQR)\n",
    "right_limit=q3+1.5*IQR\n",
    "left_limit=q1-1.5*IQR\n",
    "print(\"right_limit:\",right_limit)\n",
    "print(\"left_limit:\",left_limit)\n",
    "\n",
    "upper = df['chol']>right_limit\n",
    "lower = df['chol']<left_limit\n",
    "print(df[upper | lower]) #all outliers\n",
    "print(\"mean:\",df['chol'].mean())    \n",
    "\n",
    "#Dropping outliers\n",
    "index = df[upper|lower].index\n",
    "df.drop(index, inplace=True)"
   ]
  },
  {
   "cell_type": "markdown",
   "metadata": {},
   "source": [
    "<b> Chol = 406.93 on index=186 is a clear outliear as the Serum cholestoral level ranges upto 200mg/dl so we'll drop it. </b>"
   ]
  },
  {
   "cell_type": "markdown",
   "metadata": {},
   "source": [
    "#### 4. Data Cleaning by dropping data"
   ]
  },
  {
   "cell_type": "markdown",
   "metadata": {},
   "source": [
    "##### checking column 'ca"
   ]
  },
  {
   "cell_type": "code",
   "execution_count": 31,
   "metadata": {},
   "outputs": [
    {
     "data": {
      "text/plain": [
       "<AxesSubplot:>"
      ]
     },
     "execution_count": 31,
     "metadata": {},
     "output_type": "execute_result"
    },
    {
     "data": {
      "image/png": "[encoded data removed]",
      "text/plain": [
       "<Figure size 432x288 with 1 Axes>"
      ]
     },
     "metadata": {
      "needs_background": "light"
     },
     "output_type": "display_data"
    }
   ],
   "source": [
    "df.ca.hist()"
   ]
  },
  {
   "cell_type": "markdown",
   "metadata": {},
   "source": [
    "<b> As we can see that we need to remove the ca values coming as 4 as this category is not defined. </b>"
   ]
  },
  {
   "cell_type": "code",
   "execution_count": 32,
   "metadata": {},
   "outputs": [
    {
     "name": "stdout",
     "output_type": "stream",
     "text": [
      "Int64Index([55, 82, 103, 128], dtype='int64')\n"
     ]
    }
   ],
   "source": [
    "index = df[df.ca > 3].index\n",
    "print(index)\n",
    "\n",
    "df.drop(index, inplace=True)"
   ]
  },
  {
   "cell_type": "code",
   "execution_count": 33,
   "metadata": {},
   "outputs": [],
   "source": [
    "df = df.dropna()"
   ]
  },
  {
   "cell_type": "markdown",
   "metadata": {},
   "source": [
    "<b> Dropped all the na values in the heart dataset as its not appropriate to change the data using average mean as its health data and should not be mendled with. </b>"
   ]
  },
  {
   "cell_type": "code",
   "execution_count": 34,
   "metadata": {},
   "outputs": [
    {
     "name": "stdout",
     "output_type": "stream",
     "text": [
      "age         0\n",
      "sex         0\n",
      "cp          0\n",
      "trestbps    0\n",
      "chol        0\n",
      "fbs         0\n",
      "restecg     0\n",
      "thalach     0\n",
      "exang       0\n",
      "oldpeak     0\n",
      "slope       0\n",
      "ca          0\n",
      "thal        0\n",
      "target      0\n",
      "dtype: int64\n",
      "              age         sex          cp    trestbps        chol         fbs  \\\n",
      "count  164.000000  164.000000  164.000000  164.000000  164.000000  164.000000   \n",
      "mean    54.786585    0.701220    0.963415  131.512766  245.644342    0.140244   \n",
      "std      9.258235    0.459125    1.020587   17.409650   44.065104    0.348303   \n",
      "min     29.000000    0.000000    0.000000   93.944184  126.085811    0.000000   \n",
      "25%     47.750000    0.000000    0.000000  119.987220  213.761139    0.000000   \n",
      "50%     56.000000    1.000000    1.000000  129.965463  242.960083    0.000000   \n",
      "75%     61.250000    1.000000    2.000000  140.047417  273.874325    0.000000   \n",
      "max     77.000000    1.000000    3.000000  179.926197  359.930615    1.000000   \n",
      "\n",
      "          restecg     thalach       exang     oldpeak       slope          ca  \\\n",
      "count  164.000000  164.000000  164.000000  164.000000  164.000000  164.000000   \n",
      "mean     0.554878  149.231524    0.365854    1.044696    1.402439    0.652439   \n",
      "std      0.534147   21.803658    0.483144    1.150234    0.623856    0.943785   \n",
      "min      0.000000   91.976883    0.000000   -0.176438    0.000000    0.000000   \n",
      "25%      0.000000  133.837771    0.000000    0.082082    1.000000    0.000000   \n",
      "50%      1.000000  150.919816    0.000000    0.687067    1.000000    0.000000   \n",
      "75%      1.000000  164.991594    1.000000    1.724273    2.000000    1.000000   \n",
      "max      2.000000  202.138041    1.000000    4.404773    2.000000    3.000000   \n",
      "\n",
      "             thal      target  \n",
      "count  164.000000  164.000000  \n",
      "mean     2.342695    0.536585  \n",
      "std      0.616475    0.500187  \n",
      "min      0.858554    0.000000  \n",
      "25%      1.966835    0.000000  \n",
      "50%      2.076074    1.000000  \n",
      "75%      2.969947    1.000000  \n",
      "max      3.277466    1.000000  \n"
     ]
    }
   ],
   "source": [
    "print(df.isna().sum())\n",
    "print(df.describe())\n",
    "df.to_csv(\"heart_disease_cleaned.csv\", index=False) #clean Heart data saved to new csv file"
   ]
  },
  {
   "cell_type": "markdown",
   "metadata": {},
   "source": [
    "# Normalization for Heart Data"
   ]
  },
  {
   "cell_type": "markdown",
   "metadata": {},
   "source": [
    "## 1. Min Max Normalization for Heart Disease Dataset"
   ]
  },
  {
   "cell_type": "code",
   "execution_count": 35,
   "metadata": {},
   "outputs": [],
   "source": [
    "names = df[['target','sex','cp','restecg','fbs','exang','slope','ca']]\n",
    "#referred min-max formula from lecture notes\n",
    "normalised_df = (df-df.min()) / (df.max()-df.min())\n",
    "for i in normalised_df:\n",
    "    if i in names:\n",
    "        normalised_df[i]=df[i]\n",
    "normalised_df.to_csv(\"minmax_cleaned_heart.csv\",index=False)"
   ]
  },
  {
   "cell_type": "markdown",
   "metadata": {},
   "source": [
    "## 2. Z score Normalization for Heart Disease Dataset"
   ]
  },
  {
   "cell_type": "code",
   "execution_count": 36,
   "metadata": {},
   "outputs": [],
   "source": [
    "z_score_heart = (df-df.mean())/df.std()\n",
    "#referred z-score formula from lecture notes\n",
    "for i in z_score_heart:\n",
    "    if i in names:\n",
    "        z_score_heart[i]=df[i]\n",
    "z_score_heart.to_csv(\"zscore_cleaned_heart.csv\",index=False)"
   ]
  },
  {
   "cell_type": "code",
   "execution_count": 37,
   "metadata": {},
   "outputs": [
    {
     "data": {
      "text/plain": [
       "[Text(0.5, 1.0, 'Z-Score Normalised Data')]"
      ]
     },
     "execution_count": 37,
     "metadata": {},
     "output_type": "execute_result"
    },
    {
     "data": {
      "image/png": "[encoded data removed]",
      "text/plain": [
       "<Figure size 1080x720 with 3 Axes>"
      ]
     },
     "metadata": {
      "needs_background": "light"
     },
     "output_type": "display_data"
    }
   ],
   "source": [
    "#Vizualising\n",
    "plt.figure(figsize = (15,10))\n",
    "plt.subplot(1,3,1)\n",
    "sns.histplot(df['chol']).set(title = 'Un-normalised Data')\n",
    "plt.subplot(1,3,2)\n",
    "sns.histplot(normalised_df['chol']).set(title = 'MinMax Normalised Data')\n",
    "plt.subplot(1,3,3)\n",
    "sns.histplot(z_score_heart['chol']).set(title = 'Z-Score Normalised Data')"
   ]
  },
  {
   "cell_type": "markdown",
   "metadata": {},
   "source": [
    "# Un-normalized vs Normalized Data comparison"
   ]
  },
  {
   "cell_type": "markdown",
   "metadata": {},
   "source": [
    "<b> The un-normalised data is having different units for different columns which might produce bias while computing. To reduce this, dataset is normalised.                                                                                                   \n",
    "MIn-Max normalization ranges between [0-1] but a presence of outlier might affect the distribution/values. Thus, it is highly recommended to remove outliers before performing min-max normalisation.                                                        \n",
    "In z-score normalisation, the features are scaled such that they have properties similar to normal distribution where mean is zero and standard deviation is one. From the above graphs its quiet evident that there is no change in shape but only change in values. </b>"
   ]
  },
  {
   "cell_type": "code",
   "execution_count": null,
   "metadata": {},
   "outputs": [],
   "source": []
  }
 ],
 "metadata": {
  "kernelspec": {
   "display_name": "Python 3",
   "language": "python",
   "name": "python3"
  },
  "language_info": {
   "codemirror_mode": {
    "name": "ipython",
    "version": 3
   },
   "file_extension": ".py",
   "mimetype": "text/x-python",
   "name": "python",
   "nbconvert_exporter": "python",
   "pygments_lexer": "ipython3",
   "version": "3.8.5"
  }
 },
 "nbformat": 4,
 "nbformat_minor": 4
}
