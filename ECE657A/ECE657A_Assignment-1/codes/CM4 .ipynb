{
 "cells": [
  {
   "cell_type": "markdown",
   "metadata": {},
   "source": [
    "# Question 2. KNN\n",
    "## [CM4] Classify data using a KNN classifier, k-fold cross validation and train-validate-test "
   ]
  },
  {
   "cell_type": "markdown",
   "metadata": {},
   "source": [
    "Importing all necessary libraries."
   ]
  },
  {
   "cell_type": "code",
   "execution_count": 35,
   "metadata": {},
   "outputs": [],
   "source": [
    "import numpy as np\n",
    "import pandas as pd\n",
    "import seaborn as sns\n",
    "from sklearn.model_selection import train_test_split\n",
    "from sklearn.neighbors import KNeighborsClassifier\n",
    "from sklearn.metrics import classification_report,confusion_matrix,accuracy_score\n",
    "from sklearn.model_selection import cross_val_score\n",
    "import matplotlib.pyplot as plt"
   ]
  },
  {
   "cell_type": "markdown",
   "metadata": {},
   "source": [
    "# IRIS Data"
   ]
  },
  {
   "cell_type": "markdown",
   "metadata": {},
   "source": [
    "## Splitting the data for training and testing\n"
   ]
  },
  {
   "cell_type": "code",
   "execution_count": 36,
   "metadata": {},
   "outputs": [],
   "source": [
    "df_iris = pd.read_csv(\"cleaned_data_iris.csv\")\n",
    "x = df_iris.iloc[:,:-1]\n",
    "y = df_iris.iloc[:,-1]"
   ]
  },
  {
   "cell_type": "code",
   "execution_count": 37,
   "metadata": {},
   "outputs": [],
   "source": [
    "#Dividing the data into a training set and a test set (80%, 20%)\n",
    "x_train, x_test, y_train, y_test = train_test_split(x, y, test_size=0.2, random_state=98)"
   ]
  },
  {
   "cell_type": "code",
   "execution_count": 38,
   "metadata": {},
   "outputs": [],
   "source": [
    "# Performing KNN by using default parameters on iris data\n",
    "knn_default_iris = KNeighborsClassifier()"
   ]
  },
  {
   "cell_type": "code",
   "execution_count": 39,
   "metadata": {},
   "outputs": [
    {
     "data": {
      "text/plain": [
       "KNeighborsClassifier()"
      ]
     },
     "execution_count": 39,
     "metadata": {},
     "output_type": "execute_result"
    }
   ],
   "source": [
    "knn_default_iris.fit(x_train,y_train)"
   ]
  },
  {
   "cell_type": "code",
   "execution_count": 40,
   "metadata": {},
   "outputs": [],
   "source": [
    "pred=knn_default_iris.predict(x_test)"
   ]
  },
  {
   "cell_type": "code",
   "execution_count": 41,
   "metadata": {},
   "outputs": [
    {
     "name": "stdout",
     "output_type": "stream",
     "text": [
      "                 precision    recall  f1-score   support\n",
      "\n",
      "    Iris-setosa       1.00      1.00      1.00        12\n",
      "Iris-versicolor       1.00      1.00      1.00         6\n",
      " Iris-virginica       1.00      1.00      1.00         3\n",
      "\n",
      "       accuracy                           1.00        21\n",
      "      macro avg       1.00      1.00      1.00        21\n",
      "   weighted avg       1.00      1.00      1.00        21\n",
      "\n"
     ]
    }
   ],
   "source": [
    "print(classification_report(y_test,pred))"
   ]
  },
  {
   "cell_type": "code",
   "execution_count": 42,
   "metadata": {},
   "outputs": [
    {
     "name": "stdout",
     "output_type": "stream",
     "text": [
      "[[12  0  0]\n",
      " [ 0  6  0]\n",
      " [ 0  0  3]]\n"
     ]
    }
   ],
   "source": [
    "print(confusion_matrix(y_test,pred))"
   ]
  },
  {
   "cell_type": "code",
   "execution_count": 43,
   "metadata": {},
   "outputs": [
    {
     "data": {
      "text/plain": [
       "1.0"
      ]
     },
     "execution_count": 43,
     "metadata": {},
     "output_type": "execute_result"
    }
   ],
   "source": [
    "accuracy_score(y_test,pred)"
   ]
  },
  {
   "cell_type": "markdown",
   "metadata": {},
   "source": [
    "#### The accuracy of iris dataset using default parameters is 100%"
   ]
  },
  {
   "cell_type": "markdown",
   "metadata": {},
   "source": [
    "# K fold cross validation for Iris data (K = 5)"
   ]
  },
  {
   "cell_type": "code",
   "execution_count": 44,
   "metadata": {},
   "outputs": [
    {
     "name": "stdout",
     "output_type": "stream",
     "text": [
      "Average accuracy: 0.9619047619047618\n",
      "Stored 'accuracy_kfold_iris' (list)\n"
     ]
    }
   ],
   "source": [
    "from sklearn.model_selection import KFold\n",
    "kf = KFold(n_splits=5)\n",
    "accuracy_kfold_iris=[]\n",
    "for train, test in kf.split(x):\n",
    "    x1_train,x1_test,y1_train,y1_test=x.iloc[train],x.iloc[test],y.iloc[train],y.loc[test]\n",
    "    kfold_knn=KNeighborsClassifier()\n",
    "    kfold_knn.fit(x1_train,y1_train)\n",
    "    accuracy_kfold_iris.append(accuracy_score(kfold_knn.predict(x1_test),y1_test))\n",
    "average_accuracy = np.mean(accuracy_kfold_iris)\n",
    "print(\"Average accuracy:\",average_accuracy)\n",
    "%store accuracy_kfold_iris"
   ]
  },
  {
   "cell_type": "markdown",
   "metadata": {},
   "source": [
    "### The average accuracy using Kfold validation for Iris Dataset is 96.2%"
   ]
  },
  {
   "cell_type": "markdown",
   "metadata": {},
   "source": [
    "# Heart Data"
   ]
  },
  {
   "cell_type": "code",
   "execution_count": 45,
   "metadata": {},
   "outputs": [],
   "source": [
    "df_heart = pd.read_csv(\"heart_disease_cleaned.csv\")"
   ]
  },
  {
   "cell_type": "code",
   "execution_count": 46,
   "metadata": {},
   "outputs": [
    {
     "data": {
      "text/html": [
       "<div>\n",
       "<style scoped>\n",
       "    .dataframe tbody tr th:only-of-type {\n",
       "        vertical-align: middle;\n",
       "    }\n",
       "\n",
       "    .dataframe tbody tr th {\n",
       "        vertical-align: top;\n",
       "    }\n",
       "\n",
       "    .dataframe thead th {\n",
       "        text-align: right;\n",
       "    }\n",
       "</style>\n",
       "<table border=\"1\" class=\"dataframe\">\n",
       "  <thead>\n",
       "    <tr style=\"text-align: right;\">\n",
       "      <th></th>\n",
       "      <th>age</th>\n",
       "      <th>sex</th>\n",
       "      <th>cp</th>\n",
       "      <th>trestbps</th>\n",
       "      <th>chol</th>\n",
       "      <th>fbs</th>\n",
       "      <th>restecg</th>\n",
       "      <th>thalach</th>\n",
       "      <th>exang</th>\n",
       "      <th>oldpeak</th>\n",
       "      <th>slope</th>\n",
       "      <th>ca</th>\n",
       "      <th>thal</th>\n",
       "      <th>target</th>\n",
       "    </tr>\n",
       "  </thead>\n",
       "  <tbody>\n",
       "    <tr>\n",
       "      <th>0</th>\n",
       "      <td>76</td>\n",
       "      <td>0</td>\n",
       "      <td>2</td>\n",
       "      <td>140.102822</td>\n",
       "      <td>197.105970</td>\n",
       "      <td>0</td>\n",
       "      <td>2.0</td>\n",
       "      <td>115.952071</td>\n",
       "      <td>0</td>\n",
       "      <td>1.284822</td>\n",
       "      <td>1.0</td>\n",
       "      <td>0</td>\n",
       "      <td>2.175904</td>\n",
       "      <td>1</td>\n",
       "    </tr>\n",
       "    <tr>\n",
       "      <th>1</th>\n",
       "      <td>43</td>\n",
       "      <td>0</td>\n",
       "      <td>0</td>\n",
       "      <td>132.079599</td>\n",
       "      <td>341.049462</td>\n",
       "      <td>1</td>\n",
       "      <td>0.0</td>\n",
       "      <td>135.970028</td>\n",
       "      <td>1</td>\n",
       "      <td>3.110483</td>\n",
       "      <td>1.0</td>\n",
       "      <td>0</td>\n",
       "      <td>3.082071</td>\n",
       "      <td>0</td>\n",
       "    </tr>\n",
       "    <tr>\n",
       "      <th>2</th>\n",
       "      <td>47</td>\n",
       "      <td>1</td>\n",
       "      <td>2</td>\n",
       "      <td>107.899290</td>\n",
       "      <td>242.822816</td>\n",
       "      <td>0</td>\n",
       "      <td>1.0</td>\n",
       "      <td>152.210039</td>\n",
       "      <td>0</td>\n",
       "      <td>-0.023723</td>\n",
       "      <td>2.0</td>\n",
       "      <td>0</td>\n",
       "      <td>2.020827</td>\n",
       "      <td>0</td>\n",
       "    </tr>\n",
       "    <tr>\n",
       "      <th>3</th>\n",
       "      <td>57</td>\n",
       "      <td>1</td>\n",
       "      <td>0</td>\n",
       "      <td>110.103508</td>\n",
       "      <td>334.952353</td>\n",
       "      <td>0</td>\n",
       "      <td>1.0</td>\n",
       "      <td>143.099327</td>\n",
       "      <td>1</td>\n",
       "      <td>3.082052</td>\n",
       "      <td>1.0</td>\n",
       "      <td>1</td>\n",
       "      <td>2.831509</td>\n",
       "      <td>0</td>\n",
       "    </tr>\n",
       "    <tr>\n",
       "      <th>4</th>\n",
       "      <td>63</td>\n",
       "      <td>0</td>\n",
       "      <td>2</td>\n",
       "      <td>134.926653</td>\n",
       "      <td>252.023252</td>\n",
       "      <td>0</td>\n",
       "      <td>0.0</td>\n",
       "      <td>171.840974</td>\n",
       "      <td>0</td>\n",
       "      <td>0.106792</td>\n",
       "      <td>2.0</td>\n",
       "      <td>0</td>\n",
       "      <td>1.903701</td>\n",
       "      <td>1</td>\n",
       "    </tr>\n",
       "  </tbody>\n",
       "</table>\n",
       "</div>"
      ],
      "text/plain": [
       "   age  sex  cp    trestbps        chol  fbs  restecg     thalach  exang  \\\n",
       "0   76    0   2  140.102822  197.105970    0      2.0  115.952071      0   \n",
       "1   43    0   0  132.079599  341.049462    1      0.0  135.970028      1   \n",
       "2   47    1   2  107.899290  242.822816    0      1.0  152.210039      0   \n",
       "3   57    1   0  110.103508  334.952353    0      1.0  143.099327      1   \n",
       "4   63    0   2  134.926653  252.023252    0      0.0  171.840974      0   \n",
       "\n",
       "    oldpeak  slope  ca      thal  target  \n",
       "0  1.284822    1.0   0  2.175904       1  \n",
       "1  3.110483    1.0   0  3.082071       0  \n",
       "2 -0.023723    2.0   0  2.020827       0  \n",
       "3  3.082052    1.0   1  2.831509       0  \n",
       "4  0.106792    2.0   0  1.903701       1  "
      ]
     },
     "execution_count": 46,
     "metadata": {},
     "output_type": "execute_result"
    }
   ],
   "source": [
    "df_heart.head()"
   ]
  },
  {
   "cell_type": "code",
   "execution_count": 47,
   "metadata": {},
   "outputs": [],
   "source": [
    "#Dividing the data into a training set and a test set (80%, 20%)\n",
    "ip_train,ip_test,op_train,op_test = train_test_split(df_heart.iloc[:,:-1],df_heart.iloc[:,-1],test_size=0.2,random_state=98)"
   ]
  },
  {
   "cell_type": "code",
   "execution_count": 48,
   "metadata": {},
   "outputs": [],
   "source": [
    "# Performing KNN by using default parameters on heart data\n",
    "knn_heart = KNeighborsClassifier()"
   ]
  },
  {
   "cell_type": "code",
   "execution_count": 49,
   "metadata": {},
   "outputs": [
    {
     "data": {
      "text/plain": [
       "KNeighborsClassifier()"
      ]
     },
     "execution_count": 49,
     "metadata": {},
     "output_type": "execute_result"
    }
   ],
   "source": [
    "knn_heart.fit(ip_train,op_train)"
   ]
  },
  {
   "cell_type": "code",
   "execution_count": 50,
   "metadata": {},
   "outputs": [],
   "source": [
    "heart_pred = knn_heart.predict(ip_test)"
   ]
  },
  {
   "cell_type": "code",
   "execution_count": 51,
   "metadata": {},
   "outputs": [],
   "source": [
    "heart_prob = knn_heart.predict_proba(ip_test)"
   ]
  },
  {
   "cell_type": "code",
   "execution_count": 52,
   "metadata": {},
   "outputs": [],
   "source": [
    "heart_accuracy = accuracy_score(heart_pred,op_test)"
   ]
  },
  {
   "cell_type": "code",
   "execution_count": 53,
   "metadata": {},
   "outputs": [
    {
     "data": {
      "text/plain": [
       "0.5757575757575758"
      ]
     },
     "execution_count": 53,
     "metadata": {},
     "output_type": "execute_result"
    }
   ],
   "source": [
    "heart_accuracy"
   ]
  },
  {
   "cell_type": "code",
   "execution_count": 54,
   "metadata": {},
   "outputs": [
    {
     "name": "stdout",
     "output_type": "stream",
     "text": [
      "              precision    recall  f1-score   support\n",
      "\n",
      "           0       0.67      0.60      0.63        20\n",
      "           1       0.47      0.54      0.50        13\n",
      "\n",
      "    accuracy                           0.58        33\n",
      "   macro avg       0.57      0.57      0.57        33\n",
      "weighted avg       0.59      0.58      0.58        33\n",
      "\n"
     ]
    }
   ],
   "source": [
    "print(classification_report(op_test,heart_pred))"
   ]
  },
  {
   "cell_type": "code",
   "execution_count": 55,
   "metadata": {},
   "outputs": [
    {
     "name": "stdout",
     "output_type": "stream",
     "text": [
      "[[12  8]\n",
      " [ 6  7]]\n"
     ]
    }
   ],
   "source": [
    "print(confusion_matrix(op_test,heart_pred))"
   ]
  },
  {
   "cell_type": "markdown",
   "metadata": {},
   "source": [
    "### The accuracy for heartdisease data set using default parameters is 57.57 %"
   ]
  },
  {
   "cell_type": "markdown",
   "metadata": {},
   "source": [
    "# Validation for Heart Disease Dataset"
   ]
  },
  {
   "cell_type": "code",
   "execution_count": 56,
   "metadata": {},
   "outputs": [],
   "source": [
    "k_train,k_validate,l_train,l_validate=train_test_split(ip_train,op_train,test_size=0.1,random_state=98)"
   ]
  },
  {
   "cell_type": "code",
   "execution_count": 57,
   "metadata": {},
   "outputs": [
    {
     "data": {
      "text/html": [
       "<div>\n",
       "<style scoped>\n",
       "    .dataframe tbody tr th:only-of-type {\n",
       "        vertical-align: middle;\n",
       "    }\n",
       "\n",
       "    .dataframe tbody tr th {\n",
       "        vertical-align: top;\n",
       "    }\n",
       "\n",
       "    .dataframe thead th {\n",
       "        text-align: right;\n",
       "    }\n",
       "</style>\n",
       "<table border=\"1\" class=\"dataframe\">\n",
       "  <thead>\n",
       "    <tr style=\"text-align: right;\">\n",
       "      <th></th>\n",
       "      <th>age</th>\n",
       "      <th>sex</th>\n",
       "      <th>cp</th>\n",
       "      <th>trestbps</th>\n",
       "      <th>chol</th>\n",
       "      <th>fbs</th>\n",
       "      <th>restecg</th>\n",
       "      <th>thalach</th>\n",
       "      <th>exang</th>\n",
       "      <th>oldpeak</th>\n",
       "      <th>slope</th>\n",
       "      <th>ca</th>\n",
       "      <th>thal</th>\n",
       "    </tr>\n",
       "  </thead>\n",
       "  <tbody>\n",
       "    <tr>\n",
       "      <th>74</th>\n",
       "      <td>68</td>\n",
       "      <td>1</td>\n",
       "      <td>2</td>\n",
       "      <td>117.869131</td>\n",
       "      <td>276.905655</td>\n",
       "      <td>0</td>\n",
       "      <td>1.0</td>\n",
       "      <td>151.025569</td>\n",
       "      <td>0</td>\n",
       "      <td>0.855891</td>\n",
       "      <td>2.0</td>\n",
       "      <td>1</td>\n",
       "      <td>3.090707</td>\n",
       "    </tr>\n",
       "    <tr>\n",
       "      <th>143</th>\n",
       "      <td>45</td>\n",
       "      <td>1</td>\n",
       "      <td>1</td>\n",
       "      <td>128.011535</td>\n",
       "      <td>308.060914</td>\n",
       "      <td>0</td>\n",
       "      <td>0.0</td>\n",
       "      <td>170.112376</td>\n",
       "      <td>0</td>\n",
       "      <td>-0.103404</td>\n",
       "      <td>2.0</td>\n",
       "      <td>0</td>\n",
       "      <td>2.058228</td>\n",
       "    </tr>\n",
       "    <tr>\n",
       "      <th>35</th>\n",
       "      <td>63</td>\n",
       "      <td>1</td>\n",
       "      <td>0</td>\n",
       "      <td>130.024365</td>\n",
       "      <td>254.108514</td>\n",
       "      <td>0</td>\n",
       "      <td>0.0</td>\n",
       "      <td>146.766086</td>\n",
       "      <td>0</td>\n",
       "      <td>1.531057</td>\n",
       "      <td>1.0</td>\n",
       "      <td>1</td>\n",
       "      <td>3.026851</td>\n",
       "    </tr>\n",
       "    <tr>\n",
       "      <th>4</th>\n",
       "      <td>63</td>\n",
       "      <td>0</td>\n",
       "      <td>2</td>\n",
       "      <td>134.926653</td>\n",
       "      <td>252.023252</td>\n",
       "      <td>0</td>\n",
       "      <td>0.0</td>\n",
       "      <td>171.840974</td>\n",
       "      <td>0</td>\n",
       "      <td>0.106792</td>\n",
       "      <td>2.0</td>\n",
       "      <td>0</td>\n",
       "      <td>1.903701</td>\n",
       "    </tr>\n",
       "    <tr>\n",
       "      <th>108</th>\n",
       "      <td>55</td>\n",
       "      <td>0</td>\n",
       "      <td>1</td>\n",
       "      <td>132.065557</td>\n",
       "      <td>342.106509</td>\n",
       "      <td>0</td>\n",
       "      <td>1.0</td>\n",
       "      <td>165.989654</td>\n",
       "      <td>0</td>\n",
       "      <td>1.214041</td>\n",
       "      <td>2.0</td>\n",
       "      <td>0</td>\n",
       "      <td>1.913880</td>\n",
       "    </tr>\n",
       "    <tr>\n",
       "      <th>78</th>\n",
       "      <td>44</td>\n",
       "      <td>1</td>\n",
       "      <td>0</td>\n",
       "      <td>119.901676</td>\n",
       "      <td>168.945695</td>\n",
       "      <td>0</td>\n",
       "      <td>1.0</td>\n",
       "      <td>144.130286</td>\n",
       "      <td>1</td>\n",
       "      <td>2.978041</td>\n",
       "      <td>0.0</td>\n",
       "      <td>0</td>\n",
       "      <td>0.940130</td>\n",
       "    </tr>\n",
       "    <tr>\n",
       "      <th>6</th>\n",
       "      <td>57</td>\n",
       "      <td>1</td>\n",
       "      <td>0</td>\n",
       "      <td>140.080577</td>\n",
       "      <td>192.215185</td>\n",
       "      <td>0</td>\n",
       "      <td>1.0</td>\n",
       "      <td>148.025188</td>\n",
       "      <td>0</td>\n",
       "      <td>0.436121</td>\n",
       "      <td>1.0</td>\n",
       "      <td>0</td>\n",
       "      <td>0.931512</td>\n",
       "    </tr>\n",
       "    <tr>\n",
       "      <th>97</th>\n",
       "      <td>51</td>\n",
       "      <td>0</td>\n",
       "      <td>2</td>\n",
       "      <td>119.967348</td>\n",
       "      <td>294.961557</td>\n",
       "      <td>0</td>\n",
       "      <td>0.0</td>\n",
       "      <td>157.077183</td>\n",
       "      <td>0</td>\n",
       "      <td>0.458861</td>\n",
       "      <td>2.0</td>\n",
       "      <td>0</td>\n",
       "      <td>1.984220</td>\n",
       "    </tr>\n",
       "    <tr>\n",
       "      <th>12</th>\n",
       "      <td>51</td>\n",
       "      <td>1</td>\n",
       "      <td>0</td>\n",
       "      <td>139.898949</td>\n",
       "      <td>298.081012</td>\n",
       "      <td>0</td>\n",
       "      <td>1.0</td>\n",
       "      <td>122.028452</td>\n",
       "      <td>1</td>\n",
       "      <td>4.277138</td>\n",
       "      <td>1.0</td>\n",
       "      <td>3</td>\n",
       "      <td>2.884772</td>\n",
       "    </tr>\n",
       "    <tr>\n",
       "      <th>163</th>\n",
       "      <td>41</td>\n",
       "      <td>0</td>\n",
       "      <td>2</td>\n",
       "      <td>112.075764</td>\n",
       "      <td>268.005496</td>\n",
       "      <td>0</td>\n",
       "      <td>0.0</td>\n",
       "      <td>172.008896</td>\n",
       "      <td>1</td>\n",
       "      <td>0.085251</td>\n",
       "      <td>2.0</td>\n",
       "      <td>0</td>\n",
       "      <td>2.194162</td>\n",
       "    </tr>\n",
       "    <tr>\n",
       "      <th>136</th>\n",
       "      <td>53</td>\n",
       "      <td>1</td>\n",
       "      <td>0</td>\n",
       "      <td>122.903381</td>\n",
       "      <td>282.053583</td>\n",
       "      <td>0</td>\n",
       "      <td>1.0</td>\n",
       "      <td>94.987305</td>\n",
       "      <td>1</td>\n",
       "      <td>2.080513</td>\n",
       "      <td>1.0</td>\n",
       "      <td>2</td>\n",
       "      <td>3.148497</td>\n",
       "    </tr>\n",
       "    <tr>\n",
       "      <th>159</th>\n",
       "      <td>49</td>\n",
       "      <td>0</td>\n",
       "      <td>0</td>\n",
       "      <td>129.980215</td>\n",
       "      <td>268.817648</td>\n",
       "      <td>0</td>\n",
       "      <td>1.0</td>\n",
       "      <td>162.954304</td>\n",
       "      <td>0</td>\n",
       "      <td>0.198000</td>\n",
       "      <td>2.0</td>\n",
       "      <td>0</td>\n",
       "      <td>1.938370</td>\n",
       "    </tr>\n",
       "    <tr>\n",
       "      <th>9</th>\n",
       "      <td>44</td>\n",
       "      <td>0</td>\n",
       "      <td>2</td>\n",
       "      <td>108.110824</td>\n",
       "      <td>140.910752</td>\n",
       "      <td>0</td>\n",
       "      <td>1.0</td>\n",
       "      <td>174.932949</td>\n",
       "      <td>0</td>\n",
       "      <td>0.497061</td>\n",
       "      <td>1.0</td>\n",
       "      <td>0</td>\n",
       "      <td>2.281661</td>\n",
       "    </tr>\n",
       "    <tr>\n",
       "      <th>36</th>\n",
       "      <td>62</td>\n",
       "      <td>0</td>\n",
       "      <td>0</td>\n",
       "      <td>150.026813</td>\n",
       "      <td>243.936478</td>\n",
       "      <td>0</td>\n",
       "      <td>1.0</td>\n",
       "      <td>153.893137</td>\n",
       "      <td>1</td>\n",
       "      <td>1.418758</td>\n",
       "      <td>1.0</td>\n",
       "      <td>0</td>\n",
       "      <td>2.010602</td>\n",
       "    </tr>\n",
       "  </tbody>\n",
       "</table>\n",
       "</div>"
      ],
      "text/plain": [
       "     age  sex  cp    trestbps        chol  fbs  restecg     thalach  exang  \\\n",
       "74    68    1   2  117.869131  276.905655    0      1.0  151.025569      0   \n",
       "143   45    1   1  128.011535  308.060914    0      0.0  170.112376      0   \n",
       "35    63    1   0  130.024365  254.108514    0      0.0  146.766086      0   \n",
       "4     63    0   2  134.926653  252.023252    0      0.0  171.840974      0   \n",
       "108   55    0   1  132.065557  342.106509    0      1.0  165.989654      0   \n",
       "78    44    1   0  119.901676  168.945695    0      1.0  144.130286      1   \n",
       "6     57    1   0  140.080577  192.215185    0      1.0  148.025188      0   \n",
       "97    51    0   2  119.967348  294.961557    0      0.0  157.077183      0   \n",
       "12    51    1   0  139.898949  298.081012    0      1.0  122.028452      1   \n",
       "163   41    0   2  112.075764  268.005496    0      0.0  172.008896      1   \n",
       "136   53    1   0  122.903381  282.053583    0      1.0   94.987305      1   \n",
       "159   49    0   0  129.980215  268.817648    0      1.0  162.954304      0   \n",
       "9     44    0   2  108.110824  140.910752    0      1.0  174.932949      0   \n",
       "36    62    0   0  150.026813  243.936478    0      1.0  153.893137      1   \n",
       "\n",
       "      oldpeak  slope  ca      thal  \n",
       "74   0.855891    2.0   1  3.090707  \n",
       "143 -0.103404    2.0   0  2.058228  \n",
       "35   1.531057    1.0   1  3.026851  \n",
       "4    0.106792    2.0   0  1.903701  \n",
       "108  1.214041    2.0   0  1.913880  \n",
       "78   2.978041    0.0   0  0.940130  \n",
       "6    0.436121    1.0   0  0.931512  \n",
       "97   0.458861    2.0   0  1.984220  \n",
       "12   4.277138    1.0   3  2.884772  \n",
       "163  0.085251    2.0   0  2.194162  \n",
       "136  2.080513    1.0   2  3.148497  \n",
       "159  0.198000    2.0   0  1.938370  \n",
       "9    0.497061    1.0   0  2.281661  \n",
       "36   1.418758    1.0   0  2.010602  "
      ]
     },
     "execution_count": 57,
     "metadata": {},
     "output_type": "execute_result"
    }
   ],
   "source": [
    "k_validate.head()"
   ]
  },
  {
   "cell_type": "code",
   "execution_count": 64,
   "metadata": {},
   "outputs": [
    {
     "name": "stdout",
     "output_type": "stream",
     "text": [
      "K =  1 :: accuracy_heart = 0.5\n",
      "K =  2 :: accuracy_heart = 0.35714285714285715\n",
      "K =  3 :: accuracy_heart = 0.5\n",
      "K =  4 :: accuracy_heart = 0.5714285714285714\n",
      "K =  5 :: accuracy_heart = 0.6428571428571429\n",
      "K =  6 :: accuracy_heart = 0.5714285714285714\n",
      "K =  7 :: accuracy_heart = 0.7142857142857143\n",
      "K =  8 :: accuracy_heart = 0.7142857142857143\n",
      "K =  9 :: accuracy_heart = 0.7857142857142857\n",
      "K =  10 :: accuracy_heart = 0.7857142857142857\n",
      "K =  11 :: accuracy_heart = 0.9285714285714286\n",
      "K =  12 :: accuracy_heart = 0.7142857142857143\n",
      "K =  13 :: accuracy_heart = 0.7142857142857143\n",
      "K =  14 :: accuracy_heart = 0.6428571428571429\n",
      "K =  15 :: accuracy_heart = 0.5714285714285714\n",
      "K =  16 :: accuracy_heart = 0.5714285714285714\n",
      "K =  17 :: accuracy_heart = 0.5714285714285714\n",
      "K =  18 :: accuracy_heart = 0.5714285714285714\n",
      "K =  19 :: accuracy_heart = 0.7142857142857143\n",
      "K =  20 :: accuracy_heart = 0.6428571428571429\n",
      "K =  21 :: accuracy_heart = 0.6428571428571429\n",
      "K =  22 :: accuracy_heart = 0.6428571428571429\n",
      "K =  23 :: accuracy_heart = 0.6428571428571429\n",
      "K =  24 :: accuracy_heart = 0.7142857142857143\n",
      "K =  25 :: accuracy_heart = 0.6428571428571429\n",
      "K =  26 :: accuracy_heart = 0.5714285714285714\n",
      "K =  27 :: accuracy_heart = 0.6428571428571429\n",
      "K =  28 :: accuracy_heart = 0.5714285714285714\n",
      "K =  29 :: accuracy_heart = 0.5714285714285714\n",
      "K =  30 :: accuracy_heart = 0.5714285714285714\n",
      "K =  31 :: accuracy_heart = 0.5714285714285714\n",
      "K =  32 :: accuracy_heart = 0.5714285714285714\n",
      "K =  33 :: accuracy_heart = 0.6428571428571429\n",
      "K =  34 :: accuracy_heart = 0.5\n",
      "K =  35 :: accuracy_heart = 0.6428571428571429\n",
      "Stored 'accuracy_heart' (list)\n",
      "Stored 'knn_heart' (KNeighborsClassifier)\n",
      "Stored 'ip_test' (DataFrame)\n",
      "Stored 'op_test' (Series)\n",
      "Stored 'ip_train' (DataFrame)\n",
      "Stored 'op_train' (Series)\n",
      "Stored 'heart_pred' (ndarray)\n",
      "Stored 'heart_prob' (ndarray)\n"
     ]
    }
   ],
   "source": [
    "accuracy_heart = []\n",
    "for k in range(1,36):\n",
    "    kn = KNeighborsClassifier(n_neighbors=k)\n",
    "    kn.fit(k_train,l_train)\n",
    "    accuracy_heart.append(accuracy_score(kn.predict(k_validate),l_validate))\n",
    "    print(\"K = \",k,':: accuracy_heart =',accuracy_heart[k-1])\n",
    "%store accuracy_heart knn_heart ip_test op_test ip_train op_train heart_pred heart_prob"
   ]
  }
 ],
 "metadata": {
  "kernelspec": {
   "display_name": "Python 3",
   "language": "python",
   "name": "python3"
  },
  "language_info": {
   "codemirror_mode": {
    "name": "ipython",
    "version": 3
   },
   "file_extension": ".py",
   "mimetype": "text/x-python",
   "name": "python",
   "nbconvert_exporter": "python",
   "pygments_lexer": "ipython3",
   "version": "3.8.5"
  }
 },
 "nbformat": 4,
 "nbformat_minor": 4
}
