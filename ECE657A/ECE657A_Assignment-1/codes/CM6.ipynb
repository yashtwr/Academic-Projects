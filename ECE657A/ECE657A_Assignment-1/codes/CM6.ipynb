{
 "cells": [
  {
   "cell_type": "markdown",
   "metadata": {},
   "source": [
    "# Question 2: KNN\n",
    "# [CM 6] Accuracy, AUC, F-score of the kNN classifier"
   ]
  },
  {
   "cell_type": "markdown",
   "metadata": {},
   "source": [
    "Importing all necessary libraries."
   ]
  },
  {
   "cell_type": "code",
   "execution_count": 46,
   "metadata": {},
   "outputs": [],
   "source": [
    "import numpy as np\n",
    "import pandas as pd\n",
    "import seaborn as sns\n",
    "from sklearn.model_selection import train_test_split\n",
    "from sklearn.neighbors import KNeighborsClassifier\n",
    "from sklearn.metrics import classification_report,confusion_matrix,accuracy_score\n",
    "from sklearn.model_selection import cross_val_score,cross_val_predict\n",
    "from sklearn.metrics import roc_auc_score\n",
    "from sklearn.preprocessing import OneHotEncoder,LabelBinarizer\n",
    "import matplotlib.pyplot as plt\n",
    "from sklearn.metrics import roc_curve"
   ]
  },
  {
   "cell_type": "markdown",
   "metadata": {},
   "source": [
    "# For Iris Dataset"
   ]
  },
  {
   "cell_type": "markdown",
   "metadata": {},
   "source": [
    "#### The bestfit for Iris dataset is achieved at K=5 (as computed in [CM5]), so all the computations are done on this value."
   ]
  },
  {
   "cell_type": "code",
   "execution_count": 35,
   "metadata": {},
   "outputs": [],
   "source": [
    "df_iris = pd.read_csv(\"cleaned_data_iris.csv\")\n",
    "df_iris.species = df_iris.species.replace(\"Iris-setosa\",0).replace(\"Iris-versicolor\",1).replace(\"Iris-virginica\",2)\n",
    "x = df_iris.iloc[:,:-1]\n",
    "y = df_iris.iloc[:,-1]\n",
    "knn_iris = KNeighborsClassifier(n_neighbors=5)\n",
    "accuracy_score = cross_val_score(knn_iris,x,y,cv=5)\n",
    "y_pred = cross_val_predict(knn_iris,x,y,cv=5)\n"
   ]
  },
  {
   "cell_type": "markdown",
   "metadata": {},
   "source": [
    "### Accuracy Iris Data:"
   ]
  },
  {
   "cell_type": "code",
   "execution_count": 36,
   "metadata": {},
   "outputs": [
    {
     "name": "stdout",
     "output_type": "stream",
     "text": [
      "Accuracy of Iris dataset is: 97.14 %\n"
     ]
    }
   ],
   "source": [
    "print('Accuracy of Iris dataset is:', np.round(np.mean(accuracy_score)*100,2),'%')"
   ]
  },
  {
   "cell_type": "markdown",
   "metadata": {},
   "source": [
    "### F-score Iris Data:"
   ]
  },
  {
   "cell_type": "code",
   "execution_count": 37,
   "metadata": {},
   "outputs": [
    {
     "name": "stdout",
     "output_type": "stream",
     "text": [
      "F-score of Iris dataset is: 0.9714285714285714\n"
     ]
    }
   ],
   "source": [
    "from sklearn.metrics import f1_score\n",
    "\n",
    "fsc = f1_score(y , y_pred,average='micro')\n",
    "print('F-score of Iris dataset is:',fsc)"
   ]
  },
  {
   "cell_type": "markdown",
   "metadata": {},
   "source": [
    "### AUC Iris Data:"
   ]
  },
  {
   "cell_type": "code",
   "execution_count": 38,
   "metadata": {},
   "outputs": [
    {
     "name": "stdout",
     "output_type": "stream",
     "text": [
      "AUC value of iris dataset is: 0.9785714285714286\n"
     ]
    }
   ],
   "source": [
    "from sklearn.preprocessing import OneHotEncoder\n",
    "from sklearn.metrics import roc_auc_score\n",
    "\n",
    "encode = OneHotEncoder()\n",
    "y_encode = encode.fit_transform(np.array(y).reshape(-1,1)).todense()\n",
    "pred_encode = encode.fit_transform(y_pred.reshape(-1,1)).todense()\n",
    "auc_iris = roc_auc_score(y_encode,pred_encode)\n",
    "print('AUC value of iris dataset is:', auc_iris)"
   ]
  },
  {
   "cell_type": "code",
   "execution_count": 39,
   "metadata": {},
   "outputs": [],
   "source": [
    "from sklearn.multiclass import OneVsRestClassifier\n",
    "x_train, x_test, y_train, y_test = train_test_split(x, y, test_size=0.2, random_state=98)"
   ]
  },
  {
   "cell_type": "code",
   "execution_count": 40,
   "metadata": {},
   "outputs": [],
   "source": [
    "clf = OneVsRestClassifier(KNeighborsClassifier())\n",
    "clf.fit(x_train,y_train)\n",
    "pred1 = clf.predict(x_test)\n",
    "pred1_prob = clf.predict_proba(x_test)"
   ]
  },
  {
   "cell_type": "code",
   "execution_count": 41,
   "metadata": {},
   "outputs": [],
   "source": [
    "fpr = {}\n",
    "tpr = {}\n",
    "thresh = {}\n",
    "n_class = 3\n",
    "for i in range(n_class):    \n",
    "    fpr[i], tpr[i], thresh[i] = roc_curve(y_test, pred1_prob[:,i], pos_label=i)"
   ]
  },
  {
   "cell_type": "code",
   "execution_count": 42,
   "metadata": {},
   "outputs": [
    {
     "data": {
      "image/png": "[encoded data removed]",
      "text/plain": [
       "<Figure size 432x288 with 1 Axes>"
      ]
     },
     "metadata": {
      "needs_background": "light"
     },
     "output_type": "display_data"
    }
   ],
   "source": [
    "plt.plot(fpr[0], tpr[0], linestyle='--',color='orange', label='Class 0 vs Rest')\n",
    "plt.plot(fpr[1], tpr[1], linestyle='--',color='green', label='Class 1 vs Rest')\n",
    "plt.plot(fpr[2], tpr[2], linestyle='--',color='blue', label='Class 2 vs Rest')\n",
    "plt.title('Multiclass ROC curve for Iris Data')\n",
    "plt.xlabel('False Positive Rate')\n",
    "plt.ylabel('True Positive rate')\n",
    "plt.legend(loc='best')\n",
    "plt.savefig('Multiclass ROC',dpi=300);  "
   ]
  },
  {
   "cell_type": "markdown",
   "metadata": {},
   "source": [
    "### In the Iris dataset,the accuracy increases with the increasing value of k and reaches its highest value at k=5. It remains stable between k = [5,10] after which it starts decreasing. The increasing value of K reduces the accuracy since the model is unable to differentiate between the classes. Thus, based on these observations k=5 is selected as the best fitting parameter."
   ]
  },
  {
   "cell_type": "markdown",
   "metadata": {},
   "source": [
    "# For Heart Disease Dataset"
   ]
  },
  {
   "cell_type": "code",
   "execution_count": 43,
   "metadata": {},
   "outputs": [],
   "source": [
    "df_heart = pd.read_csv(\"heart_disease_cleaned.csv\")"
   ]
  },
  {
   "cell_type": "markdown",
   "metadata": {},
   "source": [
    "#### The bestfit for heartdisease dataset was achieved at K=14 (as computed in [CM5]), so all reportings are done at this value"
   ]
  },
  {
   "cell_type": "code",
   "execution_count": 44,
   "metadata": {},
   "outputs": [
    {
     "data": {
      "text/plain": [
       "array([0, 1, 1, 1, 1, 0, 0, 1, 1, 1, 0, 0, 1, 1, 0, 0, 1, 0, 0, 1, 1, 1,\n",
       "       1, 1, 0, 1, 0, 0, 0, 0, 0, 1, 1], dtype=int64)"
      ]
     },
     "execution_count": 44,
     "metadata": {},
     "output_type": "execute_result"
    }
   ],
   "source": [
    "ip_train,ip_test,op_train,op_test = train_test_split(df_heart.iloc[:,:-1],df_heart.iloc[:,-1],test_size=0.2,random_state=98)\n",
    "knn_heart = KNeighborsClassifier(n_neighbors=14)\n",
    "knn_heart.fit(ip_train,op_train)\n",
    "heart_pred = knn_heart.predict(ip_test)\n",
    "heart_prob = knn_heart.predict_proba(ip_test)\n",
    "heart_pred"
   ]
  },
  {
   "cell_type": "markdown",
   "metadata": {},
   "source": [
    "### Accuracy Heart Data:"
   ]
  },
  {
   "cell_type": "code",
   "execution_count": 47,
   "metadata": {},
   "outputs": [
    {
     "name": "stdout",
     "output_type": "stream",
     "text": [
      "Accuracy of heartdisease dataset is: 72.73 %\n"
     ]
    }
   ],
   "source": [
    "heart_accuracy = accuracy_score(heart_pred,op_test)\n",
    "print(\"Accuracy of heartdisease dataset is:\", np.round(heart_accuracy*100,2),'%')"
   ]
  },
  {
   "cell_type": "markdown",
   "metadata": {},
   "source": [
    "### F-Score Heart Disease"
   ]
  },
  {
   "cell_type": "code",
   "execution_count": 48,
   "metadata": {},
   "outputs": [
    {
     "name": "stdout",
     "output_type": "stream",
     "text": [
      "F-score of heart disease dataset is: 0.7272727272727273\n"
     ]
    }
   ],
   "source": [
    "fsc = f1_score(op_test,heart_pred,average='micro')\n",
    "print('F-score of heart disease dataset is:', fsc)"
   ]
  },
  {
   "cell_type": "markdown",
   "metadata": {},
   "source": [
    "### AUC Heart Data"
   ]
  },
  {
   "cell_type": "code",
   "execution_count": 51,
   "metadata": {},
   "outputs": [
    {
     "name": "stdout",
     "output_type": "stream",
     "text": [
      "AUC of heart disease dataset is: 0.7480769230769232\n"
     ]
    }
   ],
   "source": [
    "from sklearn.metrics import roc_auc_score\n",
    "auc_heart = roc_auc_score(op_test,heart_pred,average='weighted')\n",
    "print('AUC of heart disease dataset is:', auc_heart)"
   ]
  },
  {
   "cell_type": "code",
   "execution_count": 52,
   "metadata": {},
   "outputs": [
    {
     "data": {
      "image/png": "[encoded data removed]",
      "text/plain": [
       "<Figure size 432x288 with 1 Axes>"
      ]
     },
     "metadata": {
      "needs_background": "light"
     },
     "output_type": "display_data"
    }
   ],
   "source": [
    "from sklearn.metrics import roc_curve\n",
    "# roc curve\n",
    "fpr1, tpr1, thresh1 = roc_curve(op_test,heart_prob[:,1], pos_label=1)\n",
    "plt.plot(fpr1, tpr1, linestyle='--',color='orange', label='KNN')\n",
    "plt.title('ROC curve for Heart Disease Dataset')\n",
    "plt.xlabel('False Positive Rate')\n",
    "plt.ylabel('True Positive rate')\n",
    "plt.legend(loc='best')\n",
    "plt.show();"
   ]
  },
  {
   "cell_type": "markdown",
   "metadata": {},
   "source": [
    "### In Heart disease dataset, the accuracy increases with the increasing value of K and achieves max value at k=11. However, this is the case of overfitting due to limited values of validation set and cannot be considered. Thus, K=14 is selected after testing the data."
   ]
  }
 ],
 "metadata": {
  "kernelspec": {
   "display_name": "Python 3",
   "language": "python",
   "name": "python3"
  },
  "language_info": {
   "codemirror_mode": {
    "name": "ipython",
    "version": 3
   },
   "file_extension": ".py",
   "mimetype": "text/x-python",
   "name": "python",
   "nbconvert_exporter": "python",
   "pygments_lexer": "ipython3",
   "version": "3.8.5"
  }
 },
 "nbformat": 4,
 "nbformat_minor": 4
}
