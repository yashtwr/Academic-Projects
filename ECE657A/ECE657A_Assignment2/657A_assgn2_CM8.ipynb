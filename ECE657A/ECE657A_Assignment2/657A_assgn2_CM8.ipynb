{
 "cells": [
  {
   "cell_type": "markdown",
   "metadata": {},
   "source": [
    "# CM[8] Kaggle Competition Group38"
   ]
  },
  {
   "cell_type": "code",
   "execution_count": 5,
   "metadata": {},
   "outputs": [],
   "source": [
    "import numpy as np\n",
    "import pandas as pd\n",
    "import matplotlib.pyplot as plt\n",
    "import seaborn as sns\n",
    "import sklearn\n",
    "from sklearn.tree import DecisionTreeClassifier\n",
    "from sklearn.model_selection import train_test_split\n",
    "from sklearn import metrics\n",
    "from sklearn.model_selection import KFold\n",
    "from sklearn.ensemble import RandomForestClassifier\n",
    "from sklearn.ensemble import GradientBoostingClassifier\n",
    "from sklearn import tree\n",
    "import scipy"
   ]
  },
  {
   "cell_type": "code",
   "execution_count": 6,
   "metadata": {},
   "outputs": [
    {
     "data": {
      "text/html": [
       "<div>\n",
       "<style scoped>\n",
       "    .dataframe tbody tr th:only-of-type {\n",
       "        vertical-align: middle;\n",
       "    }\n",
       "\n",
       "    .dataframe tbody tr th {\n",
       "        vertical-align: top;\n",
       "    }\n",
       "\n",
       "    .dataframe thead th {\n",
       "        text-align: right;\n",
       "    }\n",
       "</style>\n",
       "<table border=\"1\" class=\"dataframe\">\n",
       "  <thead>\n",
       "    <tr style=\"text-align: right;\">\n",
       "      <th></th>\n",
       "      <th>Id</th>\n",
       "      <th>Day</th>\n",
       "      <th>State ID</th>\n",
       "      <th>State</th>\n",
       "      <th>Lat</th>\n",
       "      <th>Long_</th>\n",
       "      <th>Active</th>\n",
       "      <th>Incident_Rate</th>\n",
       "      <th>Total_Test_Results</th>\n",
       "      <th>Case_Fatality_Ratio</th>\n",
       "      <th>Testing_Rate</th>\n",
       "      <th>Resident Population 2020 Census</th>\n",
       "      <th>Population Density 2020 Census</th>\n",
       "      <th>Density Rank 2020 Census</th>\n",
       "      <th>SexRatio</th>\n",
       "    </tr>\n",
       "  </thead>\n",
       "  <tbody>\n",
       "    <tr>\n",
       "      <th>0</th>\n",
       "      <td>0</td>\n",
       "      <td>2</td>\n",
       "      <td>14</td>\n",
       "      <td>Illinois</td>\n",
       "      <td>40.3495</td>\n",
       "      <td>-88.9861</td>\n",
       "      <td>957138</td>\n",
       "      <td>7697.015291</td>\n",
       "      <td>13436652</td>\n",
       "      <td>1.867428</td>\n",
       "      <td>106035.6834</td>\n",
       "      <td>12,812,508</td>\n",
       "      <td>230.8</td>\n",
       "      <td>14</td>\n",
       "      <td>97</td>\n",
       "    </tr>\n",
       "    <tr>\n",
       "      <th>1</th>\n",
       "      <td>5</td>\n",
       "      <td>3</td>\n",
       "      <td>14</td>\n",
       "      <td>Illinois</td>\n",
       "      <td>40.3495</td>\n",
       "      <td>-88.9861</td>\n",
       "      <td>961499</td>\n",
       "      <td>7732.282519</td>\n",
       "      <td>13482117</td>\n",
       "      <td>1.869933</td>\n",
       "      <td>106394.4716</td>\n",
       "      <td>12,812,508</td>\n",
       "      <td>230.8</td>\n",
       "      <td>14</td>\n",
       "      <td>97</td>\n",
       "    </tr>\n",
       "    <tr>\n",
       "      <th>2</th>\n",
       "      <td>10</td>\n",
       "      <td>4</td>\n",
       "      <td>14</td>\n",
       "      <td>Illinois</td>\n",
       "      <td>40.3495</td>\n",
       "      <td>-88.9861</td>\n",
       "      <td>966468</td>\n",
       "      <td>7772.205747</td>\n",
       "      <td>13530371</td>\n",
       "      <td>1.869466</td>\n",
       "      <td>106775.2693</td>\n",
       "      <td>12,812,508</td>\n",
       "      <td>230.8</td>\n",
       "      <td>14</td>\n",
       "      <td>97</td>\n",
       "    </tr>\n",
       "    <tr>\n",
       "      <th>3</th>\n",
       "      <td>15</td>\n",
       "      <td>5</td>\n",
       "      <td>14</td>\n",
       "      <td>Illinois</td>\n",
       "      <td>40.3495</td>\n",
       "      <td>-88.9861</td>\n",
       "      <td>973157</td>\n",
       "      <td>7826.175891</td>\n",
       "      <td>13617454</td>\n",
       "      <td>1.871700</td>\n",
       "      <td>107462.4870</td>\n",
       "      <td>12,812,508</td>\n",
       "      <td>230.8</td>\n",
       "      <td>14</td>\n",
       "      <td>97</td>\n",
       "    </tr>\n",
       "    <tr>\n",
       "      <th>4</th>\n",
       "      <td>20</td>\n",
       "      <td>6</td>\n",
       "      <td>14</td>\n",
       "      <td>Illinois</td>\n",
       "      <td>40.3495</td>\n",
       "      <td>-88.9861</td>\n",
       "      <td>980553</td>\n",
       "      <td>7885.906848</td>\n",
       "      <td>13698428</td>\n",
       "      <td>1.874835</td>\n",
       "      <td>108101.4954</td>\n",
       "      <td>12,812,508</td>\n",
       "      <td>230.8</td>\n",
       "      <td>14</td>\n",
       "      <td>97</td>\n",
       "    </tr>\n",
       "  </tbody>\n",
       "</table>\n",
       "</div>"
      ],
      "text/plain": [
       "   Id  Day  State ID     State      Lat    Long_  Active  Incident_Rate  \\\n",
       "0   0    2        14  Illinois  40.3495 -88.9861  957138    7697.015291   \n",
       "1   5    3        14  Illinois  40.3495 -88.9861  961499    7732.282519   \n",
       "2  10    4        14  Illinois  40.3495 -88.9861  966468    7772.205747   \n",
       "3  15    5        14  Illinois  40.3495 -88.9861  973157    7826.175891   \n",
       "4  20    6        14  Illinois  40.3495 -88.9861  980553    7885.906848   \n",
       "\n",
       "   Total_Test_Results  Case_Fatality_Ratio  Testing_Rate  \\\n",
       "0            13436652             1.867428   106035.6834   \n",
       "1            13482117             1.869933   106394.4716   \n",
       "2            13530371             1.869466   106775.2693   \n",
       "3            13617454             1.871700   107462.4870   \n",
       "4            13698428             1.874835   108101.4954   \n",
       "\n",
       "  Resident Population 2020 Census  Population Density 2020 Census  \\\n",
       "0                      12,812,508                           230.8   \n",
       "1                      12,812,508                           230.8   \n",
       "2                      12,812,508                           230.8   \n",
       "3                      12,812,508                           230.8   \n",
       "4                      12,812,508                           230.8   \n",
       "\n",
       "   Density Rank 2020 Census  SexRatio  \n",
       "0                        14        97  \n",
       "1                        14        97  \n",
       "2                        14        97  \n",
       "3                        14        97  \n",
       "4                        14        97  "
      ]
     },
     "execution_count": 6,
     "metadata": {},
     "output_type": "execute_result"
    }
   ],
   "source": [
    "df = pd.read_csv(\"dkmacovid_kaggletest_features.csv\")\n",
    "df_train = pd.read_csv('cleaned_normalized_coviddata.csv')\n",
    "X_train = df_train.iloc[:,2:-3]\n",
    "y_train = df_train.iloc[:,-3:].astype('int')\n",
    "df.head(5)"
   ]
  },
  {
   "cell_type": "code",
   "execution_count": 7,
   "metadata": {},
   "outputs": [
    {
     "data": {
      "text/plain": [
       "Id                                   int64\n",
       "Day                                  int64\n",
       "State ID                             int64\n",
       "State                               object\n",
       "Lat                                float64\n",
       "Long_                              float64\n",
       "Active                               int64\n",
       "Incident_Rate                      float64\n",
       "Total_Test_Results                   int64\n",
       "Case_Fatality_Ratio                float64\n",
       "Testing_Rate                       float64\n",
       "Resident Population 2020 Census     object\n",
       "Population Density 2020 Census     float64\n",
       "Density Rank 2020 Census             int64\n",
       "SexRatio                             int64\n",
       "dtype: object"
      ]
     },
     "execution_count": 7,
     "metadata": {},
     "output_type": "execute_result"
    }
   ],
   "source": [
    "df.dtypes"
   ]
  },
  {
   "cell_type": "code",
   "execution_count": 8,
   "metadata": {},
   "outputs": [],
   "source": [
    "df['Resident Population 2020 Census'] = df['Resident Population 2020 Census'].str.replace(',','').astype(int)"
   ]
  },
  {
   "cell_type": "code",
   "execution_count": 9,
   "metadata": {},
   "outputs": [
    {
     "data": {
      "text/plain": [
       "Id                                 0\n",
       "Day                                0\n",
       "State ID                           0\n",
       "State                              0\n",
       "Lat                                0\n",
       "Long_                              0\n",
       "Active                             0\n",
       "Incident_Rate                      0\n",
       "Total_Test_Results                 0\n",
       "Case_Fatality_Ratio                0\n",
       "Testing_Rate                       0\n",
       "Resident Population 2020 Census    0\n",
       "Population Density 2020 Census     0\n",
       "Density Rank 2020 Census           0\n",
       "SexRatio                           0\n",
       "dtype: int64"
      ]
     },
     "execution_count": 9,
     "metadata": {},
     "output_type": "execute_result"
    }
   ],
   "source": [
    "df.isna().sum()"
   ]
  },
  {
   "cell_type": "code",
   "execution_count": 10,
   "metadata": {},
   "outputs": [
    {
     "data": {
      "text/plain": [
       "Lat                                  0\n",
       "Long_                              150\n",
       "Active                               0\n",
       "Incident_Rate                        0\n",
       "Total_Test_Results                   0\n",
       "Case_Fatality_Ratio                  0\n",
       "Testing_Rate                         0\n",
       "Resident Population 2020 Census      0\n",
       "Population Density 2020 Census       0\n",
       "Density Rank 2020 Census             0\n",
       "SexRatio                             0\n",
       "dtype: int64"
      ]
     },
     "execution_count": 10,
     "metadata": {},
     "output_type": "execute_result"
    }
   ],
   "source": [
    "(df.iloc[:,4:]<0).sum()"
   ]
  },
  {
   "cell_type": "code",
   "execution_count": 11,
   "metadata": {},
   "outputs": [],
   "source": [
    "df_gstate = df.groupby('State')"
   ]
  },
  {
   "cell_type": "code",
   "execution_count": 33,
   "metadata": {},
   "outputs": [],
   "source": [
    "for key,value in df_gstate:\n",
    "    groups = df_gstate.get_group(key)\n",
    "    temp = groups.iloc[:,4:]\n",
    "    for columns in temp:\n",
    "        Q1 = np.percentile(temp[columns],25)\n",
    "        Q3 = np.percentile(temp[columns],75)\n",
    "        IQR = Q3 - Q1\n",
    "        right_limit = Q3 + 1.5*IQR\n",
    "        left_limit = Q1 - 1.5*IQR\n",
    "        outlier_right_index = groups[groups[columns] > right_limit][columns].index\n",
    "        outlier_left_index = groups[groups[columns] < left_limit][columns].index\n",
    "        n_outliers = len(outlier_right_index) + len(outlier_left_index)\n",
    "        if(n_outliers > 0):\n",
    "            print(key,columns,n_outliers)\n",
    "            df.loc[outlier_right_index,columns] = right_limit\n",
    "            df.loc[outlier_left_index,columns] = left_limit"
   ]
  },
  {
   "cell_type": "code",
   "execution_count": 13,
   "metadata": {},
   "outputs": [],
   "source": [
    "X_test = df.iloc[:,4:]"
   ]
  },
  {
   "cell_type": "code",
   "execution_count": 14,
   "metadata": {},
   "outputs": [],
   "source": [
    "X_test = (X_test - X_test.mean())/ X_test.std()"
   ]
  },
  {
   "cell_type": "code",
   "execution_count": 15,
   "metadata": {},
   "outputs": [
    {
     "data": {
      "text/html": [
       "<div>\n",
       "<style scoped>\n",
       "    .dataframe tbody tr th:only-of-type {\n",
       "        vertical-align: middle;\n",
       "    }\n",
       "\n",
       "    .dataframe tbody tr th {\n",
       "        vertical-align: top;\n",
       "    }\n",
       "\n",
       "    .dataframe thead th {\n",
       "        text-align: right;\n",
       "    }\n",
       "</style>\n",
       "<table border=\"1\" class=\"dataframe\">\n",
       "  <thead>\n",
       "    <tr style=\"text-align: right;\">\n",
       "      <th></th>\n",
       "      <th>Lat</th>\n",
       "      <th>Long_</th>\n",
       "      <th>Active</th>\n",
       "      <th>Incident_Rate</th>\n",
       "      <th>Total_Test_Results</th>\n",
       "      <th>Case_Fatality_Ratio</th>\n",
       "      <th>Testing_Rate</th>\n",
       "      <th>Resident Population 2020 Census</th>\n",
       "      <th>Population Density 2020 Census</th>\n",
       "      <th>Density Rank 2020 Census</th>\n",
       "      <th>SexRatio</th>\n",
       "    </tr>\n",
       "  </thead>\n",
       "  <tbody>\n",
       "    <tr>\n",
       "      <th>0</th>\n",
       "      <td>0.185758</td>\n",
       "      <td>0.685045</td>\n",
       "      <td>1.624921</td>\n",
       "      <td>-0.034555</td>\n",
       "      <td>0.871610</td>\n",
       "      <td>1.714293</td>\n",
       "      <td>1.248503</td>\n",
       "      <td>0.093862</td>\n",
       "      <td>1.600344</td>\n",
       "      <td>-1.387770</td>\n",
       "      <td>-0.557150</td>\n",
       "    </tr>\n",
       "    <tr>\n",
       "      <th>1</th>\n",
       "      <td>0.185758</td>\n",
       "      <td>0.685045</td>\n",
       "      <td>1.636807</td>\n",
       "      <td>-0.019067</td>\n",
       "      <td>0.879419</td>\n",
       "      <td>1.725587</td>\n",
       "      <td>1.261108</td>\n",
       "      <td>0.093862</td>\n",
       "      <td>1.600344</td>\n",
       "      <td>-1.387770</td>\n",
       "      <td>-0.557150</td>\n",
       "    </tr>\n",
       "    <tr>\n",
       "      <th>2</th>\n",
       "      <td>0.185758</td>\n",
       "      <td>0.685045</td>\n",
       "      <td>1.650350</td>\n",
       "      <td>-0.001535</td>\n",
       "      <td>0.887708</td>\n",
       "      <td>1.723482</td>\n",
       "      <td>1.274487</td>\n",
       "      <td>0.093862</td>\n",
       "      <td>1.600344</td>\n",
       "      <td>-1.387770</td>\n",
       "      <td>-0.557150</td>\n",
       "    </tr>\n",
       "    <tr>\n",
       "      <th>3</th>\n",
       "      <td>0.185758</td>\n",
       "      <td>0.685045</td>\n",
       "      <td>1.668580</td>\n",
       "      <td>0.022167</td>\n",
       "      <td>0.902667</td>\n",
       "      <td>1.733551</td>\n",
       "      <td>1.298632</td>\n",
       "      <td>0.093862</td>\n",
       "      <td>1.600344</td>\n",
       "      <td>-1.387770</td>\n",
       "      <td>-0.557150</td>\n",
       "    </tr>\n",
       "    <tr>\n",
       "      <th>4</th>\n",
       "      <td>0.185758</td>\n",
       "      <td>0.685045</td>\n",
       "      <td>1.688737</td>\n",
       "      <td>0.048398</td>\n",
       "      <td>0.916576</td>\n",
       "      <td>1.747687</td>\n",
       "      <td>1.321083</td>\n",
       "      <td>0.093862</td>\n",
       "      <td>1.600344</td>\n",
       "      <td>-1.387770</td>\n",
       "      <td>-0.557150</td>\n",
       "    </tr>\n",
       "    <tr>\n",
       "      <th>...</th>\n",
       "      <td>...</td>\n",
       "      <td>...</td>\n",
       "      <td>...</td>\n",
       "      <td>...</td>\n",
       "      <td>...</td>\n",
       "      <td>...</td>\n",
       "      <td>...</td>\n",
       "      <td>...</td>\n",
       "      <td>...</td>\n",
       "      <td>...</td>\n",
       "      <td>...</td>\n",
       "    </tr>\n",
       "    <tr>\n",
       "      <th>145</th>\n",
       "      <td>1.449287</td>\n",
       "      <td>-1.903393</td>\n",
       "      <td>-0.163129</td>\n",
       "      <td>-1.654112</td>\n",
       "      <td>-0.672606</td>\n",
       "      <td>-0.486315</td>\n",
       "      <td>-0.425243</td>\n",
       "      <td>-0.463803</td>\n",
       "      <td>-0.351668</td>\n",
       "      <td>-0.102798</td>\n",
       "      <td>1.114301</td>\n",
       "    </tr>\n",
       "    <tr>\n",
       "      <th>146</th>\n",
       "      <td>1.449287</td>\n",
       "      <td>-1.903393</td>\n",
       "      <td>-0.156348</td>\n",
       "      <td>-1.639579</td>\n",
       "      <td>-0.668592</td>\n",
       "      <td>-0.490357</td>\n",
       "      <td>-0.414460</td>\n",
       "      <td>-0.463803</td>\n",
       "      <td>-0.351668</td>\n",
       "      <td>-0.102798</td>\n",
       "      <td>1.114301</td>\n",
       "    </tr>\n",
       "    <tr>\n",
       "      <th>147</th>\n",
       "      <td>1.449287</td>\n",
       "      <td>-1.903393</td>\n",
       "      <td>-0.151034</td>\n",
       "      <td>-1.628091</td>\n",
       "      <td>-0.664255</td>\n",
       "      <td>-0.469195</td>\n",
       "      <td>-0.402811</td>\n",
       "      <td>-0.463803</td>\n",
       "      <td>-0.351668</td>\n",
       "      <td>-0.102798</td>\n",
       "      <td>1.114301</td>\n",
       "    </tr>\n",
       "    <tr>\n",
       "      <th>148</th>\n",
       "      <td>1.449287</td>\n",
       "      <td>-1.903393</td>\n",
       "      <td>-0.146139</td>\n",
       "      <td>-1.617734</td>\n",
       "      <td>-0.659315</td>\n",
       "      <td>-0.505139</td>\n",
       "      <td>-0.389542</td>\n",
       "      <td>-0.463803</td>\n",
       "      <td>-0.351668</td>\n",
       "      <td>-0.102798</td>\n",
       "      <td>1.114301</td>\n",
       "    </tr>\n",
       "    <tr>\n",
       "      <th>149</th>\n",
       "      <td>1.449287</td>\n",
       "      <td>-1.903393</td>\n",
       "      <td>-0.146139</td>\n",
       "      <td>-1.617734</td>\n",
       "      <td>-0.655189</td>\n",
       "      <td>-0.505139</td>\n",
       "      <td>-0.378461</td>\n",
       "      <td>-0.463803</td>\n",
       "      <td>-0.351668</td>\n",
       "      <td>-0.102798</td>\n",
       "      <td>1.114301</td>\n",
       "    </tr>\n",
       "  </tbody>\n",
       "</table>\n",
       "<p>150 rows × 11 columns</p>\n",
       "</div>"
      ],
      "text/plain": [
       "          Lat     Long_    Active  Incident_Rate  Total_Test_Results  \\\n",
       "0    0.185758  0.685045  1.624921      -0.034555            0.871610   \n",
       "1    0.185758  0.685045  1.636807      -0.019067            0.879419   \n",
       "2    0.185758  0.685045  1.650350      -0.001535            0.887708   \n",
       "3    0.185758  0.685045  1.668580       0.022167            0.902667   \n",
       "4    0.185758  0.685045  1.688737       0.048398            0.916576   \n",
       "..        ...       ...       ...            ...                 ...   \n",
       "145  1.449287 -1.903393 -0.163129      -1.654112           -0.672606   \n",
       "146  1.449287 -1.903393 -0.156348      -1.639579           -0.668592   \n",
       "147  1.449287 -1.903393 -0.151034      -1.628091           -0.664255   \n",
       "148  1.449287 -1.903393 -0.146139      -1.617734           -0.659315   \n",
       "149  1.449287 -1.903393 -0.146139      -1.617734           -0.655189   \n",
       "\n",
       "     Case_Fatality_Ratio  Testing_Rate  Resident Population 2020 Census  \\\n",
       "0               1.714293      1.248503                         0.093862   \n",
       "1               1.725587      1.261108                         0.093862   \n",
       "2               1.723482      1.274487                         0.093862   \n",
       "3               1.733551      1.298632                         0.093862   \n",
       "4               1.747687      1.321083                         0.093862   \n",
       "..                   ...           ...                              ...   \n",
       "145            -0.486315     -0.425243                        -0.463803   \n",
       "146            -0.490357     -0.414460                        -0.463803   \n",
       "147            -0.469195     -0.402811                        -0.463803   \n",
       "148            -0.505139     -0.389542                        -0.463803   \n",
       "149            -0.505139     -0.378461                        -0.463803   \n",
       "\n",
       "     Population Density 2020 Census  Density Rank 2020 Census  SexRatio  \n",
       "0                          1.600344                 -1.387770 -0.557150  \n",
       "1                          1.600344                 -1.387770 -0.557150  \n",
       "2                          1.600344                 -1.387770 -0.557150  \n",
       "3                          1.600344                 -1.387770 -0.557150  \n",
       "4                          1.600344                 -1.387770 -0.557150  \n",
       "..                              ...                       ...       ...  \n",
       "145                       -0.351668                 -0.102798  1.114301  \n",
       "146                       -0.351668                 -0.102798  1.114301  \n",
       "147                       -0.351668                 -0.102798  1.114301  \n",
       "148                       -0.351668                 -0.102798  1.114301  \n",
       "149                       -0.351668                 -0.102798  1.114301  \n",
       "\n",
       "[150 rows x 11 columns]"
      ]
     },
     "execution_count": 15,
     "metadata": {},
     "output_type": "execute_result"
    }
   ],
   "source": [
    "X_test"
   ]
  },
  {
   "cell_type": "markdown",
   "metadata": {},
   "source": [
    "## Preprocessing Completed"
   ]
  },
  {
   "cell_type": "markdown",
   "metadata": {},
   "source": [
    "# Label Recovered"
   ]
  },
  {
   "cell_type": "code",
   "execution_count": 46,
   "metadata": {},
   "outputs": [],
   "source": [
    "classifier_RandomForest_recovered = RandomForestClassifier(max_depth = 3,n_estimators = 150, random_state=0)"
   ]
  },
  {
   "cell_type": "code",
   "execution_count": 47,
   "metadata": {},
   "outputs": [
    {
     "data": {
      "text/plain": [
       "RandomForestClassifier(max_depth=3, n_estimators=150, random_state=0)"
      ]
     },
     "execution_count": 47,
     "metadata": {},
     "output_type": "execute_result"
    }
   ],
   "source": [
    "classifier_RandomForest_recovered.fit(X_train,y_train.loc[:,'Recovered'])"
   ]
  },
  {
   "cell_type": "code",
   "execution_count": 48,
   "metadata": {},
   "outputs": [],
   "source": [
    "y_pred_recovered = classifier_RandomForest_recovered.predict(X_test)"
   ]
  },
  {
   "cell_type": "code",
   "execution_count": 49,
   "metadata": {},
   "outputs": [
    {
     "data": {
      "text/plain": [
       "array([1, 1, 1, 1, 1, 1, 1, 1, 1, 1, 1, 1, 1, 1, 1, 1, 1, 1, 1, 1, 1, 1,\n",
       "       1, 1, 1, 1, 1, 1, 1, 1, 1, 1, 1, 1, 1, 1, 1, 1, 1, 1, 1, 1, 1, 1,\n",
       "       1, 1, 1, 1, 1, 1, 1, 1, 1, 1, 1, 1, 1, 1, 1, 1, 1, 1, 1, 1, 1, 1,\n",
       "       1, 1, 1, 1, 1, 1, 1, 1, 1, 1, 1, 1, 1, 1, 1, 1, 1, 1, 1, 1, 1, 1,\n",
       "       1, 1, 0, 0, 0, 0, 0, 0, 0, 0, 0, 0, 0, 0, 0, 0, 0, 0, 0, 0, 0, 0,\n",
       "       0, 0, 0, 0, 0, 0, 0, 0, 0, 0, 0, 0, 0, 0, 0, 0, 0, 0, 0, 0, 0, 0,\n",
       "       0, 0, 0, 0, 0, 0, 0, 0, 0, 0, 0, 0, 0, 0, 0, 0, 0, 0])"
      ]
     },
     "execution_count": 49,
     "metadata": {},
     "output_type": "execute_result"
    }
   ],
   "source": [
    "y_pred_recovered"
   ]
  },
  {
   "cell_type": "markdown",
   "metadata": {},
   "source": [
    "## Label: Deaths"
   ]
  },
  {
   "cell_type": "code",
   "execution_count": 50,
   "metadata": {},
   "outputs": [],
   "source": [
    "classifier_RandomForest_deaths = RandomForestClassifier(max_depth = 5,n_estimators = 150, random_state=0)"
   ]
  },
  {
   "cell_type": "code",
   "execution_count": 51,
   "metadata": {},
   "outputs": [
    {
     "data": {
      "text/plain": [
       "RandomForestClassifier(max_depth=5, n_estimators=150, random_state=0)"
      ]
     },
     "execution_count": 51,
     "metadata": {},
     "output_type": "execute_result"
    }
   ],
   "source": [
    "classifier_RandomForest_deaths.fit(X_train,y_train.loc[:,'Deaths'])"
   ]
  },
  {
   "cell_type": "code",
   "execution_count": 52,
   "metadata": {},
   "outputs": [],
   "source": [
    "y_pred_deaths = classifier_RandomForest_deaths.predict(X_test)"
   ]
  },
  {
   "cell_type": "code",
   "execution_count": 53,
   "metadata": {},
   "outputs": [
    {
     "data": {
      "text/plain": [
       "array([1, 1, 1, 1, 1, 1, 1, 1, 1, 1, 1, 1, 1, 1, 1, 1, 1, 1, 1, 1, 1, 1,\n",
       "       1, 1, 1, 1, 1, 1, 1, 1, 0, 0, 0, 0, 1, 1, 0, 1, 1, 0, 0, 0, 0, 0,\n",
       "       0, 0, 0, 0, 0, 0, 0, 0, 0, 0, 0, 0, 0, 0, 0, 0, 1, 1, 1, 1, 1, 1,\n",
       "       1, 1, 1, 1, 1, 1, 1, 1, 1, 1, 1, 1, 1, 1, 1, 1, 1, 1, 1, 1, 1, 1,\n",
       "       1, 1, 1, 1, 1, 1, 1, 1, 1, 1, 1, 1, 1, 1, 1, 1, 1, 1, 1, 1, 1, 1,\n",
       "       1, 1, 1, 1, 1, 1, 1, 1, 1, 1, 1, 1, 1, 1, 1, 1, 1, 1, 1, 1, 1, 1,\n",
       "       1, 1, 1, 1, 1, 1, 1, 1, 1, 1, 1, 1, 1, 1, 1, 1, 1, 1])"
      ]
     },
     "execution_count": 53,
     "metadata": {},
     "output_type": "execute_result"
    }
   ],
   "source": [
    "y_pred_deaths"
   ]
  },
  {
   "cell_type": "markdown",
   "metadata": {},
   "source": [
    "# Label : Confirmed"
   ]
  },
  {
   "cell_type": "code",
   "execution_count": 54,
   "metadata": {},
   "outputs": [],
   "source": [
    "classifier_RandomForest_confirmed = RandomForestClassifier(max_depth = 5,n_estimators = 150, random_state=0)"
   ]
  },
  {
   "cell_type": "code",
   "execution_count": 55,
   "metadata": {},
   "outputs": [
    {
     "data": {
      "text/plain": [
       "RandomForestClassifier(max_depth=5, n_estimators=150, random_state=0)"
      ]
     },
     "execution_count": 55,
     "metadata": {},
     "output_type": "execute_result"
    }
   ],
   "source": [
    "classifier_RandomForest_confirmed.fit(X_train,y_train.loc[:,'Confirmed'])"
   ]
  },
  {
   "cell_type": "code",
   "execution_count": 56,
   "metadata": {},
   "outputs": [],
   "source": [
    "y_pred_confirmed = classifier_RandomForest_confirmed.predict(X_test)"
   ]
  },
  {
   "cell_type": "code",
   "execution_count": 57,
   "metadata": {},
   "outputs": [
    {
     "data": {
      "text/plain": [
       "(150,)"
      ]
     },
     "execution_count": 57,
     "metadata": {},
     "output_type": "execute_result"
    }
   ],
   "source": [
    "y_pred_confirmed.shape"
   ]
  },
  {
   "cell_type": "code",
   "execution_count": 58,
   "metadata": {},
   "outputs": [],
   "source": [
    "new_df = pd.DataFrame()"
   ]
  },
  {
   "cell_type": "code",
   "execution_count": 59,
   "metadata": {},
   "outputs": [],
   "source": [
    "new_df['Id'] = df.loc[:,'Id']\n",
    "new_df['Confirmed'] = y_pred_confirmed\n",
    "new_df['Deaths'] = y_pred_deaths\n",
    "new_df['Recovered'] = y_pred_recovered"
   ]
  },
  {
   "cell_type": "code",
   "execution_count": 60,
   "metadata": {},
   "outputs": [
    {
     "data": {
      "text/html": [
       "<div>\n",
       "<style scoped>\n",
       "    .dataframe tbody tr th:only-of-type {\n",
       "        vertical-align: middle;\n",
       "    }\n",
       "\n",
       "    .dataframe tbody tr th {\n",
       "        vertical-align: top;\n",
       "    }\n",
       "\n",
       "    .dataframe thead th {\n",
       "        text-align: right;\n",
       "    }\n",
       "</style>\n",
       "<table border=\"1\" class=\"dataframe\">\n",
       "  <thead>\n",
       "    <tr style=\"text-align: right;\">\n",
       "      <th></th>\n",
       "      <th>Id</th>\n",
       "      <th>Confirmed</th>\n",
       "      <th>Deaths</th>\n",
       "      <th>Recovered</th>\n",
       "    </tr>\n",
       "  </thead>\n",
       "  <tbody>\n",
       "    <tr>\n",
       "      <th>0</th>\n",
       "      <td>0</td>\n",
       "      <td>1</td>\n",
       "      <td>1</td>\n",
       "      <td>1</td>\n",
       "    </tr>\n",
       "    <tr>\n",
       "      <th>1</th>\n",
       "      <td>5</td>\n",
       "      <td>1</td>\n",
       "      <td>1</td>\n",
       "      <td>1</td>\n",
       "    </tr>\n",
       "    <tr>\n",
       "      <th>2</th>\n",
       "      <td>10</td>\n",
       "      <td>1</td>\n",
       "      <td>1</td>\n",
       "      <td>1</td>\n",
       "    </tr>\n",
       "    <tr>\n",
       "      <th>3</th>\n",
       "      <td>15</td>\n",
       "      <td>1</td>\n",
       "      <td>1</td>\n",
       "      <td>1</td>\n",
       "    </tr>\n",
       "    <tr>\n",
       "      <th>4</th>\n",
       "      <td>20</td>\n",
       "      <td>1</td>\n",
       "      <td>1</td>\n",
       "      <td>1</td>\n",
       "    </tr>\n",
       "    <tr>\n",
       "      <th>...</th>\n",
       "      <td>...</td>\n",
       "      <td>...</td>\n",
       "      <td>...</td>\n",
       "      <td>...</td>\n",
       "    </tr>\n",
       "    <tr>\n",
       "      <th>145</th>\n",
       "      <td>129</td>\n",
       "      <td>1</td>\n",
       "      <td>1</td>\n",
       "      <td>0</td>\n",
       "    </tr>\n",
       "    <tr>\n",
       "      <th>146</th>\n",
       "      <td>134</td>\n",
       "      <td>1</td>\n",
       "      <td>1</td>\n",
       "      <td>0</td>\n",
       "    </tr>\n",
       "    <tr>\n",
       "      <th>147</th>\n",
       "      <td>139</td>\n",
       "      <td>1</td>\n",
       "      <td>1</td>\n",
       "      <td>0</td>\n",
       "    </tr>\n",
       "    <tr>\n",
       "      <th>148</th>\n",
       "      <td>144</td>\n",
       "      <td>1</td>\n",
       "      <td>1</td>\n",
       "      <td>0</td>\n",
       "    </tr>\n",
       "    <tr>\n",
       "      <th>149</th>\n",
       "      <td>149</td>\n",
       "      <td>1</td>\n",
       "      <td>1</td>\n",
       "      <td>0</td>\n",
       "    </tr>\n",
       "  </tbody>\n",
       "</table>\n",
       "<p>150 rows × 4 columns</p>\n",
       "</div>"
      ],
      "text/plain": [
       "      Id  Confirmed  Deaths  Recovered\n",
       "0      0          1       1          1\n",
       "1      5          1       1          1\n",
       "2     10          1       1          1\n",
       "3     15          1       1          1\n",
       "4     20          1       1          1\n",
       "..   ...        ...     ...        ...\n",
       "145  129          1       1          0\n",
       "146  134          1       1          0\n",
       "147  139          1       1          0\n",
       "148  144          1       1          0\n",
       "149  149          1       1          0\n",
       "\n",
       "[150 rows x 4 columns]"
      ]
     },
     "execution_count": 60,
     "metadata": {},
     "output_type": "execute_result"
    }
   ],
   "source": [
    "new_df"
   ]
  },
  {
   "cell_type": "code",
   "execution_count": 61,
   "metadata": {},
   "outputs": [],
   "source": [
    "new_df.to_csv(\"Kagglepred_new.csv\",index = False)"
   ]
  },
  {
   "cell_type": "code",
   "execution_count": null,
   "metadata": {},
   "outputs": [],
   "source": []
  }
 ],
 "metadata": {
  "kernelspec": {
   "display_name": "Python 3",
   "language": "python",
   "name": "python3"
  },
  "language_info": {
   "codemirror_mode": {
    "name": "ipython",
    "version": 3
   },
   "file_extension": ".py",
   "mimetype": "text/x-python",
   "name": "python",
   "nbconvert_exporter": "python",
   "pygments_lexer": "ipython3",
   "version": "3.8.5"
  }
 },
 "nbformat": 4,
 "nbformat_minor": 4
}
