{
 "cells": [
  {
   "cell_type": "markdown",
   "metadata": {},
   "source": [
    "# [CM3] Decision Trees Classifier"
   ]
  },
  {
   "cell_type": "markdown",
   "metadata": {},
   "source": [
    "Importing all necessary libraries."
   ]
  },
  {
   "cell_type": "code",
   "execution_count": 74,
   "metadata": {},
   "outputs": [],
   "source": [
    "import numpy as np\n",
    "import pandas as pd\n",
    "import matplotlib.pyplot as plt\n",
    "import seaborn as sns\n",
    "from sklearn.tree import DecisionTreeClassifier\n",
    "from sklearn import tree\n",
    "from sklearn.model_selection import cross_val_score"
   ]
  },
  {
   "cell_type": "code",
   "execution_count": 75,
   "metadata": {},
   "outputs": [],
   "source": [
    "# readng clean and normalized covid dataset\n",
    "df_train = pd.read_csv('cleaned_normalized_coviddata.csv')"
   ]
  },
  {
   "cell_type": "code",
   "execution_count": 76,
   "metadata": {},
   "outputs": [
    {
     "data": {
      "text/html": [
       "<div>\n",
       "<style scoped>\n",
       "    .dataframe tbody tr th:only-of-type {\n",
       "        vertical-align: middle;\n",
       "    }\n",
       "\n",
       "    .dataframe tbody tr th {\n",
       "        vertical-align: top;\n",
       "    }\n",
       "\n",
       "    .dataframe thead th {\n",
       "        text-align: right;\n",
       "    }\n",
       "</style>\n",
       "<table border=\"1\" class=\"dataframe\">\n",
       "  <thead>\n",
       "    <tr style=\"text-align: right;\">\n",
       "      <th></th>\n",
       "      <th>Day</th>\n",
       "      <th>State ID</th>\n",
       "      <th>Lat</th>\n",
       "      <th>Long_</th>\n",
       "      <th>Active</th>\n",
       "      <th>Incident_Rate</th>\n",
       "      <th>Total_Test_Results</th>\n",
       "      <th>Case_Fatality_Ratio</th>\n",
       "      <th>Testing_Rate</th>\n",
       "      <th>Resident Population 2020 Census</th>\n",
       "      <th>Population Density 2020 Census</th>\n",
       "      <th>Density Rank 2020 Census</th>\n",
       "      <th>SexRatio</th>\n",
       "      <th>Confirmed</th>\n",
       "      <th>Deaths</th>\n",
       "      <th>Recovered</th>\n",
       "    </tr>\n",
       "  </thead>\n",
       "  <tbody>\n",
       "    <tr>\n",
       "      <th>0</th>\n",
       "      <td>2</td>\n",
       "      <td>1</td>\n",
       "      <td>-1.178243</td>\n",
       "      <td>0.304476</td>\n",
       "      <td>-0.200641</td>\n",
       "      <td>0.143976</td>\n",
       "      <td>-0.483393</td>\n",
       "      <td>-0.475230</td>\n",
       "      <td>-1.301745</td>\n",
       "      <td>-0.128579</td>\n",
       "      <td>-0.217013</td>\n",
       "      <td>0.118745</td>\n",
       "      <td>-1.168255</td>\n",
       "      <td>True</td>\n",
       "      <td>False</td>\n",
       "      <td>False</td>\n",
       "    </tr>\n",
       "    <tr>\n",
       "      <th>1</th>\n",
       "      <td>2</td>\n",
       "      <td>2</td>\n",
       "      <td>3.607611</td>\n",
       "      <td>-3.031933</td>\n",
       "      <td>-0.448967</td>\n",
       "      <td>-0.290209</td>\n",
       "      <td>-0.569371</td>\n",
       "      <td>-1.797949</td>\n",
       "      <td>2.071154</td>\n",
       "      <td>-0.754174</td>\n",
       "      <td>-0.276752</td>\n",
       "      <td>1.614369</td>\n",
       "      <td>3.491260</td>\n",
       "      <td>True</td>\n",
       "      <td>True</td>\n",
       "      <td>False</td>\n",
       "    </tr>\n",
       "    <tr>\n",
       "      <th>2</th>\n",
       "      <td>2</td>\n",
       "      <td>3</td>\n",
       "      <td>-0.945708</td>\n",
       "      <td>-0.944926</td>\n",
       "      <td>0.389043</td>\n",
       "      <td>0.088511</td>\n",
       "      <td>-0.007491</td>\n",
       "      <td>0.075713</td>\n",
       "      <td>-1.268952</td>\n",
       "      <td>0.181561</td>\n",
       "      <td>-0.239163</td>\n",
       "      <td>0.508908</td>\n",
       "      <td>0.384916</td>\n",
       "      <td>True</td>\n",
       "      <td>True</td>\n",
       "      <td>True</td>\n",
       "    </tr>\n",
       "    <tr>\n",
       "      <th>3</th>\n",
       "      <td>2</td>\n",
       "      <td>4</td>\n",
       "      <td>-0.741458</td>\n",
       "      <td>0.025816</td>\n",
       "      <td>-0.482359</td>\n",
       "      <td>0.202178</td>\n",
       "      <td>-0.456457</td>\n",
       "      <td>-0.029941</td>\n",
       "      <td>-0.559153</td>\n",
       "      <td>-0.422031</td>\n",
       "      <td>-0.242214</td>\n",
       "      <td>0.573935</td>\n",
       "      <td>-0.546987</td>\n",
       "      <td>True</td>\n",
       "      <td>True</td>\n",
       "      <td>True</td>\n",
       "    </tr>\n",
       "    <tr>\n",
       "      <th>4</th>\n",
       "      <td>2</td>\n",
       "      <td>5</td>\n",
       "      <td>-0.552594</td>\n",
       "      <td>-1.365168</td>\n",
       "      <td>4.275448</td>\n",
       "      <td>-0.502417</td>\n",
       "      <td>4.022089</td>\n",
       "      <td>-0.791062</td>\n",
       "      <td>-0.177543</td>\n",
       "      <td>4.903416</td>\n",
       "      <td>-0.122735</td>\n",
       "      <td>-0.921689</td>\n",
       "      <td>0.384916</td>\n",
       "      <td>True</td>\n",
       "      <td>True</td>\n",
       "      <td>False</td>\n",
       "    </tr>\n",
       "  </tbody>\n",
       "</table>\n",
       "</div>"
      ],
      "text/plain": [
       "   Day  State ID       Lat     Long_    Active  Incident_Rate  \\\n",
       "0    2         1 -1.178243  0.304476 -0.200641       0.143976   \n",
       "1    2         2  3.607611 -3.031933 -0.448967      -0.290209   \n",
       "2    2         3 -0.945708 -0.944926  0.389043       0.088511   \n",
       "3    2         4 -0.741458  0.025816 -0.482359       0.202178   \n",
       "4    2         5 -0.552594 -1.365168  4.275448      -0.502417   \n",
       "\n",
       "   Total_Test_Results  Case_Fatality_Ratio  Testing_Rate  \\\n",
       "0           -0.483393            -0.475230     -1.301745   \n",
       "1           -0.569371            -1.797949      2.071154   \n",
       "2           -0.007491             0.075713     -1.268952   \n",
       "3           -0.456457            -0.029941     -0.559153   \n",
       "4            4.022089            -0.791062     -0.177543   \n",
       "\n",
       "   Resident Population 2020 Census  Population Density 2020 Census  \\\n",
       "0                        -0.128579                       -0.217013   \n",
       "1                        -0.754174                       -0.276752   \n",
       "2                         0.181561                       -0.239163   \n",
       "3                        -0.422031                       -0.242214   \n",
       "4                         4.903416                       -0.122735   \n",
       "\n",
       "   Density Rank 2020 Census  SexRatio  Confirmed  Deaths  Recovered  \n",
       "0                  0.118745 -1.168255       True   False      False  \n",
       "1                  1.614369  3.491260       True    True      False  \n",
       "2                  0.508908  0.384916       True    True       True  \n",
       "3                  0.573935 -0.546987       True    True       True  \n",
       "4                 -0.921689  0.384916       True    True      False  "
      ]
     },
     "execution_count": 76,
     "metadata": {},
     "output_type": "execute_result"
    }
   ],
   "source": [
    "df_train.head()"
   ]
  },
  {
   "cell_type": "code",
   "execution_count": 77,
   "metadata": {},
   "outputs": [
    {
     "data": {
      "text/html": [
       "<div>\n",
       "<style scoped>\n",
       "    .dataframe tbody tr th:only-of-type {\n",
       "        vertical-align: middle;\n",
       "    }\n",
       "\n",
       "    .dataframe tbody tr th {\n",
       "        vertical-align: top;\n",
       "    }\n",
       "\n",
       "    .dataframe thead th {\n",
       "        text-align: right;\n",
       "    }\n",
       "</style>\n",
       "<table border=\"1\" class=\"dataframe\">\n",
       "  <thead>\n",
       "    <tr style=\"text-align: right;\">\n",
       "      <th></th>\n",
       "      <th>Lat</th>\n",
       "      <th>Long_</th>\n",
       "      <th>Active</th>\n",
       "      <th>Incident_Rate</th>\n",
       "      <th>Total_Test_Results</th>\n",
       "      <th>Case_Fatality_Ratio</th>\n",
       "      <th>Testing_Rate</th>\n",
       "      <th>Resident Population 2020 Census</th>\n",
       "      <th>Population Density 2020 Census</th>\n",
       "      <th>Density Rank 2020 Census</th>\n",
       "      <th>SexRatio</th>\n",
       "    </tr>\n",
       "  </thead>\n",
       "  <tbody>\n",
       "    <tr>\n",
       "      <th>0</th>\n",
       "      <td>-1.178243</td>\n",
       "      <td>0.304476</td>\n",
       "      <td>-0.200641</td>\n",
       "      <td>0.143976</td>\n",
       "      <td>-0.483393</td>\n",
       "      <td>-0.475230</td>\n",
       "      <td>-1.301745</td>\n",
       "      <td>-0.128579</td>\n",
       "      <td>-0.217013</td>\n",
       "      <td>0.118745</td>\n",
       "      <td>-1.168255</td>\n",
       "    </tr>\n",
       "    <tr>\n",
       "      <th>1</th>\n",
       "      <td>3.607611</td>\n",
       "      <td>-3.031933</td>\n",
       "      <td>-0.448967</td>\n",
       "      <td>-0.290209</td>\n",
       "      <td>-0.569371</td>\n",
       "      <td>-1.797949</td>\n",
       "      <td>2.071154</td>\n",
       "      <td>-0.754174</td>\n",
       "      <td>-0.276752</td>\n",
       "      <td>1.614369</td>\n",
       "      <td>3.491260</td>\n",
       "    </tr>\n",
       "    <tr>\n",
       "      <th>2</th>\n",
       "      <td>-0.945708</td>\n",
       "      <td>-0.944926</td>\n",
       "      <td>0.389043</td>\n",
       "      <td>0.088511</td>\n",
       "      <td>-0.007491</td>\n",
       "      <td>0.075713</td>\n",
       "      <td>-1.268952</td>\n",
       "      <td>0.181561</td>\n",
       "      <td>-0.239163</td>\n",
       "      <td>0.508908</td>\n",
       "      <td>0.384916</td>\n",
       "    </tr>\n",
       "    <tr>\n",
       "      <th>3</th>\n",
       "      <td>-0.741458</td>\n",
       "      <td>0.025816</td>\n",
       "      <td>-0.482359</td>\n",
       "      <td>0.202178</td>\n",
       "      <td>-0.456457</td>\n",
       "      <td>-0.029941</td>\n",
       "      <td>-0.559153</td>\n",
       "      <td>-0.422031</td>\n",
       "      <td>-0.242214</td>\n",
       "      <td>0.573935</td>\n",
       "      <td>-0.546987</td>\n",
       "    </tr>\n",
       "    <tr>\n",
       "      <th>4</th>\n",
       "      <td>-0.552594</td>\n",
       "      <td>-1.365168</td>\n",
       "      <td>4.275448</td>\n",
       "      <td>-0.502417</td>\n",
       "      <td>4.022089</td>\n",
       "      <td>-0.791062</td>\n",
       "      <td>-0.177543</td>\n",
       "      <td>4.903416</td>\n",
       "      <td>-0.122735</td>\n",
       "      <td>-0.921689</td>\n",
       "      <td>0.384916</td>\n",
       "    </tr>\n",
       "    <tr>\n",
       "      <th>...</th>\n",
       "      <td>...</td>\n",
       "      <td>...</td>\n",
       "      <td>...</td>\n",
       "      <td>...</td>\n",
       "      <td>...</td>\n",
       "      <td>...</td>\n",
       "      <td>...</td>\n",
       "      <td>...</td>\n",
       "      <td>...</td>\n",
       "      <td>...</td>\n",
       "      <td>...</td>\n",
       "    </tr>\n",
       "    <tr>\n",
       "      <th>1375</th>\n",
       "      <td>0.753675</td>\n",
       "      <td>1.027338</td>\n",
       "      <td>-0.524025</td>\n",
       "      <td>-2.293117</td>\n",
       "      <td>-0.625582</td>\n",
       "      <td>-0.268880</td>\n",
       "      <td>1.273810</td>\n",
       "      <td>-0.767341</td>\n",
       "      <td>-0.234953</td>\n",
       "      <td>0.378854</td>\n",
       "      <td>-0.236352</td>\n",
       "    </tr>\n",
       "    <tr>\n",
       "      <th>1376</th>\n",
       "      <td>-0.280277</td>\n",
       "      <td>0.749264</td>\n",
       "      <td>0.400787</td>\n",
       "      <td>-0.559356</td>\n",
       "      <td>-0.005284</td>\n",
       "      <td>-0.533271</td>\n",
       "      <td>-0.745045</td>\n",
       "      <td>0.397324</td>\n",
       "      <td>-0.144153</td>\n",
       "      <td>-0.726607</td>\n",
       "      <td>-0.236352</td>\n",
       "    </tr>\n",
       "    <tr>\n",
       "      <th>1377</th>\n",
       "      <td>-0.161357</td>\n",
       "      <td>0.607433</td>\n",
       "      <td>-0.488091</td>\n",
       "      <td>-0.195859</td>\n",
       "      <td>-0.475653</td>\n",
       "      <td>0.063695</td>\n",
       "      <td>0.411132</td>\n",
       "      <td>-0.599582</td>\n",
       "      <td>-0.232024</td>\n",
       "      <td>0.248799</td>\n",
       "      <td>0.074282</td>\n",
       "    </tr>\n",
       "    <tr>\n",
       "      <th>1378</th>\n",
       "      <td>0.790345</td>\n",
       "      <td>0.166226</td>\n",
       "      <td>-0.391751</td>\n",
       "      <td>1.287093</td>\n",
       "      <td>0.129655</td>\n",
       "      <td>-0.828583</td>\n",
       "      <td>0.350879</td>\n",
       "      <td>-0.001818</td>\n",
       "      <td>-0.211155</td>\n",
       "      <td>-0.011309</td>\n",
       "      <td>0.384916</td>\n",
       "    </tr>\n",
       "    <tr>\n",
       "      <th>1379</th>\n",
       "      <td>0.541189</td>\n",
       "      <td>-0.734627</td>\n",
       "      <td>-0.528551</td>\n",
       "      <td>0.766301</td>\n",
       "      <td>-0.663109</td>\n",
       "      <td>-0.734918</td>\n",
       "      <td>0.439366</td>\n",
       "      <td>-0.776996</td>\n",
       "      <td>-0.273945</td>\n",
       "      <td>1.549342</td>\n",
       "      <td>1.938088</td>\n",
       "    </tr>\n",
       "  </tbody>\n",
       "</table>\n",
       "<p>1380 rows × 11 columns</p>\n",
       "</div>"
      ],
      "text/plain": [
       "           Lat     Long_    Active  Incident_Rate  Total_Test_Results  \\\n",
       "0    -1.178243  0.304476 -0.200641       0.143976           -0.483393   \n",
       "1     3.607611 -3.031933 -0.448967      -0.290209           -0.569371   \n",
       "2    -0.945708 -0.944926  0.389043       0.088511           -0.007491   \n",
       "3    -0.741458  0.025816 -0.482359       0.202178           -0.456457   \n",
       "4    -0.552594 -1.365168  4.275448      -0.502417            4.022089   \n",
       "...        ...       ...       ...            ...                 ...   \n",
       "1375  0.753675  1.027338 -0.524025      -2.293117           -0.625582   \n",
       "1376 -0.280277  0.749264  0.400787      -0.559356           -0.005284   \n",
       "1377 -0.161357  0.607433 -0.488091      -0.195859           -0.475653   \n",
       "1378  0.790345  0.166226 -0.391751       1.287093            0.129655   \n",
       "1379  0.541189 -0.734627 -0.528551       0.766301           -0.663109   \n",
       "\n",
       "      Case_Fatality_Ratio  Testing_Rate  Resident Population 2020 Census  \\\n",
       "0               -0.475230     -1.301745                        -0.128579   \n",
       "1               -1.797949      2.071154                        -0.754174   \n",
       "2                0.075713     -1.268952                         0.181561   \n",
       "3               -0.029941     -0.559153                        -0.422031   \n",
       "4               -0.791062     -0.177543                         4.903416   \n",
       "...                   ...           ...                              ...   \n",
       "1375            -0.268880      1.273810                        -0.767341   \n",
       "1376            -0.533271     -0.745045                         0.397324   \n",
       "1377             0.063695      0.411132                        -0.599582   \n",
       "1378            -0.828583      0.350879                        -0.001818   \n",
       "1379            -0.734918      0.439366                        -0.776996   \n",
       "\n",
       "      Population Density 2020 Census  Density Rank 2020 Census  SexRatio  \n",
       "0                          -0.217013                  0.118745 -1.168255  \n",
       "1                          -0.276752                  1.614369  3.491260  \n",
       "2                          -0.239163                  0.508908  0.384916  \n",
       "3                          -0.242214                  0.573935 -0.546987  \n",
       "4                          -0.122735                 -0.921689  0.384916  \n",
       "...                              ...                       ...       ...  \n",
       "1375                       -0.234953                  0.378854 -0.236352  \n",
       "1376                       -0.144153                 -0.726607 -0.236352  \n",
       "1377                       -0.232024                  0.248799  0.074282  \n",
       "1378                       -0.211155                 -0.011309  0.384916  \n",
       "1379                       -0.273945                  1.549342  1.938088  \n",
       "\n",
       "[1380 rows x 11 columns]"
      ]
     },
     "execution_count": 77,
     "metadata": {},
     "output_type": "execute_result"
    }
   ],
   "source": [
    "df_covid = df_train.iloc[:,2:-3]\n",
    "#Target 1 is Recovered\n",
    "df_target1 = df_train.iloc[:,-1:]\n",
    "#Target 2 is Deaths\n",
    "df_target2 = df_train.iloc[:,-2:-1]\n",
    "#Target 3 is Confirmed\n",
    "df_target3 = df_train.iloc[:,-3:-2]\n",
    "df_covid"
   ]
  },
  {
   "cell_type": "markdown",
   "metadata": {},
   "source": [
    "## 1. Decision Tree implementation on Target 1:Recovered"
   ]
  },
  {
   "cell_type": "markdown",
   "metadata": {},
   "source": [
    "### Part 1 : For max depth: {3, 5, 10, None}"
   ]
  },
  {
   "cell_type": "markdown",
   "metadata": {},
   "source": [
    "## Finding 'K' value in K-fold cross validation "
   ]
  },
  {
   "cell_type": "code",
   "execution_count": 78,
   "metadata": {},
   "outputs": [
    {
     "data": {
      "text/plain": [
       "[0.8471014492753624,\n",
       " 0.9065217391304348,\n",
       " 0.8818840579710144,\n",
       " 0.9166666666666666,\n",
       " 0.9065217391304348,\n",
       " 0.8942287267160364,\n",
       " 0.8920427812878075,\n",
       " 0.9260815437286026,\n",
       " 0.9217391304347826,\n",
       " 0.9130447330447331,\n",
       " 0.9057971014492753,\n",
       " 0.9116761390610798,\n",
       " 0.9181317548664488,\n",
       " 0.9231884057971015,\n",
       " 0.9108944800855386,\n",
       " 0.918150096533645,\n",
       " 0.9195431761221234,\n",
       " 0.9181486822078024,\n",
       " 0.9202898550724639,\n",
       " 0.9188145188145188,\n",
       " 0.91884280593958,\n",
       " 0.9202898550724639,\n",
       " 0.9181160516233112,\n",
       " 0.9196103896103895]"
      ]
     },
     "execution_count": 78,
     "metadata": {},
     "output_type": "execute_result"
    }
   ],
   "source": [
    "# Decision Tree on target 1: Recovered, Finding k value in k - fold cross val\n",
    "accuracies_recovered = []\n",
    "for k in range(2,26):\n",
    "    classifier_DecisionTree = DecisionTreeClassifier(max_depth = 10)\n",
    "    scores = cross_val_score(classifier_DecisionTree, df_covid, df_target1, cv=k)\n",
    "    accuracies_recovered.append(scores.mean())\n",
    "accuracies_recovered"
   ]
  },
  {
   "cell_type": "code",
   "execution_count": 79,
   "metadata": {},
   "outputs": [
    {
     "data": {
      "text/plain": [
       "[<matplotlib.lines.Line2D at 0x1a5d99eef70>]"
      ]
     },
     "execution_count": 79,
     "metadata": {},
     "output_type": "execute_result"
    },
    {
     "data": {
      "image/png": "[encoded data removed]",
      "text/plain": [
       "<Figure size 432x288 with 1 Axes>"
      ]
     },
     "metadata": {
      "needs_background": "light"
     },
     "output_type": "display_data"
    }
   ],
   "source": [
    "#Plotting the mean accuracy versus the max depth for recovered\n",
    "plt.title(\"K vs accuracy\")\n",
    "plt.plot(range(2,26),accuracies_recovered)"
   ]
  },
  {
   "cell_type": "markdown",
   "metadata": {},
   "source": [
    "### The best accuracy occurs at K = 8 and hence we will do 8 fold cross validation"
   ]
  },
  {
   "cell_type": "code",
   "execution_count": 80,
   "metadata": {},
   "outputs": [],
   "source": [
    "# Decision tree algorithm is run on the following values of max_depth\n",
    "max_depth_list = [3,5,10,None]"
   ]
  },
  {
   "cell_type": "code",
   "execution_count": 81,
   "metadata": {},
   "outputs": [
    {
     "data": {
      "text/plain": [
       "[0.8282531254200833,\n",
       " 0.8869555719854819,\n",
       " 0.8934920688264552,\n",
       " 0.9000033606667563]"
      ]
     },
     "execution_count": 81,
     "metadata": {},
     "output_type": "execute_result"
    }
   ],
   "source": [
    "# Decision Tree on target 1: Recovered, cv = 8\n",
    "accuracies_recovered1 = []\n",
    "for max_depth in max_depth_list:\n",
    "    classifier_DecisionTree = DecisionTreeClassifier(max_depth = max_depth)\n",
    "    scores = cross_val_score(classifier_DecisionTree, df_covid, df_target1, cv=8)\n",
    "    accuracies_recovered1.append(scores.mean())\n",
    "accuracies_recovered1"
   ]
  },
  {
   "cell_type": "code",
   "execution_count": 82,
   "metadata": {},
   "outputs": [
    {
     "data": {
      "text/plain": [
       "Text(0, 0.5, 'Mean Accuracy for Target 1:Recovered')"
      ]
     },
     "execution_count": 82,
     "metadata": {},
     "output_type": "execute_result"
    },
    {
     "data": {
      "image/png": "[encoded data removed]",
      "text/plain": [
       "<Figure size 432x288 with 1 Axes>"
      ]
     },
     "metadata": {
      "needs_background": "light"
     },
     "output_type": "display_data"
    }
   ],
   "source": [
    "#Plotting the mean accuracy versus the max depth for recovered\n",
    "plt.title(\"Decision Tree - 10-fold Target 1: Recovered\")\n",
    "plt.plot([1,2,3,4], accuracies_recovered1)\n",
    "plt.xticks([1,2,3,4],['3','5','10','None'])\n",
    "plt.xlabel('Max Depth')\n",
    "plt.ylabel('Mean Accuracy for Target 1:Recovered')"
   ]
  },
  {
   "cell_type": "markdown",
   "metadata": {},
   "source": [
    "### So the max accuracy came for max depth = 10 for target 1: Recovered"
   ]
  },
  {
   "cell_type": "markdown",
   "metadata": {},
   "source": [
    "### Part 2 : For None: (grow until leaf contains 2 datapoints)"
   ]
  },
  {
   "cell_type": "code",
   "execution_count": 83,
   "metadata": {},
   "outputs": [
    {
     "name": "stdout",
     "output_type": "stream",
     "text": [
      "Accuracy for Target1: Recovered [0.9188405797101449]\n"
     ]
    }
   ],
   "source": [
    "# Decision Tree on target 1: Recovered for none\n",
    "accuracy1 = []\n",
    "classifier_DecisionTree = DecisionTreeClassifier()\n",
    "scores = cross_val_score(classifier_DecisionTree, df_covid, df_target1, cv=10)\n",
    "accuracy1.append(scores.mean())\n",
    "print(\"Accuracy for Target1: Recovered\", accuracy1)"
   ]
  },
  {
   "cell_type": "markdown",
   "metadata": {},
   "source": [
    "### We get maximum accuracy with depth set at 10 for target 1 \"Recovered\". Meaning, we are growing the tree all the way as the depth is increasing but for None we do have some class ambiguitites in the leaf nodes as the accuracy dropped."
   ]
  },
  {
   "cell_type": "code",
   "execution_count": 84,
   "metadata": {},
   "outputs": [],
   "source": [
    "import graphviz\n",
    "from sklearn import tree"
   ]
  },
  {
   "cell_type": "code",
   "execution_count": 85,
   "metadata": {},
   "outputs": [
    {
     "data": {
      "image/svg+xml": [
       "<?xml version=\"1.0\" encoding=\"UTF-8\" standalone=\"no\"?>\r\n",
       "<!DOCTYPE svg PUBLIC \"-//W3C//DTD SVG 1.1//EN\"\r\n",
       " \"http://www.w3.org/Graphics/SVG/1.1/DTD/svg11.dtd\">\r\n",
       "<!-- Generated by graphviz version 2.48.0 (20210717.1556)\r\n",
       " -->\r\n",
       "<!-- Title: Tree Pages: 1 -->\r\n",
       "<svg width=\"535pt\" height=\"433pt\"\r\n",
       " viewBox=\"0.00 0.00 534.50 433.00\" xmlns=\"http://www.w3.org/2000/svg\" xmlns:xlink=\"http://www.w3.org/1999/xlink\">\r\n",
       "<g id=\"graph0\" class=\"graph\" transform=\"scale(1 1) rotate(0) translate(4 429)\">\r\n",
       "<title>Tree</title>\r\n",
       "<polygon fill=\"white\" stroke=\"transparent\" points=\"-4,4 -4,-429 530.5,-429 530.5,4 -4,4\"/>\r\n",
       "<!-- 0 -->\r\n",
       "<g id=\"node1\" class=\"node\">\r\n",
       "<title>0</title>\r\n",
       "<path fill=\"#afd8f5\" stroke=\"black\" d=\"M224.5,-425C224.5,-425 118.5,-425 118.5,-425 112.5,-425 106.5,-419 106.5,-413 106.5,-413 106.5,-354 106.5,-354 106.5,-348 112.5,-342 118.5,-342 118.5,-342 224.5,-342 224.5,-342 230.5,-342 236.5,-348 236.5,-354 236.5,-354 236.5,-413 236.5,-413 236.5,-419 230.5,-425 224.5,-425\"/>\r\n",
       "<text text-anchor=\"start\" x=\"123\" y=\"-409.8\" font-family=\"Helvetica,sans-Serif\" font-size=\"14.00\">Long_ ≤ &#45;1.166</text>\r\n",
       "<text text-anchor=\"start\" x=\"134\" y=\"-394.8\" font-family=\"Helvetica,sans-Serif\" font-size=\"14.00\">gini = 0.468</text>\r\n",
       "<text text-anchor=\"start\" x=\"120\" y=\"-379.8\" font-family=\"Helvetica,sans-Serif\" font-size=\"14.00\">samples = 1380</text>\r\n",
       "<text text-anchor=\"start\" x=\"114.5\" y=\"-364.8\" font-family=\"Helvetica,sans-Serif\" font-size=\"14.00\">value = [516, 864]</text>\r\n",
       "<text text-anchor=\"start\" x=\"142.5\" y=\"-349.8\" font-family=\"Helvetica,sans-Serif\" font-size=\"14.00\">class = e</text>\r\n",
       "</g>\r\n",
       "<!-- 1 -->\r\n",
       "<g id=\"node2\" class=\"node\">\r\n",
       "<title>1</title>\r\n",
       "<path fill=\"#e58139\" stroke=\"black\" d=\"M146,-298.5C146,-298.5 57,-298.5 57,-298.5 51,-298.5 45,-292.5 45,-286.5 45,-286.5 45,-242.5 45,-242.5 45,-236.5 51,-230.5 57,-230.5 57,-230.5 146,-230.5 146,-230.5 152,-230.5 158,-236.5 158,-242.5 158,-242.5 158,-286.5 158,-286.5 158,-292.5 152,-298.5 146,-298.5\"/>\r\n",
       "<text text-anchor=\"start\" x=\"72.5\" y=\"-283.3\" font-family=\"Helvetica,sans-Serif\" font-size=\"14.00\">gini = 0.0</text>\r\n",
       "<text text-anchor=\"start\" x=\"54\" y=\"-268.3\" font-family=\"Helvetica,sans-Serif\" font-size=\"14.00\">samples = 150</text>\r\n",
       "<text text-anchor=\"start\" x=\"53\" y=\"-253.3\" font-family=\"Helvetica,sans-Serif\" font-size=\"14.00\">value = [150, 0]</text>\r\n",
       "<text text-anchor=\"start\" x=\"71.5\" y=\"-238.3\" font-family=\"Helvetica,sans-Serif\" font-size=\"14.00\">class = R</text>\r\n",
       "</g>\r\n",
       "<!-- 0&#45;&gt;1 -->\r\n",
       "<g id=\"edge1\" class=\"edge\">\r\n",
       "<title>0&#45;&gt;1</title>\r\n",
       "<path fill=\"none\" stroke=\"black\" d=\"M147.21,-341.91C140.55,-330.76 133.3,-318.66 126.59,-307.44\"/>\r\n",
       "<polygon fill=\"black\" stroke=\"black\" points=\"129.48,-305.45 121.34,-298.67 123.47,-309.05 129.48,-305.45\"/>\r\n",
       "<text text-anchor=\"middle\" x=\"115.25\" y=\"-319.21\" font-family=\"Helvetica,sans-Serif\" font-size=\"14.00\">True</text>\r\n",
       "</g>\r\n",
       "<!-- 2 -->\r\n",
       "<g id=\"node3\" class=\"node\">\r\n",
       "<title>2</title>\r\n",
       "<path fill=\"#8dc7f0\" stroke=\"black\" d=\"M294.5,-306C294.5,-306 188.5,-306 188.5,-306 182.5,-306 176.5,-300 176.5,-294 176.5,-294 176.5,-235 176.5,-235 176.5,-229 182.5,-223 188.5,-223 188.5,-223 294.5,-223 294.5,-223 300.5,-223 306.5,-229 306.5,-235 306.5,-235 306.5,-294 306.5,-294 306.5,-300 300.5,-306 294.5,-306\"/>\r\n",
       "<text text-anchor=\"start\" x=\"203.5\" y=\"-290.8\" font-family=\"Helvetica,sans-Serif\" font-size=\"14.00\">Lat ≤ &#45;1.002</text>\r\n",
       "<text text-anchor=\"start\" x=\"204\" y=\"-275.8\" font-family=\"Helvetica,sans-Serif\" font-size=\"14.00\">gini = 0.418</text>\r\n",
       "<text text-anchor=\"start\" x=\"190\" y=\"-260.8\" font-family=\"Helvetica,sans-Serif\" font-size=\"14.00\">samples = 1230</text>\r\n",
       "<text text-anchor=\"start\" x=\"184.5\" y=\"-245.8\" font-family=\"Helvetica,sans-Serif\" font-size=\"14.00\">value = [366, 864]</text>\r\n",
       "<text text-anchor=\"start\" x=\"212.5\" y=\"-230.8\" font-family=\"Helvetica,sans-Serif\" font-size=\"14.00\">class = e</text>\r\n",
       "</g>\r\n",
       "<!-- 0&#45;&gt;2 -->\r\n",
       "<g id=\"edge2\" class=\"edge\">\r\n",
       "<title>0&#45;&gt;2</title>\r\n",
       "<path fill=\"none\" stroke=\"black\" d=\"M195.79,-341.91C201.05,-333.1 206.68,-323.7 212.12,-314.61\"/>\r\n",
       "<polygon fill=\"black\" stroke=\"black\" points=\"215.13,-316.4 217.26,-306.02 209.12,-312.81 215.13,-316.4\"/>\r\n",
       "<text text-anchor=\"middle\" x=\"223.35\" y=\"-326.57\" font-family=\"Helvetica,sans-Serif\" font-size=\"14.00\">False</text>\r\n",
       "</g>\r\n",
       "<!-- 3 -->\r\n",
       "<g id=\"node4\" class=\"node\">\r\n",
       "<title>3</title>\r\n",
       "<path fill=\"#e78c4a\" stroke=\"black\" d=\"M218.5,-187C218.5,-187 120.5,-187 120.5,-187 114.5,-187 108.5,-181 108.5,-175 108.5,-175 108.5,-116 108.5,-116 108.5,-110 114.5,-104 120.5,-104 120.5,-104 218.5,-104 218.5,-104 224.5,-104 230.5,-110 230.5,-116 230.5,-116 230.5,-175 230.5,-175 230.5,-181 224.5,-187 218.5,-187\"/>\r\n",
       "<text text-anchor=\"start\" x=\"121.5\" y=\"-171.8\" font-family=\"Helvetica,sans-Serif\" font-size=\"14.00\">Active ≤ &#45;0.455</text>\r\n",
       "<text text-anchor=\"start\" x=\"132\" y=\"-156.8\" font-family=\"Helvetica,sans-Serif\" font-size=\"14.00\">gini = 0.147</text>\r\n",
       "<text text-anchor=\"start\" x=\"122\" y=\"-141.8\" font-family=\"Helvetica,sans-Serif\" font-size=\"14.00\">samples = 150</text>\r\n",
       "<text text-anchor=\"start\" x=\"116.5\" y=\"-126.8\" font-family=\"Helvetica,sans-Serif\" font-size=\"14.00\">value = [138, 12]</text>\r\n",
       "<text text-anchor=\"start\" x=\"139.5\" y=\"-111.8\" font-family=\"Helvetica,sans-Serif\" font-size=\"14.00\">class = R</text>\r\n",
       "</g>\r\n",
       "<!-- 2&#45;&gt;3 -->\r\n",
       "<g id=\"edge3\" class=\"edge\">\r\n",
       "<title>2&#45;&gt;3</title>\r\n",
       "<path fill=\"none\" stroke=\"black\" d=\"M216.52,-222.91C211.1,-214.1 205.32,-204.7 199.72,-195.61\"/>\r\n",
       "<polygon fill=\"black\" stroke=\"black\" points=\"202.66,-193.7 194.44,-187.02 196.7,-197.37 202.66,-193.7\"/>\r\n",
       "</g>\r\n",
       "<!-- 6 -->\r\n",
       "<g id=\"node7\" class=\"node\">\r\n",
       "<title>6</title>\r\n",
       "<path fill=\"#6eb7ec\" stroke=\"black\" d=\"M368,-187C368,-187 261,-187 261,-187 255,-187 249,-181 249,-175 249,-175 249,-116 249,-116 249,-110 255,-104 261,-104 261,-104 368,-104 368,-104 374,-104 380,-110 380,-116 380,-116 380,-175 380,-175 380,-181 374,-187 368,-187\"/>\r\n",
       "<text text-anchor=\"start\" x=\"257\" y=\"-171.8\" font-family=\"Helvetica,sans-Serif\" font-size=\"14.00\">SexRatio ≤ &#45;0.702</text>\r\n",
       "<text text-anchor=\"start\" x=\"277\" y=\"-156.8\" font-family=\"Helvetica,sans-Serif\" font-size=\"14.00\">gini = 0.333</text>\r\n",
       "<text text-anchor=\"start\" x=\"263\" y=\"-141.8\" font-family=\"Helvetica,sans-Serif\" font-size=\"14.00\">samples = 1080</text>\r\n",
       "<text text-anchor=\"start\" x=\"257.5\" y=\"-126.8\" font-family=\"Helvetica,sans-Serif\" font-size=\"14.00\">value = [228, 852]</text>\r\n",
       "<text text-anchor=\"start\" x=\"285.5\" y=\"-111.8\" font-family=\"Helvetica,sans-Serif\" font-size=\"14.00\">class = e</text>\r\n",
       "</g>\r\n",
       "<!-- 2&#45;&gt;6 -->\r\n",
       "<g id=\"edge6\" class=\"edge\">\r\n",
       "<title>2&#45;&gt;6</title>\r\n",
       "<path fill=\"none\" stroke=\"black\" d=\"M266.83,-222.91C272.32,-214.1 278.19,-204.7 283.86,-195.61\"/>\r\n",
       "<polygon fill=\"black\" stroke=\"black\" points=\"286.89,-197.36 289.22,-187.02 280.95,-193.65 286.89,-197.36\"/>\r\n",
       "</g>\r\n",
       "<!-- 4 -->\r\n",
       "<g id=\"node5\" class=\"node\">\r\n",
       "<title>4</title>\r\n",
       "<path fill=\"#399de5\" stroke=\"black\" d=\"M85,-68C85,-68 12,-68 12,-68 6,-68 0,-62 0,-56 0,-56 0,-12 0,-12 0,-6 6,0 12,0 12,0 85,0 85,0 91,0 97,-6 97,-12 97,-12 97,-56 97,-56 97,-62 91,-68 85,-68\"/>\r\n",
       "<text text-anchor=\"start\" x=\"19.5\" y=\"-52.8\" font-family=\"Helvetica,sans-Serif\" font-size=\"14.00\">gini = 0.0</text>\r\n",
       "<text text-anchor=\"start\" x=\"9\" y=\"-37.8\" font-family=\"Helvetica,sans-Serif\" font-size=\"14.00\">samples = 3</text>\r\n",
       "<text text-anchor=\"start\" x=\"8\" y=\"-22.8\" font-family=\"Helvetica,sans-Serif\" font-size=\"14.00\">value = [0, 3]</text>\r\n",
       "<text text-anchor=\"start\" x=\"19.5\" y=\"-7.8\" font-family=\"Helvetica,sans-Serif\" font-size=\"14.00\">class = e</text>\r\n",
       "</g>\r\n",
       "<!-- 3&#45;&gt;4 -->\r\n",
       "<g id=\"edge4\" class=\"edge\">\r\n",
       "<title>3&#45;&gt;4</title>\r\n",
       "<path fill=\"none\" stroke=\"black\" d=\"M124.44,-103.73C114.16,-94.42 103.25,-84.54 92.99,-75.26\"/>\r\n",
       "<polygon fill=\"black\" stroke=\"black\" points=\"95.06,-72.41 85.3,-68.3 90.36,-77.6 95.06,-72.41\"/>\r\n",
       "</g>\r\n",
       "<!-- 5 -->\r\n",
       "<g id=\"node6\" class=\"node\">\r\n",
       "<title>5</title>\r\n",
       "<path fill=\"#e78946\" stroke=\"black\" d=\"M216,-68C216,-68 127,-68 127,-68 121,-68 115,-62 115,-56 115,-56 115,-12 115,-12 115,-6 121,0 127,0 127,0 216,0 216,0 222,0 228,-6 228,-12 228,-12 228,-56 228,-56 228,-62 222,-68 216,-68\"/>\r\n",
       "<text text-anchor=\"start\" x=\"134\" y=\"-52.8\" font-family=\"Helvetica,sans-Serif\" font-size=\"14.00\">gini = 0.115</text>\r\n",
       "<text text-anchor=\"start\" x=\"124\" y=\"-37.8\" font-family=\"Helvetica,sans-Serif\" font-size=\"14.00\">samples = 147</text>\r\n",
       "<text text-anchor=\"start\" x=\"123\" y=\"-22.8\" font-family=\"Helvetica,sans-Serif\" font-size=\"14.00\">value = [138, 9]</text>\r\n",
       "<text text-anchor=\"start\" x=\"141.5\" y=\"-7.8\" font-family=\"Helvetica,sans-Serif\" font-size=\"14.00\">class = R</text>\r\n",
       "</g>\r\n",
       "<!-- 3&#45;&gt;5 -->\r\n",
       "<g id=\"edge5\" class=\"edge\">\r\n",
       "<title>3&#45;&gt;5</title>\r\n",
       "<path fill=\"none\" stroke=\"black\" d=\"M170.24,-103.73C170.39,-95.52 170.55,-86.86 170.7,-78.56\"/>\r\n",
       "<polygon fill=\"black\" stroke=\"black\" points=\"174.21,-78.36 170.89,-68.3 167.21,-78.23 174.21,-78.36\"/>\r\n",
       "</g>\r\n",
       "<!-- 7 -->\r\n",
       "<g id=\"node8\" class=\"node\">\r\n",
       "<title>7</title>\r\n",
       "<path fill=\"#ebf5fc\" stroke=\"black\" d=\"M366.5,-68C366.5,-68 260.5,-68 260.5,-68 254.5,-68 248.5,-62 248.5,-56 248.5,-56 248.5,-12 248.5,-12 248.5,-6 254.5,0 260.5,0 260.5,0 366.5,0 366.5,0 372.5,0 378.5,-6 378.5,-12 378.5,-12 378.5,-56 378.5,-56 378.5,-62 372.5,-68 366.5,-68\"/>\r\n",
       "<text text-anchor=\"start\" x=\"276\" y=\"-52.8\" font-family=\"Helvetica,sans-Serif\" font-size=\"14.00\">gini = 0.499</text>\r\n",
       "<text text-anchor=\"start\" x=\"266\" y=\"-37.8\" font-family=\"Helvetica,sans-Serif\" font-size=\"14.00\">samples = 270</text>\r\n",
       "<text text-anchor=\"start\" x=\"256.5\" y=\"-22.8\" font-family=\"Helvetica,sans-Serif\" font-size=\"14.00\">value = [128, 142]</text>\r\n",
       "<text text-anchor=\"start\" x=\"284.5\" y=\"-7.8\" font-family=\"Helvetica,sans-Serif\" font-size=\"14.00\">class = e</text>\r\n",
       "</g>\r\n",
       "<!-- 6&#45;&gt;7 -->\r\n",
       "<g id=\"edge7\" class=\"edge\">\r\n",
       "<title>6&#45;&gt;7</title>\r\n",
       "<path fill=\"none\" stroke=\"black\" d=\"M314.13,-103.73C314.05,-95.52 313.97,-86.86 313.9,-78.56\"/>\r\n",
       "<polygon fill=\"black\" stroke=\"black\" points=\"317.4,-78.27 313.8,-68.3 310.4,-78.33 317.4,-78.27\"/>\r\n",
       "</g>\r\n",
       "<!-- 8 -->\r\n",
       "<g id=\"node9\" class=\"node\">\r\n",
       "<title>8</title>\r\n",
       "<path fill=\"#55abe9\" stroke=\"black\" d=\"M514.5,-68C514.5,-68 408.5,-68 408.5,-68 402.5,-68 396.5,-62 396.5,-56 396.5,-56 396.5,-12 396.5,-12 396.5,-6 402.5,0 408.5,0 408.5,0 514.5,0 514.5,0 520.5,0 526.5,-6 526.5,-12 526.5,-12 526.5,-56 526.5,-56 526.5,-62 520.5,-68 514.5,-68\"/>\r\n",
       "<text text-anchor=\"start\" x=\"424\" y=\"-52.8\" font-family=\"Helvetica,sans-Serif\" font-size=\"14.00\">gini = 0.216</text>\r\n",
       "<text text-anchor=\"start\" x=\"414\" y=\"-37.8\" font-family=\"Helvetica,sans-Serif\" font-size=\"14.00\">samples = 810</text>\r\n",
       "<text text-anchor=\"start\" x=\"404.5\" y=\"-22.8\" font-family=\"Helvetica,sans-Serif\" font-size=\"14.00\">value = [100, 710]</text>\r\n",
       "<text text-anchor=\"start\" x=\"432.5\" y=\"-7.8\" font-family=\"Helvetica,sans-Serif\" font-size=\"14.00\">class = e</text>\r\n",
       "</g>\r\n",
       "<!-- 6&#45;&gt;8 -->\r\n",
       "<g id=\"edge8\" class=\"edge\">\r\n",
       "<title>6&#45;&gt;8</title>\r\n",
       "<path fill=\"none\" stroke=\"black\" d=\"M369.24,-103.73C382.09,-94.15 395.77,-83.96 408.55,-74.44\"/>\r\n",
       "<polygon fill=\"black\" stroke=\"black\" points=\"410.87,-77.08 416.8,-68.3 406.69,-71.47 410.87,-77.08\"/>\r\n",
       "</g>\r\n",
       "</g>\r\n",
       "</svg>\r\n"
      ],
      "text/plain": [
       "<graphviz.files.Source at 0x1a5d985fa00>"
      ]
     },
     "execution_count": 85,
     "metadata": {},
     "output_type": "execute_result"
    }
   ],
   "source": [
    "# Plotting the decision tree for target 1: Recovered\n",
    "classifier_DecisionTree = DecisionTreeClassifier(max_depth = 3)\n",
    "classifier_DecisionTree.fit(df_covid,df_target1)\n",
    "dot_data = tree.export_graphviz(classifier_DecisionTree,out_file = None,\n",
    "                               feature_names = df_covid.columns,\n",
    "                               class_names = 'Recovered',\n",
    "                               filled = True, rounded = True,\n",
    "                               special_characters = True)\n",
    "graph = graphviz.Source(dot_data)\n",
    "graph"
   ]
  },
  {
   "cell_type": "markdown",
   "metadata": {},
   "source": [
    "### For the sake of convenience, the max depth value is selected as 3 to visualize the decision tree \n"
   ]
  },
  {
   "cell_type": "markdown",
   "metadata": {},
   "source": [
    "## Explaining the Decision Tree Plot\n",
    "#### 1) Examining the tree plot, we can notice that the first feature that is chosen for split is 'Long_'. Long_ ≤ -1.166\n",
    "#### means that every Long  -1.166 or lower will follow the True arrow (to the left), and the rest will follow the False arrow (to the right).The Gini value shows that the split was done almost in the middle.\n",
    "#### 2) gini = 0.0 means all the 150 samples got the same result.\n",
    "#### 3) Lat ≤ -1.002 means that every Lat  -1.002 or lower will follow the True arrow (to the left), and the rest will follow the False arrow (to the right).The Gini value shows that the split was done almost in the middle.\n",
    "#### 4) Further, Active ≤ -0.455 means that every active  -0.455 or lower will follow the True arrow (to the left), and the rest will follow the False arrow (to the right). The gini = 0.147 means that about 14,7% of the samples would go in one direction.\n",
    "#### 4.1) gini = 0.0 means all the 3 samples got the same result.\n",
    "#### 4.2) gini = 0.115 means all the 11,5% samples got the same result.\n",
    "#### 5) Further, SexRatio ≤ -0.702 means that every active  -0.702 or lower will follow the True arrow (to the left), and the rest will follow the False arrow (to the right). The gini = 0.333 means that about 33,3% of the samples would go in one direction.\n",
    "#### 5.1) gini = 0.499 means split was done in the middle. Out of 270 SexRatio  ≤ -0.702 samples 128 went in one direction and rest 142 in other.\n",
    "#### 5.2) gini = 0.216 means all the 21,6% samples got same result. Out of 810 SexRatio > -0.702 samples 100 went in one direction and rest 710 in other.\n",
    "\n",
    "\n",
    "\n",
    "\n",
    "\n",
    "\n",
    "\n"
   ]
  },
  {
   "cell_type": "markdown",
   "metadata": {},
   "source": [
    "Maximum depth refers to the the length of the longest path from a root to a leaf. this is to set a minimum number of training inputs to use on each leaf,that is how we stop splitting."
   ]
  },
  {
   "cell_type": "markdown",
   "metadata": {},
   "source": [
    "## 2. Decision Tree implementation on Target 2: Deaths"
   ]
  },
  {
   "cell_type": "markdown",
   "metadata": {},
   "source": [
    "### Part 1 : For max depth: {3, 5, 10, None}"
   ]
  },
  {
   "cell_type": "code",
   "execution_count": 86,
   "metadata": {},
   "outputs": [
    {
     "data": {
      "text/plain": [
       "[0.9115934601424922,\n",
       " 0.9072035891920958,\n",
       " 0.8789403817717435,\n",
       " 0.8775036967334319]"
      ]
     },
     "execution_count": 86,
     "metadata": {},
     "output_type": "execute_result"
    }
   ],
   "source": [
    "# Decision Tree on target 2: Deaths, cv = 8\n",
    "accuracies_deaths = []\n",
    "for max_depth in max_depth_list:\n",
    "    classifier_DecisionTree = DecisionTreeClassifier(max_depth = max_depth)\n",
    "    scores = cross_val_score(classifier_DecisionTree, df_covid, df_target2, cv=8)\n",
    "    accuracies_deaths.append(scores.mean())\n",
    "accuracies_deaths"
   ]
  },
  {
   "cell_type": "code",
   "execution_count": 87,
   "metadata": {},
   "outputs": [
    {
     "data": {
      "text/plain": [
       "Text(0, 0.5, 'Mean Accuracy for Target 2:Deaths')"
      ]
     },
     "execution_count": 87,
     "metadata": {},
     "output_type": "execute_result"
    },
    {
     "data": {
      "image/png": "[encoded data removed]",
      "text/plain": [
       "<Figure size 432x288 with 1 Axes>"
      ]
     },
     "metadata": {
      "needs_background": "light"
     },
     "output_type": "display_data"
    }
   ],
   "source": [
    "#Plotting the mean accuracy versus the max depth for deaths\n",
    "plt.title(\"Decision Tree - 10-fold Target2: Deaths\")\n",
    "plt.plot([1,2,3,4], accuracies_deaths)\n",
    "plt.xticks([1,2,3,4],['3','5','10','None'])\n",
    "plt.xlabel('Max Depth')\n",
    "plt.ylabel('Mean Accuracy for Target 2:Deaths')"
   ]
  },
  {
   "cell_type": "markdown",
   "metadata": {},
   "source": [
    "### We get maximum accuracy with depth set at 3 for target 2 \"Deaths\""
   ]
  },
  {
   "cell_type": "markdown",
   "metadata": {},
   "source": [
    "### Part 2 : For None: (grow until leaf contains 2 datapoints)"
   ]
  },
  {
   "cell_type": "code",
   "execution_count": 88,
   "metadata": {},
   "outputs": [
    {
     "name": "stdout",
     "output_type": "stream",
     "text": [
      "Accuracy for Target2: Deaths [0.8789855072463768]\n"
     ]
    }
   ],
   "source": [
    "# Decision Tree on target 2: Deaths for none\n",
    "accuracy2 = []\n",
    "classifier_DecisionTree = DecisionTreeClassifier()\n",
    "scores = cross_val_score(classifier_DecisionTree, df_covid, df_target2, cv=10)\n",
    "accuracy2.append(scores.mean())\n",
    "print(\"Accuracy for Target2: Deaths\", accuracy2)"
   ]
  },
  {
   "cell_type": "markdown",
   "metadata": {},
   "source": [
    "### We get maximum accuracy with depth set at 3 for target 2 \"Deaths\". The accuracy is not growing all the way as the depth is increasing but for None we can see that the accuracy increased slightly."
   ]
  },
  {
   "cell_type": "code",
   "execution_count": 89,
   "metadata": {},
   "outputs": [
    {
     "data": {
      "image/svg+xml": [
       "<?xml version=\"1.0\" encoding=\"UTF-8\" standalone=\"no\"?>\r\n",
       "<!DOCTYPE svg PUBLIC \"-//W3C//DTD SVG 1.1//EN\"\r\n",
       " \"http://www.w3.org/Graphics/SVG/1.1/DTD/svg11.dtd\">\r\n",
       "<!-- Generated by graphviz version 2.48.0 (20210717.1556)\r\n",
       " -->\r\n",
       "<!-- Title: Tree Pages: 1 -->\r\n",
       "<svg width=\"1044pt\" height=\"433pt\"\r\n",
       " viewBox=\"0.00 0.00 1043.50 433.00\" xmlns=\"http://www.w3.org/2000/svg\" xmlns:xlink=\"http://www.w3.org/1999/xlink\">\r\n",
       "<g id=\"graph0\" class=\"graph\" transform=\"scale(1 1) rotate(0) translate(4 429)\">\r\n",
       "<title>Tree</title>\r\n",
       "<polygon fill=\"white\" stroke=\"transparent\" points=\"-4,4 -4,-429 1039.5,-429 1039.5,4 -4,4\"/>\r\n",
       "<!-- 0 -->\r\n",
       "<g id=\"node1\" class=\"node\">\r\n",
       "<title>0</title>\r\n",
       "<path fill=\"#4fa8e8\" stroke=\"black\" d=\"M618.5,-425C618.5,-425 362.5,-425 362.5,-425 356.5,-425 350.5,-419 350.5,-413 350.5,-413 350.5,-354 350.5,-354 350.5,-348 356.5,-342 362.5,-342 362.5,-342 618.5,-342 618.5,-342 624.5,-342 630.5,-348 630.5,-354 630.5,-354 630.5,-413 630.5,-413 630.5,-419 624.5,-425 618.5,-425\"/>\r\n",
       "<text text-anchor=\"start\" x=\"358.5\" y=\"-409.8\" font-family=\"Helvetica,sans-Serif\" font-size=\"14.00\">Population Density 2020 Census ≤ &#45;0.273</text>\r\n",
       "<text text-anchor=\"start\" x=\"453\" y=\"-394.8\" font-family=\"Helvetica,sans-Serif\" font-size=\"14.00\">gini = 0.178</text>\r\n",
       "<text text-anchor=\"start\" x=\"439\" y=\"-379.8\" font-family=\"Helvetica,sans-Serif\" font-size=\"14.00\">samples = 1380</text>\r\n",
       "<text text-anchor=\"start\" x=\"429.5\" y=\"-364.8\" font-family=\"Helvetica,sans-Serif\" font-size=\"14.00\">value = [136, 1244]</text>\r\n",
       "<text text-anchor=\"start\" x=\"461.5\" y=\"-349.8\" font-family=\"Helvetica,sans-Serif\" font-size=\"14.00\">class = e</text>\r\n",
       "</g>\r\n",
       "<!-- 1 -->\r\n",
       "<g id=\"node2\" class=\"node\">\r\n",
       "<title>1</title>\r\n",
       "<path fill=\"#f4caac\" stroke=\"black\" d=\"M448,-306C448,-306 315,-306 315,-306 309,-306 303,-300 303,-294 303,-294 303,-235 303,-235 303,-229 309,-223 315,-223 315,-223 448,-223 448,-223 454,-223 460,-229 460,-235 460,-235 460,-294 460,-294 460,-300 454,-306 448,-306\"/>\r\n",
       "<text text-anchor=\"start\" x=\"311\" y=\"-290.8\" font-family=\"Helvetica,sans-Serif\" font-size=\"14.00\">Incident_Rate ≤ 0.076</text>\r\n",
       "<text text-anchor=\"start\" x=\"344\" y=\"-275.8\" font-family=\"Helvetica,sans-Serif\" font-size=\"14.00\">gini = 0.464</text>\r\n",
       "<text text-anchor=\"start\" x=\"338\" y=\"-260.8\" font-family=\"Helvetica,sans-Serif\" font-size=\"14.00\">samples = 60</text>\r\n",
       "<text text-anchor=\"start\" x=\"333\" y=\"-245.8\" font-family=\"Helvetica,sans-Serif\" font-size=\"14.00\">value = [38, 22]</text>\r\n",
       "<text text-anchor=\"start\" x=\"351.5\" y=\"-230.8\" font-family=\"Helvetica,sans-Serif\" font-size=\"14.00\">class = D</text>\r\n",
       "</g>\r\n",
       "<!-- 0&#45;&gt;1 -->\r\n",
       "<g id=\"edge1\" class=\"edge\">\r\n",
       "<title>0&#45;&gt;1</title>\r\n",
       "<path fill=\"none\" stroke=\"black\" d=\"M452.68,-341.91C444.14,-332.74 435,-322.93 426.21,-313.49\"/>\r\n",
       "<polygon fill=\"black\" stroke=\"black\" points=\"428.63,-310.95 419.25,-306.02 423.51,-315.72 428.63,-310.95\"/>\r\n",
       "<text text-anchor=\"middle\" x=\"418.37\" y=\"-327.31\" font-family=\"Helvetica,sans-Serif\" font-size=\"14.00\">True</text>\r\n",
       "</g>\r\n",
       "<!-- 8 -->\r\n",
       "<g id=\"node9\" class=\"node\">\r\n",
       "<title>8</title>\r\n",
       "<path fill=\"#49a5e7\" stroke=\"black\" d=\"M668,-306C668,-306 531,-306 531,-306 525,-306 519,-300 519,-294 519,-294 519,-235 519,-235 519,-229 525,-223 531,-223 531,-223 668,-223 668,-223 674,-223 680,-229 680,-235 680,-235 680,-294 680,-294 680,-300 674,-306 668,-306\"/>\r\n",
       "<text text-anchor=\"start\" x=\"527\" y=\"-290.8\" font-family=\"Helvetica,sans-Serif\" font-size=\"14.00\">Incident_Rate ≤ &#45;2.312</text>\r\n",
       "<text text-anchor=\"start\" x=\"562\" y=\"-275.8\" font-family=\"Helvetica,sans-Serif\" font-size=\"14.00\">gini = 0.137</text>\r\n",
       "<text text-anchor=\"start\" x=\"548\" y=\"-260.8\" font-family=\"Helvetica,sans-Serif\" font-size=\"14.00\">samples = 1320</text>\r\n",
       "<text text-anchor=\"start\" x=\"542.5\" y=\"-245.8\" font-family=\"Helvetica,sans-Serif\" font-size=\"14.00\">value = [98, 1222]</text>\r\n",
       "<text text-anchor=\"start\" x=\"570.5\" y=\"-230.8\" font-family=\"Helvetica,sans-Serif\" font-size=\"14.00\">class = e</text>\r\n",
       "</g>\r\n",
       "<!-- 0&#45;&gt;8 -->\r\n",
       "<g id=\"edge8\" class=\"edge\">\r\n",
       "<title>0&#45;&gt;8</title>\r\n",
       "<path fill=\"none\" stroke=\"black\" d=\"M528.32,-341.91C536.86,-332.74 546,-322.93 554.79,-313.49\"/>\r\n",
       "<polygon fill=\"black\" stroke=\"black\" points=\"557.49,-315.72 561.75,-306.02 552.37,-310.95 557.49,-315.72\"/>\r\n",
       "<text text-anchor=\"middle\" x=\"562.63\" y=\"-327.31\" font-family=\"Helvetica,sans-Serif\" font-size=\"14.00\">False</text>\r\n",
       "</g>\r\n",
       "<!-- 2 -->\r\n",
       "<g id=\"node3\" class=\"node\">\r\n",
       "<title>2</title>\r\n",
       "<path fill=\"#c1e0f7\" stroke=\"black\" d=\"M251.5,-187C251.5,-187 75.5,-187 75.5,-187 69.5,-187 63.5,-181 63.5,-175 63.5,-175 63.5,-116 63.5,-116 63.5,-110 69.5,-104 75.5,-104 75.5,-104 251.5,-104 251.5,-104 257.5,-104 263.5,-110 263.5,-116 263.5,-116 263.5,-175 263.5,-175 263.5,-181 257.5,-187 251.5,-187\"/>\r\n",
       "<text text-anchor=\"start\" x=\"71.5\" y=\"-171.8\" font-family=\"Helvetica,sans-Serif\" font-size=\"14.00\">Case_Fatality_Ratio ≤ &#45;1.806</text>\r\n",
       "<text text-anchor=\"start\" x=\"126\" y=\"-156.8\" font-family=\"Helvetica,sans-Serif\" font-size=\"14.00\">gini = 0.483</text>\r\n",
       "<text text-anchor=\"start\" x=\"120\" y=\"-141.8\" font-family=\"Helvetica,sans-Serif\" font-size=\"14.00\">samples = 27</text>\r\n",
       "<text text-anchor=\"start\" x=\"115\" y=\"-126.8\" font-family=\"Helvetica,sans-Serif\" font-size=\"14.00\">value = [11, 16]</text>\r\n",
       "<text text-anchor=\"start\" x=\"134.5\" y=\"-111.8\" font-family=\"Helvetica,sans-Serif\" font-size=\"14.00\">class = e</text>\r\n",
       "</g>\r\n",
       "<!-- 1&#45;&gt;2 -->\r\n",
       "<g id=\"edge2\" class=\"edge\">\r\n",
       "<title>1&#45;&gt;2</title>\r\n",
       "<path fill=\"none\" stroke=\"black\" d=\"M305.87,-222.91C287.18,-212.88 267.05,-202.07 247.97,-191.84\"/>\r\n",
       "<polygon fill=\"black\" stroke=\"black\" points=\"249.47,-188.67 239,-187.02 246.16,-194.83 249.47,-188.67\"/>\r\n",
       "</g>\r\n",
       "<!-- 5 -->\r\n",
       "<g id=\"node6\" class=\"node\">\r\n",
       "<title>5</title>\r\n",
       "<path fill=\"#eb9d65\" stroke=\"black\" d=\"M469.5,-187C469.5,-187 293.5,-187 293.5,-187 287.5,-187 281.5,-181 281.5,-175 281.5,-175 281.5,-116 281.5,-116 281.5,-110 287.5,-104 293.5,-104 293.5,-104 469.5,-104 469.5,-104 475.5,-104 481.5,-110 481.5,-116 481.5,-116 481.5,-175 481.5,-175 481.5,-181 475.5,-187 469.5,-187\"/>\r\n",
       "<text text-anchor=\"start\" x=\"289.5\" y=\"-171.8\" font-family=\"Helvetica,sans-Serif\" font-size=\"14.00\">Case_Fatality_Ratio ≤ &#45;0.713</text>\r\n",
       "<text text-anchor=\"start\" x=\"344\" y=\"-156.8\" font-family=\"Helvetica,sans-Serif\" font-size=\"14.00\">gini = 0.298</text>\r\n",
       "<text text-anchor=\"start\" x=\"338\" y=\"-141.8\" font-family=\"Helvetica,sans-Serif\" font-size=\"14.00\">samples = 33</text>\r\n",
       "<text text-anchor=\"start\" x=\"337\" y=\"-126.8\" font-family=\"Helvetica,sans-Serif\" font-size=\"14.00\">value = [27, 6]</text>\r\n",
       "<text text-anchor=\"start\" x=\"351.5\" y=\"-111.8\" font-family=\"Helvetica,sans-Serif\" font-size=\"14.00\">class = D</text>\r\n",
       "</g>\r\n",
       "<!-- 1&#45;&gt;5 -->\r\n",
       "<g id=\"edge5\" class=\"edge\">\r\n",
       "<title>1&#45;&gt;5</title>\r\n",
       "<path fill=\"none\" stroke=\"black\" d=\"M381.5,-222.91C381.5,-214.65 381.5,-205.86 381.5,-197.3\"/>\r\n",
       "<polygon fill=\"black\" stroke=\"black\" points=\"385,-197.02 381.5,-187.02 378,-197.02 385,-197.02\"/>\r\n",
       "</g>\r\n",
       "<!-- 3 -->\r\n",
       "<g id=\"node4\" class=\"node\">\r\n",
       "<title>3</title>\r\n",
       "<path fill=\"#eca06a\" stroke=\"black\" d=\"M85,-68C85,-68 12,-68 12,-68 6,-68 0,-62 0,-56 0,-56 0,-12 0,-12 0,-6 6,0 12,0 12,0 85,0 85,0 91,0 97,-6 97,-12 97,-12 97,-56 97,-56 97,-62 91,-68 85,-68\"/>\r\n",
       "<text text-anchor=\"start\" x=\"15\" y=\"-52.8\" font-family=\"Helvetica,sans-Serif\" font-size=\"14.00\">gini = 0.32</text>\r\n",
       "<text text-anchor=\"start\" x=\"9\" y=\"-37.8\" font-family=\"Helvetica,sans-Serif\" font-size=\"14.00\">samples = 5</text>\r\n",
       "<text text-anchor=\"start\" x=\"8\" y=\"-22.8\" font-family=\"Helvetica,sans-Serif\" font-size=\"14.00\">value = [4, 1]</text>\r\n",
       "<text text-anchor=\"start\" x=\"18.5\" y=\"-7.8\" font-family=\"Helvetica,sans-Serif\" font-size=\"14.00\">class = D</text>\r\n",
       "</g>\r\n",
       "<!-- 2&#45;&gt;3 -->\r\n",
       "<g id=\"edge3\" class=\"edge\">\r\n",
       "<title>2&#45;&gt;3</title>\r\n",
       "<path fill=\"none\" stroke=\"black\" d=\"M120.68,-103.73C110.91,-94.42 100.53,-84.54 90.78,-75.26\"/>\r\n",
       "<polygon fill=\"black\" stroke=\"black\" points=\"93.13,-72.66 83.47,-68.3 88.3,-77.73 93.13,-72.66\"/>\r\n",
       "</g>\r\n",
       "<!-- 4 -->\r\n",
       "<g id=\"node5\" class=\"node\">\r\n",
       "<title>4</title>\r\n",
       "<path fill=\"#95cbf1\" stroke=\"black\" d=\"M208,-68C208,-68 127,-68 127,-68 121,-68 115,-62 115,-56 115,-56 115,-12 115,-12 115,-6 121,0 127,0 127,0 208,0 208,0 214,0 220,-6 220,-12 220,-12 220,-56 220,-56 220,-62 214,-68 208,-68\"/>\r\n",
       "<text text-anchor=\"start\" x=\"130\" y=\"-52.8\" font-family=\"Helvetica,sans-Serif\" font-size=\"14.00\">gini = 0.434</text>\r\n",
       "<text text-anchor=\"start\" x=\"124\" y=\"-37.8\" font-family=\"Helvetica,sans-Serif\" font-size=\"14.00\">samples = 22</text>\r\n",
       "<text text-anchor=\"start\" x=\"123\" y=\"-22.8\" font-family=\"Helvetica,sans-Serif\" font-size=\"14.00\">value = [7, 15]</text>\r\n",
       "<text text-anchor=\"start\" x=\"138.5\" y=\"-7.8\" font-family=\"Helvetica,sans-Serif\" font-size=\"14.00\">class = e</text>\r\n",
       "</g>\r\n",
       "<!-- 2&#45;&gt;4 -->\r\n",
       "<g id=\"edge4\" class=\"edge\">\r\n",
       "<title>2&#45;&gt;4</title>\r\n",
       "<path fill=\"none\" stroke=\"black\" d=\"M164.99,-103.73C165.29,-95.52 165.61,-86.86 165.91,-78.56\"/>\r\n",
       "<polygon fill=\"black\" stroke=\"black\" points=\"169.42,-78.42 166.28,-68.3 162.42,-78.17 169.42,-78.42\"/>\r\n",
       "</g>\r\n",
       "<!-- 6 -->\r\n",
       "<g id=\"node7\" class=\"node\">\r\n",
       "<title>6</title>\r\n",
       "<path fill=\"#ea985e\" stroke=\"black\" d=\"M360,-68C360,-68 279,-68 279,-68 273,-68 267,-62 267,-56 267,-56 267,-12 267,-12 267,-6 273,0 279,0 279,0 360,0 360,0 366,0 372,-6 372,-12 372,-12 372,-56 372,-56 372,-62 366,-68 360,-68\"/>\r\n",
       "<text text-anchor=\"start\" x=\"282\" y=\"-52.8\" font-family=\"Helvetica,sans-Serif\" font-size=\"14.00\">gini = 0.264</text>\r\n",
       "<text text-anchor=\"start\" x=\"276\" y=\"-37.8\" font-family=\"Helvetica,sans-Serif\" font-size=\"14.00\">samples = 32</text>\r\n",
       "<text text-anchor=\"start\" x=\"275\" y=\"-22.8\" font-family=\"Helvetica,sans-Serif\" font-size=\"14.00\">value = [27, 5]</text>\r\n",
       "<text text-anchor=\"start\" x=\"289.5\" y=\"-7.8\" font-family=\"Helvetica,sans-Serif\" font-size=\"14.00\">class = D</text>\r\n",
       "</g>\r\n",
       "<!-- 5&#45;&gt;6 -->\r\n",
       "<g id=\"edge6\" class=\"edge\">\r\n",
       "<title>5&#45;&gt;6</title>\r\n",
       "<path fill=\"none\" stroke=\"black\" d=\"M358.41,-103.73C353.51,-95.06 348.32,-85.9 343.38,-77.18\"/>\r\n",
       "<polygon fill=\"black\" stroke=\"black\" points=\"346.33,-75.28 338.35,-68.3 340.24,-78.73 346.33,-75.28\"/>\r\n",
       "</g>\r\n",
       "<!-- 7 -->\r\n",
       "<g id=\"node8\" class=\"node\">\r\n",
       "<title>7</title>\r\n",
       "<path fill=\"#399de5\" stroke=\"black\" d=\"M475,-68C475,-68 402,-68 402,-68 396,-68 390,-62 390,-56 390,-56 390,-12 390,-12 390,-6 396,0 402,0 402,0 475,0 475,0 481,0 487,-6 487,-12 487,-12 487,-56 487,-56 487,-62 481,-68 475,-68\"/>\r\n",
       "<text text-anchor=\"start\" x=\"409.5\" y=\"-52.8\" font-family=\"Helvetica,sans-Serif\" font-size=\"14.00\">gini = 0.0</text>\r\n",
       "<text text-anchor=\"start\" x=\"399\" y=\"-37.8\" font-family=\"Helvetica,sans-Serif\" font-size=\"14.00\">samples = 1</text>\r\n",
       "<text text-anchor=\"start\" x=\"398\" y=\"-22.8\" font-family=\"Helvetica,sans-Serif\" font-size=\"14.00\">value = [0, 1]</text>\r\n",
       "<text text-anchor=\"start\" x=\"409.5\" y=\"-7.8\" font-family=\"Helvetica,sans-Serif\" font-size=\"14.00\">class = e</text>\r\n",
       "</g>\r\n",
       "<!-- 5&#45;&gt;7 -->\r\n",
       "<g id=\"edge7\" class=\"edge\">\r\n",
       "<title>5&#45;&gt;7</title>\r\n",
       "<path fill=\"none\" stroke=\"black\" d=\"M402.72,-103.73C407.24,-95.06 412.01,-85.9 416.54,-77.18\"/>\r\n",
       "<polygon fill=\"black\" stroke=\"black\" points=\"419.65,-78.79 421.17,-68.3 413.44,-75.55 419.65,-78.79\"/>\r\n",
       "</g>\r\n",
       "<!-- 9 -->\r\n",
       "<g id=\"node10\" class=\"node\">\r\n",
       "<title>9</title>\r\n",
       "<path fill=\"#bbddf6\" stroke=\"black\" d=\"M687.5,-187C687.5,-187 511.5,-187 511.5,-187 505.5,-187 499.5,-181 499.5,-175 499.5,-175 499.5,-116 499.5,-116 499.5,-110 505.5,-104 511.5,-104 511.5,-104 687.5,-104 687.5,-104 693.5,-104 699.5,-110 699.5,-116 699.5,-116 699.5,-175 699.5,-175 699.5,-181 693.5,-187 687.5,-187\"/>\r\n",
       "<text text-anchor=\"start\" x=\"507.5\" y=\"-171.8\" font-family=\"Helvetica,sans-Serif\" font-size=\"14.00\">Case_Fatality_Ratio ≤ &#45;0.499</text>\r\n",
       "<text text-anchor=\"start\" x=\"562\" y=\"-156.8\" font-family=\"Helvetica,sans-Serif\" font-size=\"14.00\">gini = 0.479</text>\r\n",
       "<text text-anchor=\"start\" x=\"556\" y=\"-141.8\" font-family=\"Helvetica,sans-Serif\" font-size=\"14.00\">samples = 58</text>\r\n",
       "<text text-anchor=\"start\" x=\"551\" y=\"-126.8\" font-family=\"Helvetica,sans-Serif\" font-size=\"14.00\">value = [23, 35]</text>\r\n",
       "<text text-anchor=\"start\" x=\"570.5\" y=\"-111.8\" font-family=\"Helvetica,sans-Serif\" font-size=\"14.00\">class = e</text>\r\n",
       "</g>\r\n",
       "<!-- 8&#45;&gt;9 -->\r\n",
       "<g id=\"edge9\" class=\"edge\">\r\n",
       "<title>8&#45;&gt;9</title>\r\n",
       "<path fill=\"none\" stroke=\"black\" d=\"M599.5,-222.91C599.5,-214.65 599.5,-205.86 599.5,-197.3\"/>\r\n",
       "<polygon fill=\"black\" stroke=\"black\" points=\"603,-197.02 599.5,-187.02 596,-197.02 603,-197.02\"/>\r\n",
       "</g>\r\n",
       "<!-- 12 -->\r\n",
       "<g id=\"node13\" class=\"node\">\r\n",
       "<title>12</title>\r\n",
       "<path fill=\"#46a3e7\" stroke=\"black\" d=\"M947,-187C947,-187 730,-187 730,-187 724,-187 718,-181 718,-175 718,-175 718,-116 718,-116 718,-110 724,-104 730,-104 730,-104 947,-104 947,-104 953,-104 959,-110 959,-116 959,-116 959,-175 959,-175 959,-181 953,-187 947,-187\"/>\r\n",
       "<text text-anchor=\"start\" x=\"726\" y=\"-171.8\" font-family=\"Helvetica,sans-Serif\" font-size=\"14.00\">Density Rank 2020 Census ≤ 0.997</text>\r\n",
       "<text text-anchor=\"start\" x=\"801\" y=\"-156.8\" font-family=\"Helvetica,sans-Serif\" font-size=\"14.00\">gini = 0.112</text>\r\n",
       "<text text-anchor=\"start\" x=\"787\" y=\"-141.8\" font-family=\"Helvetica,sans-Serif\" font-size=\"14.00\">samples = 1262</text>\r\n",
       "<text text-anchor=\"start\" x=\"781.5\" y=\"-126.8\" font-family=\"Helvetica,sans-Serif\" font-size=\"14.00\">value = [75, 1187]</text>\r\n",
       "<text text-anchor=\"start\" x=\"809.5\" y=\"-111.8\" font-family=\"Helvetica,sans-Serif\" font-size=\"14.00\">class = e</text>\r\n",
       "</g>\r\n",
       "<!-- 8&#45;&gt;12 -->\r\n",
       "<g id=\"edge12\" class=\"edge\">\r\n",
       "<title>8&#45;&gt;12</title>\r\n",
       "<path fill=\"none\" stroke=\"black\" d=\"M680.08,-224.05C701.31,-213.66 724.37,-202.37 746.16,-191.7\"/>\r\n",
       "<polygon fill=\"black\" stroke=\"black\" points=\"747.97,-194.71 755.41,-187.17 744.89,-188.43 747.97,-194.71\"/>\r\n",
       "</g>\r\n",
       "<!-- 10 -->\r\n",
       "<g id=\"node11\" class=\"node\">\r\n",
       "<title>10</title>\r\n",
       "<path fill=\"#e99355\" stroke=\"black\" d=\"M605,-68C605,-68 532,-68 532,-68 526,-68 520,-62 520,-56 520,-56 520,-12 520,-12 520,-6 526,0 532,0 532,0 605,0 605,0 611,0 617,-6 617,-12 617,-12 617,-56 617,-56 617,-62 611,-68 605,-68\"/>\r\n",
       "<text text-anchor=\"start\" x=\"531\" y=\"-52.8\" font-family=\"Helvetica,sans-Serif\" font-size=\"14.00\">gini = 0.219</text>\r\n",
       "<text text-anchor=\"start\" x=\"529\" y=\"-37.8\" font-family=\"Helvetica,sans-Serif\" font-size=\"14.00\">samples = 8</text>\r\n",
       "<text text-anchor=\"start\" x=\"528\" y=\"-22.8\" font-family=\"Helvetica,sans-Serif\" font-size=\"14.00\">value = [7, 1]</text>\r\n",
       "<text text-anchor=\"start\" x=\"538.5\" y=\"-7.8\" font-family=\"Helvetica,sans-Serif\" font-size=\"14.00\">class = D</text>\r\n",
       "</g>\r\n",
       "<!-- 9&#45;&gt;10 -->\r\n",
       "<g id=\"edge10\" class=\"edge\">\r\n",
       "<title>9&#45;&gt;10</title>\r\n",
       "<path fill=\"none\" stroke=\"black\" d=\"M587.96,-103.73C585.58,-95.34 583.07,-86.47 580.68,-78.01\"/>\r\n",
       "<polygon fill=\"black\" stroke=\"black\" points=\"584.02,-76.97 577.93,-68.3 577.28,-78.87 584.02,-76.97\"/>\r\n",
       "</g>\r\n",
       "<!-- 11 -->\r\n",
       "<g id=\"node12\" class=\"node\">\r\n",
       "<title>11</title>\r\n",
       "<path fill=\"#96cbf1\" stroke=\"black\" d=\"M736,-68C736,-68 647,-68 647,-68 641,-68 635,-62 635,-56 635,-56 635,-12 635,-12 635,-6 641,0 647,0 647,0 736,0 736,0 742,0 748,-6 748,-12 748,-12 748,-56 748,-56 748,-62 742,-68 736,-68\"/>\r\n",
       "<text text-anchor=\"start\" x=\"654\" y=\"-52.8\" font-family=\"Helvetica,sans-Serif\" font-size=\"14.00\">gini = 0.435</text>\r\n",
       "<text text-anchor=\"start\" x=\"648\" y=\"-37.8\" font-family=\"Helvetica,sans-Serif\" font-size=\"14.00\">samples = 50</text>\r\n",
       "<text text-anchor=\"start\" x=\"643\" y=\"-22.8\" font-family=\"Helvetica,sans-Serif\" font-size=\"14.00\">value = [16, 34]</text>\r\n",
       "<text text-anchor=\"start\" x=\"662.5\" y=\"-7.8\" font-family=\"Helvetica,sans-Serif\" font-size=\"14.00\">class = e</text>\r\n",
       "</g>\r\n",
       "<!-- 9&#45;&gt;11 -->\r\n",
       "<g id=\"edge11\" class=\"edge\">\r\n",
       "<title>9&#45;&gt;11</title>\r\n",
       "<path fill=\"none\" stroke=\"black\" d=\"M633.76,-103.73C641.34,-94.7 649.39,-85.12 656.98,-76.08\"/>\r\n",
       "<polygon fill=\"black\" stroke=\"black\" points=\"659.77,-78.21 663.52,-68.3 654.41,-73.7 659.77,-78.21\"/>\r\n",
       "</g>\r\n",
       "<!-- 13 -->\r\n",
       "<g id=\"node14\" class=\"node\">\r\n",
       "<title>13</title>\r\n",
       "<path fill=\"#41a1e6\" stroke=\"black\" d=\"M883.5,-68C883.5,-68 785.5,-68 785.5,-68 779.5,-68 773.5,-62 773.5,-56 773.5,-56 773.5,-12 773.5,-12 773.5,-6 779.5,0 785.5,0 785.5,0 883.5,0 883.5,0 889.5,0 895.5,-6 895.5,-12 895.5,-12 895.5,-56 895.5,-56 895.5,-62 889.5,-68 883.5,-68\"/>\r\n",
       "<text text-anchor=\"start\" x=\"797\" y=\"-52.8\" font-family=\"Helvetica,sans-Serif\" font-size=\"14.00\">gini = 0.072</text>\r\n",
       "<text text-anchor=\"start\" x=\"783\" y=\"-37.8\" font-family=\"Helvetica,sans-Serif\" font-size=\"14.00\">samples = 1022</text>\r\n",
       "<text text-anchor=\"start\" x=\"781.5\" y=\"-22.8\" font-family=\"Helvetica,sans-Serif\" font-size=\"14.00\">value = [38, 984]</text>\r\n",
       "<text text-anchor=\"start\" x=\"805.5\" y=\"-7.8\" font-family=\"Helvetica,sans-Serif\" font-size=\"14.00\">class = e</text>\r\n",
       "</g>\r\n",
       "<!-- 12&#45;&gt;13 -->\r\n",
       "<g id=\"edge13\" class=\"edge\">\r\n",
       "<title>12&#45;&gt;13</title>\r\n",
       "<path fill=\"none\" stroke=\"black\" d=\"M837.01,-103.73C836.71,-95.52 836.39,-86.86 836.09,-78.56\"/>\r\n",
       "<polygon fill=\"black\" stroke=\"black\" points=\"839.58,-78.17 835.72,-68.3 832.58,-78.42 839.58,-78.17\"/>\r\n",
       "</g>\r\n",
       "<!-- 14 -->\r\n",
       "<g id=\"node15\" class=\"node\">\r\n",
       "<title>14</title>\r\n",
       "<path fill=\"#5dafea\" stroke=\"black\" d=\"M1023.5,-68C1023.5,-68 925.5,-68 925.5,-68 919.5,-68 913.5,-62 913.5,-56 913.5,-56 913.5,-12 913.5,-12 913.5,-6 919.5,0 925.5,0 925.5,0 1023.5,0 1023.5,0 1029.5,0 1035.5,-6 1035.5,-12 1035.5,-12 1035.5,-56 1035.5,-56 1035.5,-62 1029.5,-68 1023.5,-68\"/>\r\n",
       "<text text-anchor=\"start\" x=\"937\" y=\"-52.8\" font-family=\"Helvetica,sans-Serif\" font-size=\"14.00\">gini = 0.261</text>\r\n",
       "<text text-anchor=\"start\" x=\"927\" y=\"-37.8\" font-family=\"Helvetica,sans-Serif\" font-size=\"14.00\">samples = 240</text>\r\n",
       "<text text-anchor=\"start\" x=\"921.5\" y=\"-22.8\" font-family=\"Helvetica,sans-Serif\" font-size=\"14.00\">value = [37, 203]</text>\r\n",
       "<text text-anchor=\"start\" x=\"945.5\" y=\"-7.8\" font-family=\"Helvetica,sans-Serif\" font-size=\"14.00\">class = e</text>\r\n",
       "</g>\r\n",
       "<!-- 12&#45;&gt;14 -->\r\n",
       "<g id=\"edge14\" class=\"edge\">\r\n",
       "<title>12&#45;&gt;14</title>\r\n",
       "<path fill=\"none\" stroke=\"black\" d=\"M889.14,-103.73C900.92,-94.24 913.45,-84.16 925.17,-74.72\"/>\r\n",
       "<polygon fill=\"black\" stroke=\"black\" points=\"927.55,-77.3 933.14,-68.3 923.16,-71.84 927.55,-77.3\"/>\r\n",
       "</g>\r\n",
       "</g>\r\n",
       "</svg>\r\n"
      ],
      "text/plain": [
       "<graphviz.files.Source at 0x1a5d99762b0>"
      ]
     },
     "execution_count": 89,
     "metadata": {},
     "output_type": "execute_result"
    }
   ],
   "source": [
    "# Plotting the decision tree for target 2: Deaths\n",
    "classifier_DecisionTree = DecisionTreeClassifier(max_depth = 3)\n",
    "classifier_DecisionTree.fit(df_covid,df_target2)\n",
    "dot_data = tree.export_graphviz(classifier_DecisionTree,out_file = None,\n",
    "                               feature_names = df_covid.columns,\n",
    "                               class_names = 'Deaths',\n",
    "                               filled = True, rounded = True,\n",
    "                               special_characters = True)\n",
    "graph = graphviz.Source(dot_data)\n",
    "graph"
   ]
  },
  {
   "cell_type": "markdown",
   "metadata": {},
   "source": [
    "## 3. Decision Tree implementation on Target 3: Confirmed"
   ]
  },
  {
   "cell_type": "markdown",
   "metadata": {},
   "source": [
    "### Part 1 : For max depth: {3, 5, 10, None}"
   ]
  },
  {
   "cell_type": "code",
   "execution_count": 90,
   "metadata": {},
   "outputs": [
    {
     "data": {
      "text/plain": [
       "[0.9623188405797102,\n",
       " 0.9579710144927536,\n",
       " 0.9405797101449276,\n",
       " 0.9340579710144927]"
      ]
     },
     "execution_count": 90,
     "metadata": {},
     "output_type": "execute_result"
    }
   ],
   "source": [
    "# Decision Tree on target 3: Confirmed, cv = 10\n",
    "accuracies_confirmed = []\n",
    "for max_depth in max_depth_list:\n",
    "    classifier_DecisionTree = DecisionTreeClassifier(max_depth = max_depth)\n",
    "    scores = cross_val_score(classifier_DecisionTree, df_covid, df_target3, cv=10)\n",
    "    accuracies_confirmed.append(scores.mean())\n",
    "accuracies_confirmed"
   ]
  },
  {
   "cell_type": "code",
   "execution_count": 91,
   "metadata": {},
   "outputs": [
    {
     "data": {
      "text/plain": [
       "Text(0, 0.5, 'Mean Accuracy for Target 3:Confirmed')"
      ]
     },
     "execution_count": 91,
     "metadata": {},
     "output_type": "execute_result"
    },
    {
     "data": {
      "image/png": "[encoded data removed]",
      "text/plain": [
       "<Figure size 432x288 with 1 Axes>"
      ]
     },
     "metadata": {
      "needs_background": "light"
     },
     "output_type": "display_data"
    }
   ],
   "source": [
    "#Plotting the mean accuracy versus the max depth for confirmed\n",
    "plt.title(\"Decision Tree - 10-fold Target3: Confirmed\")\n",
    "plt.plot([1,2,3,4], accuracies_confirmed)\n",
    "plt.xticks([1,2,3,4],['3','5','10','None'])\n",
    "plt.xlabel('Max Depth')\n",
    "plt.ylabel('Mean Accuracy for Target 3:Confirmed')"
   ]
  },
  {
   "cell_type": "markdown",
   "metadata": {},
   "source": [
    "### We get maximum accuracy with depth set at 3 for target 3 \"Confirmed\"."
   ]
  },
  {
   "cell_type": "markdown",
   "metadata": {},
   "source": [
    "### Part 2 : For None: (grow until leaf contains 2 datapoints)"
   ]
  },
  {
   "cell_type": "code",
   "execution_count": 92,
   "metadata": {},
   "outputs": [
    {
     "name": "stdout",
     "output_type": "stream",
     "text": [
      "Accuracy for Target2: Deaths [0.9369565217391305]\n"
     ]
    }
   ],
   "source": [
    "# Decision Tree on target 3: Confirmed\n",
    "accuracy3 = []\n",
    "classifier_DecisionTree = DecisionTreeClassifier()\n",
    "scores = cross_val_score(classifier_DecisionTree, df_covid, df_target3, cv=10)\n",
    "accuracy3.append(scores.mean())\n",
    "print(\"Accuracy for Target2: Deaths\", accuracy3)"
   ]
  },
  {
   "cell_type": "markdown",
   "metadata": {},
   "source": [
    "### We get maximum accuracy with depth set at 3 for target 3 \"Confirmed\". The accuracy is falling all the way as the depth is increasing and for None its the lowest."
   ]
  },
  {
   "cell_type": "code",
   "execution_count": 93,
   "metadata": {},
   "outputs": [
    {
     "data": {
      "image/svg+xml": [
       "<?xml version=\"1.0\" encoding=\"UTF-8\" standalone=\"no\"?>\r\n",
       "<!DOCTYPE svg PUBLIC \"-//W3C//DTD SVG 1.1//EN\"\r\n",
       " \"http://www.w3.org/Graphics/SVG/1.1/DTD/svg11.dtd\">\r\n",
       "<!-- Generated by graphviz version 2.48.0 (20210717.1556)\r\n",
       " -->\r\n",
       "<!-- Title: Tree Pages: 1 -->\r\n",
       "<svg width=\"798pt\" height=\"433pt\"\r\n",
       " viewBox=\"0.00 0.00 798.00 433.00\" xmlns=\"http://www.w3.org/2000/svg\" xmlns:xlink=\"http://www.w3.org/1999/xlink\">\r\n",
       "<g id=\"graph0\" class=\"graph\" transform=\"scale(1 1) rotate(0) translate(4 429)\">\r\n",
       "<title>Tree</title>\r\n",
       "<polygon fill=\"white\" stroke=\"transparent\" points=\"-4,4 -4,-429 794,-429 794,4 -4,4\"/>\r\n",
       "<!-- 0 -->\r\n",
       "<g id=\"node1\" class=\"node\">\r\n",
       "<title>0</title>\r\n",
       "<path fill=\"#41a1e6\" stroke=\"black\" d=\"M486.5,-425C486.5,-425 356.5,-425 356.5,-425 350.5,-425 344.5,-419 344.5,-413 344.5,-413 344.5,-354 344.5,-354 344.5,-348 350.5,-342 356.5,-342 356.5,-342 486.5,-342 486.5,-342 492.5,-342 498.5,-348 498.5,-354 498.5,-354 498.5,-413 498.5,-413 498.5,-419 492.5,-425 486.5,-425\"/>\r\n",
       "<text text-anchor=\"start\" x=\"352.5\" y=\"-409.8\" font-family=\"Helvetica,sans-Serif\" font-size=\"14.00\">Testing_Rate ≤ 2.909</text>\r\n",
       "<text text-anchor=\"start\" x=\"384\" y=\"-394.8\" font-family=\"Helvetica,sans-Serif\" font-size=\"14.00\">gini = 0.071</text>\r\n",
       "<text text-anchor=\"start\" x=\"370\" y=\"-379.8\" font-family=\"Helvetica,sans-Serif\" font-size=\"14.00\">samples = 1380</text>\r\n",
       "<text text-anchor=\"start\" x=\"364.5\" y=\"-364.8\" font-family=\"Helvetica,sans-Serif\" font-size=\"14.00\">value = [51, 1329]</text>\r\n",
       "<text text-anchor=\"start\" x=\"392.5\" y=\"-349.8\" font-family=\"Helvetica,sans-Serif\" font-size=\"14.00\">class = e</text>\r\n",
       "</g>\r\n",
       "<!-- 1 -->\r\n",
       "<g id=\"node2\" class=\"node\">\r\n",
       "<title>1</title>\r\n",
       "<path fill=\"#40a0e6\" stroke=\"black\" d=\"M401.5,-306C401.5,-306 267.5,-306 267.5,-306 261.5,-306 255.5,-300 255.5,-294 255.5,-294 255.5,-235 255.5,-235 255.5,-229 261.5,-223 267.5,-223 267.5,-223 401.5,-223 401.5,-223 407.5,-223 413.5,-229 413.5,-235 413.5,-235 413.5,-294 413.5,-294 413.5,-300 407.5,-306 401.5,-306\"/>\r\n",
       "<text text-anchor=\"start\" x=\"263.5\" y=\"-290.8\" font-family=\"Helvetica,sans-Serif\" font-size=\"14.00\">Testing_Rate ≤ &#45;1.264</text>\r\n",
       "<text text-anchor=\"start\" x=\"297\" y=\"-275.8\" font-family=\"Helvetica,sans-Serif\" font-size=\"14.00\">gini = 0.062</text>\r\n",
       "<text text-anchor=\"start\" x=\"283\" y=\"-260.8\" font-family=\"Helvetica,sans-Serif\" font-size=\"14.00\">samples = 1363</text>\r\n",
       "<text text-anchor=\"start\" x=\"277.5\" y=\"-245.8\" font-family=\"Helvetica,sans-Serif\" font-size=\"14.00\">value = [44, 1319]</text>\r\n",
       "<text text-anchor=\"start\" x=\"305.5\" y=\"-230.8\" font-family=\"Helvetica,sans-Serif\" font-size=\"14.00\">class = e</text>\r\n",
       "</g>\r\n",
       "<!-- 0&#45;&gt;1 -->\r\n",
       "<g id=\"edge1\" class=\"edge\">\r\n",
       "<title>0&#45;&gt;1</title>\r\n",
       "<path fill=\"none\" stroke=\"black\" d=\"M391.32,-341.91C384.64,-332.92 377.49,-323.32 370.6,-314.05\"/>\r\n",
       "<polygon fill=\"black\" stroke=\"black\" points=\"373.41,-311.96 364.63,-306.02 367.79,-316.13 373.41,-311.96\"/>\r\n",
       "<text text-anchor=\"middle\" x=\"360.99\" y=\"-327.05\" font-family=\"Helvetica,sans-Serif\" font-size=\"14.00\">True</text>\r\n",
       "</g>\r\n",
       "<!-- 8 -->\r\n",
       "<g id=\"node9\" class=\"node\">\r\n",
       "<title>8</title>\r\n",
       "<path fill=\"#c4e2f7\" stroke=\"black\" d=\"M573.5,-306C573.5,-306 443.5,-306 443.5,-306 437.5,-306 431.5,-300 431.5,-294 431.5,-294 431.5,-235 431.5,-235 431.5,-229 437.5,-223 443.5,-223 443.5,-223 573.5,-223 573.5,-223 579.5,-223 585.5,-229 585.5,-235 585.5,-235 585.5,-294 585.5,-294 585.5,-300 579.5,-306 573.5,-306\"/>\r\n",
       "<text text-anchor=\"start\" x=\"439.5\" y=\"-290.8\" font-family=\"Helvetica,sans-Serif\" font-size=\"14.00\">Testing_Rate ≤ 2.999</text>\r\n",
       "<text text-anchor=\"start\" x=\"471\" y=\"-275.8\" font-family=\"Helvetica,sans-Serif\" font-size=\"14.00\">gini = 0.484</text>\r\n",
       "<text text-anchor=\"start\" x=\"465\" y=\"-260.8\" font-family=\"Helvetica,sans-Serif\" font-size=\"14.00\">samples = 17</text>\r\n",
       "<text text-anchor=\"start\" x=\"464\" y=\"-245.8\" font-family=\"Helvetica,sans-Serif\" font-size=\"14.00\">value = [7, 10]</text>\r\n",
       "<text text-anchor=\"start\" x=\"479.5\" y=\"-230.8\" font-family=\"Helvetica,sans-Serif\" font-size=\"14.00\">class = e</text>\r\n",
       "</g>\r\n",
       "<!-- 0&#45;&gt;8 -->\r\n",
       "<g id=\"edge8\" class=\"edge\">\r\n",
       "<title>0&#45;&gt;8</title>\r\n",
       "<path fill=\"none\" stroke=\"black\" d=\"M451.68,-341.91C458.36,-332.92 465.51,-323.32 472.4,-314.05\"/>\r\n",
       "<polygon fill=\"black\" stroke=\"black\" points=\"475.21,-316.13 478.37,-306.02 469.59,-311.96 475.21,-316.13\"/>\r\n",
       "<text text-anchor=\"middle\" x=\"482.01\" y=\"-327.05\" font-family=\"Helvetica,sans-Serif\" font-size=\"14.00\">False</text>\r\n",
       "</g>\r\n",
       "<!-- 2 -->\r\n",
       "<g id=\"node3\" class=\"node\">\r\n",
       "<title>2</title>\r\n",
       "<path fill=\"#54aae9\" stroke=\"black\" d=\"M214,-187C214,-187 125,-187 125,-187 119,-187 113,-181 113,-175 113,-175 113,-116 113,-116 113,-110 119,-104 125,-104 125,-104 214,-104 214,-104 220,-104 226,-110 226,-116 226,-116 226,-175 226,-175 226,-181 220,-187 214,-187\"/>\r\n",
       "<text text-anchor=\"start\" x=\"121.5\" y=\"-171.8\" font-family=\"Helvetica,sans-Serif\" font-size=\"14.00\">Active ≤ &#45;0.106</text>\r\n",
       "<text text-anchor=\"start\" x=\"132\" y=\"-156.8\" font-family=\"Helvetica,sans-Serif\" font-size=\"14.00\">gini = 0.211</text>\r\n",
       "<text text-anchor=\"start\" x=\"122\" y=\"-141.8\" font-family=\"Helvetica,sans-Serif\" font-size=\"14.00\">samples = 100</text>\r\n",
       "<text text-anchor=\"start\" x=\"121\" y=\"-126.8\" font-family=\"Helvetica,sans-Serif\" font-size=\"14.00\">value = [12, 88]</text>\r\n",
       "<text text-anchor=\"start\" x=\"140.5\" y=\"-111.8\" font-family=\"Helvetica,sans-Serif\" font-size=\"14.00\">class = e</text>\r\n",
       "</g>\r\n",
       "<!-- 1&#45;&gt;2 -->\r\n",
       "<g id=\"edge2\" class=\"edge\">\r\n",
       "<title>1&#45;&gt;2</title>\r\n",
       "<path fill=\"none\" stroke=\"black\" d=\"M277.25,-222.91C263.4,-213.09 248.5,-202.52 234.33,-192.47\"/>\r\n",
       "<polygon fill=\"black\" stroke=\"black\" points=\"236.27,-189.55 226.09,-186.63 232.22,-195.26 236.27,-189.55\"/>\r\n",
       "</g>\r\n",
       "<!-- 5 -->\r\n",
       "<g id=\"node6\" class=\"node\">\r\n",
       "<title>5</title>\r\n",
       "<path fill=\"#3ea0e6\" stroke=\"black\" d=\"M420.5,-187C420.5,-187 256.5,-187 256.5,-187 250.5,-187 244.5,-181 244.5,-175 244.5,-175 244.5,-116 244.5,-116 244.5,-110 250.5,-104 256.5,-104 256.5,-104 420.5,-104 420.5,-104 426.5,-104 432.5,-110 432.5,-116 432.5,-116 432.5,-175 432.5,-175 432.5,-181 426.5,-187 420.5,-187\"/>\r\n",
       "<text text-anchor=\"start\" x=\"252.5\" y=\"-171.8\" font-family=\"Helvetica,sans-Serif\" font-size=\"14.00\">Case_Fatality_Ratio ≤ 0.49</text>\r\n",
       "<text text-anchor=\"start\" x=\"301\" y=\"-156.8\" font-family=\"Helvetica,sans-Serif\" font-size=\"14.00\">gini = 0.049</text>\r\n",
       "<text text-anchor=\"start\" x=\"287\" y=\"-141.8\" font-family=\"Helvetica,sans-Serif\" font-size=\"14.00\">samples = 1263</text>\r\n",
       "<text text-anchor=\"start\" x=\"281.5\" y=\"-126.8\" font-family=\"Helvetica,sans-Serif\" font-size=\"14.00\">value = [32, 1231]</text>\r\n",
       "<text text-anchor=\"start\" x=\"309.5\" y=\"-111.8\" font-family=\"Helvetica,sans-Serif\" font-size=\"14.00\">class = e</text>\r\n",
       "</g>\r\n",
       "<!-- 1&#45;&gt;5 -->\r\n",
       "<g id=\"edge5\" class=\"edge\">\r\n",
       "<title>1&#45;&gt;5</title>\r\n",
       "<path fill=\"none\" stroke=\"black\" d=\"M335.89,-222.91C336.17,-214.56 336.48,-205.67 336.77,-197.02\"/>\r\n",
       "<polygon fill=\"black\" stroke=\"black\" points=\"340.27,-197.13 337.11,-187.02 333.27,-196.9 340.27,-197.13\"/>\r\n",
       "</g>\r\n",
       "<!-- 3 -->\r\n",
       "<g id=\"node4\" class=\"node\">\r\n",
       "<title>3</title>\r\n",
       "<path fill=\"#3fa0e6\" stroke=\"black\" d=\"M93,-68C93,-68 12,-68 12,-68 6,-68 0,-62 0,-56 0,-56 0,-12 0,-12 0,-6 6,0 12,0 12,0 93,0 93,0 99,0 105,-6 105,-12 105,-12 105,-56 105,-56 105,-62 99,-68 93,-68\"/>\r\n",
       "<text text-anchor=\"start\" x=\"15\" y=\"-52.8\" font-family=\"Helvetica,sans-Serif\" font-size=\"14.00\">gini = 0.056</text>\r\n",
       "<text text-anchor=\"start\" x=\"9\" y=\"-37.8\" font-family=\"Helvetica,sans-Serif\" font-size=\"14.00\">samples = 69</text>\r\n",
       "<text text-anchor=\"start\" x=\"8\" y=\"-22.8\" font-family=\"Helvetica,sans-Serif\" font-size=\"14.00\">value = [2, 67]</text>\r\n",
       "<text text-anchor=\"start\" x=\"23.5\" y=\"-7.8\" font-family=\"Helvetica,sans-Serif\" font-size=\"14.00\">class = e</text>\r\n",
       "</g>\r\n",
       "<!-- 2&#45;&gt;3 -->\r\n",
       "<g id=\"edge3\" class=\"edge\">\r\n",
       "<title>2&#45;&gt;3</title>\r\n",
       "<path fill=\"none\" stroke=\"black\" d=\"M125.93,-103.73C115.99,-94.42 105.44,-84.54 95.52,-75.26\"/>\r\n",
       "<polygon fill=\"black\" stroke=\"black\" points=\"97.77,-72.58 88.08,-68.3 92.99,-77.69 97.77,-72.58\"/>\r\n",
       "</g>\r\n",
       "<!-- 4 -->\r\n",
       "<g id=\"node5\" class=\"node\">\r\n",
       "<title>4</title>\r\n",
       "<path fill=\"#97ccf1\" stroke=\"black\" d=\"M224,-68C224,-68 135,-68 135,-68 129,-68 123,-62 123,-56 123,-56 123,-12 123,-12 123,-6 129,0 135,0 135,0 224,0 224,0 230,0 236,-6 236,-12 236,-12 236,-56 236,-56 236,-62 230,-68 224,-68\"/>\r\n",
       "<text text-anchor=\"start\" x=\"142\" y=\"-52.8\" font-family=\"Helvetica,sans-Serif\" font-size=\"14.00\">gini = 0.437</text>\r\n",
       "<text text-anchor=\"start\" x=\"136\" y=\"-37.8\" font-family=\"Helvetica,sans-Serif\" font-size=\"14.00\">samples = 31</text>\r\n",
       "<text text-anchor=\"start\" x=\"131\" y=\"-22.8\" font-family=\"Helvetica,sans-Serif\" font-size=\"14.00\">value = [10, 21]</text>\r\n",
       "<text text-anchor=\"start\" x=\"150.5\" y=\"-7.8\" font-family=\"Helvetica,sans-Serif\" font-size=\"14.00\">class = e</text>\r\n",
       "</g>\r\n",
       "<!-- 2&#45;&gt;4 -->\r\n",
       "<g id=\"edge4\" class=\"edge\">\r\n",
       "<title>2&#45;&gt;4</title>\r\n",
       "<path fill=\"none\" stroke=\"black\" d=\"M173.22,-103.73C173.98,-95.43 174.78,-86.67 175.55,-78.28\"/>\r\n",
       "<polygon fill=\"black\" stroke=\"black\" points=\"179.03,-78.58 176.46,-68.3 172.06,-77.94 179.03,-78.58\"/>\r\n",
       "</g>\r\n",
       "<!-- 6 -->\r\n",
       "<g id=\"node7\" class=\"node\">\r\n",
       "<title>6</title>\r\n",
       "<path fill=\"#3b9ee5\" stroke=\"black\" d=\"M374,-68C374,-68 285,-68 285,-68 279,-68 273,-62 273,-56 273,-56 273,-12 273,-12 273,-6 279,0 285,0 285,0 374,0 374,0 380,0 386,-6 386,-12 386,-12 386,-56 386,-56 386,-62 380,-68 374,-68\"/>\r\n",
       "<text text-anchor=\"start\" x=\"292\" y=\"-52.8\" font-family=\"Helvetica,sans-Serif\" font-size=\"14.00\">gini = 0.016</text>\r\n",
       "<text text-anchor=\"start\" x=\"282\" y=\"-37.8\" font-family=\"Helvetica,sans-Serif\" font-size=\"14.00\">samples = 984</text>\r\n",
       "<text text-anchor=\"start\" x=\"281\" y=\"-22.8\" font-family=\"Helvetica,sans-Serif\" font-size=\"14.00\">value = [8, 976]</text>\r\n",
       "<text text-anchor=\"start\" x=\"300.5\" y=\"-7.8\" font-family=\"Helvetica,sans-Serif\" font-size=\"14.00\">class = e</text>\r\n",
       "</g>\r\n",
       "<!-- 5&#45;&gt;6 -->\r\n",
       "<g id=\"edge6\" class=\"edge\">\r\n",
       "<title>5&#45;&gt;6</title>\r\n",
       "<path fill=\"none\" stroke=\"black\" d=\"M335.15,-103.73C334.47,-95.43 333.75,-86.67 333.06,-78.28\"/>\r\n",
       "<polygon fill=\"black\" stroke=\"black\" points=\"336.54,-77.98 332.24,-68.3 329.57,-78.55 336.54,-77.98\"/>\r\n",
       "</g>\r\n",
       "<!-- 7 -->\r\n",
       "<g id=\"node8\" class=\"node\">\r\n",
       "<title>7</title>\r\n",
       "<path fill=\"#4ca6e7\" stroke=\"black\" d=\"M514.5,-68C514.5,-68 416.5,-68 416.5,-68 410.5,-68 404.5,-62 404.5,-56 404.5,-56 404.5,-12 404.5,-12 404.5,-6 410.5,0 416.5,0 416.5,0 514.5,0 514.5,0 520.5,0 526.5,-6 526.5,-12 526.5,-12 526.5,-56 526.5,-56 526.5,-62 520.5,-68 514.5,-68\"/>\r\n",
       "<text text-anchor=\"start\" x=\"428\" y=\"-52.8\" font-family=\"Helvetica,sans-Serif\" font-size=\"14.00\">gini = 0.157</text>\r\n",
       "<text text-anchor=\"start\" x=\"418\" y=\"-37.8\" font-family=\"Helvetica,sans-Serif\" font-size=\"14.00\">samples = 279</text>\r\n",
       "<text text-anchor=\"start\" x=\"412.5\" y=\"-22.8\" font-family=\"Helvetica,sans-Serif\" font-size=\"14.00\">value = [24, 255]</text>\r\n",
       "<text text-anchor=\"start\" x=\"436.5\" y=\"-7.8\" font-family=\"Helvetica,sans-Serif\" font-size=\"14.00\">class = e</text>\r\n",
       "</g>\r\n",
       "<!-- 5&#45;&gt;7 -->\r\n",
       "<g id=\"edge7\" class=\"edge\">\r\n",
       "<title>5&#45;&gt;7</title>\r\n",
       "<path fill=\"none\" stroke=\"black\" d=\"M385.79,-103.73C396.69,-94.33 408.26,-84.35 419.12,-74.99\"/>\r\n",
       "<polygon fill=\"black\" stroke=\"black\" points=\"421.59,-77.48 426.88,-68.3 417.02,-72.18 421.59,-77.48\"/>\r\n",
       "</g>\r\n",
       "<!-- 9 -->\r\n",
       "<g id=\"node10\" class=\"node\">\r\n",
       "<title>9</title>\r\n",
       "<path fill=\"#eeab7b\" stroke=\"black\" d=\"M542,-179.5C542,-179.5 469,-179.5 469,-179.5 463,-179.5 457,-173.5 457,-167.5 457,-167.5 457,-123.5 457,-123.5 457,-117.5 463,-111.5 469,-111.5 469,-111.5 542,-111.5 542,-111.5 548,-111.5 554,-117.5 554,-123.5 554,-123.5 554,-167.5 554,-167.5 554,-173.5 548,-179.5 542,-179.5\"/>\r\n",
       "<text text-anchor=\"start\" x=\"468\" y=\"-164.3\" font-family=\"Helvetica,sans-Serif\" font-size=\"14.00\">gini = 0.375</text>\r\n",
       "<text text-anchor=\"start\" x=\"466\" y=\"-149.3\" font-family=\"Helvetica,sans-Serif\" font-size=\"14.00\">samples = 4</text>\r\n",
       "<text text-anchor=\"start\" x=\"465\" y=\"-134.3\" font-family=\"Helvetica,sans-Serif\" font-size=\"14.00\">value = [3, 1]</text>\r\n",
       "<text text-anchor=\"start\" x=\"475.5\" y=\"-119.3\" font-family=\"Helvetica,sans-Serif\" font-size=\"14.00\">class = D</text>\r\n",
       "</g>\r\n",
       "<!-- 8&#45;&gt;9 -->\r\n",
       "<g id=\"edge9\" class=\"edge\">\r\n",
       "<title>8&#45;&gt;9</title>\r\n",
       "<path fill=\"none\" stroke=\"black\" d=\"M507.46,-222.91C507.18,-212.2 506.89,-200.62 506.61,-189.78\"/>\r\n",
       "<polygon fill=\"black\" stroke=\"black\" points=\"510.11,-189.57 506.35,-179.67 503.11,-189.75 510.11,-189.57\"/>\r\n",
       "</g>\r\n",
       "<!-- 10 -->\r\n",
       "<g id=\"node11\" class=\"node\">\r\n",
       "<title>10</title>\r\n",
       "<path fill=\"#91c9f1\" stroke=\"black\" d=\"M714.5,-187C714.5,-187 584.5,-187 584.5,-187 578.5,-187 572.5,-181 572.5,-175 572.5,-175 572.5,-116 572.5,-116 572.5,-110 578.5,-104 584.5,-104 584.5,-104 714.5,-104 714.5,-104 720.5,-104 726.5,-110 726.5,-116 726.5,-116 726.5,-175 726.5,-175 726.5,-181 720.5,-187 714.5,-187\"/>\r\n",
       "<text text-anchor=\"start\" x=\"580.5\" y=\"-171.8\" font-family=\"Helvetica,sans-Serif\" font-size=\"14.00\">Testing_Rate ≤ 3.497</text>\r\n",
       "<text text-anchor=\"start\" x=\"612\" y=\"-156.8\" font-family=\"Helvetica,sans-Serif\" font-size=\"14.00\">gini = 0.426</text>\r\n",
       "<text text-anchor=\"start\" x=\"606\" y=\"-141.8\" font-family=\"Helvetica,sans-Serif\" font-size=\"14.00\">samples = 13</text>\r\n",
       "<text text-anchor=\"start\" x=\"609\" y=\"-126.8\" font-family=\"Helvetica,sans-Serif\" font-size=\"14.00\">value = [4, 9]</text>\r\n",
       "<text text-anchor=\"start\" x=\"620.5\" y=\"-111.8\" font-family=\"Helvetica,sans-Serif\" font-size=\"14.00\">class = e</text>\r\n",
       "</g>\r\n",
       "<!-- 8&#45;&gt;10 -->\r\n",
       "<g id=\"edge10\" class=\"edge\">\r\n",
       "<title>8&#45;&gt;10</title>\r\n",
       "<path fill=\"none\" stroke=\"black\" d=\"M557.42,-222.91C568.79,-213.47 581,-203.34 592.68,-193.65\"/>\r\n",
       "<polygon fill=\"black\" stroke=\"black\" points=\"595.21,-196.1 600.67,-187.02 590.74,-190.71 595.21,-196.1\"/>\r\n",
       "</g>\r\n",
       "<!-- 11 -->\r\n",
       "<g id=\"node12\" class=\"node\">\r\n",
       "<title>11</title>\r\n",
       "<path fill=\"#6ab6ec\" stroke=\"black\" d=\"M663,-68C663,-68 584,-68 584,-68 578,-68 572,-62 572,-56 572,-56 572,-12 572,-12 572,-6 578,0 584,0 584,0 663,0 663,0 669,0 675,-6 675,-12 675,-12 675,-56 675,-56 675,-62 669,-68 663,-68\"/>\r\n",
       "<text text-anchor=\"start\" x=\"590\" y=\"-52.8\" font-family=\"Helvetica,sans-Serif\" font-size=\"14.00\">gini = 0.32</text>\r\n",
       "<text text-anchor=\"start\" x=\"580\" y=\"-37.8\" font-family=\"Helvetica,sans-Serif\" font-size=\"14.00\">samples = 10</text>\r\n",
       "<text text-anchor=\"start\" x=\"583\" y=\"-22.8\" font-family=\"Helvetica,sans-Serif\" font-size=\"14.00\">value = [2, 8]</text>\r\n",
       "<text text-anchor=\"start\" x=\"594.5\" y=\"-7.8\" font-family=\"Helvetica,sans-Serif\" font-size=\"14.00\">class = e</text>\r\n",
       "</g>\r\n",
       "<!-- 10&#45;&gt;11 -->\r\n",
       "<g id=\"edge11\" class=\"edge\">\r\n",
       "<title>10&#45;&gt;11</title>\r\n",
       "<path fill=\"none\" stroke=\"black\" d=\"M639.82,-103.73C637.85,-95.43 635.77,-86.67 633.78,-78.28\"/>\r\n",
       "<polygon fill=\"black\" stroke=\"black\" points=\"637.12,-77.22 631.41,-68.3 630.31,-78.84 637.12,-77.22\"/>\r\n",
       "</g>\r\n",
       "<!-- 12 -->\r\n",
       "<g id=\"node13\" class=\"node\">\r\n",
       "<title>12</title>\r\n",
       "<path fill=\"#f2c09c\" stroke=\"black\" d=\"M778,-68C778,-68 705,-68 705,-68 699,-68 693,-62 693,-56 693,-56 693,-12 693,-12 693,-6 699,0 705,0 705,0 778,0 778,0 784,0 790,-6 790,-12 790,-12 790,-56 790,-56 790,-62 784,-68 778,-68\"/>\r\n",
       "<text text-anchor=\"start\" x=\"704\" y=\"-52.8\" font-family=\"Helvetica,sans-Serif\" font-size=\"14.00\">gini = 0.444</text>\r\n",
       "<text text-anchor=\"start\" x=\"702\" y=\"-37.8\" font-family=\"Helvetica,sans-Serif\" font-size=\"14.00\">samples = 3</text>\r\n",
       "<text text-anchor=\"start\" x=\"701\" y=\"-22.8\" font-family=\"Helvetica,sans-Serif\" font-size=\"14.00\">value = [2, 1]</text>\r\n",
       "<text text-anchor=\"start\" x=\"711.5\" y=\"-7.8\" font-family=\"Helvetica,sans-Serif\" font-size=\"14.00\">class = D</text>\r\n",
       "</g>\r\n",
       "<!-- 10&#45;&gt;12 -->\r\n",
       "<g id=\"edge12\" class=\"edge\">\r\n",
       "<title>10&#45;&gt;12</title>\r\n",
       "<path fill=\"none\" stroke=\"black\" d=\"M683.76,-103.73C691.34,-94.7 699.39,-85.12 706.98,-76.08\"/>\r\n",
       "<polygon fill=\"black\" stroke=\"black\" points=\"709.77,-78.21 713.52,-68.3 704.41,-73.7 709.77,-78.21\"/>\r\n",
       "</g>\r\n",
       "</g>\r\n",
       "</svg>\r\n"
      ],
      "text/plain": [
       "<graphviz.files.Source at 0x1a5d8700580>"
      ]
     },
     "execution_count": 93,
     "metadata": {},
     "output_type": "execute_result"
    }
   ],
   "source": [
    "# Plotting the decision tree for target 3: Confirmed\n",
    "classifier_DecisionTree = DecisionTreeClassifier(max_depth = 3)\n",
    "classifier_DecisionTree.fit(df_covid,df_target3)\n",
    "dot_data = tree.export_graphviz(classifier_DecisionTree,out_file = None,\n",
    "                               feature_names = df_covid.columns,\n",
    "                               class_names = 'Deaths',\n",
    "                               filled = True, rounded = True,\n",
    "                               special_characters = True)\n",
    "graph = graphviz.Source(dot_data)\n",
    "graph"
   ]
  }
 ],
 "metadata": {
  "kernelspec": {
   "display_name": "Python 3",
   "language": "python",
   "name": "python3"
  },
  "language_info": {
   "codemirror_mode": {
    "name": "ipython",
    "version": 3
   },
   "file_extension": ".py",
   "mimetype": "text/x-python",
   "name": "python",
   "nbconvert_exporter": "python",
   "pygments_lexer": "ipython3",
   "version": "3.8.5"
  }
 },
 "nbformat": 4,
 "nbformat_minor": 5
}
