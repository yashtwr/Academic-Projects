{
 "cells": [
  {
   "cell_type": "markdown",
   "metadata": {},
   "source": [
    "# [CM4] Random Forest Classifier"
   ]
  },
  {
   "cell_type": "markdown",
   "metadata": {},
   "source": [
    "Importing all necessary libraries."
   ]
  },
  {
   "cell_type": "code",
   "execution_count": 32,
   "metadata": {},
   "outputs": [],
   "source": [
    "import numpy as np\n",
    "import pandas as pd\n",
    "import matplotlib.pyplot as plt\n",
    "import seaborn as sns\n",
    "from sklearn.ensemble import RandomForestClassifier"
   ]
  },
  {
   "cell_type": "code",
   "execution_count": 33,
   "metadata": {},
   "outputs": [],
   "source": [
    "df_train = pd.read_csv('cleaned_normalized_coviddata.csv')"
   ]
  },
  {
   "cell_type": "code",
   "execution_count": 34,
   "metadata": {},
   "outputs": [
    {
     "data": {
      "text/html": [
       "<div>\n",
       "<style scoped>\n",
       "    .dataframe tbody tr th:only-of-type {\n",
       "        vertical-align: middle;\n",
       "    }\n",
       "\n",
       "    .dataframe tbody tr th {\n",
       "        vertical-align: top;\n",
       "    }\n",
       "\n",
       "    .dataframe thead th {\n",
       "        text-align: right;\n",
       "    }\n",
       "</style>\n",
       "<table border=\"1\" class=\"dataframe\">\n",
       "  <thead>\n",
       "    <tr style=\"text-align: right;\">\n",
       "      <th></th>\n",
       "      <th>Day</th>\n",
       "      <th>State ID</th>\n",
       "      <th>Lat</th>\n",
       "      <th>Long_</th>\n",
       "      <th>Active</th>\n",
       "      <th>Incident_Rate</th>\n",
       "      <th>Total_Test_Results</th>\n",
       "      <th>Case_Fatality_Ratio</th>\n",
       "      <th>Testing_Rate</th>\n",
       "      <th>Resident Population 2020 Census</th>\n",
       "      <th>Population Density 2020 Census</th>\n",
       "      <th>Density Rank 2020 Census</th>\n",
       "      <th>SexRatio</th>\n",
       "      <th>Confirmed</th>\n",
       "      <th>Deaths</th>\n",
       "      <th>Recovered</th>\n",
       "    </tr>\n",
       "  </thead>\n",
       "  <tbody>\n",
       "    <tr>\n",
       "      <th>0</th>\n",
       "      <td>2</td>\n",
       "      <td>1</td>\n",
       "      <td>-1.178243</td>\n",
       "      <td>0.304476</td>\n",
       "      <td>-0.200641</td>\n",
       "      <td>0.143976</td>\n",
       "      <td>-0.483393</td>\n",
       "      <td>-0.475230</td>\n",
       "      <td>-1.301745</td>\n",
       "      <td>-0.128579</td>\n",
       "      <td>-0.217013</td>\n",
       "      <td>0.118745</td>\n",
       "      <td>-1.168255</td>\n",
       "      <td>True</td>\n",
       "      <td>False</td>\n",
       "      <td>False</td>\n",
       "    </tr>\n",
       "    <tr>\n",
       "      <th>1</th>\n",
       "      <td>2</td>\n",
       "      <td>2</td>\n",
       "      <td>3.607611</td>\n",
       "      <td>-3.031933</td>\n",
       "      <td>-0.448967</td>\n",
       "      <td>-0.290209</td>\n",
       "      <td>-0.569371</td>\n",
       "      <td>-1.797949</td>\n",
       "      <td>2.071154</td>\n",
       "      <td>-0.754174</td>\n",
       "      <td>-0.276752</td>\n",
       "      <td>1.614369</td>\n",
       "      <td>3.491260</td>\n",
       "      <td>True</td>\n",
       "      <td>True</td>\n",
       "      <td>False</td>\n",
       "    </tr>\n",
       "    <tr>\n",
       "      <th>2</th>\n",
       "      <td>2</td>\n",
       "      <td>3</td>\n",
       "      <td>-0.945708</td>\n",
       "      <td>-0.944926</td>\n",
       "      <td>0.389043</td>\n",
       "      <td>0.088511</td>\n",
       "      <td>-0.007491</td>\n",
       "      <td>0.075713</td>\n",
       "      <td>-1.268952</td>\n",
       "      <td>0.181561</td>\n",
       "      <td>-0.239163</td>\n",
       "      <td>0.508908</td>\n",
       "      <td>0.384916</td>\n",
       "      <td>True</td>\n",
       "      <td>True</td>\n",
       "      <td>True</td>\n",
       "    </tr>\n",
       "    <tr>\n",
       "      <th>3</th>\n",
       "      <td>2</td>\n",
       "      <td>4</td>\n",
       "      <td>-0.741458</td>\n",
       "      <td>0.025816</td>\n",
       "      <td>-0.482359</td>\n",
       "      <td>0.202178</td>\n",
       "      <td>-0.456457</td>\n",
       "      <td>-0.029941</td>\n",
       "      <td>-0.559153</td>\n",
       "      <td>-0.422031</td>\n",
       "      <td>-0.242214</td>\n",
       "      <td>0.573935</td>\n",
       "      <td>-0.546987</td>\n",
       "      <td>True</td>\n",
       "      <td>True</td>\n",
       "      <td>True</td>\n",
       "    </tr>\n",
       "    <tr>\n",
       "      <th>4</th>\n",
       "      <td>2</td>\n",
       "      <td>5</td>\n",
       "      <td>-0.552594</td>\n",
       "      <td>-1.365168</td>\n",
       "      <td>4.275448</td>\n",
       "      <td>-0.502417</td>\n",
       "      <td>4.022089</td>\n",
       "      <td>-0.791062</td>\n",
       "      <td>-0.177543</td>\n",
       "      <td>4.903416</td>\n",
       "      <td>-0.122735</td>\n",
       "      <td>-0.921689</td>\n",
       "      <td>0.384916</td>\n",
       "      <td>True</td>\n",
       "      <td>True</td>\n",
       "      <td>False</td>\n",
       "    </tr>\n",
       "  </tbody>\n",
       "</table>\n",
       "</div>"
      ],
      "text/plain": [
       "   Day  State ID       Lat     Long_    Active  Incident_Rate  \\\n",
       "0    2         1 -1.178243  0.304476 -0.200641       0.143976   \n",
       "1    2         2  3.607611 -3.031933 -0.448967      -0.290209   \n",
       "2    2         3 -0.945708 -0.944926  0.389043       0.088511   \n",
       "3    2         4 -0.741458  0.025816 -0.482359       0.202178   \n",
       "4    2         5 -0.552594 -1.365168  4.275448      -0.502417   \n",
       "\n",
       "   Total_Test_Results  Case_Fatality_Ratio  Testing_Rate  \\\n",
       "0           -0.483393            -0.475230     -1.301745   \n",
       "1           -0.569371            -1.797949      2.071154   \n",
       "2           -0.007491             0.075713     -1.268952   \n",
       "3           -0.456457            -0.029941     -0.559153   \n",
       "4            4.022089            -0.791062     -0.177543   \n",
       "\n",
       "   Resident Population 2020 Census  Population Density 2020 Census  \\\n",
       "0                        -0.128579                       -0.217013   \n",
       "1                        -0.754174                       -0.276752   \n",
       "2                         0.181561                       -0.239163   \n",
       "3                        -0.422031                       -0.242214   \n",
       "4                         4.903416                       -0.122735   \n",
       "\n",
       "   Density Rank 2020 Census  SexRatio  Confirmed  Deaths  Recovered  \n",
       "0                  0.118745 -1.168255       True   False      False  \n",
       "1                  1.614369  3.491260       True    True      False  \n",
       "2                  0.508908  0.384916       True    True       True  \n",
       "3                  0.573935 -0.546987       True    True       True  \n",
       "4                 -0.921689  0.384916       True    True      False  "
      ]
     },
     "execution_count": 34,
     "metadata": {},
     "output_type": "execute_result"
    }
   ],
   "source": [
    "df_train.head(5)"
   ]
  },
  {
   "cell_type": "code",
   "execution_count": 35,
   "metadata": {},
   "outputs": [],
   "source": [
    "df_covid = df_train.iloc[:,:-3]\n",
    "#Target 1 is Recovered\n",
    "df_target1 = df_train.iloc[:,-1:]\n",
    "#Target 2 is Deaths\n",
    "df_target2 = df_train.iloc[:,-2:-1]\n",
    "#Target 3 is Confirmed\n",
    "df_target3 = df_train.iloc[:,-3:-2]"
   ]
  },
  {
   "cell_type": "markdown",
   "metadata": {},
   "source": [
    "# Part1: Random Forest results using original features "
   ]
  },
  {
   "cell_type": "markdown",
   "metadata": {},
   "source": [
    "## 1. Random Forest Implementation on Target 1:Recovered"
   ]
  },
  {
   "cell_type": "markdown",
   "metadata": {},
   "source": [
    "### number of trees: {5, 10, 50, 150, 200}\n",
    "###  max depth: {3, 5, 10, None}"
   ]
  },
  {
   "cell_type": "code",
   "execution_count": 36,
   "metadata": {},
   "outputs": [],
   "source": [
    "n_trees = [5,10,50,150,200]\n",
    "max_depth = [3,5,10,None]"
   ]
  },
  {
   "cell_type": "code",
   "execution_count": 37,
   "metadata": {
    "scrolled": false
   },
   "outputs": [
    {
     "data": {
      "text/html": [
       "<div>\n",
       "<style scoped>\n",
       "    .dataframe tbody tr th:only-of-type {\n",
       "        vertical-align: middle;\n",
       "    }\n",
       "\n",
       "    .dataframe tbody tr th {\n",
       "        vertical-align: top;\n",
       "    }\n",
       "\n",
       "    .dataframe thead th {\n",
       "        text-align: right;\n",
       "    }\n",
       "</style>\n",
       "<table border=\"1\" class=\"dataframe\">\n",
       "  <thead>\n",
       "    <tr style=\"text-align: right;\">\n",
       "      <th></th>\n",
       "      <th>3</th>\n",
       "      <th>5</th>\n",
       "      <th>10</th>\n",
       "      <th>NaN</th>\n",
       "    </tr>\n",
       "  </thead>\n",
       "  <tbody>\n",
       "    <tr>\n",
       "      <th>5</th>\n",
       "      <td>0.855072</td>\n",
       "      <td>0.934783</td>\n",
       "      <td>0.936957</td>\n",
       "      <td>0.921014</td>\n",
       "    </tr>\n",
       "    <tr>\n",
       "      <th>10</th>\n",
       "      <td>0.861594</td>\n",
       "      <td>0.934783</td>\n",
       "      <td>0.936232</td>\n",
       "      <td>0.917391</td>\n",
       "    </tr>\n",
       "    <tr>\n",
       "      <th>50</th>\n",
       "      <td>0.880435</td>\n",
       "      <td>0.931884</td>\n",
       "      <td>0.932609</td>\n",
       "      <td>0.926812</td>\n",
       "    </tr>\n",
       "    <tr>\n",
       "      <th>150</th>\n",
       "      <td>0.876087</td>\n",
       "      <td>0.931884</td>\n",
       "      <td>0.934058</td>\n",
       "      <td>0.924638</td>\n",
       "    </tr>\n",
       "    <tr>\n",
       "      <th>200</th>\n",
       "      <td>0.874638</td>\n",
       "      <td>0.931884</td>\n",
       "      <td>0.932609</td>\n",
       "      <td>0.924638</td>\n",
       "    </tr>\n",
       "  </tbody>\n",
       "</table>\n",
       "</div>"
      ],
      "text/plain": [
       "            3         5        10       NaN\n",
       "5    0.855072  0.934783  0.936957  0.921014\n",
       "10   0.861594  0.934783  0.936232  0.917391\n",
       "50   0.880435  0.931884  0.932609  0.926812\n",
       "150  0.876087  0.931884  0.934058  0.924638\n",
       "200  0.874638  0.931884  0.932609  0.924638"
      ]
     },
     "execution_count": 37,
     "metadata": {},
     "output_type": "execute_result"
    }
   ],
   "source": [
    "# Random Forest on target 1: Recovered\n",
    "accuracies_recovered = []\n",
    "for n_tree in n_trees:\n",
    "    for max_d in max_depth:\n",
    "        classifier_RandomForest_recovered = RandomForestClassifier(max_depth = max_d,n_estimators = n_tree, random_state=0)\n",
    "        scores = cross_val_score(classifier_RandomForest_recovered, df_covid, np.ravel(df_target1), cv=10)\n",
    "        accuracies_recovered.append(scores.mean())\n",
    "        \n",
    "# Heat Map for Recovered\n",
    "heatmap_df_recovered = pd.DataFrame(np.array(accuracies_recovered).reshape(len(n_trees),len(max_depth)),columns=max_depth,index=n_trees)\n",
    "heatmap_df_recovered"
   ]
  },
  {
   "cell_type": "code",
   "execution_count": 38,
   "metadata": {
    "scrolled": true
   },
   "outputs": [
    {
     "data": {
      "text/plain": [
       "Text(0.5, 24.0, 'Depth')"
      ]
     },
     "execution_count": 38,
     "metadata": {},
     "output_type": "execute_result"
    },
    {
     "data": {
      "image/png": "[encoded data removed]",
      "text/plain": [
       "<Figure size 720x360 with 2 Axes>"
      ]
     },
     "metadata": {
      "needs_background": "light"
     },
     "output_type": "display_data"
    }
   ],
   "source": [
    "#Plotting the Heat Map for Recovered\n",
    "plt.figure(figsize=(10,5))\n",
    "plt.title(\"Random Forest - 10-fold - Label: Recovered\")\n",
    "sns.heatmap(heatmap_df_recovered,center=0,annot=True)\n",
    "plt.ylabel('Number of trees')\n",
    "plt.xlabel('Depth')"
   ]
  },
  {
   "cell_type": "markdown",
   "metadata": {},
   "source": [
    "### From the heatmap plot above for target 1: Recovered, we can see that we attained best performance at a range of values the hyperparameters of Depth and Number of Trees. Among this, the best value would be Depth = 10 & Number of Trees = 5 considering the positive impact it would have on computation performance and inference speed. Higher these two parameters are, more is the performance overhead in terms of storage and computation."
   ]
  },
  {
   "cell_type": "markdown",
   "metadata": {},
   "source": [
    "## 2. Random Forest Implementation on Target 2: Deaths"
   ]
  },
  {
   "cell_type": "code",
   "execution_count": 39,
   "metadata": {},
   "outputs": [
    {
     "data": {
      "text/html": [
       "<div>\n",
       "<style scoped>\n",
       "    .dataframe tbody tr th:only-of-type {\n",
       "        vertical-align: middle;\n",
       "    }\n",
       "\n",
       "    .dataframe tbody tr th {\n",
       "        vertical-align: top;\n",
       "    }\n",
       "\n",
       "    .dataframe thead th {\n",
       "        text-align: right;\n",
       "    }\n",
       "</style>\n",
       "<table border=\"1\" class=\"dataframe\">\n",
       "  <thead>\n",
       "    <tr style=\"text-align: right;\">\n",
       "      <th></th>\n",
       "      <th>3</th>\n",
       "      <th>5</th>\n",
       "      <th>10</th>\n",
       "      <th>NaN</th>\n",
       "    </tr>\n",
       "  </thead>\n",
       "  <tbody>\n",
       "    <tr>\n",
       "      <th>5</th>\n",
       "      <td>0.907246</td>\n",
       "      <td>0.902174</td>\n",
       "      <td>0.826087</td>\n",
       "      <td>0.837681</td>\n",
       "    </tr>\n",
       "    <tr>\n",
       "      <th>10</th>\n",
       "      <td>0.910870</td>\n",
       "      <td>0.907246</td>\n",
       "      <td>0.842754</td>\n",
       "      <td>0.836232</td>\n",
       "    </tr>\n",
       "    <tr>\n",
       "      <th>50</th>\n",
       "      <td>0.910870</td>\n",
       "      <td>0.898551</td>\n",
       "      <td>0.850000</td>\n",
       "      <td>0.840580</td>\n",
       "    </tr>\n",
       "    <tr>\n",
       "      <th>150</th>\n",
       "      <td>0.913768</td>\n",
       "      <td>0.875362</td>\n",
       "      <td>0.856522</td>\n",
       "      <td>0.848551</td>\n",
       "    </tr>\n",
       "    <tr>\n",
       "      <th>200</th>\n",
       "      <td>0.913768</td>\n",
       "      <td>0.869565</td>\n",
       "      <td>0.857971</td>\n",
       "      <td>0.847826</td>\n",
       "    </tr>\n",
       "  </tbody>\n",
       "</table>\n",
       "</div>"
      ],
      "text/plain": [
       "            3         5        10       NaN\n",
       "5    0.907246  0.902174  0.826087  0.837681\n",
       "10   0.910870  0.907246  0.842754  0.836232\n",
       "50   0.910870  0.898551  0.850000  0.840580\n",
       "150  0.913768  0.875362  0.856522  0.848551\n",
       "200  0.913768  0.869565  0.857971  0.847826"
      ]
     },
     "execution_count": 39,
     "metadata": {},
     "output_type": "execute_result"
    }
   ],
   "source": [
    "# Random Forest on target 2: Deaths\n",
    "accuracies_deaths = []\n",
    "for n_tree in n_trees:\n",
    "    for max_d in max_depth:\n",
    "        classifier_RandomForest_deaths = RandomForestClassifier(max_depth = max_d,n_estimators = n_tree, random_state=0)\n",
    "        scores = cross_val_score(classifier_RandomForest_deaths, df_covid, np.ravel(df_target2), cv=10)\n",
    "        accuracies_deaths.append(scores.mean())\n",
    "        \n",
    "# Heat Map for Deaths\n",
    "heatmap_df_deaths = pd.DataFrame(np.array(accuracies_deaths).reshape(len(n_trees),len(max_depth)),columns=max_depth,index=n_trees)\n",
    "heatmap_df_deaths"
   ]
  },
  {
   "cell_type": "code",
   "execution_count": 40,
   "metadata": {},
   "outputs": [
    {
     "data": {
      "text/plain": [
       "Text(0.5, 24.0, 'Depth')"
      ]
     },
     "execution_count": 40,
     "metadata": {},
     "output_type": "execute_result"
    },
    {
     "data": {
      "image/png": "[encoded data removed]",
      "text/plain": [
       "<Figure size 720x360 with 2 Axes>"
      ]
     },
     "metadata": {
      "needs_background": "light"
     },
     "output_type": "display_data"
    }
   ],
   "source": [
    "#Plotting the Heat Map for Deaths\n",
    "plt.figure(figsize=(10,5))\n",
    "plt.title(\"Random Forest - 10-fold - Label: Deaths\")\n",
    "sns.heatmap(heatmap_df_deaths,center=0,annot=True)\n",
    "plt.ylabel('Number of trees')\n",
    "plt.xlabel('Depth')"
   ]
  },
  {
   "cell_type": "markdown",
   "metadata": {},
   "source": [
    "### From the heatmap plot above for target 2: Deaths, we can see that we attained best performance at a range of values the hyperparameters of Depth and Number of Trees. Among this, the best value would be Depth = 3 & Number of Trees either 150 or 200 considering the positive impact it would have on computation performance and inference speed. Higher these two parameters are, more is the performance overhead in terms of storage and computation."
   ]
  },
  {
   "cell_type": "markdown",
   "metadata": {},
   "source": [
    "## 3. Random Forest Implementation on Target 3: Confirmed"
   ]
  },
  {
   "cell_type": "code",
   "execution_count": 43,
   "metadata": {},
   "outputs": [
    {
     "data": {
      "text/html": [
       "<div>\n",
       "<style scoped>\n",
       "    .dataframe tbody tr th:only-of-type {\n",
       "        vertical-align: middle;\n",
       "    }\n",
       "\n",
       "    .dataframe tbody tr th {\n",
       "        vertical-align: top;\n",
       "    }\n",
       "\n",
       "    .dataframe thead th {\n",
       "        text-align: right;\n",
       "    }\n",
       "</style>\n",
       "<table border=\"1\" class=\"dataframe\">\n",
       "  <thead>\n",
       "    <tr style=\"text-align: right;\">\n",
       "      <th></th>\n",
       "      <th>3</th>\n",
       "      <th>5</th>\n",
       "      <th>10</th>\n",
       "      <th>NaN</th>\n",
       "    </tr>\n",
       "  </thead>\n",
       "  <tbody>\n",
       "    <tr>\n",
       "      <th>5</th>\n",
       "      <td>0.912319</td>\n",
       "      <td>0.917391</td>\n",
       "      <td>0.930435</td>\n",
       "      <td>0.927536</td>\n",
       "    </tr>\n",
       "    <tr>\n",
       "      <th>10</th>\n",
       "      <td>0.963043</td>\n",
       "      <td>0.958696</td>\n",
       "      <td>0.929710</td>\n",
       "      <td>0.937681</td>\n",
       "    </tr>\n",
       "    <tr>\n",
       "      <th>50</th>\n",
       "      <td>0.955797</td>\n",
       "      <td>0.943478</td>\n",
       "      <td>0.914493</td>\n",
       "      <td>0.918116</td>\n",
       "    </tr>\n",
       "    <tr>\n",
       "      <th>150</th>\n",
       "      <td>0.960870</td>\n",
       "      <td>0.915217</td>\n",
       "      <td>0.910145</td>\n",
       "      <td>0.907971</td>\n",
       "    </tr>\n",
       "    <tr>\n",
       "      <th>200</th>\n",
       "      <td>0.959420</td>\n",
       "      <td>0.918841</td>\n",
       "      <td>0.912319</td>\n",
       "      <td>0.908696</td>\n",
       "    </tr>\n",
       "  </tbody>\n",
       "</table>\n",
       "</div>"
      ],
      "text/plain": [
       "            3         5        10       NaN\n",
       "5    0.912319  0.917391  0.930435  0.927536\n",
       "10   0.963043  0.958696  0.929710  0.937681\n",
       "50   0.955797  0.943478  0.914493  0.918116\n",
       "150  0.960870  0.915217  0.910145  0.907971\n",
       "200  0.959420  0.918841  0.912319  0.908696"
      ]
     },
     "execution_count": 43,
     "metadata": {},
     "output_type": "execute_result"
    }
   ],
   "source": [
    "# Random Forest on target 3: Confirmed\n",
    "accuracies_confirmed= []\n",
    "for n_tree in n_trees:\n",
    "    for max_d in max_depth:\n",
    "        classifier_RandomForest_confirmed = RandomForestClassifier(max_depth = max_d,n_estimators = n_tree, random_state=0)\n",
    "        scores = cross_val_score(classifier_RandomForest_confirmed, df_covid, np.ravel(df_target3), cv=10)\n",
    "        accuracies_confirmed.append(scores.mean())\n",
    "        \n",
    "# Heat Map for Confirmed\n",
    "heatmap_df_confirmed = pd.DataFrame(np.array(accuracies_confirmed).reshape(len(n_trees),len(max_depth)),columns=max_depth,index=n_trees)\n",
    "heatmap_df_confirmed"
   ]
  },
  {
   "cell_type": "code",
   "execution_count": 42,
   "metadata": {},
   "outputs": [
    {
     "data": {
      "text/plain": [
       "Text(0.5, 24.0, 'Depth')"
      ]
     },
     "execution_count": 42,
     "metadata": {},
     "output_type": "execute_result"
    },
    {
     "data": {
      "image/png": "[encoded data removed]",
      "text/plain": [
       "<Figure size 720x360 with 2 Axes>"
      ]
     },
     "metadata": {
      "needs_background": "light"
     },
     "output_type": "display_data"
    }
   ],
   "source": [
    "#Plotting the Heat Map for Confirmed\n",
    "plt.figure(figsize=(10,5))\n",
    "plt.title(\"Random Forest - 10-fold - Label: Confirmed\")\n",
    "sns.heatmap(heatmap_df_confirmed,center=0,annot=True)\n",
    "plt.ylabel('Number of trees')\n",
    "plt.xlabel('Depth')"
   ]
  },
  {
   "cell_type": "markdown",
   "metadata": {},
   "source": [
    "### From the heatmap plot above for target 3: Confirmed, we can see that we attained best performance at a range of values the hyperparameters of Depth and Number of Trees. Among this, the best value would be Depth = 3 & Number of Trees = 10 considering the positive impact it would have on computation performance and inference speed. Higher these two parameters are, more is the performance overhead in terms of storage and computation."
   ]
  },
  {
   "cell_type": "markdown",
   "metadata": {},
   "source": [
    "# Part 2: Random Forest results using PCA features "
   ]
  },
  {
   "cell_type": "code",
   "execution_count": 44,
   "metadata": {},
   "outputs": [],
   "source": [
    "#extracting pca features from CM2\n",
    "%store -r pca_features"
   ]
  },
  {
   "cell_type": "code",
   "execution_count": 45,
   "metadata": {},
   "outputs": [
    {
     "data": {
      "text/plain": [
       "(1380, 11)"
      ]
     },
     "execution_count": 45,
     "metadata": {},
     "output_type": "execute_result"
    }
   ],
   "source": [
    "pca_features.shape"
   ]
  },
  {
   "cell_type": "markdown",
   "metadata": {},
   "source": [
    "## 1. Random Forest implementation on Target 1: Recovered"
   ]
  },
  {
   "cell_type": "code",
   "execution_count": 46,
   "metadata": {},
   "outputs": [
    {
     "data": {
      "text/html": [
       "<div>\n",
       "<style scoped>\n",
       "    .dataframe tbody tr th:only-of-type {\n",
       "        vertical-align: middle;\n",
       "    }\n",
       "\n",
       "    .dataframe tbody tr th {\n",
       "        vertical-align: top;\n",
       "    }\n",
       "\n",
       "    .dataframe thead th {\n",
       "        text-align: right;\n",
       "    }\n",
       "</style>\n",
       "<table border=\"1\" class=\"dataframe\">\n",
       "  <thead>\n",
       "    <tr style=\"text-align: right;\">\n",
       "      <th></th>\n",
       "      <th>3</th>\n",
       "      <th>5</th>\n",
       "      <th>10</th>\n",
       "      <th>NaN</th>\n",
       "    </tr>\n",
       "  </thead>\n",
       "  <tbody>\n",
       "    <tr>\n",
       "      <th>5</th>\n",
       "      <td>0.806522</td>\n",
       "      <td>0.855797</td>\n",
       "      <td>0.918116</td>\n",
       "      <td>0.915217</td>\n",
       "    </tr>\n",
       "    <tr>\n",
       "      <th>10</th>\n",
       "      <td>0.766667</td>\n",
       "      <td>0.850725</td>\n",
       "      <td>0.925362</td>\n",
       "      <td>0.915942</td>\n",
       "    </tr>\n",
       "    <tr>\n",
       "      <th>50</th>\n",
       "      <td>0.770290</td>\n",
       "      <td>0.865217</td>\n",
       "      <td>0.928261</td>\n",
       "      <td>0.923188</td>\n",
       "    </tr>\n",
       "    <tr>\n",
       "      <th>150</th>\n",
       "      <td>0.778986</td>\n",
       "      <td>0.863768</td>\n",
       "      <td>0.928986</td>\n",
       "      <td>0.921014</td>\n",
       "    </tr>\n",
       "    <tr>\n",
       "      <th>200</th>\n",
       "      <td>0.776812</td>\n",
       "      <td>0.863043</td>\n",
       "      <td>0.928986</td>\n",
       "      <td>0.923188</td>\n",
       "    </tr>\n",
       "  </tbody>\n",
       "</table>\n",
       "</div>"
      ],
      "text/plain": [
       "            3         5        10       NaN\n",
       "5    0.806522  0.855797  0.918116  0.915217\n",
       "10   0.766667  0.850725  0.925362  0.915942\n",
       "50   0.770290  0.865217  0.928261  0.923188\n",
       "150  0.778986  0.863768  0.928986  0.921014\n",
       "200  0.776812  0.863043  0.928986  0.923188"
      ]
     },
     "execution_count": 46,
     "metadata": {},
     "output_type": "execute_result"
    }
   ],
   "source": [
    "# Random Forest on target 1: Recovered using PCA\n",
    "accuracies_recovered_pca = []\n",
    "for n_tree in n_trees:\n",
    "    for max_d in max_depth:\n",
    "        classifier_RandomForest_recovered_pca = RandomForestClassifier(max_depth = max_d,n_estimators = n_tree, random_state=0)\n",
    "        scores = cross_val_score(classifier_RandomForest_recovered_pca,pca_features[:,:3], np.ravel(df_target1), cv=10)\n",
    "        accuracies_recovered_pca.append(scores.mean())\n",
    "\n",
    "# Heat Map for Recovered\n",
    "heatmap_df_recovered_pca = pd.DataFrame(np.array(accuracies_recovered_pca).reshape(len(n_trees),len(max_depth)),columns=max_depth,index=n_trees)\n",
    "heatmap_df_recovered_pca"
   ]
  },
  {
   "cell_type": "code",
   "execution_count": 47,
   "metadata": {},
   "outputs": [
    {
     "data": {
      "text/plain": [
       "Text(0.5, 24.0, 'Depth')"
      ]
     },
     "execution_count": 47,
     "metadata": {},
     "output_type": "execute_result"
    },
    {
     "data": {
      "image/png": "[encoded data removed]",
      "text/plain": [
       "<Figure size 720x360 with 2 Axes>"
      ]
     },
     "metadata": {
      "needs_background": "light"
     },
     "output_type": "display_data"
    }
   ],
   "source": [
    "##Plotting the Heat Map for Recovered using PCA\n",
    "plt.figure(figsize=(10,5))\n",
    "plt.title(\"Random Forest - 10-fold - Label: Recovered PCA Features\")\n",
    "sns.heatmap(heatmap_df_recovered_pca,center=0,annot=True)\n",
    "plt.ylabel('Number of trees')\n",
    "plt.xlabel('Depth')"
   ]
  },
  {
   "cell_type": "markdown",
   "metadata": {},
   "source": [
    "### From the heatmap plot above for target 1: Recovered using PCA, we can see that we attained best performance at a range of values the hyperparameters of Depth and Number of Trees. Among this, the best value would be Depth = 10 & Number of Trees = 150 or 200 considering the positive impact it would have on computation performance and inference speed. Higher these two parameters are, more is the performance overhead in terms of storage and computation."
   ]
  },
  {
   "cell_type": "markdown",
   "metadata": {},
   "source": [
    "## 2. Random Forest implementation on Target 2: Deaths"
   ]
  },
  {
   "cell_type": "code",
   "execution_count": 48,
   "metadata": {},
   "outputs": [
    {
     "data": {
      "text/html": [
       "<div>\n",
       "<style scoped>\n",
       "    .dataframe tbody tr th:only-of-type {\n",
       "        vertical-align: middle;\n",
       "    }\n",
       "\n",
       "    .dataframe tbody tr th {\n",
       "        vertical-align: top;\n",
       "    }\n",
       "\n",
       "    .dataframe thead th {\n",
       "        text-align: right;\n",
       "    }\n",
       "</style>\n",
       "<table border=\"1\" class=\"dataframe\">\n",
       "  <thead>\n",
       "    <tr style=\"text-align: right;\">\n",
       "      <th></th>\n",
       "      <th>3</th>\n",
       "      <th>5</th>\n",
       "      <th>10</th>\n",
       "      <th>NaN</th>\n",
       "    </tr>\n",
       "  </thead>\n",
       "  <tbody>\n",
       "    <tr>\n",
       "      <th>5</th>\n",
       "      <td>0.910145</td>\n",
       "      <td>0.910870</td>\n",
       "      <td>0.905072</td>\n",
       "      <td>0.898551</td>\n",
       "    </tr>\n",
       "    <tr>\n",
       "      <th>10</th>\n",
       "      <td>0.910870</td>\n",
       "      <td>0.909420</td>\n",
       "      <td>0.903623</td>\n",
       "      <td>0.896377</td>\n",
       "    </tr>\n",
       "    <tr>\n",
       "      <th>50</th>\n",
       "      <td>0.910870</td>\n",
       "      <td>0.912319</td>\n",
       "      <td>0.907246</td>\n",
       "      <td>0.899275</td>\n",
       "    </tr>\n",
       "    <tr>\n",
       "      <th>150</th>\n",
       "      <td>0.910145</td>\n",
       "      <td>0.914493</td>\n",
       "      <td>0.904348</td>\n",
       "      <td>0.897826</td>\n",
       "    </tr>\n",
       "    <tr>\n",
       "      <th>200</th>\n",
       "      <td>0.911594</td>\n",
       "      <td>0.913768</td>\n",
       "      <td>0.902174</td>\n",
       "      <td>0.897101</td>\n",
       "    </tr>\n",
       "  </tbody>\n",
       "</table>\n",
       "</div>"
      ],
      "text/plain": [
       "            3         5        10       NaN\n",
       "5    0.910145  0.910870  0.905072  0.898551\n",
       "10   0.910870  0.909420  0.903623  0.896377\n",
       "50   0.910870  0.912319  0.907246  0.899275\n",
       "150  0.910145  0.914493  0.904348  0.897826\n",
       "200  0.911594  0.913768  0.902174  0.897101"
      ]
     },
     "execution_count": 48,
     "metadata": {},
     "output_type": "execute_result"
    }
   ],
   "source": [
    "# Random Forest on target 2: Deaths using PCA\n",
    "accuracies_deaths_pca = []\n",
    "for n_tree in n_trees:\n",
    "    for max_d in max_depth:\n",
    "        classifier_RandomForest_deaths_pca = RandomForestClassifier(max_depth = max_d,n_estimators = n_tree, random_state=0)\n",
    "        scores = cross_val_score(classifier_RandomForest_deaths_pca,pca_features[:,:3], np.ravel(df_target2), cv=10)\n",
    "        accuracies_deaths_pca.append(scores.mean())\n",
    "\n",
    "# Heat Map for Deaths\n",
    "heatmap_df_deaths_pca = pd.DataFrame(np.array(accuracies_deaths_pca).reshape(len(n_trees),len(max_depth)),columns=max_depth,index=n_trees)\n",
    "heatmap_df_deaths_pca"
   ]
  },
  {
   "cell_type": "code",
   "execution_count": 49,
   "metadata": {},
   "outputs": [
    {
     "data": {
      "text/plain": [
       "Text(0.5, 24.0, 'Depth')"
      ]
     },
     "execution_count": 49,
     "metadata": {},
     "output_type": "execute_result"
    },
    {
     "data": {
      "image/png": "[encoded data removed]",
      "text/plain": [
       "<Figure size 720x360 with 2 Axes>"
      ]
     },
     "metadata": {
      "needs_background": "light"
     },
     "output_type": "display_data"
    }
   ],
   "source": [
    "#Plotting the Heat Map for Deaths using PCA\n",
    "plt.figure(figsize=(10,5))\n",
    "plt.title(\"Random Forest - 10-fold - Label: Deaths PCA Features\")\n",
    "sns.heatmap(heatmap_df_deaths_pca,center=0,annot=True)\n",
    "plt.ylabel('Number of trees')\n",
    "plt.xlabel('Depth')"
   ]
  },
  {
   "cell_type": "markdown",
   "metadata": {},
   "source": [
    "### From the heatmap plot above for target 2: Deaths using PCA, we can see that we attained best performance at a range of values the hyperparameters of Depth and Number of Trees. Among this, the best value would be Depth = 5 & Number of Trees = 50 considering the positive impact it would have on computation performance and inference speed. Higher these two parameters are, more is the performance overhead in terms of storage and computation."
   ]
  },
  {
   "cell_type": "markdown",
   "metadata": {},
   "source": [
    "## 3. Random Forest implementation on Target 3: Confirmed"
   ]
  },
  {
   "cell_type": "code",
   "execution_count": 50,
   "metadata": {},
   "outputs": [
    {
     "data": {
      "text/html": [
       "<div>\n",
       "<style scoped>\n",
       "    .dataframe tbody tr th:only-of-type {\n",
       "        vertical-align: middle;\n",
       "    }\n",
       "\n",
       "    .dataframe tbody tr th {\n",
       "        vertical-align: top;\n",
       "    }\n",
       "\n",
       "    .dataframe thead th {\n",
       "        text-align: right;\n",
       "    }\n",
       "</style>\n",
       "<table border=\"1\" class=\"dataframe\">\n",
       "  <thead>\n",
       "    <tr style=\"text-align: right;\">\n",
       "      <th></th>\n",
       "      <th>3</th>\n",
       "      <th>5</th>\n",
       "      <th>10</th>\n",
       "      <th>NaN</th>\n",
       "    </tr>\n",
       "  </thead>\n",
       "  <tbody>\n",
       "    <tr>\n",
       "      <th>5</th>\n",
       "      <td>0.961594</td>\n",
       "      <td>0.961594</td>\n",
       "      <td>0.957246</td>\n",
       "      <td>0.960870</td>\n",
       "    </tr>\n",
       "    <tr>\n",
       "      <th>10</th>\n",
       "      <td>0.961594</td>\n",
       "      <td>0.963043</td>\n",
       "      <td>0.960145</td>\n",
       "      <td>0.960145</td>\n",
       "    </tr>\n",
       "    <tr>\n",
       "      <th>50</th>\n",
       "      <td>0.963043</td>\n",
       "      <td>0.963768</td>\n",
       "      <td>0.963043</td>\n",
       "      <td>0.962319</td>\n",
       "    </tr>\n",
       "    <tr>\n",
       "      <th>150</th>\n",
       "      <td>0.963043</td>\n",
       "      <td>0.963768</td>\n",
       "      <td>0.962319</td>\n",
       "      <td>0.961594</td>\n",
       "    </tr>\n",
       "    <tr>\n",
       "      <th>200</th>\n",
       "      <td>0.963043</td>\n",
       "      <td>0.963768</td>\n",
       "      <td>0.963043</td>\n",
       "      <td>0.961594</td>\n",
       "    </tr>\n",
       "  </tbody>\n",
       "</table>\n",
       "</div>"
      ],
      "text/plain": [
       "            3         5        10       NaN\n",
       "5    0.961594  0.961594  0.957246  0.960870\n",
       "10   0.961594  0.963043  0.960145  0.960145\n",
       "50   0.963043  0.963768  0.963043  0.962319\n",
       "150  0.963043  0.963768  0.962319  0.961594\n",
       "200  0.963043  0.963768  0.963043  0.961594"
      ]
     },
     "execution_count": 50,
     "metadata": {},
     "output_type": "execute_result"
    }
   ],
   "source": [
    "# Random Forest on target 3: Confirmed using PCA\n",
    "accuracies_confirmed_pca = []\n",
    "for n_tree in n_trees:\n",
    "    for max_d in max_depth:\n",
    "        classifier_RandomForest_confirmed_pca = RandomForestClassifier(max_depth = max_d,n_estimators = n_tree, random_state=0)\n",
    "        scores = cross_val_score(classifier_RandomForest_confirmed_pca,pca_features[:,:3], np.ravel(df_target3), cv=10)\n",
    "        accuracies_confirmed_pca.append(scores.mean())\n",
    "\n",
    "# Heat Map for Confirmed\n",
    "heatmap_df_confirmed_pca = pd.DataFrame(np.array(accuracies_confirmed_pca).reshape(len(n_trees),len(max_depth)),columns=max_depth,index=n_trees)\n",
    "heatmap_df_confirmed_pca"
   ]
  },
  {
   "cell_type": "code",
   "execution_count": 51,
   "metadata": {},
   "outputs": [
    {
     "data": {
      "text/plain": [
       "Text(0.5, 24.0, 'Depth')"
      ]
     },
     "execution_count": 51,
     "metadata": {},
     "output_type": "execute_result"
    },
    {
     "data": {
      "image/png": "[encoded data removed]",
      "text/plain": [
       "<Figure size 720x360 with 2 Axes>"
      ]
     },
     "metadata": {
      "needs_background": "light"
     },
     "output_type": "display_data"
    }
   ],
   "source": [
    "#Plotting the Heat Map for Confirmed using PCA\n",
    "plt.figure(figsize=(10,5))\n",
    "plt.title(\"Random Forest - 10-fold - Label: Confirmed PCA Features\")\n",
    "sns.heatmap(heatmap_df_confirmed_pca,center=0,annot=True)\n",
    "plt.ylabel('Number of trees')\n",
    "plt.xlabel('Depth')"
   ]
  },
  {
   "cell_type": "markdown",
   "metadata": {},
   "source": [
    "### From the heatmap plot above for target 3: Confirmed using PCA, we can see that we attained best performance at a range of values the hyperparameters of Depth and Number of Trees. Among this, the best value would be Depth = 3 & Number of Trees = 50, 150, 200 so we will consider the value as 200 considering the positive impact it would have on computation performance and inference speed. Higher these two parameters are, more is the performance overhead in terms of storage and computation."
   ]
  }
 ],
 "metadata": {
  "kernelspec": {
   "display_name": "Python 3",
   "language": "python",
   "name": "python3"
  },
  "language_info": {
   "codemirror_mode": {
    "name": "ipython",
    "version": 3
   },
   "file_extension": ".py",
   "mimetype": "text/x-python",
   "name": "python",
   "nbconvert_exporter": "python",
   "pygments_lexer": "ipython3",
   "version": "3.8.5"
  }
 },
 "nbformat": 4,
 "nbformat_minor": 5
}
