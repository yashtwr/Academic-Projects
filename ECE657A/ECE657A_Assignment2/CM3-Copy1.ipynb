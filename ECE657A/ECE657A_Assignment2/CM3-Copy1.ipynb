{
 "cells": [
  {
   "cell_type": "markdown",
   "metadata": {},
   "source": [
    "# [CM3] Decision Trees Classifier"
   ]
  },
  {
   "cell_type": "markdown",
   "metadata": {},
   "source": [
    "Importing all necessary libraries."
   ]
  },
  {
   "cell_type": "code",
   "execution_count": 1,
   "metadata": {},
   "outputs": [],
   "source": [
    "import numpy as np\n",
    "import pandas as pd\n",
    "import matplotlib.pyplot as plt\n",
    "import seaborn as sns\n",
    "from sklearn.tree import DecisionTreeClassifier\n",
    "from sklearn import tree\n",
    "from sklearn.model_selection import cross_val_score"
   ]
  },
  {
   "cell_type": "code",
   "execution_count": 2,
   "metadata": {},
   "outputs": [],
   "source": [
    "# readng clean and normalized covid dataset\n",
    "df_train = pd.read_csv('cleaned_normalized_coviddata.csv')"
   ]
  },
  {
   "cell_type": "code",
   "execution_count": 3,
   "metadata": {},
   "outputs": [
    {
     "data": {
      "text/html": [
       "<div>\n",
       "<style scoped>\n",
       "    .dataframe tbody tr th:only-of-type {\n",
       "        vertical-align: middle;\n",
       "    }\n",
       "\n",
       "    .dataframe tbody tr th {\n",
       "        vertical-align: top;\n",
       "    }\n",
       "\n",
       "    .dataframe thead th {\n",
       "        text-align: right;\n",
       "    }\n",
       "</style>\n",
       "<table border=\"1\" class=\"dataframe\">\n",
       "  <thead>\n",
       "    <tr style=\"text-align: right;\">\n",
       "      <th></th>\n",
       "      <th>Day</th>\n",
       "      <th>State ID</th>\n",
       "      <th>Lat</th>\n",
       "      <th>Long_</th>\n",
       "      <th>Active</th>\n",
       "      <th>Incident_Rate</th>\n",
       "      <th>Total_Test_Results</th>\n",
       "      <th>Case_Fatality_Ratio</th>\n",
       "      <th>Testing_Rate</th>\n",
       "      <th>Resident Population 2020 Census</th>\n",
       "      <th>Population Density 2020 Census</th>\n",
       "      <th>Density Rank 2020 Census</th>\n",
       "      <th>SexRatio</th>\n",
       "      <th>Confirmed</th>\n",
       "      <th>Deaths</th>\n",
       "      <th>Recovered</th>\n",
       "    </tr>\n",
       "  </thead>\n",
       "  <tbody>\n",
       "    <tr>\n",
       "      <th>0</th>\n",
       "      <td>2</td>\n",
       "      <td>1</td>\n",
       "      <td>-1.178243</td>\n",
       "      <td>0.304476</td>\n",
       "      <td>-0.200641</td>\n",
       "      <td>0.143976</td>\n",
       "      <td>-0.483393</td>\n",
       "      <td>-0.475230</td>\n",
       "      <td>-1.301745</td>\n",
       "      <td>-0.128579</td>\n",
       "      <td>-0.217013</td>\n",
       "      <td>0.118745</td>\n",
       "      <td>-1.168255</td>\n",
       "      <td>True</td>\n",
       "      <td>False</td>\n",
       "      <td>False</td>\n",
       "    </tr>\n",
       "    <tr>\n",
       "      <th>1</th>\n",
       "      <td>2</td>\n",
       "      <td>2</td>\n",
       "      <td>3.607611</td>\n",
       "      <td>-3.031933</td>\n",
       "      <td>-0.448967</td>\n",
       "      <td>-0.290209</td>\n",
       "      <td>-0.569371</td>\n",
       "      <td>-1.797949</td>\n",
       "      <td>2.071154</td>\n",
       "      <td>-0.754174</td>\n",
       "      <td>-0.276752</td>\n",
       "      <td>1.614369</td>\n",
       "      <td>3.491260</td>\n",
       "      <td>True</td>\n",
       "      <td>True</td>\n",
       "      <td>False</td>\n",
       "    </tr>\n",
       "    <tr>\n",
       "      <th>2</th>\n",
       "      <td>2</td>\n",
       "      <td>3</td>\n",
       "      <td>-0.945708</td>\n",
       "      <td>-0.944926</td>\n",
       "      <td>0.389043</td>\n",
       "      <td>0.088511</td>\n",
       "      <td>-0.007491</td>\n",
       "      <td>0.075713</td>\n",
       "      <td>-1.268952</td>\n",
       "      <td>0.181561</td>\n",
       "      <td>-0.239163</td>\n",
       "      <td>0.508908</td>\n",
       "      <td>0.384916</td>\n",
       "      <td>True</td>\n",
       "      <td>True</td>\n",
       "      <td>True</td>\n",
       "    </tr>\n",
       "    <tr>\n",
       "      <th>3</th>\n",
       "      <td>2</td>\n",
       "      <td>4</td>\n",
       "      <td>-0.741458</td>\n",
       "      <td>0.025816</td>\n",
       "      <td>-0.482359</td>\n",
       "      <td>0.202178</td>\n",
       "      <td>-0.456457</td>\n",
       "      <td>-0.029941</td>\n",
       "      <td>-0.559153</td>\n",
       "      <td>-0.422031</td>\n",
       "      <td>-0.242214</td>\n",
       "      <td>0.573935</td>\n",
       "      <td>-0.546987</td>\n",
       "      <td>True</td>\n",
       "      <td>True</td>\n",
       "      <td>True</td>\n",
       "    </tr>\n",
       "    <tr>\n",
       "      <th>4</th>\n",
       "      <td>2</td>\n",
       "      <td>5</td>\n",
       "      <td>-0.552594</td>\n",
       "      <td>-1.365168</td>\n",
       "      <td>4.275448</td>\n",
       "      <td>-0.502417</td>\n",
       "      <td>4.022089</td>\n",
       "      <td>-0.791062</td>\n",
       "      <td>-0.177543</td>\n",
       "      <td>4.903416</td>\n",
       "      <td>-0.122735</td>\n",
       "      <td>-0.921689</td>\n",
       "      <td>0.384916</td>\n",
       "      <td>True</td>\n",
       "      <td>True</td>\n",
       "      <td>False</td>\n",
       "    </tr>\n",
       "  </tbody>\n",
       "</table>\n",
       "</div>"
      ],
      "text/plain": [
       "   Day  State ID       Lat     Long_    Active  Incident_Rate  \\\n",
       "0    2         1 -1.178243  0.304476 -0.200641       0.143976   \n",
       "1    2         2  3.607611 -3.031933 -0.448967      -0.290209   \n",
       "2    2         3 -0.945708 -0.944926  0.389043       0.088511   \n",
       "3    2         4 -0.741458  0.025816 -0.482359       0.202178   \n",
       "4    2         5 -0.552594 -1.365168  4.275448      -0.502417   \n",
       "\n",
       "   Total_Test_Results  Case_Fatality_Ratio  Testing_Rate  \\\n",
       "0           -0.483393            -0.475230     -1.301745   \n",
       "1           -0.569371            -1.797949      2.071154   \n",
       "2           -0.007491             0.075713     -1.268952   \n",
       "3           -0.456457            -0.029941     -0.559153   \n",
       "4            4.022089            -0.791062     -0.177543   \n",
       "\n",
       "   Resident Population 2020 Census  Population Density 2020 Census  \\\n",
       "0                        -0.128579                       -0.217013   \n",
       "1                        -0.754174                       -0.276752   \n",
       "2                         0.181561                       -0.239163   \n",
       "3                        -0.422031                       -0.242214   \n",
       "4                         4.903416                       -0.122735   \n",
       "\n",
       "   Density Rank 2020 Census  SexRatio  Confirmed  Deaths  Recovered  \n",
       "0                  0.118745 -1.168255       True   False      False  \n",
       "1                  1.614369  3.491260       True    True      False  \n",
       "2                  0.508908  0.384916       True    True       True  \n",
       "3                  0.573935 -0.546987       True    True       True  \n",
       "4                 -0.921689  0.384916       True    True      False  "
      ]
     },
     "execution_count": 3,
     "metadata": {},
     "output_type": "execute_result"
    }
   ],
   "source": [
    "df_train.head()"
   ]
  },
  {
   "cell_type": "code",
   "execution_count": 4,
   "metadata": {},
   "outputs": [
    {
     "data": {
      "text/html": [
       "<div>\n",
       "<style scoped>\n",
       "    .dataframe tbody tr th:only-of-type {\n",
       "        vertical-align: middle;\n",
       "    }\n",
       "\n",
       "    .dataframe tbody tr th {\n",
       "        vertical-align: top;\n",
       "    }\n",
       "\n",
       "    .dataframe thead th {\n",
       "        text-align: right;\n",
       "    }\n",
       "</style>\n",
       "<table border=\"1\" class=\"dataframe\">\n",
       "  <thead>\n",
       "    <tr style=\"text-align: right;\">\n",
       "      <th></th>\n",
       "      <th>Lat</th>\n",
       "      <th>Long_</th>\n",
       "      <th>Active</th>\n",
       "      <th>Incident_Rate</th>\n",
       "      <th>Total_Test_Results</th>\n",
       "      <th>Case_Fatality_Ratio</th>\n",
       "      <th>Testing_Rate</th>\n",
       "      <th>Resident Population 2020 Census</th>\n",
       "      <th>Population Density 2020 Census</th>\n",
       "      <th>Density Rank 2020 Census</th>\n",
       "      <th>SexRatio</th>\n",
       "    </tr>\n",
       "  </thead>\n",
       "  <tbody>\n",
       "    <tr>\n",
       "      <th>0</th>\n",
       "      <td>-1.178243</td>\n",
       "      <td>0.304476</td>\n",
       "      <td>-0.200641</td>\n",
       "      <td>0.143976</td>\n",
       "      <td>-0.483393</td>\n",
       "      <td>-0.475230</td>\n",
       "      <td>-1.301745</td>\n",
       "      <td>-0.128579</td>\n",
       "      <td>-0.217013</td>\n",
       "      <td>0.118745</td>\n",
       "      <td>-1.168255</td>\n",
       "    </tr>\n",
       "    <tr>\n",
       "      <th>1</th>\n",
       "      <td>3.607611</td>\n",
       "      <td>-3.031933</td>\n",
       "      <td>-0.448967</td>\n",
       "      <td>-0.290209</td>\n",
       "      <td>-0.569371</td>\n",
       "      <td>-1.797949</td>\n",
       "      <td>2.071154</td>\n",
       "      <td>-0.754174</td>\n",
       "      <td>-0.276752</td>\n",
       "      <td>1.614369</td>\n",
       "      <td>3.491260</td>\n",
       "    </tr>\n",
       "    <tr>\n",
       "      <th>2</th>\n",
       "      <td>-0.945708</td>\n",
       "      <td>-0.944926</td>\n",
       "      <td>0.389043</td>\n",
       "      <td>0.088511</td>\n",
       "      <td>-0.007491</td>\n",
       "      <td>0.075713</td>\n",
       "      <td>-1.268952</td>\n",
       "      <td>0.181561</td>\n",
       "      <td>-0.239163</td>\n",
       "      <td>0.508908</td>\n",
       "      <td>0.384916</td>\n",
       "    </tr>\n",
       "    <tr>\n",
       "      <th>3</th>\n",
       "      <td>-0.741458</td>\n",
       "      <td>0.025816</td>\n",
       "      <td>-0.482359</td>\n",
       "      <td>0.202178</td>\n",
       "      <td>-0.456457</td>\n",
       "      <td>-0.029941</td>\n",
       "      <td>-0.559153</td>\n",
       "      <td>-0.422031</td>\n",
       "      <td>-0.242214</td>\n",
       "      <td>0.573935</td>\n",
       "      <td>-0.546987</td>\n",
       "    </tr>\n",
       "    <tr>\n",
       "      <th>4</th>\n",
       "      <td>-0.552594</td>\n",
       "      <td>-1.365168</td>\n",
       "      <td>4.275448</td>\n",
       "      <td>-0.502417</td>\n",
       "      <td>4.022089</td>\n",
       "      <td>-0.791062</td>\n",
       "      <td>-0.177543</td>\n",
       "      <td>4.903416</td>\n",
       "      <td>-0.122735</td>\n",
       "      <td>-0.921689</td>\n",
       "      <td>0.384916</td>\n",
       "    </tr>\n",
       "    <tr>\n",
       "      <th>...</th>\n",
       "      <td>...</td>\n",
       "      <td>...</td>\n",
       "      <td>...</td>\n",
       "      <td>...</td>\n",
       "      <td>...</td>\n",
       "      <td>...</td>\n",
       "      <td>...</td>\n",
       "      <td>...</td>\n",
       "      <td>...</td>\n",
       "      <td>...</td>\n",
       "      <td>...</td>\n",
       "    </tr>\n",
       "    <tr>\n",
       "      <th>1375</th>\n",
       "      <td>0.753675</td>\n",
       "      <td>1.027338</td>\n",
       "      <td>-0.524025</td>\n",
       "      <td>-2.293117</td>\n",
       "      <td>-0.625582</td>\n",
       "      <td>-0.268880</td>\n",
       "      <td>1.273810</td>\n",
       "      <td>-0.767341</td>\n",
       "      <td>-0.234953</td>\n",
       "      <td>0.378854</td>\n",
       "      <td>-0.236352</td>\n",
       "    </tr>\n",
       "    <tr>\n",
       "      <th>1376</th>\n",
       "      <td>-0.280277</td>\n",
       "      <td>0.749264</td>\n",
       "      <td>0.400787</td>\n",
       "      <td>-0.559356</td>\n",
       "      <td>-0.005284</td>\n",
       "      <td>-0.533271</td>\n",
       "      <td>-0.745045</td>\n",
       "      <td>0.397324</td>\n",
       "      <td>-0.144153</td>\n",
       "      <td>-0.726607</td>\n",
       "      <td>-0.236352</td>\n",
       "    </tr>\n",
       "    <tr>\n",
       "      <th>1377</th>\n",
       "      <td>-0.161357</td>\n",
       "      <td>0.607433</td>\n",
       "      <td>-0.488091</td>\n",
       "      <td>-0.195859</td>\n",
       "      <td>-0.475653</td>\n",
       "      <td>0.063695</td>\n",
       "      <td>0.411132</td>\n",
       "      <td>-0.599582</td>\n",
       "      <td>-0.232024</td>\n",
       "      <td>0.248799</td>\n",
       "      <td>0.074282</td>\n",
       "    </tr>\n",
       "    <tr>\n",
       "      <th>1378</th>\n",
       "      <td>0.790345</td>\n",
       "      <td>0.166226</td>\n",
       "      <td>-0.391751</td>\n",
       "      <td>1.287093</td>\n",
       "      <td>0.129655</td>\n",
       "      <td>-0.828583</td>\n",
       "      <td>0.350879</td>\n",
       "      <td>-0.001818</td>\n",
       "      <td>-0.211155</td>\n",
       "      <td>-0.011309</td>\n",
       "      <td>0.384916</td>\n",
       "    </tr>\n",
       "    <tr>\n",
       "      <th>1379</th>\n",
       "      <td>0.541189</td>\n",
       "      <td>-0.734627</td>\n",
       "      <td>-0.528551</td>\n",
       "      <td>0.766301</td>\n",
       "      <td>-0.663109</td>\n",
       "      <td>-0.734918</td>\n",
       "      <td>0.439366</td>\n",
       "      <td>-0.776996</td>\n",
       "      <td>-0.273945</td>\n",
       "      <td>1.549342</td>\n",
       "      <td>1.938088</td>\n",
       "    </tr>\n",
       "  </tbody>\n",
       "</table>\n",
       "<p>1380 rows × 11 columns</p>\n",
       "</div>"
      ],
      "text/plain": [
       "           Lat     Long_    Active  Incident_Rate  Total_Test_Results  \\\n",
       "0    -1.178243  0.304476 -0.200641       0.143976           -0.483393   \n",
       "1     3.607611 -3.031933 -0.448967      -0.290209           -0.569371   \n",
       "2    -0.945708 -0.944926  0.389043       0.088511           -0.007491   \n",
       "3    -0.741458  0.025816 -0.482359       0.202178           -0.456457   \n",
       "4    -0.552594 -1.365168  4.275448      -0.502417            4.022089   \n",
       "...        ...       ...       ...            ...                 ...   \n",
       "1375  0.753675  1.027338 -0.524025      -2.293117           -0.625582   \n",
       "1376 -0.280277  0.749264  0.400787      -0.559356           -0.005284   \n",
       "1377 -0.161357  0.607433 -0.488091      -0.195859           -0.475653   \n",
       "1378  0.790345  0.166226 -0.391751       1.287093            0.129655   \n",
       "1379  0.541189 -0.734627 -0.528551       0.766301           -0.663109   \n",
       "\n",
       "      Case_Fatality_Ratio  Testing_Rate  Resident Population 2020 Census  \\\n",
       "0               -0.475230     -1.301745                        -0.128579   \n",
       "1               -1.797949      2.071154                        -0.754174   \n",
       "2                0.075713     -1.268952                         0.181561   \n",
       "3               -0.029941     -0.559153                        -0.422031   \n",
       "4               -0.791062     -0.177543                         4.903416   \n",
       "...                   ...           ...                              ...   \n",
       "1375            -0.268880      1.273810                        -0.767341   \n",
       "1376            -0.533271     -0.745045                         0.397324   \n",
       "1377             0.063695      0.411132                        -0.599582   \n",
       "1378            -0.828583      0.350879                        -0.001818   \n",
       "1379            -0.734918      0.439366                        -0.776996   \n",
       "\n",
       "      Population Density 2020 Census  Density Rank 2020 Census  SexRatio  \n",
       "0                          -0.217013                  0.118745 -1.168255  \n",
       "1                          -0.276752                  1.614369  3.491260  \n",
       "2                          -0.239163                  0.508908  0.384916  \n",
       "3                          -0.242214                  0.573935 -0.546987  \n",
       "4                          -0.122735                 -0.921689  0.384916  \n",
       "...                              ...                       ...       ...  \n",
       "1375                       -0.234953                  0.378854 -0.236352  \n",
       "1376                       -0.144153                 -0.726607 -0.236352  \n",
       "1377                       -0.232024                  0.248799  0.074282  \n",
       "1378                       -0.211155                 -0.011309  0.384916  \n",
       "1379                       -0.273945                  1.549342  1.938088  \n",
       "\n",
       "[1380 rows x 11 columns]"
      ]
     },
     "execution_count": 4,
     "metadata": {},
     "output_type": "execute_result"
    }
   ],
   "source": [
    "df_covid = df_train.iloc[:,2:-3]\n",
    "#Target 1 is Recovered\n",
    "df_target1 = df_train.iloc[:,-1:]\n",
    "#Target 2 is Deaths\n",
    "df_target2 = df_train.iloc[:,-2:-1]\n",
    "#Target 3 is Confirmed\n",
    "df_target3 = df_train.iloc[:,-3:-2]\n",
    "df_covid"
   ]
  },
  {
   "cell_type": "markdown",
   "metadata": {},
   "source": [
    "## 1. Decision Tree implementation on Target 1:Recovered"
   ]
  },
  {
   "cell_type": "markdown",
   "metadata": {},
   "source": [
    "### Part 1 : For max depth: {3, 5, 10, None}"
   ]
  },
  {
   "cell_type": "markdown",
   "metadata": {},
   "source": [
    "## Finding 'K' value in K-fold cross validation "
   ]
  },
  {
   "cell_type": "code",
   "execution_count": 5,
   "metadata": {},
   "outputs": [
    {
     "data": {
      "text/plain": [
       "[0.8289855072463768,\n",
       " 0.9159420289855073,\n",
       " 0.886231884057971,\n",
       " 0.9210144927536232,\n",
       " 0.9007246376811594,\n",
       " 0.8949465649973264,\n",
       " 0.8971089864229063,\n",
       " 0.9166737402031521,\n",
       " 0.9195652173913043,\n",
       " 0.9123232323232325,\n",
       " 0.9065217391304348,\n",
       " 0.9152842396538391,\n",
       " 0.9152383897281858,\n",
       " 0.9210144927536231,\n",
       " 0.9145031408714248,\n",
       " 0.9210283932904688,\n",
       " 0.9260746563378142,\n",
       " 0.9145237523031323,\n",
       " 0.9217391304347826,\n",
       " 0.9173604173604175,\n",
       " 0.920309081599404,\n",
       " 0.9246376811594202,\n",
       " 0.9202964307320024,\n",
       " 0.9217662337662337]"
      ]
     },
     "execution_count": 5,
     "metadata": {},
     "output_type": "execute_result"
    }
   ],
   "source": [
    "# Decision Tree on target 1: Recovered, Finding k value in k - fold cross val\n",
    "accuracies_recovered = []\n",
    "for k in range(2,26):\n",
    "    classifier_DecisionTree = DecisionTreeClassifier(max_depth = 10)\n",
    "    scores = cross_val_score(classifier_DecisionTree, df_covid, df_target1, cv=k)\n",
    "    accuracies_recovered.append(scores.mean())\n",
    "accuracies_recovered"
   ]
  },
  {
   "cell_type": "code",
   "execution_count": 6,
   "metadata": {},
   "outputs": [
    {
     "data": {
      "text/plain": [
       "[<matplotlib.lines.Line2D at 0x26fc1c0f070>]"
      ]
     },
     "execution_count": 6,
     "metadata": {},
     "output_type": "execute_result"
    },
    {
     "data": {
      "image/png": "[encoded data removed]",
      "text/plain": [
       "<Figure size 432x288 with 1 Axes>"
      ]
     },
     "metadata": {
      "needs_background": "light"
     },
     "output_type": "display_data"
    }
   ],
   "source": [
    "#Plotting the mean accuracy versus the max depth for recovered\n",
    "plt.title(\"K vs accuracy\")\n",
    "plt.plot(range(2,26),accuracies_recovered)"
   ]
  },
  {
   "cell_type": "markdown",
   "metadata": {},
   "source": [
    "### The best accuracy occurs at K = 8 and hence we will do 8 fold cross validation"
   ]
  },
  {
   "cell_type": "code",
   "execution_count": 7,
   "metadata": {},
   "outputs": [],
   "source": [
    "# Decision tree algorithm is run on the following values of max_depth\n",
    "max_depth_list = [3,5,10,None]"
   ]
  },
  {
   "cell_type": "code",
   "execution_count": 8,
   "metadata": {},
   "outputs": [
    {
     "data": {
      "text/plain": [
       "[0.8282531254200833,\n",
       " 0.8855104852802795,\n",
       " 0.8927737263072993,\n",
       " 0.8971299905901331]"
      ]
     },
     "execution_count": 8,
     "metadata": {},
     "output_type": "execute_result"
    }
   ],
   "source": [
    "# Decision Tree on target 1: Recovered, cv = 8\n",
    "accuracies_recovered1 = []\n",
    "for max_depth in max_depth_list:\n",
    "    classifier_DecisionTree = DecisionTreeClassifier(max_depth = max_depth)\n",
    "    scores = cross_val_score(classifier_DecisionTree, df_covid, df_target1, cv=8)\n",
    "    accuracies_recovered1.append(scores.mean())\n",
    "accuracies_recovered1"
   ]
  },
  {
   "cell_type": "code",
   "execution_count": 9,
   "metadata": {},
   "outputs": [
    {
     "data": {
      "text/plain": [
       "Text(0, 0.5, 'Mean Accuracy for Target 1:Recovered')"
      ]
     },
     "execution_count": 9,
     "metadata": {},
     "output_type": "execute_result"
    },
    {
     "data": {
      "image/png": "[encoded data removed]",
      "text/plain": [
       "<Figure size 432x288 with 1 Axes>"
      ]
     },
     "metadata": {
      "needs_background": "light"
     },
     "output_type": "display_data"
    }
   ],
   "source": [
    "#Plotting the mean accuracy versus the max depth for recovered\n",
    "plt.title(\"Decision Tree - 10-fold Target 1: Recovered\")\n",
    "plt.plot([1,2,3,4], accuracies_recovered1)\n",
    "plt.xticks([1,2,3,4],['3','5','10','None'])\n",
    "plt.xlabel('Max Depth')\n",
    "plt.ylabel('Mean Accuracy for Target 1:Recovered')"
   ]
  },
  {
   "cell_type": "markdown",
   "metadata": {},
   "source": [
    "### So the max accuracy came for max depth = 10 for target 1: Recovered"
   ]
  },
  {
   "cell_type": "markdown",
   "metadata": {},
   "source": [
    "### Part 2 : For None: (grow until leaf contains 2 datapoints)"
   ]
  },
  {
   "cell_type": "code",
   "execution_count": 10,
   "metadata": {},
   "outputs": [
    {
     "name": "stdout",
     "output_type": "stream",
     "text": [
      "Accuracy for Target1: Recovered [0.9173913043478261]\n"
     ]
    }
   ],
   "source": [
    "# Decision Tree on target 1: Recovered for none\n",
    "accuracy1 = []\n",
    "classifier_DecisionTree = DecisionTreeClassifier()\n",
    "scores = cross_val_score(classifier_DecisionTree, df_covid, df_target1, cv=10)\n",
    "accuracy1.append(scores.mean())\n",
    "print(\"Accuracy for Target1: Recovered\", accuracy1)"
   ]
  },
  {
   "cell_type": "markdown",
   "metadata": {},
   "source": [
    "### We get maximum accuracy with depth set at 10 for target 1 \"Recovered\". Meaning, we are growing the tree all the way as the depth is increasing but for None we do have some class ambiguitites in the leaf nodes as the accuracy dropped."
   ]
  },
  {
   "cell_type": "code",
   "execution_count": 11,
   "metadata": {},
   "outputs": [],
   "source": [
    "import graphviz\n",
    "from sklearn import tree"
   ]
  },
  {
   "cell_type": "code",
   "execution_count": 12,
   "metadata": {},
   "outputs": [],
   "source": [
    "# Plotting the decision tree for target 1: Recovered\n",
    "classifier_DecisionTree = DecisionTreeClassifier(max_depth = 3)\n",
    "classifier_DecisionTree.fit(df_covid,df_target1)\n",
    "dot_data = tree.export_graphviz(classifier_DecisionTree,out_file = None,\n",
    "                               feature_names = df_covid.columns,\n",
    "                               class_names = 'Recovered',\n",
    "                               filled = True, rounded = True,\n",
    "                               special_characters = True)\n",
    "graph = graphviz.Source(dot_data)\n"
   ]
  },
  {
   "cell_type": "markdown",
   "metadata": {},
   "source": [
    "### For the sake of convenience, the max depth value is selected as 3 to visualize the decision tree \n"
   ]
  },
  {
   "cell_type": "markdown",
   "metadata": {},
   "source": [
    "## Explaining the Decision Tree Plot\n",
    "#### 1) Examining the tree plot, we can notice that the first feature that is chosen for split is 'Long_'. Long_ ≤ -1.166\n",
    "#### means that every Long  -1.166 or lower will follow the True arrow (to the left), and the rest will follow the False arrow (to the right).The Gini value shows that the split was done almost in the middle.\n",
    "#### 2) gini = 0.0 means all the 150 samples got the same result.\n",
    "#### 3) Lat ≤ -1.002 means that every Lat  -1.002 or lower will follow the True arrow (to the left), and the rest will follow the False arrow (to the right).The Gini value shows that the split was done almost in the middle.\n",
    "#### 4) Further, Active ≤ -0.455 means that every active  -0.455 or lower will follow the True arrow (to the left), and the rest will follow the False arrow (to the right). The gini = 0.147 means that about 14,7% of the samples would go in one direction.\n",
    "#### 4.1) gini = 0.0 means all the 3 samples got the same result.\n",
    "#### 4.2) gini = 0.115 means all the 11,5% samples got the same result.\n",
    "#### 5) Further, SexRatio ≤ -0.702 means that every active  -0.702 or lower will follow the True arrow (to the left), and the rest will follow the False arrow (to the right). The gini = 0.333 means that about 33,3% of the samples would go in one direction.\n",
    "#### 5.1) gini = 0.499 means split was done in the middle. Out of 270 SexRatio  ≤ -0.702 samples 128 went in one direction and rest 142 in other.\n",
    "#### 5.2) gini = 0.216 means all the 21,6% samples got same result. Out of 810 SexRatio > -0.702 samples 100 went in one direction and rest 710 in other.\n",
    "\n",
    "\n",
    "\n",
    "\n",
    "\n",
    "\n",
    "\n"
   ]
  },
  {
   "cell_type": "markdown",
   "metadata": {},
   "source": [
    "Maximum depth refers to the the length of the longest path from a root to a leaf. this is to set a minimum number of training inputs to use on each leaf,that is how we stop splitting."
   ]
  },
  {
   "cell_type": "markdown",
   "metadata": {},
   "source": [
    "## 2. Decision Tree implementation on Target 2: Deaths"
   ]
  },
  {
   "cell_type": "markdown",
   "metadata": {},
   "source": [
    "### Part 1 : For max depth: {3, 5, 10, None}"
   ]
  },
  {
   "cell_type": "code",
   "execution_count": 13,
   "metadata": {},
   "outputs": [
    {
     "data": {
      "text/plain": [
       "[0.9115934601424922, 0.90648524667294, 0.8832882443876865, 0.8804064726441726]"
      ]
     },
     "execution_count": 13,
     "metadata": {},
     "output_type": "execute_result"
    }
   ],
   "source": [
    "# Decision Tree on target 2: Deaths, cv = 8\n",
    "accuracies_deaths = []\n",
    "for max_depth in max_depth_list:\n",
    "    classifier_DecisionTree = DecisionTreeClassifier(max_depth = max_depth)\n",
    "    scores = cross_val_score(classifier_DecisionTree, df_covid, df_target2, cv=8)\n",
    "    accuracies_deaths.append(scores.mean())\n",
    "accuracies_deaths"
   ]
  },
  {
   "cell_type": "code",
   "execution_count": 14,
   "metadata": {},
   "outputs": [
    {
     "data": {
      "text/plain": [
       "Text(0, 0.5, 'Mean Accuracy for Target 2:Deaths')"
      ]
     },
     "execution_count": 14,
     "metadata": {},
     "output_type": "execute_result"
    },
    {
     "data": {
      "image/png": "[encoded data removed]",
      "text/plain": [
       "<Figure size 432x288 with 1 Axes>"
      ]
     },
     "metadata": {
      "needs_background": "light"
     },
     "output_type": "display_data"
    }
   ],
   "source": [
    "#Plotting the mean accuracy versus the max depth for deaths\n",
    "plt.title(\"Decision Tree - 10-fold Target2: Deaths\")\n",
    "plt.plot([1,2,3,4], accuracies_deaths)\n",
    "plt.xticks([1,2,3,4],['3','5','10','None'])\n",
    "plt.xlabel('Max Depth')\n",
    "plt.ylabel('Mean Accuracy for Target 2:Deaths')"
   ]
  },
  {
   "cell_type": "markdown",
   "metadata": {},
   "source": [
    "### We get maximum accuracy with depth set at 3 for target 2 \"Deaths\""
   ]
  },
  {
   "cell_type": "markdown",
   "metadata": {},
   "source": [
    "### Part 2 : For None: (grow until leaf contains 2 datapoints)"
   ]
  },
  {
   "cell_type": "code",
   "execution_count": 15,
   "metadata": {},
   "outputs": [
    {
     "name": "stdout",
     "output_type": "stream",
     "text": [
      "Accuracy for Target2: Deaths [0.8789855072463768]\n"
     ]
    }
   ],
   "source": [
    "# Decision Tree on target 2: Deaths for none\n",
    "accuracy2 = []\n",
    "classifier_DecisionTree = DecisionTreeClassifier()\n",
    "scores = cross_val_score(classifier_DecisionTree, df_covid, df_target2, cv=10)\n",
    "accuracy2.append(scores.mean())\n",
    "print(\"Accuracy for Target2: Deaths\", accuracy2)"
   ]
  },
  {
   "cell_type": "markdown",
   "metadata": {},
   "source": [
    "### We get maximum accuracy with depth set at 3 for target 2 \"Deaths\". The accuracy is not growing all the way as the depth is increasing but for None we can see that the accuracy increased slightly."
   ]
  },
  {
   "cell_type": "code",
   "execution_count": 15,
   "metadata": {},
   "outputs": [],
   "source": [
    "# Plotting the decision tree for target 2: Deaths\n",
    "classifier_DecisionTree = DecisionTreeClassifier(max_depth = 3)\n",
    "classifier_DecisionTree.fit(df_covid,df_target2)\n",
    "dot_data = tree.export_graphviz(classifier_DecisionTree,out_file = None,\n",
    "                               feature_names = df_covid.columns,\n",
    "                               class_names = 'Deaths',\n",
    "                               filled = True, rounded = True,\n",
    "                               special_characters = True)\n",
    "graph = graphviz.Source(dot_data)\n"
   ]
  },
  {
   "cell_type": "markdown",
   "metadata": {},
   "source": [
    "## 3. Decision Tree implementation on Target 3: Confirmed"
   ]
  },
  {
   "cell_type": "markdown",
   "metadata": {},
   "source": [
    "### Part 1 : For max depth: {3, 5, 10, None}"
   ]
  },
  {
   "cell_type": "code",
   "execution_count": 17,
   "metadata": {},
   "outputs": [
    {
     "data": {
      "text/plain": [
       "[0.9623188405797102, 0.958695652173913, 0.9369565217391305, 0.9398550724637682]"
      ]
     },
     "execution_count": 17,
     "metadata": {},
     "output_type": "execute_result"
    }
   ],
   "source": [
    "# Decision Tree on target 3: Confirmed, cv = 10\n",
    "accuracies_confirmed = []\n",
    "for max_depth in max_depth_list:\n",
    "    classifier_DecisionTree = DecisionTreeClassifier(max_depth = max_depth)\n",
    "    scores = cross_val_score(classifier_DecisionTree, df_covid, df_target3, cv=10)\n",
    "    accuracies_confirmed.append(scores.mean())\n",
    "accuracies_confirmed"
   ]
  },
  {
   "cell_type": "code",
   "execution_count": 18,
   "metadata": {},
   "outputs": [
    {
     "data": {
      "text/plain": [
       "Text(0, 0.5, 'Mean Accuracy for Target 3:Confirmed')"
      ]
     },
     "execution_count": 18,
     "metadata": {},
     "output_type": "execute_result"
    },
    {
     "data": {
      "image/png": "[encoded data removed]",
      "text/plain": [
       "<Figure size 432x288 with 1 Axes>"
      ]
     },
     "metadata": {
      "needs_background": "light"
     },
     "output_type": "display_data"
    }
   ],
   "source": [
    "#Plotting the mean accuracy versus the max depth for confirmed\n",
    "plt.title(\"Decision Tree - 10-fold Target3: Confirmed\")\n",
    "plt.plot([1,2,3,4], accuracies_confirmed)\n",
    "plt.xticks([1,2,3,4],['3','5','10','None'])\n",
    "plt.xlabel('Max Depth')\n",
    "plt.ylabel('Mean Accuracy for Target 3:Confirmed')"
   ]
  },
  {
   "cell_type": "markdown",
   "metadata": {},
   "source": [
    "### We get maximum accuracy with depth set at 3 for target 3 \"Confirmed\"."
   ]
  },
  {
   "cell_type": "markdown",
   "metadata": {},
   "source": [
    "### Part 2 : For None: (grow until leaf contains 2 datapoints)"
   ]
  },
  {
   "cell_type": "code",
   "execution_count": 19,
   "metadata": {},
   "outputs": [
    {
     "name": "stdout",
     "output_type": "stream",
     "text": [
      "Accuracy for Target2: Deaths [0.9333333333333332]\n"
     ]
    }
   ],
   "source": [
    "# Decision Tree on target 3: Confirmed\n",
    "accuracy3 = []\n",
    "classifier_DecisionTree = DecisionTreeClassifier()\n",
    "scores = cross_val_score(classifier_DecisionTree, df_covid, df_target3, cv=10)\n",
    "accuracy3.append(scores.mean())\n",
    "print(\"Accuracy for Target2: Deaths\", accuracy3)"
   ]
  },
  {
   "cell_type": "markdown",
   "metadata": {},
   "source": [
    "### We get maximum accuracy with depth set at 3 for target 3 \"Confirmed\". The accuracy is falling all the way as the depth is increasing and for None its the lowest."
   ]
  },
  {
   "cell_type": "code",
   "execution_count": 16,
   "metadata": {},
   "outputs": [],
   "source": [
    "# Plotting the decision tree for target 3: Confirmed\n",
    "classifier_DecisionTree = DecisionTreeClassifier(max_depth = 3)\n",
    "classifier_DecisionTree.fit(df_covid,df_target3)\n",
    "dot_data = tree.export_graphviz(classifier_DecisionTree,out_file = None,\n",
    "                               feature_names = df_covid.columns,\n",
    "                               class_names = 'Deaths',\n",
    "                               filled = True, rounded = True,\n",
    "                               special_characters = True)\n",
    "graph = graphviz.Source(dot_data)\n"
   ]
  },
  {
   "cell_type": "code",
   "execution_count": null,
   "metadata": {},
   "outputs": [],
   "source": []
  }
 ],
 "metadata": {
  "kernelspec": {
   "display_name": "Python 3",
   "language": "python",
   "name": "python3"
  },
  "language_info": {
   "codemirror_mode": {
    "name": "ipython",
    "version": 3
   },
   "file_extension": ".py",
   "mimetype": "text/x-python",
   "name": "python",
   "nbconvert_exporter": "python",
   "pygments_lexer": "ipython3",
   "version": "3.8.5"
  }
 },
 "nbformat": 4,
 "nbformat_minor": 5
}
