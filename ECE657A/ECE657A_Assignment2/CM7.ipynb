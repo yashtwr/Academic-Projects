{
 "cells": [
  {
   "cell_type": "markdown",
   "metadata": {},
   "source": [
    "# [CM7] Interpretability"
   ]
  },
  {
   "cell_type": "markdown",
   "metadata": {},
   "source": [
    "## The implementation is done for the best hyper-parameters of naive bayes and decision trees using the original features"
   ]
  },
  {
   "cell_type": "code",
   "execution_count": 1,
   "metadata": {},
   "outputs": [],
   "source": [
    "import numpy as np\n",
    "import pandas as pd\n",
    "import matplotlib.pyplot as plt\n",
    "import seaborn as sns\n",
    "from sklearn.tree import DecisionTreeClassifier\n",
    "from sklearn.model_selection import cross_val_score,train_test_split\n",
    "from sklearn.naive_bayes import GaussianNB\n"
   ]
  },
  {
   "cell_type": "code",
   "execution_count": 2,
   "metadata": {},
   "outputs": [],
   "source": [
    "covid_dataset = pd.read_csv(\"cleaned_normalized_coviddata.csv\")\n",
    "x,x_test,y,y_test = train_test_split(covid_dataset.iloc[:,2:-3],covid_dataset.iloc[:,-3:].astype(int),test_size=0.2,random_state=98)\n"
   ]
  },
  {
   "cell_type": "markdown",
   "metadata": {},
   "source": [
    "### Naive Bayes Implementation"
   ]
  },
  {
   "cell_type": "code",
   "execution_count": 3,
   "metadata": {},
   "outputs": [],
   "source": [
    "#Label: Recovered\n",
    "classifier_gaussian_recovered = GaussianNB(var_smoothing = 1e-1)\n",
    "classifier_gaussian_recovered.fit(x,y.loc[:,'Recovered'])\n",
    "scores_nb_recovered = classifier_gaussian_recovered.score(x_test,y_test.loc[:,'Recovered'])\n",
    "#LAbel: Deaths\n",
    "classifier_gaussian_deaths = GaussianNB(var_smoothing = 0.75)\n",
    "classifier_gaussian_deaths.fit(x,y.loc[:,'Deaths'])\n",
    "scores_nb_deaths = classifier_gaussian_deaths.score(x_test,y_test.loc[:,'Deaths'])\n",
    "#Label : Confirmed\n",
    "classifier_gaussian_confirmed = GaussianNB(var_smoothing = 1)\n",
    "classifier_gaussian_confirmed.fit(x,y.loc[:,'Confirmed'])\n",
    "scores_nb_confirmed = classifier_gaussian_confirmed.score(x_test,y_test.loc[:,'Confirmed'])\n",
    "\n"
   ]
  },
  {
   "cell_type": "code",
   "execution_count": 4,
   "metadata": {},
   "outputs": [
    {
     "name": "stdout",
     "output_type": "stream",
     "text": [
      "0.7210144927536232\n",
      "0.894927536231884\n",
      "0.9456521739130435\n"
     ]
    }
   ],
   "source": [
    "print(scores_nb_recovered.mean())\n",
    "print(scores_nb_deaths.mean())\n",
    "print(scores_nb_confirmed.mean())"
   ]
  },
  {
   "cell_type": "markdown",
   "metadata": {},
   "source": [
    "### Decision Tree Implementation"
   ]
  },
  {
   "cell_type": "code",
   "execution_count": 5,
   "metadata": {},
   "outputs": [],
   "source": [
    "#Label : Recovered\n",
    "classifier_DecisionTree_recovered = DecisionTreeClassifier(max_depth = 3)\n",
    "classifier_DecisionTree_recovered.fit(x,y.loc[:,'Recovered'])\n",
    "scores_d_recovered = classifier_DecisionTree_recovered.score(x_test,y_test.loc[:,'Recovered'])\n",
    "# Label : Deaths\n",
    "classifier_DecisionTree_deaths= DecisionTreeClassifier(max_depth = 3)\n",
    "classifier_DecisionTree_deaths.fit(x,y.loc[:,'Deaths'])\n",
    "scores_d_deaths = classifier_DecisionTree_deaths.score(x_test,y_test.loc[:,'Deaths'])\n",
    "#Label : Confirmed\n",
    "classifier_DecisionTree_confirmed = DecisionTreeClassifier(max_depth = 3)\n",
    "classifier_DecisionTree_confirmed.fit(x,y.loc[:,'Confirmed'])\n",
    "scores_d_confirmed = classifier_DecisionTree_confirmed.score(x_test,y_test.loc[:,'Confirmed'])\n"
   ]
  },
  {
   "cell_type": "code",
   "execution_count": 6,
   "metadata": {},
   "outputs": [
    {
     "name": "stdout",
     "output_type": "stream",
     "text": [
      "0.7862318840579711\n",
      "0.9057971014492754\n",
      "0.9565217391304348\n"
     ]
    }
   ],
   "source": [
    "print(scores_d_recovered.mean())\n",
    "print(scores_d_deaths.mean())\n",
    "print(scores_d_confirmed.mean())"
   ]
  },
  {
   "cell_type": "markdown",
   "metadata": {},
   "source": [
    "### From the above accuracy values, it can be inferred that decision tree performs almost similar to gaussian naive bayes"
   ]
  },
  {
   "cell_type": "markdown",
   "metadata": {},
   "source": [
    "## Learning Parameters of NB for data Interpretation and comparision"
   ]
  },
  {
   "cell_type": "code",
   "execution_count": 7,
   "metadata": {},
   "outputs": [
    {
     "data": {
      "text/html": [
       "<div>\n",
       "<style scoped>\n",
       "    .dataframe tbody tr th:only-of-type {\n",
       "        vertical-align: middle;\n",
       "    }\n",
       "\n",
       "    .dataframe tbody tr th {\n",
       "        vertical-align: top;\n",
       "    }\n",
       "\n",
       "    .dataframe thead th {\n",
       "        text-align: right;\n",
       "    }\n",
       "</style>\n",
       "<table border=\"1\" class=\"dataframe\">\n",
       "  <thead>\n",
       "    <tr style=\"text-align: right;\">\n",
       "      <th></th>\n",
       "      <th>Lat</th>\n",
       "      <th>Long_</th>\n",
       "      <th>Active</th>\n",
       "      <th>Incident_Rate</th>\n",
       "      <th>Total_Test_Results</th>\n",
       "      <th>Case_Fatality_Ratio</th>\n",
       "      <th>Testing_Rate</th>\n",
       "      <th>Resident Population 2020 Census</th>\n",
       "      <th>Population Density 2020 Census</th>\n",
       "      <th>Density Rank 2020 Census</th>\n",
       "      <th>SexRatio</th>\n",
       "    </tr>\n",
       "  </thead>\n",
       "  <tbody>\n",
       "    <tr>\n",
       "      <th>True</th>\n",
       "      <td>2.102807</td>\n",
       "      <td>1.903569</td>\n",
       "      <td>2.025485</td>\n",
       "      <td>0.807028</td>\n",
       "      <td>1.571866</td>\n",
       "      <td>1.141637</td>\n",
       "      <td>1.445363</td>\n",
       "      <td>1.801357</td>\n",
       "      <td>0.354314</td>\n",
       "      <td>1.047409</td>\n",
       "      <td>1.550491</td>\n",
       "    </tr>\n",
       "    <tr>\n",
       "      <th>False</th>\n",
       "      <td>0.526993</td>\n",
       "      <td>0.603241</td>\n",
       "      <td>0.315986</td>\n",
       "      <td>1.233058</td>\n",
       "      <td>0.625900</td>\n",
       "      <td>1.064626</td>\n",
       "      <td>0.914632</td>\n",
       "      <td>0.496507</td>\n",
       "      <td>1.680216</td>\n",
       "      <td>1.092018</td>\n",
       "      <td>0.881031</td>\n",
       "    </tr>\n",
       "  </tbody>\n",
       "</table>\n",
       "</div>"
      ],
      "text/plain": [
       "            Lat     Long_    Active  Incident_Rate  Total_Test_Results  \\\n",
       "True   2.102807  1.903569  2.025485       0.807028            1.571866   \n",
       "False  0.526993  0.603241  0.315986       1.233058            0.625900   \n",
       "\n",
       "       Case_Fatality_Ratio  Testing_Rate  Resident Population 2020 Census  \\\n",
       "True              1.141637      1.445363                         1.801357   \n",
       "False             1.064626      0.914632                         0.496507   \n",
       "\n",
       "       Population Density 2020 Census  Density Rank 2020 Census  SexRatio  \n",
       "True                         0.354314                  1.047409  1.550491  \n",
       "False                        1.680216                  1.092018  0.881031  "
      ]
     },
     "execution_count": 7,
     "metadata": {},
     "output_type": "execute_result"
    }
   ],
   "source": [
    "var = pd.DataFrame()\n",
    "var[0]=(list(list(classifier_gaussian_recovered.sigma_)[0]))\n",
    "var[1]=(list(list(classifier_gaussian_recovered.sigma_)[1]))\n",
    "var.columns = ['True','False']\n",
    "var.index = list(x.columns)\n",
    "var.T"
   ]
  },
  {
   "cell_type": "markdown",
   "metadata": {},
   "source": [
    "### These represent the variance between two classes of Label recovered"
   ]
  },
  {
   "cell_type": "code",
   "execution_count": 8,
   "metadata": {},
   "outputs": [
    {
     "data": {
      "text/html": [
       "<div>\n",
       "<style scoped>\n",
       "    .dataframe tbody tr th:only-of-type {\n",
       "        vertical-align: middle;\n",
       "    }\n",
       "\n",
       "    .dataframe tbody tr th {\n",
       "        vertical-align: top;\n",
       "    }\n",
       "\n",
       "    .dataframe thead th {\n",
       "        text-align: right;\n",
       "    }\n",
       "</style>\n",
       "<table border=\"1\" class=\"dataframe\">\n",
       "  <thead>\n",
       "    <tr style=\"text-align: right;\">\n",
       "      <th></th>\n",
       "      <th>Lat</th>\n",
       "      <th>Long_</th>\n",
       "      <th>Active</th>\n",
       "      <th>Incident_Rate</th>\n",
       "      <th>Total_Test_Results</th>\n",
       "      <th>Case_Fatality_Ratio</th>\n",
       "      <th>Testing_Rate</th>\n",
       "      <th>Resident Population 2020 Census</th>\n",
       "      <th>Population Density 2020 Census</th>\n",
       "      <th>Density Rank 2020 Census</th>\n",
       "      <th>SexRatio</th>\n",
       "    </tr>\n",
       "  </thead>\n",
       "  <tbody>\n",
       "    <tr>\n",
       "      <th>True</th>\n",
       "      <td>-0.222705</td>\n",
       "      <td>-0.274367</td>\n",
       "      <td>0.277679</td>\n",
       "      <td>-0.182613</td>\n",
       "      <td>0.192396</td>\n",
       "      <td>0.079321</td>\n",
       "      <td>0.113771</td>\n",
       "      <td>0.233726</td>\n",
       "      <td>-0.080190</td>\n",
       "      <td>-0.237497</td>\n",
       "      <td>-0.119118</td>\n",
       "    </tr>\n",
       "    <tr>\n",
       "      <th>False</th>\n",
       "      <td>0.156457</td>\n",
       "      <td>0.143668</td>\n",
       "      <td>-0.210219</td>\n",
       "      <td>0.134183</td>\n",
       "      <td>-0.146766</td>\n",
       "      <td>-0.074567</td>\n",
       "      <td>-0.033171</td>\n",
       "      <td>-0.173113</td>\n",
       "      <td>0.065903</td>\n",
       "      <td>0.149274</td>\n",
       "      <td>0.107242</td>\n",
       "    </tr>\n",
       "  </tbody>\n",
       "</table>\n",
       "</div>"
      ],
      "text/plain": [
       "            Lat     Long_    Active  Incident_Rate  Total_Test_Results  \\\n",
       "True  -0.222705 -0.274367  0.277679      -0.182613            0.192396   \n",
       "False  0.156457  0.143668 -0.210219       0.134183           -0.146766   \n",
       "\n",
       "       Case_Fatality_Ratio  Testing_Rate  Resident Population 2020 Census  \\\n",
       "True              0.079321      0.113771                         0.233726   \n",
       "False            -0.074567     -0.033171                        -0.173113   \n",
       "\n",
       "       Population Density 2020 Census  Density Rank 2020 Census  SexRatio  \n",
       "True                        -0.080190                 -0.237497 -0.119118  \n",
       "False                        0.065903                  0.149274  0.107242  "
      ]
     },
     "execution_count": 8,
     "metadata": {},
     "output_type": "execute_result"
    }
   ],
   "source": [
    "mean = pd.DataFrame()\n",
    "mean[0]=(list(list(classifier_gaussian_recovered.theta_)[0]))\n",
    "mean[1]=(list(list(classifier_gaussian_recovered.theta_)[1]))\n",
    "mean.columns = ['True','False']\n",
    "mean.index = list(x.columns)\n",
    "mean.T"
   ]
  },
  {
   "cell_type": "markdown",
   "metadata": {},
   "source": [
    "### These represent the mean of the two classes of label : recovered"
   ]
  },
  {
   "cell_type": "code",
   "execution_count": 9,
   "metadata": {},
   "outputs": [
    {
     "data": {
      "image/svg+xml": [
       "<?xml version=\"1.0\" encoding=\"UTF-8\" standalone=\"no\"?>\r\n",
       "<!DOCTYPE svg PUBLIC \"-//W3C//DTD SVG 1.1//EN\"\r\n",
       " \"http://www.w3.org/Graphics/SVG/1.1/DTD/svg11.dtd\">\r\n",
       "<!-- Generated by graphviz version 2.48.0 (20210717.1556)\r\n",
       " -->\r\n",
       "<!-- Title: Tree Pages: 1 -->\r\n",
       "<svg width=\"527pt\" height=\"433pt\"\r\n",
       " viewBox=\"0.00 0.00 526.50 433.00\" xmlns=\"http://www.w3.org/2000/svg\" xmlns:xlink=\"http://www.w3.org/1999/xlink\">\r\n",
       "<g id=\"graph0\" class=\"graph\" transform=\"scale(1 1) rotate(0) translate(4 429)\">\r\n",
       "<title>Tree</title>\r\n",
       "<polygon fill=\"white\" stroke=\"transparent\" points=\"-4,4 -4,-429 522.5,-429 522.5,4 -4,4\"/>\r\n",
       "<!-- 0 -->\r\n",
       "<g id=\"node1\" class=\"node\">\r\n",
       "<title>0</title>\r\n",
       "<path fill=\"#b1d8f5\" stroke=\"black\" d=\"M224.5,-425C224.5,-425 118.5,-425 118.5,-425 112.5,-425 106.5,-419 106.5,-413 106.5,-413 106.5,-354 106.5,-354 106.5,-348 112.5,-342 118.5,-342 118.5,-342 224.5,-342 224.5,-342 230.5,-342 236.5,-348 236.5,-354 236.5,-354 236.5,-413 236.5,-413 236.5,-419 230.5,-425 224.5,-425\"/>\r\n",
       "<text text-anchor=\"start\" x=\"123\" y=\"-409.8\" font-family=\"Helvetica,sans-Serif\" font-size=\"14.00\">Long_ ≤ &#45;1.166</text>\r\n",
       "<text text-anchor=\"start\" x=\"138\" y=\"-394.8\" font-family=\"Helvetica,sans-Serif\" font-size=\"14.00\">gini = 0.47</text>\r\n",
       "<text text-anchor=\"start\" x=\"120\" y=\"-379.8\" font-family=\"Helvetica,sans-Serif\" font-size=\"14.00\">samples = 1104</text>\r\n",
       "<text text-anchor=\"start\" x=\"114.5\" y=\"-364.8\" font-family=\"Helvetica,sans-Serif\" font-size=\"14.00\">value = [416, 688]</text>\r\n",
       "<text text-anchor=\"start\" x=\"142.5\" y=\"-349.8\" font-family=\"Helvetica,sans-Serif\" font-size=\"14.00\">class = e</text>\r\n",
       "</g>\r\n",
       "<!-- 1 -->\r\n",
       "<g id=\"node2\" class=\"node\">\r\n",
       "<title>1</title>\r\n",
       "<path fill=\"#e58139\" stroke=\"black\" d=\"M146,-298.5C146,-298.5 57,-298.5 57,-298.5 51,-298.5 45,-292.5 45,-286.5 45,-286.5 45,-242.5 45,-242.5 45,-236.5 51,-230.5 57,-230.5 57,-230.5 146,-230.5 146,-230.5 152,-230.5 158,-236.5 158,-242.5 158,-242.5 158,-286.5 158,-286.5 158,-292.5 152,-298.5 146,-298.5\"/>\r\n",
       "<text text-anchor=\"start\" x=\"72.5\" y=\"-283.3\" font-family=\"Helvetica,sans-Serif\" font-size=\"14.00\">gini = 0.0</text>\r\n",
       "<text text-anchor=\"start\" x=\"54\" y=\"-268.3\" font-family=\"Helvetica,sans-Serif\" font-size=\"14.00\">samples = 119</text>\r\n",
       "<text text-anchor=\"start\" x=\"53\" y=\"-253.3\" font-family=\"Helvetica,sans-Serif\" font-size=\"14.00\">value = [119, 0]</text>\r\n",
       "<text text-anchor=\"start\" x=\"71.5\" y=\"-238.3\" font-family=\"Helvetica,sans-Serif\" font-size=\"14.00\">class = R</text>\r\n",
       "</g>\r\n",
       "<!-- 0&#45;&gt;1 -->\r\n",
       "<g id=\"edge1\" class=\"edge\">\r\n",
       "<title>0&#45;&gt;1</title>\r\n",
       "<path fill=\"none\" stroke=\"black\" d=\"M147.21,-341.91C140.55,-330.76 133.3,-318.66 126.59,-307.44\"/>\r\n",
       "<polygon fill=\"black\" stroke=\"black\" points=\"129.48,-305.45 121.34,-298.67 123.47,-309.05 129.48,-305.45\"/>\r\n",
       "<text text-anchor=\"middle\" x=\"115.25\" y=\"-319.21\" font-family=\"Helvetica,sans-Serif\" font-size=\"14.00\">True</text>\r\n",
       "</g>\r\n",
       "<!-- 2 -->\r\n",
       "<g id=\"node3\" class=\"node\">\r\n",
       "<title>2</title>\r\n",
       "<path fill=\"#8ec7f0\" stroke=\"black\" d=\"M294.5,-306C294.5,-306 188.5,-306 188.5,-306 182.5,-306 176.5,-300 176.5,-294 176.5,-294 176.5,-235 176.5,-235 176.5,-229 182.5,-223 188.5,-223 188.5,-223 294.5,-223 294.5,-223 300.5,-223 306.5,-229 306.5,-235 306.5,-235 306.5,-294 306.5,-294 306.5,-300 300.5,-306 294.5,-306\"/>\r\n",
       "<text text-anchor=\"start\" x=\"203.5\" y=\"-290.8\" font-family=\"Helvetica,sans-Serif\" font-size=\"14.00\">Lat ≤ &#45;1.002</text>\r\n",
       "<text text-anchor=\"start\" x=\"204\" y=\"-275.8\" font-family=\"Helvetica,sans-Serif\" font-size=\"14.00\">gini = 0.421</text>\r\n",
       "<text text-anchor=\"start\" x=\"194\" y=\"-260.8\" font-family=\"Helvetica,sans-Serif\" font-size=\"14.00\">samples = 985</text>\r\n",
       "<text text-anchor=\"start\" x=\"184.5\" y=\"-245.8\" font-family=\"Helvetica,sans-Serif\" font-size=\"14.00\">value = [297, 688]</text>\r\n",
       "<text text-anchor=\"start\" x=\"212.5\" y=\"-230.8\" font-family=\"Helvetica,sans-Serif\" font-size=\"14.00\">class = e</text>\r\n",
       "</g>\r\n",
       "<!-- 0&#45;&gt;2 -->\r\n",
       "<g id=\"edge2\" class=\"edge\">\r\n",
       "<title>0&#45;&gt;2</title>\r\n",
       "<path fill=\"none\" stroke=\"black\" d=\"M195.79,-341.91C201.05,-333.1 206.68,-323.7 212.12,-314.61\"/>\r\n",
       "<polygon fill=\"black\" stroke=\"black\" points=\"215.13,-316.4 217.26,-306.02 209.12,-312.81 215.13,-316.4\"/>\r\n",
       "<text text-anchor=\"middle\" x=\"223.35\" y=\"-326.57\" font-family=\"Helvetica,sans-Serif\" font-size=\"14.00\">False</text>\r\n",
       "</g>\r\n",
       "<!-- 3 -->\r\n",
       "<g id=\"node4\" class=\"node\">\r\n",
       "<title>3</title>\r\n",
       "<path fill=\"#e88d4c\" stroke=\"black\" d=\"M218.5,-187C218.5,-187 120.5,-187 120.5,-187 114.5,-187 108.5,-181 108.5,-175 108.5,-175 108.5,-116 108.5,-116 108.5,-110 114.5,-104 120.5,-104 120.5,-104 218.5,-104 218.5,-104 224.5,-104 230.5,-110 230.5,-116 230.5,-116 230.5,-175 230.5,-175 230.5,-181 224.5,-187 218.5,-187\"/>\r\n",
       "<text text-anchor=\"start\" x=\"121.5\" y=\"-171.8\" font-family=\"Helvetica,sans-Serif\" font-size=\"14.00\">Active ≤ &#45;0.451</text>\r\n",
       "<text text-anchor=\"start\" x=\"132\" y=\"-156.8\" font-family=\"Helvetica,sans-Serif\" font-size=\"14.00\">gini = 0.163</text>\r\n",
       "<text text-anchor=\"start\" x=\"122\" y=\"-141.8\" font-family=\"Helvetica,sans-Serif\" font-size=\"14.00\">samples = 112</text>\r\n",
       "<text text-anchor=\"start\" x=\"116.5\" y=\"-126.8\" font-family=\"Helvetica,sans-Serif\" font-size=\"14.00\">value = [102, 10]</text>\r\n",
       "<text text-anchor=\"start\" x=\"139.5\" y=\"-111.8\" font-family=\"Helvetica,sans-Serif\" font-size=\"14.00\">class = R</text>\r\n",
       "</g>\r\n",
       "<!-- 2&#45;&gt;3 -->\r\n",
       "<g id=\"edge3\" class=\"edge\">\r\n",
       "<title>2&#45;&gt;3</title>\r\n",
       "<path fill=\"none\" stroke=\"black\" d=\"M216.52,-222.91C211.1,-214.1 205.32,-204.7 199.72,-195.61\"/>\r\n",
       "<polygon fill=\"black\" stroke=\"black\" points=\"202.66,-193.7 194.44,-187.02 196.7,-197.37 202.66,-193.7\"/>\r\n",
       "</g>\r\n",
       "<!-- 6 -->\r\n",
       "<g id=\"node7\" class=\"node\">\r\n",
       "<title>6</title>\r\n",
       "<path fill=\"#72b9ec\" stroke=\"black\" d=\"M368,-187C368,-187 261,-187 261,-187 255,-187 249,-181 249,-175 249,-175 249,-116 249,-116 249,-110 255,-104 261,-104 261,-104 368,-104 368,-104 374,-104 380,-110 380,-116 380,-116 380,-175 380,-175 380,-181 374,-187 368,-187\"/>\r\n",
       "<text text-anchor=\"start\" x=\"257\" y=\"-171.8\" font-family=\"Helvetica,sans-Serif\" font-size=\"14.00\">SexRatio ≤ &#45;0.702</text>\r\n",
       "<text text-anchor=\"start\" x=\"277\" y=\"-156.8\" font-family=\"Helvetica,sans-Serif\" font-size=\"14.00\">gini = 0.347</text>\r\n",
       "<text text-anchor=\"start\" x=\"267\" y=\"-141.8\" font-family=\"Helvetica,sans-Serif\" font-size=\"14.00\">samples = 873</text>\r\n",
       "<text text-anchor=\"start\" x=\"257.5\" y=\"-126.8\" font-family=\"Helvetica,sans-Serif\" font-size=\"14.00\">value = [195, 678]</text>\r\n",
       "<text text-anchor=\"start\" x=\"285.5\" y=\"-111.8\" font-family=\"Helvetica,sans-Serif\" font-size=\"14.00\">class = e</text>\r\n",
       "</g>\r\n",
       "<!-- 2&#45;&gt;6 -->\r\n",
       "<g id=\"edge6\" class=\"edge\">\r\n",
       "<title>2&#45;&gt;6</title>\r\n",
       "<path fill=\"none\" stroke=\"black\" d=\"M266.83,-222.91C272.32,-214.1 278.19,-204.7 283.86,-195.61\"/>\r\n",
       "<polygon fill=\"black\" stroke=\"black\" points=\"286.89,-197.36 289.22,-187.02 280.95,-193.65 286.89,-197.36\"/>\r\n",
       "</g>\r\n",
       "<!-- 4 -->\r\n",
       "<g id=\"node5\" class=\"node\">\r\n",
       "<title>4</title>\r\n",
       "<path fill=\"#399de5\" stroke=\"black\" d=\"M85,-68C85,-68 12,-68 12,-68 6,-68 0,-62 0,-56 0,-56 0,-12 0,-12 0,-6 6,0 12,0 12,0 85,0 85,0 91,0 97,-6 97,-12 97,-12 97,-56 97,-56 97,-62 91,-68 85,-68\"/>\r\n",
       "<text text-anchor=\"start\" x=\"19.5\" y=\"-52.8\" font-family=\"Helvetica,sans-Serif\" font-size=\"14.00\">gini = 0.0</text>\r\n",
       "<text text-anchor=\"start\" x=\"9\" y=\"-37.8\" font-family=\"Helvetica,sans-Serif\" font-size=\"14.00\">samples = 4</text>\r\n",
       "<text text-anchor=\"start\" x=\"8\" y=\"-22.8\" font-family=\"Helvetica,sans-Serif\" font-size=\"14.00\">value = [0, 4]</text>\r\n",
       "<text text-anchor=\"start\" x=\"19.5\" y=\"-7.8\" font-family=\"Helvetica,sans-Serif\" font-size=\"14.00\">class = e</text>\r\n",
       "</g>\r\n",
       "<!-- 3&#45;&gt;4 -->\r\n",
       "<g id=\"edge4\" class=\"edge\">\r\n",
       "<title>3&#45;&gt;4</title>\r\n",
       "<path fill=\"none\" stroke=\"black\" d=\"M124.44,-103.73C114.16,-94.42 103.25,-84.54 92.99,-75.26\"/>\r\n",
       "<polygon fill=\"black\" stroke=\"black\" points=\"95.06,-72.41 85.3,-68.3 90.36,-77.6 95.06,-72.41\"/>\r\n",
       "</g>\r\n",
       "<!-- 5 -->\r\n",
       "<g id=\"node6\" class=\"node\">\r\n",
       "<title>5</title>\r\n",
       "<path fill=\"#e78845\" stroke=\"black\" d=\"M216,-68C216,-68 127,-68 127,-68 121,-68 115,-62 115,-56 115,-56 115,-12 115,-12 115,-6 121,0 127,0 127,0 216,0 216,0 222,0 228,-6 228,-12 228,-12 228,-56 228,-56 228,-62 222,-68 216,-68\"/>\r\n",
       "<text text-anchor=\"start\" x=\"134\" y=\"-52.8\" font-family=\"Helvetica,sans-Serif\" font-size=\"14.00\">gini = 0.105</text>\r\n",
       "<text text-anchor=\"start\" x=\"124\" y=\"-37.8\" font-family=\"Helvetica,sans-Serif\" font-size=\"14.00\">samples = 108</text>\r\n",
       "<text text-anchor=\"start\" x=\"123\" y=\"-22.8\" font-family=\"Helvetica,sans-Serif\" font-size=\"14.00\">value = [102, 6]</text>\r\n",
       "<text text-anchor=\"start\" x=\"141.5\" y=\"-7.8\" font-family=\"Helvetica,sans-Serif\" font-size=\"14.00\">class = R</text>\r\n",
       "</g>\r\n",
       "<!-- 3&#45;&gt;5 -->\r\n",
       "<g id=\"edge5\" class=\"edge\">\r\n",
       "<title>3&#45;&gt;5</title>\r\n",
       "<path fill=\"none\" stroke=\"black\" d=\"M170.24,-103.73C170.39,-95.52 170.55,-86.86 170.7,-78.56\"/>\r\n",
       "<polygon fill=\"black\" stroke=\"black\" points=\"174.21,-78.36 170.89,-68.3 167.21,-78.23 174.21,-78.36\"/>\r\n",
       "</g>\r\n",
       "<!-- 7 -->\r\n",
       "<g id=\"node8\" class=\"node\">\r\n",
       "<title>7</title>\r\n",
       "<path fill=\"#fdf7f2\" stroke=\"black\" d=\"M366.5,-68C366.5,-68 260.5,-68 260.5,-68 254.5,-68 248.5,-62 248.5,-56 248.5,-56 248.5,-12 248.5,-12 248.5,-6 254.5,0 260.5,0 260.5,0 366.5,0 366.5,0 372.5,0 378.5,-6 378.5,-12 378.5,-12 378.5,-56 378.5,-56 378.5,-62 372.5,-68 366.5,-68\"/>\r\n",
       "<text text-anchor=\"start\" x=\"276\" y=\"-52.8\" font-family=\"Helvetica,sans-Serif\" font-size=\"14.00\">gini = 0.499</text>\r\n",
       "<text text-anchor=\"start\" x=\"266\" y=\"-37.8\" font-family=\"Helvetica,sans-Serif\" font-size=\"14.00\">samples = 213</text>\r\n",
       "<text text-anchor=\"start\" x=\"256.5\" y=\"-22.8\" font-family=\"Helvetica,sans-Serif\" font-size=\"14.00\">value = [110, 103]</text>\r\n",
       "<text text-anchor=\"start\" x=\"283.5\" y=\"-7.8\" font-family=\"Helvetica,sans-Serif\" font-size=\"14.00\">class = R</text>\r\n",
       "</g>\r\n",
       "<!-- 6&#45;&gt;7 -->\r\n",
       "<g id=\"edge7\" class=\"edge\">\r\n",
       "<title>6&#45;&gt;7</title>\r\n",
       "<path fill=\"none\" stroke=\"black\" d=\"M314.13,-103.73C314.05,-95.52 313.97,-86.86 313.9,-78.56\"/>\r\n",
       "<polygon fill=\"black\" stroke=\"black\" points=\"317.4,-78.27 313.8,-68.3 310.4,-78.33 317.4,-78.27\"/>\r\n",
       "</g>\r\n",
       "<!-- 8 -->\r\n",
       "<g id=\"node9\" class=\"node\">\r\n",
       "<title>8</title>\r\n",
       "<path fill=\"#56abe9\" stroke=\"black\" d=\"M506.5,-68C506.5,-68 408.5,-68 408.5,-68 402.5,-68 396.5,-62 396.5,-56 396.5,-56 396.5,-12 396.5,-12 396.5,-6 402.5,0 408.5,0 408.5,0 506.5,0 506.5,0 512.5,0 518.5,-6 518.5,-12 518.5,-12 518.5,-56 518.5,-56 518.5,-62 512.5,-68 506.5,-68\"/>\r\n",
       "<text text-anchor=\"start\" x=\"420\" y=\"-52.8\" font-family=\"Helvetica,sans-Serif\" font-size=\"14.00\">gini = 0.224</text>\r\n",
       "<text text-anchor=\"start\" x=\"410\" y=\"-37.8\" font-family=\"Helvetica,sans-Serif\" font-size=\"14.00\">samples = 660</text>\r\n",
       "<text text-anchor=\"start\" x=\"404.5\" y=\"-22.8\" font-family=\"Helvetica,sans-Serif\" font-size=\"14.00\">value = [85, 575]</text>\r\n",
       "<text text-anchor=\"start\" x=\"428.5\" y=\"-7.8\" font-family=\"Helvetica,sans-Serif\" font-size=\"14.00\">class = e</text>\r\n",
       "</g>\r\n",
       "<!-- 6&#45;&gt;8 -->\r\n",
       "<g id=\"edge8\" class=\"edge\">\r\n",
       "<title>6&#45;&gt;8</title>\r\n",
       "<path fill=\"none\" stroke=\"black\" d=\"M367.75,-103.73C380.25,-94.15 393.56,-83.96 405.99,-74.44\"/>\r\n",
       "<polygon fill=\"black\" stroke=\"black\" points=\"408.2,-77.16 414.01,-68.3 403.95,-71.6 408.2,-77.16\"/>\r\n",
       "</g>\r\n",
       "</g>\r\n",
       "</svg>\r\n"
      ],
      "text/plain": [
       "<graphviz.files.Source at 0x125a9fa9100>"
      ]
     },
     "execution_count": 9,
     "metadata": {},
     "output_type": "execute_result"
    }
   ],
   "source": [
    "import graphviz\n",
    "from sklearn import tree\n",
    "dot_data = tree.export_graphviz(classifier_DecisionTree_recovered,out_file = None,\n",
    "                               feature_names = x.columns,\n",
    "                               class_names = 'Recovered',\n",
    "                               filled = True, rounded = True,\n",
    "                               special_characters = True)\n",
    "graph = graphviz.Source(dot_data)\n",
    "graph"
   ]
  },
  {
   "cell_type": "markdown",
   "metadata": {},
   "source": [
    "## Inferences from learned parameters"
   ]
  },
  {
   "cell_type": "markdown",
   "metadata": {},
   "source": [
    "### The Long_ feature of 'False' class has very high variance and low mean. This plays a very crutial role in decision making to classify 'False' from the other parameters. Similarly from the above graph of decision trees, the Long_ becomes the head node and child nodes are created for the 'False' category. Thus from the above parameters it can be inferred that the decision making process of naive bayes and decision trees are similar though the parameters and calculations are different "
   ]
  },
  {
   "cell_type": "code",
   "execution_count": null,
   "metadata": {},
   "outputs": [],
   "source": []
  }
 ],
 "metadata": {
  "kernelspec": {
   "display_name": "Python 3",
   "language": "python",
   "name": "python3"
  },
  "language_info": {
   "codemirror_mode": {
    "name": "ipython",
    "version": 3
   },
   "file_extension": ".py",
   "mimetype": "text/x-python",
   "name": "python",
   "nbconvert_exporter": "python",
   "pygments_lexer": "ipython3",
   "version": "3.8.5"
  }
 },
 "nbformat": 4,
 "nbformat_minor": 5
}
