{
 "cells": [
  {
   "cell_type": "markdown",
   "metadata": {},
   "source": [
    "# [CM2] Representation Learning"
   ]
  },
  {
   "cell_type": "markdown",
   "metadata": {},
   "source": [
    "importing required libraries"
   ]
  },
  {
   "cell_type": "code",
   "execution_count": 1,
   "metadata": {},
   "outputs": [],
   "source": [
    "import pandas as pd\n",
    "import numpy as np\n",
    "import seaborn as sns\n",
    "import matplotlib.pyplot as plt\n",
    "from sklearn.decomposition import PCA"
   ]
  },
  {
   "cell_type": "code",
   "execution_count": 2,
   "metadata": {},
   "outputs": [],
   "source": [
    "# Loading The dataset\n",
    "covid_data = pd.read_csv(\"cleaned_normalized_coviddata.csv\")"
   ]
  },
  {
   "cell_type": "code",
   "execution_count": 3,
   "metadata": {},
   "outputs": [
    {
     "data": {
      "text/html": [
       "<div>\n",
       "<style scoped>\n",
       "    .dataframe tbody tr th:only-of-type {\n",
       "        vertical-align: middle;\n",
       "    }\n",
       "\n",
       "    .dataframe tbody tr th {\n",
       "        vertical-align: top;\n",
       "    }\n",
       "\n",
       "    .dataframe thead th {\n",
       "        text-align: right;\n",
       "    }\n",
       "</style>\n",
       "<table border=\"1\" class=\"dataframe\">\n",
       "  <thead>\n",
       "    <tr style=\"text-align: right;\">\n",
       "      <th></th>\n",
       "      <th>Day</th>\n",
       "      <th>State ID</th>\n",
       "      <th>Lat</th>\n",
       "      <th>Long_</th>\n",
       "      <th>Active</th>\n",
       "      <th>Incident_Rate</th>\n",
       "      <th>Total_Test_Results</th>\n",
       "      <th>Case_Fatality_Ratio</th>\n",
       "      <th>Testing_Rate</th>\n",
       "      <th>Resident Population 2020 Census</th>\n",
       "      <th>Population Density 2020 Census</th>\n",
       "      <th>Density Rank 2020 Census</th>\n",
       "      <th>SexRatio</th>\n",
       "      <th>Confirmed</th>\n",
       "      <th>Deaths</th>\n",
       "      <th>Recovered</th>\n",
       "    </tr>\n",
       "  </thead>\n",
       "  <tbody>\n",
       "    <tr>\n",
       "      <th>0</th>\n",
       "      <td>2</td>\n",
       "      <td>1</td>\n",
       "      <td>-1.178243</td>\n",
       "      <td>0.304476</td>\n",
       "      <td>-0.200641</td>\n",
       "      <td>0.143976</td>\n",
       "      <td>-0.483393</td>\n",
       "      <td>-0.475230</td>\n",
       "      <td>-1.301745</td>\n",
       "      <td>-0.128579</td>\n",
       "      <td>-0.217013</td>\n",
       "      <td>0.118745</td>\n",
       "      <td>-1.168255</td>\n",
       "      <td>True</td>\n",
       "      <td>False</td>\n",
       "      <td>False</td>\n",
       "    </tr>\n",
       "    <tr>\n",
       "      <th>1</th>\n",
       "      <td>2</td>\n",
       "      <td>2</td>\n",
       "      <td>3.607611</td>\n",
       "      <td>-3.031933</td>\n",
       "      <td>-0.448967</td>\n",
       "      <td>-0.290209</td>\n",
       "      <td>-0.569371</td>\n",
       "      <td>-1.797949</td>\n",
       "      <td>2.071154</td>\n",
       "      <td>-0.754174</td>\n",
       "      <td>-0.276752</td>\n",
       "      <td>1.614369</td>\n",
       "      <td>3.491260</td>\n",
       "      <td>True</td>\n",
       "      <td>True</td>\n",
       "      <td>False</td>\n",
       "    </tr>\n",
       "    <tr>\n",
       "      <th>2</th>\n",
       "      <td>2</td>\n",
       "      <td>3</td>\n",
       "      <td>-0.945708</td>\n",
       "      <td>-0.944926</td>\n",
       "      <td>0.389043</td>\n",
       "      <td>0.088511</td>\n",
       "      <td>-0.007491</td>\n",
       "      <td>0.075713</td>\n",
       "      <td>-1.268952</td>\n",
       "      <td>0.181561</td>\n",
       "      <td>-0.239163</td>\n",
       "      <td>0.508908</td>\n",
       "      <td>0.384916</td>\n",
       "      <td>True</td>\n",
       "      <td>True</td>\n",
       "      <td>True</td>\n",
       "    </tr>\n",
       "    <tr>\n",
       "      <th>3</th>\n",
       "      <td>2</td>\n",
       "      <td>4</td>\n",
       "      <td>-0.741458</td>\n",
       "      <td>0.025816</td>\n",
       "      <td>-0.482359</td>\n",
       "      <td>0.202178</td>\n",
       "      <td>-0.456457</td>\n",
       "      <td>-0.029941</td>\n",
       "      <td>-0.559153</td>\n",
       "      <td>-0.422031</td>\n",
       "      <td>-0.242214</td>\n",
       "      <td>0.573935</td>\n",
       "      <td>-0.546987</td>\n",
       "      <td>True</td>\n",
       "      <td>True</td>\n",
       "      <td>True</td>\n",
       "    </tr>\n",
       "    <tr>\n",
       "      <th>4</th>\n",
       "      <td>2</td>\n",
       "      <td>5</td>\n",
       "      <td>-0.552594</td>\n",
       "      <td>-1.365168</td>\n",
       "      <td>4.275448</td>\n",
       "      <td>-0.502417</td>\n",
       "      <td>4.022089</td>\n",
       "      <td>-0.791062</td>\n",
       "      <td>-0.177543</td>\n",
       "      <td>4.903416</td>\n",
       "      <td>-0.122735</td>\n",
       "      <td>-0.921689</td>\n",
       "      <td>0.384916</td>\n",
       "      <td>True</td>\n",
       "      <td>True</td>\n",
       "      <td>False</td>\n",
       "    </tr>\n",
       "  </tbody>\n",
       "</table>\n",
       "</div>"
      ],
      "text/plain": [
       "   Day  State ID       Lat     Long_    Active  Incident_Rate  \\\n",
       "0    2         1 -1.178243  0.304476 -0.200641       0.143976   \n",
       "1    2         2  3.607611 -3.031933 -0.448967      -0.290209   \n",
       "2    2         3 -0.945708 -0.944926  0.389043       0.088511   \n",
       "3    2         4 -0.741458  0.025816 -0.482359       0.202178   \n",
       "4    2         5 -0.552594 -1.365168  4.275448      -0.502417   \n",
       "\n",
       "   Total_Test_Results  Case_Fatality_Ratio  Testing_Rate  \\\n",
       "0           -0.483393            -0.475230     -1.301745   \n",
       "1           -0.569371            -1.797949      2.071154   \n",
       "2           -0.007491             0.075713     -1.268952   \n",
       "3           -0.456457            -0.029941     -0.559153   \n",
       "4            4.022089            -0.791062     -0.177543   \n",
       "\n",
       "   Resident Population 2020 Census  Population Density 2020 Census  \\\n",
       "0                        -0.128579                       -0.217013   \n",
       "1                        -0.754174                       -0.276752   \n",
       "2                         0.181561                       -0.239163   \n",
       "3                        -0.422031                       -0.242214   \n",
       "4                         4.903416                       -0.122735   \n",
       "\n",
       "   Density Rank 2020 Census  SexRatio  Confirmed  Deaths  Recovered  \n",
       "0                  0.118745 -1.168255       True   False      False  \n",
       "1                  1.614369  3.491260       True    True      False  \n",
       "2                  0.508908  0.384916       True    True       True  \n",
       "3                  0.573935 -0.546987       True    True       True  \n",
       "4                 -0.921689  0.384916       True    True      False  "
      ]
     },
     "execution_count": 3,
     "metadata": {},
     "output_type": "execute_result"
    }
   ],
   "source": [
    "covid_data.head(5)"
   ]
  },
  {
   "cell_type": "code",
   "execution_count": 4,
   "metadata": {},
   "outputs": [],
   "source": [
    "#selecting features that will be used for PCA analysis.\n",
    "normalized_dataset = covid_data[['Lat','Long_','Active','Incident_Rate','Total_Test_Results','Case_Fatality_Ratio',\n",
    "            'Testing_Rate','Resident Population 2020 Census','Population Density 2020 Census',\n",
    "            'Density Rank 2020 Census','SexRatio']]"
   ]
  },
  {
   "cell_type": "markdown",
   "metadata": {},
   "source": [
    "## PCA Analysis"
   ]
  },
  {
   "cell_type": "code",
   "execution_count": 5,
   "metadata": {},
   "outputs": [],
   "source": [
    "# All the features are selected so that the scree plot can be plotted\n",
    "pca = PCA(n_components = 11)"
   ]
  },
  {
   "cell_type": "code",
   "execution_count": 26,
   "metadata": {},
   "outputs": [
    {
     "data": {
      "text/plain": [
       "(1380, 11)"
      ]
     },
     "execution_count": 26,
     "metadata": {},
     "output_type": "execute_result"
    }
   ],
   "source": [
    "pca_features = pca.fit_transform(normalized_dataset)\n",
    "pca_features.shape"
   ]
  },
  {
   "cell_type": "code",
   "execution_count": 27,
   "metadata": {},
   "outputs": [
    {
     "data": {
      "image/png": "[encoded data removed]",
      "text/plain": [
       "<Figure size 432x288 with 1 Axes>"
      ]
     },
     "metadata": {
      "needs_background": "light"
     },
     "output_type": "display_data"
    }
   ],
   "source": [
    "#Plotting the Scree Plot\n",
    "percent_variance = np.round(pca.explained_variance_ratio_* 100, decimals =2)\n",
    "columns = ['PC1', 'PC2', 'PC3', 'PC4','PC5','PC6','PC7','PC8','PC9','PC10','PC11']\n",
    "plt.bar(x= range(1,12), height=percent_variance, tick_label=columns)\n",
    "plt.ylabel('Percentate of Variance Explained')\n",
    "plt.xlabel('Principal Component')\n",
    "plt.title('PCA Scree Plot')\n",
    "plt.show()\n"
   ]
  },
  {
   "cell_type": "code",
   "execution_count": 28,
   "metadata": {},
   "outputs": [
    {
     "data": {
      "text/plain": [
       "array([34.9 , 21.95, 14.54,  9.11,  7.29,  4.46,  4.03,  1.83,  1.01,\n",
       "        0.73,  0.17])"
      ]
     },
     "execution_count": 28,
     "metadata": {},
     "output_type": "execute_result"
    }
   ],
   "source": [
    "percent_variance"
   ]
  },
  {
   "cell_type": "markdown",
   "metadata": {},
   "source": [
    "### The PCA scree plot shows the contribution of each feature to the total features. The first 3 features contributes to almost 70% of the dataset. Thus 3 features from PCA are used in random forest and gradient boosting."
   ]
  },
  {
   "cell_type": "code",
   "execution_count": 29,
   "metadata": {},
   "outputs": [
    {
     "name": "stdout",
     "output_type": "stream",
     "text": [
      "Stored 'pca_features' (ndarray)\n"
     ]
    }
   ],
   "source": [
    "# exporting the pca_feartures array so that it can be used in the other notebooks\n",
    "%store pca_features"
   ]
  },
  {
   "cell_type": "code",
   "execution_count": 51,
   "metadata": {},
   "outputs": [
    {
     "data": {
      "text/plain": [
       "Text(0, 0.5, 'PCA 2')"
      ]
     },
     "execution_count": 51,
     "metadata": {},
     "output_type": "execute_result"
    },
    {
     "data": {
      "image/png": "[encoded data removed]",
      "text/plain": [
       "<Figure size 432x288 with 1 Axes>"
      ]
     },
     "metadata": {
      "needs_background": "light"
     },
     "output_type": "display_data"
    }
   ],
   "source": [
    "plt.scatter(pca_features[:,0],pca_features[:,1],c=covid_data.loc[:,'Recovered'])\n",
    "plt.title('PCA Analysis for Label Recovered')\n",
    "plt.xlabel('PCA 1')\n",
    "plt.ylabel('PCA 2')"
   ]
  },
  {
   "cell_type": "markdown",
   "metadata": {},
   "source": [
    "### The PCA analysis creates features based on variance which can be seen from the scatter plot( There dataset is not classified)."
   ]
  },
  {
   "cell_type": "markdown",
   "metadata": {},
   "source": [
    "## LDA"
   ]
  },
  {
   "cell_type": "code",
   "execution_count": 19,
   "metadata": {},
   "outputs": [],
   "source": [
    "from sklearn.discriminant_analysis import LinearDiscriminantAnalysis\n",
    "from sklearn.model_selection import cross_val_score"
   ]
  },
  {
   "cell_type": "code",
   "execution_count": 20,
   "metadata": {},
   "outputs": [],
   "source": [
    "# the n_components value = no of classes - 1 \n",
    "lda = LinearDiscriminantAnalysis(n_components = 1)"
   ]
  },
  {
   "cell_type": "code",
   "execution_count": 34,
   "metadata": {},
   "outputs": [],
   "source": [
    "# The lda analysis is done for all the 3 labels\n",
    "lda_recovered = lda.fit(normalized_dataset,covid_data.loc[:,'Recovered'])\n",
    "recovered = lda.fit_transform(normalized_dataset,covid_data.loc[:,'Recovered'])\n",
    "lda_deaths = lda.fit(normalized_dataset,covid_data.loc[:,'Deaths'])\n",
    "deaths = lda.fit_transform(normalized_dataset,covid_data.loc[:,'Deaths'])\n",
    "lda_confirmed = lda.fit(normalized_dataset,covid_data.loc[:,'Confirmed'])\n",
    "confirmed = lda.fit_transform(normalized_dataset,covid_data.loc[:,'Confirmed'])"
   ]
  },
  {
   "cell_type": "code",
   "execution_count": 35,
   "metadata": {},
   "outputs": [
    {
     "name": "stdout",
     "output_type": "stream",
     "text": [
      "The average accuracy of LDA for recovered label is: 0.782608695652174\n",
      "The average accuracy of LDA for Death label is: 0.8905797101449275\n",
      "The average accuracy of LDA for confirmed label is: 0.9594202898550724\n"
     ]
    }
   ],
   "source": [
    "# Calculating accuracies for different labels \n",
    "score_recovered = cross_val_score(lda_recovered,normalized_dataset,covid_data.loc[:,'Recovered'],cv = 10)\n",
    "print(\"The average accuracy of LDA for recovered label is:\",score_recovered.mean())\n",
    "score_deaths = cross_val_score(lda_deaths,normalized_dataset,covid_data.loc[:,'Deaths'],cv = 10)\n",
    "print(\"The average accuracy of LDA for Death label is:\",score_deaths.mean())\n",
    "score_confirmed = cross_val_score(lda_confirmed,normalized_dataset,covid_data.loc[:,'Confirmed'],cv = 10)\n",
    "print(\"The average accuracy of LDA for confirmed label is:\",score_confirmed.mean())\n"
   ]
  },
  {
   "cell_type": "markdown",
   "metadata": {},
   "source": [
    "### From the above accuracy values we can observe that LDA analysis for confirmed Label gives the highest accuracy."
   ]
  },
  {
   "cell_type": "code",
   "execution_count": 48,
   "metadata": {},
   "outputs": [
    {
     "data": {
      "text/plain": [
       "Text(0.5, 1.0, 'Confirmed')"
      ]
     },
     "execution_count": 48,
     "metadata": {},
     "output_type": "execute_result"
    },
    {
     "data": {
      "image/png": "[encoded data removed]",
      "text/plain": [
       "<Figure size 720x360 with 3 Axes>"
      ]
     },
     "metadata": {
      "needs_background": "light"
     },
     "output_type": "display_data"
    }
   ],
   "source": [
    "figure,axis = plt.subplots(1,3,figsize=(10,5))\n",
    "axis[0].scatter(recovered[:,0],y=covid_data.loc[:,'Recovered'])\n",
    "axis[1].scatter(deaths,y=covid_data.loc[:,'Deaths'])\n",
    "axis[2].scatter(confirmed,y=covid_data.loc[:,'Confirmed'])\n",
    "figure.suptitle('PCA LDA Scatter Plot')\n",
    "axis[1].set_xlabel('Input LDA feature')\n",
    "axis[0].set_ylabel('Output Class')\n",
    "axis[0].set_title('Recovered')\n",
    "axis[1].set_title('Deaths')\n",
    "axis[2].set_title('Confirmed')"
   ]
  },
  {
   "cell_type": "markdown",
   "metadata": {},
   "source": [
    "###  Both the LDA and PCA can be used for feature extraction .The difference between them can be seen by comparing their scatter plots. The scatter plot of LDA shows that the datapoints are split into two classes and the feature columns of LDA analysis are formed accordingly. The scatter plot of PCA shows that the datapoints are not categorized but are clustered around high variance."
   ]
  }
 ],
 "metadata": {
  "kernelspec": {
   "display_name": "Python 3",
   "language": "python",
   "name": "python3"
  },
  "language_info": {
   "codemirror_mode": {
    "name": "ipython",
    "version": 3
   },
   "file_extension": ".py",
   "mimetype": "text/x-python",
   "name": "python",
   "nbconvert_exporter": "python",
   "pygments_lexer": "ipython3",
   "version": "3.8.5"
  }
 },
 "nbformat": 4,
 "nbformat_minor": 4
}
