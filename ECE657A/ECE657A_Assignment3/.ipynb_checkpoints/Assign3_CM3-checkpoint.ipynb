{
 "cells": [
  {
   "cell_type": "code",
   "execution_count": 2,
   "metadata": {},
   "outputs": [],
   "source": [
    "import tensorflow as tf"
   ]
  },
  {
   "cell_type": "code",
   "execution_count": 8,
   "metadata": {},
   "outputs": [],
   "source": [
    "import numpy as np\n",
    "import pandas as pd\n",
    "import matplotlib.pyplot as plt\n",
    "import seaborn as sns\n",
    "from sklearn.model_selection import train_test_split "
   ]
  },
  {
   "cell_type": "code",
   "execution_count": 5,
   "metadata": {},
   "outputs": [],
   "source": [
    "# Loading cleaned and normalized dataset\n",
    "load_dataset = pd.read_csv(\"cleaned_normalized_coviddata.csv\")\n",
    "df = load_dataset.iloc[:,3:]\n",
    "# Splitting the data into input and output values\n",
    "x=df.iloc[:,:-3]\n",
    "y=df.iloc[:,-3:].astype('int')"
   ]
  },
  {
   "cell_type": "code",
   "execution_count": 30,
   "metadata": {},
   "outputs": [],
   "source": [
    "# Splitting the data in training and testing dataset\n",
    "x_train,x_test,y_train,y_test = train_test_split(x,y,test_size = 0.8,random_state = 100)\n"
   ]
  },
  {
   "cell_type": "code",
   "execution_count": 34,
   "metadata": {},
   "outputs": [],
   "source": [
    "x_train = np.array(x_train)\n",
    "x_test1 = np.array(x_test)"
   ]
  },
  {
   "cell_type": "code",
   "execution_count": 35,
   "metadata": {},
   "outputs": [],
   "source": [
    "x_train1 = np.reshape(x_train,(x_train.shape[0],x_train.shape[1],1))"
   ]
  },
  {
   "cell_type": "markdown",
   "metadata": {},
   "source": [
    "### LSTM Model"
   ]
  },
  {
   "cell_type": "code",
   "execution_count": 47,
   "metadata": {},
   "outputs": [
    {
     "name": "stdout",
     "output_type": "stream",
     "text": [
      "Model: \"sequential\"\n",
      "_________________________________________________________________\n",
      "Layer (type)                 Output Shape              Param #   \n",
      "=================================================================\n",
      "lstm (LSTM)                  (None, 3)                 60        \n",
      "_________________________________________________________________\n",
      "dense (Dense)                (None, 3)                 12        \n",
      "=================================================================\n",
      "Total params: 72\n",
      "Trainable params: 72\n",
      "Non-trainable params: 0\n",
      "_________________________________________________________________\n"
     ]
    }
   ],
   "source": [
    "tf.keras.backend.clear_session()\n",
    "lstm = tf.keras.Sequential([\n",
    "                                tf.keras.layers.LSTM(3,dropout=0.2,recurrent_dropout=0.2,input_shape=(11,1)),\n",
    "                                tf.keras.layers.Dense(3,activation = 'softmax')])\n",
    "lstm.summary()"
   ]
  },
  {
   "cell_type": "code",
   "execution_count": 48,
   "metadata": {},
   "outputs": [],
   "source": [
    "lstm.compile(optimizer='adam',\n",
    "              loss='BinaryCrossentropy',\n",
    "              metrics=['accuracy'])"
   ]
  },
  {
   "cell_type": "code",
   "execution_count": 49,
   "metadata": {},
   "outputs": [
    {
     "name": "stdout",
     "output_type": "stream",
     "text": [
      "Epoch 1/100\n",
      "7/7 [==============================] - 1s 30ms/step - loss: 0.6860 - accuracy: 0.0182 - val_loss: 0.6791 - val_accuracy: 0.0000e+00\n",
      "Epoch 2/100\n",
      "7/7 [==============================] - 0s 7ms/step - loss: 0.6832 - accuracy: 0.0227 - val_loss: 0.6752 - val_accuracy: 0.0000e+00\n",
      "Epoch 3/100\n",
      "7/7 [==============================] - 0s 7ms/step - loss: 0.6777 - accuracy: 0.0182 - val_loss: 0.6713 - val_accuracy: 0.0000e+00\n",
      "Epoch 4/100\n",
      "7/7 [==============================] - 0s 6ms/step - loss: 0.6759 - accuracy: 0.0273 - val_loss: 0.6674 - val_accuracy: 0.0179\n",
      "Epoch 5/100\n",
      "7/7 [==============================] - 0s 6ms/step - loss: 0.6711 - accuracy: 0.0500 - val_loss: 0.6636 - val_accuracy: 0.0000e+00\n",
      "Epoch 6/100\n",
      "7/7 [==============================] - 0s 6ms/step - loss: 0.6670 - accuracy: 0.0545 - val_loss: 0.6596 - val_accuracy: 0.0000e+00\n",
      "Epoch 7/100\n",
      "7/7 [==============================] - 0s 6ms/step - loss: 0.6662 - accuracy: 0.0591 - val_loss: 0.6557 - val_accuracy: 0.0000e+00\n",
      "Epoch 8/100\n",
      "7/7 [==============================] - 0s 6ms/step - loss: 0.6620 - accuracy: 0.0773 - val_loss: 0.6516 - val_accuracy: 0.0179\n",
      "Epoch 9/100\n",
      "7/7 [==============================] - 0s 6ms/step - loss: 0.6551 - accuracy: 0.0591 - val_loss: 0.6475 - val_accuracy: 0.0179\n",
      "Epoch 10/100\n",
      "7/7 [==============================] - 0s 6ms/step - loss: 0.6513 - accuracy: 0.0545 - val_loss: 0.6432 - val_accuracy: 0.0357\n",
      "Epoch 11/100\n",
      "7/7 [==============================] - 0s 6ms/step - loss: 0.6509 - accuracy: 0.0682 - val_loss: 0.6388 - val_accuracy: 0.0179\n",
      "Epoch 12/100\n",
      "7/7 [==============================] - 0s 6ms/step - loss: 0.6444 - accuracy: 0.0364 - val_loss: 0.6342 - val_accuracy: 0.0179\n",
      "Epoch 13/100\n",
      "7/7 [==============================] - 0s 7ms/step - loss: 0.6395 - accuracy: 0.0455 - val_loss: 0.6295 - val_accuracy: 0.0000e+00\n",
      "Epoch 14/100\n",
      "7/7 [==============================] - 0s 7ms/step - loss: 0.6347 - accuracy: 0.0182 - val_loss: 0.6245 - val_accuracy: 0.0000e+00\n",
      "Epoch 15/100\n",
      "7/7 [==============================] - 0s 7ms/step - loss: 0.6286 - accuracy: 0.0318 - val_loss: 0.6193 - val_accuracy: 0.0000e+00\n",
      "Epoch 16/100\n",
      "7/7 [==============================] - 0s 6ms/step - loss: 0.6255 - accuracy: 0.0182 - val_loss: 0.6137 - val_accuracy: 0.0000e+00\n",
      "Epoch 17/100\n",
      "7/7 [==============================] - 0s 7ms/step - loss: 0.6185 - accuracy: 0.0273 - val_loss: 0.6078 - val_accuracy: 0.0000e+00\n",
      "Epoch 18/100\n",
      "7/7 [==============================] - 0s 7ms/step - loss: 0.6147 - accuracy: 0.0318 - val_loss: 0.6015 - val_accuracy: 0.0000e+00\n",
      "Epoch 19/100\n",
      "7/7 [==============================] - 0s 6ms/step - loss: 0.6092 - accuracy: 0.0273 - val_loss: 0.5948 - val_accuracy: 0.0000e+00\n",
      "Epoch 20/100\n",
      "7/7 [==============================] - 0s 6ms/step - loss: 0.6003 - accuracy: 0.0091 - val_loss: 0.5875 - val_accuracy: 0.0000e+00\n",
      "Epoch 21/100\n",
      "7/7 [==============================] - 0s 7ms/step - loss: 0.5938 - accuracy: 0.0273 - val_loss: 0.5795 - val_accuracy: 0.0000e+00\n",
      "Epoch 22/100\n",
      "7/7 [==============================] - 0s 6ms/step - loss: 0.5882 - accuracy: 0.0136 - val_loss: 0.5710 - val_accuracy: 0.0000e+00\n",
      "Epoch 23/100\n",
      "7/7 [==============================] - 0s 6ms/step - loss: 0.5804 - accuracy: 0.0273 - val_loss: 0.5618 - val_accuracy: 0.0000e+00\n",
      "Epoch 24/100\n",
      "7/7 [==============================] - 0s 7ms/step - loss: 0.5676 - accuracy: 0.0182 - val_loss: 0.5520 - val_accuracy: 0.0000e+00\n",
      "Epoch 25/100\n",
      "7/7 [==============================] - 0s 7ms/step - loss: 0.5557 - accuracy: 0.0136 - val_loss: 0.5417 - val_accuracy: 0.0000e+00\n",
      "Epoch 26/100\n",
      "7/7 [==============================] - 0s 6ms/step - loss: 0.5510 - accuracy: 0.0091 - val_loss: 0.5310 - val_accuracy: 0.0000e+00\n",
      "Epoch 27/100\n",
      "7/7 [==============================] - 0s 7ms/step - loss: 0.5323 - accuracy: 0.0091 - val_loss: 0.5201 - val_accuracy: 0.0000e+00\n",
      "Epoch 28/100\n",
      "7/7 [==============================] - 0s 7ms/step - loss: 0.5250 - accuracy: 0.0045 - val_loss: 0.5092 - val_accuracy: 0.0000e+00\n",
      "Epoch 29/100\n",
      "7/7 [==============================] - 0s 7ms/step - loss: 0.5140 - accuracy: 0.0045 - val_loss: 0.4988 - val_accuracy: 0.0000e+00\n",
      "Epoch 30/100\n",
      "7/7 [==============================] - 0s 6ms/step - loss: 0.4989 - accuracy: 0.0045 - val_loss: 0.4888 - val_accuracy: 0.0000e+00\n",
      "Epoch 31/100\n",
      "7/7 [==============================] - 0s 6ms/step - loss: 0.4941 - accuracy: 0.0045 - val_loss: 0.4795 - val_accuracy: 0.0000e+00\n",
      "Epoch 32/100\n",
      "7/7 [==============================] - 0s 7ms/step - loss: 0.4819 - accuracy: 0.0045 - val_loss: 0.4708 - val_accuracy: 0.0000e+00\n",
      "Epoch 33/100\n",
      "7/7 [==============================] - 0s 7ms/step - loss: 0.4709 - accuracy: 0.0045 - val_loss: 0.4632 - val_accuracy: 0.0000e+00\n",
      "Epoch 34/100\n",
      "7/7 [==============================] - 0s 6ms/step - loss: 0.4657 - accuracy: 0.0091 - val_loss: 0.4562 - val_accuracy: 0.0000e+00\n",
      "Epoch 35/100\n",
      "7/7 [==============================] - 0s 7ms/step - loss: 0.4579 - accuracy: 0.0091 - val_loss: 0.4498 - val_accuracy: 0.0000e+00\n",
      "Epoch 36/100\n",
      "7/7 [==============================] - 0s 7ms/step - loss: 0.4495 - accuracy: 0.0136 - val_loss: 0.4441 - val_accuracy: 0.0000e+00\n",
      "Epoch 37/100\n",
      "7/7 [==============================] - 0s 7ms/step - loss: 0.4432 - accuracy: 0.0182 - val_loss: 0.4389 - val_accuracy: 0.0357\n",
      "Epoch 38/100\n",
      "7/7 [==============================] - 0s 7ms/step - loss: 0.4419 - accuracy: 0.0227 - val_loss: 0.4343 - val_accuracy: 0.0357\n",
      "Epoch 39/100\n",
      "7/7 [==============================] - 0s 6ms/step - loss: 0.4328 - accuracy: 0.0318 - val_loss: 0.4302 - val_accuracy: 0.0357\n",
      "Epoch 40/100\n",
      "7/7 [==============================] - 0s 6ms/step - loss: 0.4308 - accuracy: 0.0409 - val_loss: 0.4262 - val_accuracy: 0.0357\n",
      "Epoch 41/100\n",
      "7/7 [==============================] - 0s 7ms/step - loss: 0.4229 - accuracy: 0.0409 - val_loss: 0.4226 - val_accuracy: 0.0179\n",
      "Epoch 42/100\n",
      "7/7 [==============================] - 0s 6ms/step - loss: 0.4241 - accuracy: 0.0500 - val_loss: 0.4194 - val_accuracy: 0.0179\n",
      "Epoch 43/100\n",
      "7/7 [==============================] - 0s 6ms/step - loss: 0.4196 - accuracy: 0.0409 - val_loss: 0.4164 - val_accuracy: 0.0179\n",
      "Epoch 44/100\n",
      "7/7 [==============================] - 0s 6ms/step - loss: 0.4120 - accuracy: 0.0455 - val_loss: 0.4136 - val_accuracy: 0.0179\n",
      "Epoch 45/100\n",
      "7/7 [==============================] - 0s 6ms/step - loss: 0.4119 - accuracy: 0.0318 - val_loss: 0.4112 - val_accuracy: 0.0179\n",
      "Epoch 46/100\n",
      "7/7 [==============================] - 0s 6ms/step - loss: 0.4069 - accuracy: 0.0318 - val_loss: 0.4087 - val_accuracy: 0.0179\n",
      "Epoch 47/100\n",
      "7/7 [==============================] - 0s 7ms/step - loss: 0.4058 - accuracy: 0.0227 - val_loss: 0.4066 - val_accuracy: 0.0357\n",
      "Epoch 48/100\n",
      "7/7 [==============================] - 0s 6ms/step - loss: 0.4043 - accuracy: 0.0318 - val_loss: 0.4046 - val_accuracy: 0.0357\n",
      "Epoch 49/100\n",
      "7/7 [==============================] - 0s 6ms/step - loss: 0.4028 - accuracy: 0.0409 - val_loss: 0.4026 - val_accuracy: 0.0357\n",
      "Epoch 50/100\n",
      "7/7 [==============================] - 0s 7ms/step - loss: 0.3972 - accuracy: 0.0409 - val_loss: 0.4008 - val_accuracy: 0.0357\n",
      "Epoch 51/100\n",
      "7/7 [==============================] - 0s 7ms/step - loss: 0.3955 - accuracy: 0.0545 - val_loss: 0.3991 - val_accuracy: 0.0357\n",
      "Epoch 52/100\n",
      "7/7 [==============================] - 0s 6ms/step - loss: 0.3941 - accuracy: 0.0409 - val_loss: 0.3975 - val_accuracy: 0.0357\n",
      "Epoch 53/100\n",
      "7/7 [==============================] - 0s 6ms/step - loss: 0.3911 - accuracy: 0.0500 - val_loss: 0.3961 - val_accuracy: 0.0357\n",
      "Epoch 54/100\n",
      "7/7 [==============================] - 0s 6ms/step - loss: 0.3935 - accuracy: 0.0318 - val_loss: 0.3946 - val_accuracy: 0.0357\n",
      "Epoch 55/100\n",
      "7/7 [==============================] - 0s 6ms/step - loss: 0.3931 - accuracy: 0.0682 - val_loss: 0.3931 - val_accuracy: 0.0357\n",
      "Epoch 56/100\n",
      "7/7 [==============================] - 0s 6ms/step - loss: 0.3893 - accuracy: 0.0500 - val_loss: 0.3918 - val_accuracy: 0.0357\n",
      "Epoch 57/100\n",
      "7/7 [==============================] - 0s 7ms/step - loss: 0.3880 - accuracy: 0.0636 - val_loss: 0.3907 - val_accuracy: 0.0357\n",
      "Epoch 58/100\n",
      "7/7 [==============================] - 0s 6ms/step - loss: 0.3890 - accuracy: 0.0636 - val_loss: 0.3896 - val_accuracy: 0.0357\n"
     ]
    },
    {
     "name": "stdout",
     "output_type": "stream",
     "text": [
      "Epoch 59/100\n",
      "7/7 [==============================] - 0s 7ms/step - loss: 0.3859 - accuracy: 0.0727 - val_loss: 0.3885 - val_accuracy: 0.0357\n",
      "Epoch 60/100\n",
      "7/7 [==============================] - 0s 6ms/step - loss: 0.3835 - accuracy: 0.0727 - val_loss: 0.3874 - val_accuracy: 0.0357\n",
      "Epoch 61/100\n",
      "7/7 [==============================] - 0s 6ms/step - loss: 0.3858 - accuracy: 0.0773 - val_loss: 0.3864 - val_accuracy: 0.0536\n",
      "Epoch 62/100\n",
      "7/7 [==============================] - 0s 7ms/step - loss: 0.3791 - accuracy: 0.0682 - val_loss: 0.3855 - val_accuracy: 0.0536\n",
      "Epoch 63/100\n",
      "7/7 [==============================] - 0s 7ms/step - loss: 0.3819 - accuracy: 0.0727 - val_loss: 0.3846 - val_accuracy: 0.0536\n",
      "Epoch 64/100\n",
      "7/7 [==============================] - 0s 7ms/step - loss: 0.3817 - accuracy: 0.1000 - val_loss: 0.3838 - val_accuracy: 0.0536\n",
      "Epoch 65/100\n",
      "7/7 [==============================] - 0s 6ms/step - loss: 0.3794 - accuracy: 0.0955 - val_loss: 0.3829 - val_accuracy: 0.0536\n",
      "Epoch 66/100\n",
      "7/7 [==============================] - 0s 6ms/step - loss: 0.3774 - accuracy: 0.1273 - val_loss: 0.3821 - val_accuracy: 0.0536\n",
      "Epoch 67/100\n",
      "7/7 [==============================] - 0s 6ms/step - loss: 0.3764 - accuracy: 0.1182 - val_loss: 0.3814 - val_accuracy: 0.0536\n",
      "Epoch 68/100\n",
      "7/7 [==============================] - 0s 6ms/step - loss: 0.3737 - accuracy: 0.1136 - val_loss: 0.3806 - val_accuracy: 0.0536\n",
      "Epoch 69/100\n",
      "7/7 [==============================] - 0s 7ms/step - loss: 0.3755 - accuracy: 0.1409 - val_loss: 0.3800 - val_accuracy: 0.0536\n",
      "Epoch 70/100\n",
      "7/7 [==============================] - 0s 7ms/step - loss: 0.3767 - accuracy: 0.1500 - val_loss: 0.3792 - val_accuracy: 0.0536\n",
      "Epoch 71/100\n",
      "7/7 [==============================] - 0s 7ms/step - loss: 0.3725 - accuracy: 0.1455 - val_loss: 0.3784 - val_accuracy: 0.0714\n",
      "Epoch 72/100\n",
      "7/7 [==============================] - 0s 6ms/step - loss: 0.3721 - accuracy: 0.1636 - val_loss: 0.3778 - val_accuracy: 0.0714\n",
      "Epoch 73/100\n",
      "7/7 [==============================] - 0s 7ms/step - loss: 0.3726 - accuracy: 0.1500 - val_loss: 0.3772 - val_accuracy: 0.0714\n",
      "Epoch 74/100\n",
      "7/7 [==============================] - 0s 7ms/step - loss: 0.3715 - accuracy: 0.2091 - val_loss: 0.3766 - val_accuracy: 0.1607\n",
      "Epoch 75/100\n",
      "7/7 [==============================] - 0s 7ms/step - loss: 0.3728 - accuracy: 0.2727 - val_loss: 0.3760 - val_accuracy: 0.1607\n",
      "Epoch 76/100\n",
      "7/7 [==============================] - 0s 6ms/step - loss: 0.3667 - accuracy: 0.2318 - val_loss: 0.3755 - val_accuracy: 0.1607\n",
      "Epoch 77/100\n",
      "7/7 [==============================] - 0s 7ms/step - loss: 0.3729 - accuracy: 0.2773 - val_loss: 0.3750 - val_accuracy: 0.1607\n",
      "Epoch 78/100\n",
      "7/7 [==============================] - 0s 6ms/step - loss: 0.3734 - accuracy: 0.3182 - val_loss: 0.3744 - val_accuracy: 0.1964\n",
      "Epoch 79/100\n",
      "7/7 [==============================] - 0s 6ms/step - loss: 0.3677 - accuracy: 0.3273 - val_loss: 0.3740 - val_accuracy: 0.2500\n",
      "Epoch 80/100\n",
      "7/7 [==============================] - 0s 7ms/step - loss: 0.3682 - accuracy: 0.3227 - val_loss: 0.3734 - val_accuracy: 0.2500\n",
      "Epoch 81/100\n",
      "7/7 [==============================] - 0s 7ms/step - loss: 0.3694 - accuracy: 0.3227 - val_loss: 0.3730 - val_accuracy: 0.3393\n",
      "Epoch 82/100\n",
      "7/7 [==============================] - 0s 7ms/step - loss: 0.3634 - accuracy: 0.4818 - val_loss: 0.3726 - val_accuracy: 0.3929\n",
      "Epoch 83/100\n",
      "7/7 [==============================] - 0s 7ms/step - loss: 0.3679 - accuracy: 0.4773 - val_loss: 0.3722 - val_accuracy: 0.5000\n",
      "Epoch 84/100\n",
      "7/7 [==============================] - 0s 7ms/step - loss: 0.3678 - accuracy: 0.5727 - val_loss: 0.3717 - val_accuracy: 0.6607\n",
      "Epoch 85/100\n",
      "7/7 [==============================] - 0s 7ms/step - loss: 0.3659 - accuracy: 0.6455 - val_loss: 0.3713 - val_accuracy: 0.6964\n",
      "Epoch 86/100\n",
      "7/7 [==============================] - 0s 7ms/step - loss: 0.3676 - accuracy: 0.7227 - val_loss: 0.3710 - val_accuracy: 0.7500\n",
      "Epoch 87/100\n",
      "7/7 [==============================] - 0s 7ms/step - loss: 0.3672 - accuracy: 0.7318 - val_loss: 0.3706 - val_accuracy: 0.8036\n",
      "Epoch 88/100\n",
      "7/7 [==============================] - 0s 7ms/step - loss: 0.3715 - accuracy: 0.7909 - val_loss: 0.3702 - val_accuracy: 0.8036\n",
      "Epoch 89/100\n",
      "7/7 [==============================] - 0s 7ms/step - loss: 0.3654 - accuracy: 0.8227 - val_loss: 0.3699 - val_accuracy: 1.0000\n",
      "Epoch 90/100\n",
      "7/7 [==============================] - 0s 6ms/step - loss: 0.3623 - accuracy: 0.8636 - val_loss: 0.3695 - val_accuracy: 1.0000\n",
      "Epoch 91/100\n",
      "7/7 [==============================] - 0s 7ms/step - loss: 0.3624 - accuracy: 0.8864 - val_loss: 0.3691 - val_accuracy: 1.0000\n",
      "Epoch 92/100\n",
      "7/7 [==============================] - 0s 7ms/step - loss: 0.3613 - accuracy: 0.8909 - val_loss: 0.3688 - val_accuracy: 1.0000\n",
      "Epoch 93/100\n",
      "7/7 [==============================] - 0s 7ms/step - loss: 0.3618 - accuracy: 0.9318 - val_loss: 0.3685 - val_accuracy: 1.0000\n",
      "Epoch 94/100\n",
      "7/7 [==============================] - 0s 6ms/step - loss: 0.3622 - accuracy: 0.9455 - val_loss: 0.3682 - val_accuracy: 1.0000\n",
      "Epoch 95/100\n",
      "7/7 [==============================] - 0s 7ms/step - loss: 0.3634 - accuracy: 0.9545 - val_loss: 0.3679 - val_accuracy: 1.0000\n",
      "Epoch 96/100\n",
      "7/7 [==============================] - 0s 6ms/step - loss: 0.3603 - accuracy: 0.9318 - val_loss: 0.3675 - val_accuracy: 1.0000\n",
      "Epoch 97/100\n",
      "7/7 [==============================] - 0s 7ms/step - loss: 0.3601 - accuracy: 0.9409 - val_loss: 0.3672 - val_accuracy: 1.0000\n",
      "Epoch 98/100\n",
      "7/7 [==============================] - 0s 7ms/step - loss: 0.3593 - accuracy: 0.9727 - val_loss: 0.3670 - val_accuracy: 1.0000\n",
      "Epoch 99/100\n",
      "7/7 [==============================] - 0s 7ms/step - loss: 0.3613 - accuracy: 0.9727 - val_loss: 0.3667 - val_accuracy: 1.0000\n",
      "Epoch 100/100\n",
      "7/7 [==============================] - 0s 7ms/step - loss: 0.3627 - accuracy: 0.9818 - val_loss: 0.3665 - val_accuracy: 1.0000\n"
     ]
    },
    {
     "data": {
      "text/plain": [
       "<tensorflow.python.keras.callbacks.History at 0x16c0aea3310>"
      ]
     },
     "execution_count": 49,
     "metadata": {},
     "output_type": "execute_result"
    }
   ],
   "source": [
    "lstm.fit(x_train1,y_train,epochs = 100,validation_split=0.2)"
   ]
  },
  {
   "cell_type": "code",
   "execution_count": 54,
   "metadata": {},
   "outputs": [],
   "source": [
    "x_test = np.array(x_test)\n",
    "x_test1 = np.reshape(x_test,(x_test.shape[0],x_test.shape[1],1))"
   ]
  },
  {
   "cell_type": "code",
   "execution_count": 55,
   "metadata": {},
   "outputs": [
    {
     "name": "stdout",
     "output_type": "stream",
     "text": [
      "35/35 [==============================] - 0s 1ms/step - loss: 0.3829 - accuracy: 0.9828\n"
     ]
    },
    {
     "data": {
      "text/plain": [
       "[0.382874459028244, 0.9827898740768433]"
      ]
     },
     "execution_count": 55,
     "metadata": {},
     "output_type": "execute_result"
    }
   ],
   "source": [
    "lstm.evaluate(x_test1,y_test)"
   ]
  },
  {
   "cell_type": "code",
   "execution_count": null,
   "metadata": {},
   "outputs": [],
   "source": []
  }
 ],
 "metadata": {
  "kernelspec": {
   "display_name": "Python 3",
   "language": "python",
   "name": "python3"
  },
  "language_info": {
   "codemirror_mode": {
    "name": "ipython",
    "version": 3
   },
   "file_extension": ".py",
   "mimetype": "text/x-python",
   "name": "python",
   "nbconvert_exporter": "python",
   "pygments_lexer": "ipython3",
   "version": "3.8.5"
  }
 },
 "nbformat": 4,
 "nbformat_minor": 4
}
