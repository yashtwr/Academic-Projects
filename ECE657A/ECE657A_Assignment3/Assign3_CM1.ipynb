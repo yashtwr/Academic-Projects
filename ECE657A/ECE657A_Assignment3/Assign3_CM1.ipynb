{
 "cells": [
  {
   "cell_type": "markdown",
   "metadata": {},
   "source": [
    "# [CM1] Data Pre-processing and Preparation"
   ]
  },
  {
   "cell_type": "markdown",
   "metadata": {},
   "source": [
    "Importing all necessary libraries."
   ]
  },
  {
   "cell_type": "code",
   "execution_count": 20,
   "metadata": {},
   "outputs": [],
   "source": [
    "import numpy as np\n",
    "import pandas as pd\n",
    "import matplotlib.pyplot as plt\n",
    "import seaborn as sns\n",
    "import sklearn"
   ]
  },
  {
   "cell_type": "code",
   "execution_count": 21,
   "metadata": {},
   "outputs": [],
   "source": [
    "df = pd.read_csv('dkmacovid_train.csv')"
   ]
  },
  {
   "cell_type": "markdown",
   "metadata": {},
   "source": [
    "### As the columns 'Resident Population 2020 Census' and 'Population Density 2020 Census' have commas in the data , we will be removing it for computation purposes. "
   ]
  },
  {
   "cell_type": "code",
   "execution_count": 23,
   "metadata": {},
   "outputs": [],
   "source": [
    "df['Resident Population 2020 Census'] = df['Resident Population 2020 Census'].str.replace(',','').astype(np.int64)\n",
    "df['Population Density 2020 Census'] = df['Population Density 2020 Census'].str.replace(',','').astype(float)"
   ]
  },
  {
   "cell_type": "code",
   "execution_count": 24,
   "metadata": {},
   "outputs": [
    {
     "data": {
      "text/plain": [
       "Day                                  int64\n",
       "State ID                             int64\n",
       "State                               object\n",
       "Lat                                float64\n",
       "Long_                              float64\n",
       "Active                               int64\n",
       "Incident_Rate                      float64\n",
       "Total_Test_Results                   int64\n",
       "Case_Fatality_Ratio                float64\n",
       "Testing_Rate                       float64\n",
       "Resident Population 2020 Census      int64\n",
       "Population Density 2020 Census     float64\n",
       "Density Rank 2020 Census             int64\n",
       "SexRatio                             int64\n",
       "Confirmed                             bool\n",
       "Deaths                                bool\n",
       "Recovered                             bool\n",
       "dtype: object"
      ]
     },
     "execution_count": 24,
     "metadata": {},
     "output_type": "execute_result"
    }
   ],
   "source": [
    "df.dtypes"
   ]
  },
  {
   "cell_type": "markdown",
   "metadata": {},
   "source": [
    "## Checking Outliers and Removing them"
   ]
  },
  {
   "cell_type": "code",
   "execution_count": 25,
   "metadata": {},
   "outputs": [
    {
     "data": {
      "text/plain": [
       "<AxesSubplot:xlabel='Case_Fatality_Ratio'>"
      ]
     },
     "execution_count": 25,
     "metadata": {},
     "output_type": "execute_result"
    },
    {
     "data": {
      "image/png": "[encoded data removed]",
      "text/plain": [
       "<Figure size 432x288 with 1 Axes>"
      ]
     },
     "metadata": {
      "needs_background": "light"
     },
     "output_type": "display_data"
    }
   ],
   "source": [
    "#sample box plot to display outliers\n",
    "df_gstate = df.groupby('State')\n",
    "z = df_gstate.get_group('Florida')['Case_Fatality_Ratio']\n",
    "sns.boxplot(x = z)"
   ]
  },
  {
   "cell_type": "code",
   "execution_count": 26,
   "metadata": {},
   "outputs": [
    {
     "name": "stdout",
     "output_type": "stream",
     "text": [
      "Florida Case_Fatality_Ratio 4\n",
      "Hawaii Case_Fatality_Ratio 6\n",
      "Indiana Case_Fatality_Ratio 1\n",
      "Maine Case_Fatality_Ratio 1\n",
      "Mississippi Case_Fatality_Ratio 1\n",
      "Montana Active 3\n",
      "Montana Case_Fatality_Ratio 3\n",
      "Nebraska Active 1\n",
      "Nebraska Case_Fatality_Ratio 1\n",
      "Ohio Active 2\n",
      "Utah Active 3\n"
     ]
    }
   ],
   "source": [
    "#The outliers are checked and removed by replacing the outliers boundry values by grouping the dataset according to the State\n",
    "for key,value in df_gstate:\n",
    "    groups = df_gstate.get_group(key)\n",
    "    temp = groups.iloc[:,5:10]\n",
    "    for columns in temp:\n",
    "        Q1 = np.percentile(temp[columns],25)\n",
    "        Q3 = np.percentile(temp[columns],75)\n",
    "        IQR = Q3 - Q1\n",
    "        right_limit = Q3 + 1.5*IQR\n",
    "        left_limit = Q1 - 1.5*IQR\n",
    "        outlier_right_index = groups[groups[columns] > right_limit][columns].index\n",
    "        \n",
    "        outlier_left_index = groups[groups[columns] < left_limit][columns].index\n",
    "        n_outliers = len(outlier_right_index) + len(outlier_left_index)\n",
    "        if(n_outliers > 0):\n",
    "            print(key,columns,n_outliers)\n",
    "            df.loc[outlier_right_index,columns] = right_limit\n",
    "            df.loc[outlier_left_index,columns] = left_limit"
   ]
  },
  {
   "cell_type": "code",
   "execution_count": 27,
   "metadata": {},
   "outputs": [
    {
     "data": {
      "text/plain": [
       "<AxesSubplot:xlabel='Case_Fatality_Ratio'>"
      ]
     },
     "execution_count": 27,
     "metadata": {},
     "output_type": "execute_result"
    },
    {
     "data": {
      "image/png": "[encoded data removed]",
      "text/plain": [
       "<Figure size 432x288 with 1 Axes>"
      ]
     },
     "metadata": {
      "needs_background": "light"
     },
     "output_type": "display_data"
    }
   ],
   "source": [
    "z = df_gstate.get_group('Florida')['Case_Fatality_Ratio']\n",
    "sns.boxplot(x = z)"
   ]
  },
  {
   "cell_type": "markdown",
   "metadata": {},
   "source": [
    "## Normalization"
   ]
  },
  {
   "cell_type": "code",
   "execution_count": 28,
   "metadata": {},
   "outputs": [],
   "source": [
    "normalization = df[['Lat','Long_','Active','Incident_Rate','Total_Test_Results','Case_Fatality_Ratio',\n",
    "            'Testing_Rate','Resident Population 2020 Census','Population Density 2020 Census',\n",
    "            'Density Rank 2020 Census','SexRatio']]"
   ]
  },
  {
   "cell_type": "code",
   "execution_count": 29,
   "metadata": {},
   "outputs": [],
   "source": [
    "# Z-score normalization\n",
    "normalization = (normalization - normalization.mean()) / normalization.std()"
   ]
  },
  {
   "cell_type": "code",
   "execution_count": 31,
   "metadata": {},
   "outputs": [
    {
     "data": {
      "text/html": [
       "<div>\n",
       "<style scoped>\n",
       "    .dataframe tbody tr th:only-of-type {\n",
       "        vertical-align: middle;\n",
       "    }\n",
       "\n",
       "    .dataframe tbody tr th {\n",
       "        vertical-align: top;\n",
       "    }\n",
       "\n",
       "    .dataframe thead th {\n",
       "        text-align: right;\n",
       "    }\n",
       "</style>\n",
       "<table border=\"1\" class=\"dataframe\">\n",
       "  <thead>\n",
       "    <tr style=\"text-align: right;\">\n",
       "      <th></th>\n",
       "      <th>Day</th>\n",
       "      <th>State ID</th>\n",
       "      <th>State</th>\n",
       "      <th>Lat</th>\n",
       "      <th>Long_</th>\n",
       "      <th>Active</th>\n",
       "      <th>Incident_Rate</th>\n",
       "      <th>Total_Test_Results</th>\n",
       "      <th>Case_Fatality_Ratio</th>\n",
       "      <th>Testing_Rate</th>\n",
       "      <th>Resident Population 2020 Census</th>\n",
       "      <th>Population Density 2020 Census</th>\n",
       "      <th>Density Rank 2020 Census</th>\n",
       "      <th>SexRatio</th>\n",
       "      <th>Confirmed</th>\n",
       "      <th>Deaths</th>\n",
       "      <th>Recovered</th>\n",
       "    </tr>\n",
       "  </thead>\n",
       "  <tbody>\n",
       "    <tr>\n",
       "      <th>0</th>\n",
       "      <td>2</td>\n",
       "      <td>1</td>\n",
       "      <td>Alabama</td>\n",
       "      <td>-1.178243</td>\n",
       "      <td>0.304476</td>\n",
       "      <td>-0.200641</td>\n",
       "      <td>0.143976</td>\n",
       "      <td>-0.483393</td>\n",
       "      <td>-0.475230</td>\n",
       "      <td>-1.301745</td>\n",
       "      <td>-0.128579</td>\n",
       "      <td>-0.217013</td>\n",
       "      <td>0.118745</td>\n",
       "      <td>-1.168255</td>\n",
       "      <td>True</td>\n",
       "      <td>False</td>\n",
       "      <td>False</td>\n",
       "    </tr>\n",
       "    <tr>\n",
       "      <th>1</th>\n",
       "      <td>2</td>\n",
       "      <td>2</td>\n",
       "      <td>Alaska</td>\n",
       "      <td>3.607611</td>\n",
       "      <td>-3.031933</td>\n",
       "      <td>-0.448967</td>\n",
       "      <td>-0.290209</td>\n",
       "      <td>-0.569371</td>\n",
       "      <td>-1.797949</td>\n",
       "      <td>2.071154</td>\n",
       "      <td>-0.754174</td>\n",
       "      <td>-0.276752</td>\n",
       "      <td>1.614369</td>\n",
       "      <td>3.491260</td>\n",
       "      <td>True</td>\n",
       "      <td>True</td>\n",
       "      <td>False</td>\n",
       "    </tr>\n",
       "    <tr>\n",
       "      <th>2</th>\n",
       "      <td>2</td>\n",
       "      <td>3</td>\n",
       "      <td>Arizona</td>\n",
       "      <td>-0.945708</td>\n",
       "      <td>-0.944926</td>\n",
       "      <td>0.389043</td>\n",
       "      <td>0.088511</td>\n",
       "      <td>-0.007491</td>\n",
       "      <td>0.075713</td>\n",
       "      <td>-1.268952</td>\n",
       "      <td>0.181561</td>\n",
       "      <td>-0.239163</td>\n",
       "      <td>0.508908</td>\n",
       "      <td>0.384916</td>\n",
       "      <td>True</td>\n",
       "      <td>True</td>\n",
       "      <td>True</td>\n",
       "    </tr>\n",
       "    <tr>\n",
       "      <th>3</th>\n",
       "      <td>2</td>\n",
       "      <td>4</td>\n",
       "      <td>Arkansas</td>\n",
       "      <td>-0.741458</td>\n",
       "      <td>0.025816</td>\n",
       "      <td>-0.482359</td>\n",
       "      <td>0.202178</td>\n",
       "      <td>-0.456457</td>\n",
       "      <td>-0.029941</td>\n",
       "      <td>-0.559153</td>\n",
       "      <td>-0.422031</td>\n",
       "      <td>-0.242214</td>\n",
       "      <td>0.573935</td>\n",
       "      <td>-0.546987</td>\n",
       "      <td>True</td>\n",
       "      <td>True</td>\n",
       "      <td>True</td>\n",
       "    </tr>\n",
       "    <tr>\n",
       "      <th>4</th>\n",
       "      <td>2</td>\n",
       "      <td>5</td>\n",
       "      <td>California</td>\n",
       "      <td>-0.552594</td>\n",
       "      <td>-1.365168</td>\n",
       "      <td>4.275448</td>\n",
       "      <td>-0.502417</td>\n",
       "      <td>4.022089</td>\n",
       "      <td>-0.791062</td>\n",
       "      <td>-0.177543</td>\n",
       "      <td>4.903416</td>\n",
       "      <td>-0.122735</td>\n",
       "      <td>-0.921689</td>\n",
       "      <td>0.384916</td>\n",
       "      <td>True</td>\n",
       "      <td>True</td>\n",
       "      <td>False</td>\n",
       "    </tr>\n",
       "    <tr>\n",
       "      <th>...</th>\n",
       "      <td>...</td>\n",
       "      <td>...</td>\n",
       "      <td>...</td>\n",
       "      <td>...</td>\n",
       "      <td>...</td>\n",
       "      <td>...</td>\n",
       "      <td>...</td>\n",
       "      <td>...</td>\n",
       "      <td>...</td>\n",
       "      <td>...</td>\n",
       "      <td>...</td>\n",
       "      <td>...</td>\n",
       "      <td>...</td>\n",
       "      <td>...</td>\n",
       "      <td>...</td>\n",
       "      <td>...</td>\n",
       "      <td>...</td>\n",
       "    </tr>\n",
       "    <tr>\n",
       "      <th>1375</th>\n",
       "      <td>31</td>\n",
       "      <td>46</td>\n",
       "      <td>Vermont</td>\n",
       "      <td>0.753675</td>\n",
       "      <td>1.027338</td>\n",
       "      <td>-0.524025</td>\n",
       "      <td>-2.293117</td>\n",
       "      <td>-0.625582</td>\n",
       "      <td>-0.268880</td>\n",
       "      <td>1.273810</td>\n",
       "      <td>-0.767341</td>\n",
       "      <td>-0.234953</td>\n",
       "      <td>0.378854</td>\n",
       "      <td>-0.236352</td>\n",
       "      <td>True</td>\n",
       "      <td>True</td>\n",
       "      <td>True</td>\n",
       "    </tr>\n",
       "    <tr>\n",
       "      <th>1376</th>\n",
       "      <td>31</td>\n",
       "      <td>47</td>\n",
       "      <td>Virginia</td>\n",
       "      <td>-0.280277</td>\n",
       "      <td>0.749264</td>\n",
       "      <td>0.400787</td>\n",
       "      <td>-0.559356</td>\n",
       "      <td>-0.005284</td>\n",
       "      <td>-0.533271</td>\n",
       "      <td>-0.745045</td>\n",
       "      <td>0.397324</td>\n",
       "      <td>-0.144153</td>\n",
       "      <td>-0.726607</td>\n",
       "      <td>-0.236352</td>\n",
       "      <td>True</td>\n",
       "      <td>True</td>\n",
       "      <td>True</td>\n",
       "    </tr>\n",
       "    <tr>\n",
       "      <th>1377</th>\n",
       "      <td>31</td>\n",
       "      <td>49</td>\n",
       "      <td>West Virginia</td>\n",
       "      <td>-0.161357</td>\n",
       "      <td>0.607433</td>\n",
       "      <td>-0.488091</td>\n",
       "      <td>-0.195859</td>\n",
       "      <td>-0.475653</td>\n",
       "      <td>0.063695</td>\n",
       "      <td>0.411132</td>\n",
       "      <td>-0.599582</td>\n",
       "      <td>-0.232024</td>\n",
       "      <td>0.248799</td>\n",
       "      <td>0.074282</td>\n",
       "      <td>True</td>\n",
       "      <td>True</td>\n",
       "      <td>True</td>\n",
       "    </tr>\n",
       "    <tr>\n",
       "      <th>1378</th>\n",
       "      <td>31</td>\n",
       "      <td>50</td>\n",
       "      <td>Wisconsin</td>\n",
       "      <td>0.790345</td>\n",
       "      <td>0.166226</td>\n",
       "      <td>-0.391751</td>\n",
       "      <td>1.287093</td>\n",
       "      <td>0.129655</td>\n",
       "      <td>-0.828583</td>\n",
       "      <td>0.350879</td>\n",
       "      <td>-0.001818</td>\n",
       "      <td>-0.211155</td>\n",
       "      <td>-0.011309</td>\n",
       "      <td>0.384916</td>\n",
       "      <td>True</td>\n",
       "      <td>True</td>\n",
       "      <td>True</td>\n",
       "    </tr>\n",
       "    <tr>\n",
       "      <th>1379</th>\n",
       "      <td>31</td>\n",
       "      <td>51</td>\n",
       "      <td>Wyoming</td>\n",
       "      <td>0.541189</td>\n",
       "      <td>-0.734627</td>\n",
       "      <td>-0.528551</td>\n",
       "      <td>0.766301</td>\n",
       "      <td>-0.663109</td>\n",
       "      <td>-0.734918</td>\n",
       "      <td>0.439366</td>\n",
       "      <td>-0.776996</td>\n",
       "      <td>-0.273945</td>\n",
       "      <td>1.549342</td>\n",
       "      <td>1.938088</td>\n",
       "      <td>True</td>\n",
       "      <td>False</td>\n",
       "      <td>True</td>\n",
       "    </tr>\n",
       "  </tbody>\n",
       "</table>\n",
       "<p>1380 rows × 17 columns</p>\n",
       "</div>"
      ],
      "text/plain": [
       "      Day  State ID          State       Lat     Long_    Active  \\\n",
       "0       2         1        Alabama -1.178243  0.304476 -0.200641   \n",
       "1       2         2         Alaska  3.607611 -3.031933 -0.448967   \n",
       "2       2         3        Arizona -0.945708 -0.944926  0.389043   \n",
       "3       2         4       Arkansas -0.741458  0.025816 -0.482359   \n",
       "4       2         5     California -0.552594 -1.365168  4.275448   \n",
       "...   ...       ...            ...       ...       ...       ...   \n",
       "1375   31        46        Vermont  0.753675  1.027338 -0.524025   \n",
       "1376   31        47       Virginia -0.280277  0.749264  0.400787   \n",
       "1377   31        49  West Virginia -0.161357  0.607433 -0.488091   \n",
       "1378   31        50      Wisconsin  0.790345  0.166226 -0.391751   \n",
       "1379   31        51        Wyoming  0.541189 -0.734627 -0.528551   \n",
       "\n",
       "      Incident_Rate  Total_Test_Results  Case_Fatality_Ratio  Testing_Rate  \\\n",
       "0          0.143976           -0.483393            -0.475230     -1.301745   \n",
       "1         -0.290209           -0.569371            -1.797949      2.071154   \n",
       "2          0.088511           -0.007491             0.075713     -1.268952   \n",
       "3          0.202178           -0.456457            -0.029941     -0.559153   \n",
       "4         -0.502417            4.022089            -0.791062     -0.177543   \n",
       "...             ...                 ...                  ...           ...   \n",
       "1375      -2.293117           -0.625582            -0.268880      1.273810   \n",
       "1376      -0.559356           -0.005284            -0.533271     -0.745045   \n",
       "1377      -0.195859           -0.475653             0.063695      0.411132   \n",
       "1378       1.287093            0.129655            -0.828583      0.350879   \n",
       "1379       0.766301           -0.663109            -0.734918      0.439366   \n",
       "\n",
       "      Resident Population 2020 Census  Population Density 2020 Census  \\\n",
       "0                           -0.128579                       -0.217013   \n",
       "1                           -0.754174                       -0.276752   \n",
       "2                            0.181561                       -0.239163   \n",
       "3                           -0.422031                       -0.242214   \n",
       "4                            4.903416                       -0.122735   \n",
       "...                               ...                             ...   \n",
       "1375                        -0.767341                       -0.234953   \n",
       "1376                         0.397324                       -0.144153   \n",
       "1377                        -0.599582                       -0.232024   \n",
       "1378                        -0.001818                       -0.211155   \n",
       "1379                        -0.776996                       -0.273945   \n",
       "\n",
       "      Density Rank 2020 Census  SexRatio  Confirmed  Deaths  Recovered  \n",
       "0                     0.118745 -1.168255       True   False      False  \n",
       "1                     1.614369  3.491260       True    True      False  \n",
       "2                     0.508908  0.384916       True    True       True  \n",
       "3                     0.573935 -0.546987       True    True       True  \n",
       "4                    -0.921689  0.384916       True    True      False  \n",
       "...                        ...       ...        ...     ...        ...  \n",
       "1375                  0.378854 -0.236352       True    True       True  \n",
       "1376                 -0.726607 -0.236352       True    True       True  \n",
       "1377                  0.248799  0.074282       True    True       True  \n",
       "1378                 -0.011309  0.384916       True    True       True  \n",
       "1379                  1.549342  1.938088       True   False       True  \n",
       "\n",
       "[1380 rows x 17 columns]"
      ]
     },
     "execution_count": 31,
     "metadata": {},
     "output_type": "execute_result"
    }
   ],
   "source": [
    "df[['Lat','Long_','Active','Incident_Rate','Total_Test_Results','Case_Fatality_Ratio',\n",
    "            'Testing_Rate','Resident Population 2020 Census','Population Density 2020 Census',\n",
    "            'Density Rank 2020 Census','SexRatio']] = normalization\n"
   ]
  },
  {
   "cell_type": "code",
   "execution_count": 32,
   "metadata": {},
   "outputs": [],
   "source": [
    "df.to_csv(\"cleaned_normalized_coviddata.csv\",index = False)"
   ]
  },
  {
   "cell_type": "markdown",
   "metadata": {},
   "source": [
    "## Representation methods\n"
   ]
  },
  {
   "cell_type": "code",
   "execution_count": 33,
   "metadata": {},
   "outputs": [],
   "source": [
    "# Performinh PCA analysis\n",
    "from sklearn.decomposition import PCA\n",
    "pca = PCA(n_components = 11)"
   ]
  },
  {
   "cell_type": "code",
   "execution_count": 34,
   "metadata": {},
   "outputs": [
    {
     "data": {
      "text/plain": [
       "(1380, 11)"
      ]
     },
     "execution_count": 34,
     "metadata": {},
     "output_type": "execute_result"
    }
   ],
   "source": [
    "pca_features = pca.fit_transform(normalization)\n",
    "pca_features.shape"
   ]
  },
  {
   "cell_type": "code",
   "execution_count": 35,
   "metadata": {},
   "outputs": [
    {
     "data": {
      "image/png": "[encoded data removed]",
      "text/plain": [
       "<Figure size 432x288 with 1 Axes>"
      ]
     },
     "metadata": {
      "needs_background": "light"
     },
     "output_type": "display_data"
    }
   ],
   "source": [
    "#Plotting the Scree Plot\n",
    "percent_variance = np.round(pca.explained_variance_ratio_* 100, decimals =2)\n",
    "columns = ['PC1', 'PC2', 'PC3', 'PC4','PC5','PC6','PC7','PC8','PC9','PC10','PC11']\n",
    "plt.bar(x= range(1,12), height=percent_variance, tick_label=columns)\n",
    "plt.ylabel('Percentate of Variance Explained')\n",
    "plt.xlabel('Principal Component')\n",
    "plt.title('PCA Scree Plot')\n",
    "plt.show()"
   ]
  },
  {
   "cell_type": "code",
   "execution_count": 36,
   "metadata": {},
   "outputs": [
    {
     "name": "stdout",
     "output_type": "stream",
     "text": [
      "Stored 'pca_features' (ndarray)\n"
     ]
    }
   ],
   "source": [
    "# exporting the pca_feartures array so that it can be used in the other notebooks\n",
    "%store pca_features"
   ]
  },
  {
   "cell_type": "markdown",
   "metadata": {},
   "source": [
    "## Summary"
   ]
  },
  {
   "cell_type": "markdown",
   "metadata": {},
   "source": [
    "#### Since the dataset is same as the previous assignment, operations like checking for irrelevent negative values, NAN's have been skipped and only necessary operations have been performed. These operations are as follows:<br><br> The 'Resident Population 2020 Census' and 'Population Density 2020 Census' were of type string due to presence of commas between the digits. These commas have been removed and their their datatype have been changed to int and float ( in accordance with the type of data ).<br><br>The dataset is grouped according to the states, to find the outliers in each column. The following formula was used for outlier calculation: outliers = Q1-1.5*IQR or Q3+1.5*IQR. A total of 26 outliers were detected and replaced with their nearest boundry values. A sample box plot has been plotted to show the difference.<br><br>The dataset is normalized using z score normalization. <br><br>Feature extraction is done using PCA analysis to reduce the complexity of the deep learning models. This reduces the weight computations as the number of inputs are significantly reduced\n",
    "    \n",
    "    \n",
    "    \n"
   ]
  },
  {
   "cell_type": "code",
   "execution_count": null,
   "metadata": {},
   "outputs": [],
   "source": []
  }
 ],
 "metadata": {
  "kernelspec": {
   "display_name": "Python 3",
   "language": "python",
   "name": "python3"
  },
  "language_info": {
   "codemirror_mode": {
    "name": "ipython",
    "version": 3
   },
   "file_extension": ".py",
   "mimetype": "text/x-python",
   "name": "python",
   "nbconvert_exporter": "python",
   "pygments_lexer": "ipython3",
   "version": "3.8.5"
  }
 },
 "nbformat": 4,
 "nbformat_minor": 4
}
